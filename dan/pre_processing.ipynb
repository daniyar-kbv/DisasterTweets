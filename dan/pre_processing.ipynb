{
 "cells": [
  {
   "cell_type": "code",
   "execution_count": 28,
   "metadata": {
    "collapsed": true,
    "pycharm": {
     "name": "#%%\n"
    }
   },
   "outputs": [],
   "source": [
    "from keras.layers import TextVectorization\n",
    "import pandas as pd\n",
    "import numpy as np\n",
    "import pickle\n",
    "import random"
   ]
  },
  {
   "cell_type": "code",
   "execution_count": 29,
   "outputs": [],
   "source": [
    "train = pd.read_csv('data/train.csv')\n",
    "\n",
    "with open('data/texts_cleaned.pkl', 'rb') as fp:\n",
    "    texts = pickle.load(fp)"
   ],
   "metadata": {
    "collapsed": false,
    "pycharm": {
     "name": "#%%\n"
    }
   }
  },
  {
   "cell_type": "code",
   "execution_count": 30,
   "outputs": [
    {
     "data": {
      "text/plain": "                                                   text  target\n0     our deeds reason # earthquake may allah forgiv...       1\n1                  forest fire near la range ask canada       1\n2     all residents asked shelter place notified off...       1\n3     13,000 people receive # wildfires evacuation o...       1\n4     just got sent photo ruby # alaska smoke # wild...       1\n...                                                 ...     ...\n7608  two giant cranes holding bridge collapse nearb...       1\n7609  aria_ahrary thetawniest the control wild fires...       1\n7610              m1.94 01:04 ut ? him i volcano hawaii       1\n7611  police investigating bike collided car little ...       1\n7612  the latest more homes razed northern californi...       1\n\n[7613 rows x 2 columns]",
      "text/html": "<div>\n<style scoped>\n    .dataframe tbody tr th:only-of-type {\n        vertical-align: middle;\n    }\n\n    .dataframe tbody tr th {\n        vertical-align: top;\n    }\n\n    .dataframe thead th {\n        text-align: right;\n    }\n</style>\n<table border=\"1\" class=\"dataframe\">\n  <thead>\n    <tr style=\"text-align: right;\">\n      <th></th>\n      <th>text</th>\n      <th>target</th>\n    </tr>\n  </thead>\n  <tbody>\n    <tr>\n      <th>0</th>\n      <td>our deeds reason # earthquake may allah forgiv...</td>\n      <td>1</td>\n    </tr>\n    <tr>\n      <th>1</th>\n      <td>forest fire near la range ask canada</td>\n      <td>1</td>\n    </tr>\n    <tr>\n      <th>2</th>\n      <td>all residents asked shelter place notified off...</td>\n      <td>1</td>\n    </tr>\n    <tr>\n      <th>3</th>\n      <td>13,000 people receive # wildfires evacuation o...</td>\n      <td>1</td>\n    </tr>\n    <tr>\n      <th>4</th>\n      <td>just got sent photo ruby # alaska smoke # wild...</td>\n      <td>1</td>\n    </tr>\n    <tr>\n      <th>...</th>\n      <td>...</td>\n      <td>...</td>\n    </tr>\n    <tr>\n      <th>7608</th>\n      <td>two giant cranes holding bridge collapse nearb...</td>\n      <td>1</td>\n    </tr>\n    <tr>\n      <th>7609</th>\n      <td>aria_ahrary thetawniest the control wild fires...</td>\n      <td>1</td>\n    </tr>\n    <tr>\n      <th>7610</th>\n      <td>m1.94 01:04 ut ? him i volcano hawaii</td>\n      <td>1</td>\n    </tr>\n    <tr>\n      <th>7611</th>\n      <td>police investigating bike collided car little ...</td>\n      <td>1</td>\n    </tr>\n    <tr>\n      <th>7612</th>\n      <td>the latest more homes razed northern californi...</td>\n      <td>1</td>\n    </tr>\n  </tbody>\n</table>\n<p>7613 rows × 2 columns</p>\n</div>"
     },
     "execution_count": 30,
     "metadata": {},
     "output_type": "execute_result"
    }
   ],
   "source": [
    "df = pd.DataFrame(texts, columns=['text'])\n",
    "df['target'] = train.target\n",
    "df"
   ],
   "metadata": {
    "collapsed": false,
    "pycharm": {
     "name": "#%%\n"
    }
   }
  },
  {
   "cell_type": "code",
   "execution_count": 31,
   "outputs": [
    {
     "data": {
      "text/plain": "(3271, 2)"
     },
     "execution_count": 31,
     "metadata": {},
     "output_type": "execute_result"
    }
   ],
   "source": [
    "disaster = df[df.target == 1].reset_index(drop=True)\n",
    "disaster.shape"
   ],
   "metadata": {
    "collapsed": false,
    "pycharm": {
     "name": "#%%\n"
    }
   }
  },
  {
   "cell_type": "code",
   "execution_count": 32,
   "outputs": [
    {
     "data": {
      "text/plain": "(4342, 2)"
     },
     "execution_count": 32,
     "metadata": {},
     "output_type": "execute_result"
    }
   ],
   "source": [
    "not_disaster = df[df.target == 0]\n",
    "not_disaster.shape"
   ],
   "metadata": {
    "collapsed": false,
    "pycharm": {
     "name": "#%%\n"
    }
   }
  },
  {
   "cell_type": "code",
   "execution_count": 33,
   "outputs": [
    {
     "data": {
      "text/plain": "                                                   text  target\n3271  selmoooooo _edvinnn imtariik dzafic_haris elmo...       1\n3272  firefighters connecticut headed california fig...       1\n3273  ready close ... error nope ! ! # notgoingoutin...       1\n3274          alleged east bay serial arsonist arrested       1\n3275  pam_palmater agree perrybellegarde get amp vot...       1\n...                                                 ...     ...\n4337  archer weather it i it an unrelenting dangerou...       1\n4338  no # news # hostages # libya # india # terrori...       1\n4339  crptotech tsunami banks # banking # tech # bit...       1\n4340  katunews # sri remains closed brush fire burns...       1\n4341                                 watching go flames       1\n\n[1071 rows x 2 columns]",
      "text/html": "<div>\n<style scoped>\n    .dataframe tbody tr th:only-of-type {\n        vertical-align: middle;\n    }\n\n    .dataframe tbody tr th {\n        vertical-align: top;\n    }\n\n    .dataframe thead th {\n        text-align: right;\n    }\n</style>\n<table border=\"1\" class=\"dataframe\">\n  <thead>\n    <tr style=\"text-align: right;\">\n      <th></th>\n      <th>text</th>\n      <th>target</th>\n    </tr>\n  </thead>\n  <tbody>\n    <tr>\n      <th>3271</th>\n      <td>selmoooooo _edvinnn imtariik dzafic_haris elmo...</td>\n      <td>1</td>\n    </tr>\n    <tr>\n      <th>3272</th>\n      <td>firefighters connecticut headed california fig...</td>\n      <td>1</td>\n    </tr>\n    <tr>\n      <th>3273</th>\n      <td>ready close ... error nope ! ! # notgoingoutin...</td>\n      <td>1</td>\n    </tr>\n    <tr>\n      <th>3274</th>\n      <td>alleged east bay serial arsonist arrested</td>\n      <td>1</td>\n    </tr>\n    <tr>\n      <th>3275</th>\n      <td>pam_palmater agree perrybellegarde get amp vot...</td>\n      <td>1</td>\n    </tr>\n    <tr>\n      <th>...</th>\n      <td>...</td>\n      <td>...</td>\n    </tr>\n    <tr>\n      <th>4337</th>\n      <td>archer weather it i it an unrelenting dangerou...</td>\n      <td>1</td>\n    </tr>\n    <tr>\n      <th>4338</th>\n      <td>no # news # hostages # libya # india # terrori...</td>\n      <td>1</td>\n    </tr>\n    <tr>\n      <th>4339</th>\n      <td>crptotech tsunami banks # banking # tech # bit...</td>\n      <td>1</td>\n    </tr>\n    <tr>\n      <th>4340</th>\n      <td>katunews # sri remains closed brush fire burns...</td>\n      <td>1</td>\n    </tr>\n    <tr>\n      <th>4341</th>\n      <td>watching go flames</td>\n      <td>1</td>\n    </tr>\n  </tbody>\n</table>\n<p>1071 rows × 2 columns</p>\n</div>"
     },
     "execution_count": 33,
     "metadata": {},
     "output_type": "execute_result"
    }
   ],
   "source": [
    "random.seed(0)\n",
    "\n",
    "duplicates = pd.DataFrame([disaster.iloc[random.randint(0, disaster.shape[0]-1), ] for _ in range(not_disaster.shape[0] - disaster.shape[0])])\n",
    "duplicates.index = range(disaster.shape[0], disaster.shape[0] + duplicates.shape[0])\n",
    "duplicates"
   ],
   "metadata": {
    "collapsed": false,
    "pycharm": {
     "name": "#%%\n"
    }
   }
  },
  {
   "cell_type": "code",
   "execution_count": 34,
   "outputs": [
    {
     "data": {
      "text/plain": "                                                   text  target\n0     our deeds reason # earthquake may allah forgiv...       1\n1                  forest fire near la range ask canada       1\n2     all residents asked shelter place notified off...       1\n3     13,000 people receive # wildfires evacuation o...       1\n4     just got sent photo ruby # alaska smoke # wild...       1\n...                                                 ...     ...\n4337  archer weather it i it an unrelenting dangerou...       1\n4338  no # news # hostages # libya # india # terrori...       1\n4339  crptotech tsunami banks # banking # tech # bit...       1\n4340  katunews # sri remains closed brush fire burns...       1\n4341                                 watching go flames       1\n\n[4342 rows x 2 columns]",
      "text/html": "<div>\n<style scoped>\n    .dataframe tbody tr th:only-of-type {\n        vertical-align: middle;\n    }\n\n    .dataframe tbody tr th {\n        vertical-align: top;\n    }\n\n    .dataframe thead th {\n        text-align: right;\n    }\n</style>\n<table border=\"1\" class=\"dataframe\">\n  <thead>\n    <tr style=\"text-align: right;\">\n      <th></th>\n      <th>text</th>\n      <th>target</th>\n    </tr>\n  </thead>\n  <tbody>\n    <tr>\n      <th>0</th>\n      <td>our deeds reason # earthquake may allah forgiv...</td>\n      <td>1</td>\n    </tr>\n    <tr>\n      <th>1</th>\n      <td>forest fire near la range ask canada</td>\n      <td>1</td>\n    </tr>\n    <tr>\n      <th>2</th>\n      <td>all residents asked shelter place notified off...</td>\n      <td>1</td>\n    </tr>\n    <tr>\n      <th>3</th>\n      <td>13,000 people receive # wildfires evacuation o...</td>\n      <td>1</td>\n    </tr>\n    <tr>\n      <th>4</th>\n      <td>just got sent photo ruby # alaska smoke # wild...</td>\n      <td>1</td>\n    </tr>\n    <tr>\n      <th>...</th>\n      <td>...</td>\n      <td>...</td>\n    </tr>\n    <tr>\n      <th>4337</th>\n      <td>archer weather it i it an unrelenting dangerou...</td>\n      <td>1</td>\n    </tr>\n    <tr>\n      <th>4338</th>\n      <td>no # news # hostages # libya # india # terrori...</td>\n      <td>1</td>\n    </tr>\n    <tr>\n      <th>4339</th>\n      <td>crptotech tsunami banks # banking # tech # bit...</td>\n      <td>1</td>\n    </tr>\n    <tr>\n      <th>4340</th>\n      <td>katunews # sri remains closed brush fire burns...</td>\n      <td>1</td>\n    </tr>\n    <tr>\n      <th>4341</th>\n      <td>watching go flames</td>\n      <td>1</td>\n    </tr>\n  </tbody>\n</table>\n<p>4342 rows × 2 columns</p>\n</div>"
     },
     "execution_count": 34,
     "metadata": {},
     "output_type": "execute_result"
    }
   ],
   "source": [
    "disaster = pd.concat([disaster, duplicates], axis=0)\n",
    "disaster"
   ],
   "metadata": {
    "collapsed": false,
    "pycharm": {
     "name": "#%%\n"
    }
   }
  },
  {
   "cell_type": "code",
   "execution_count": 35,
   "outputs": [
    {
     "data": {
      "text/plain": "                                                   text  target\n4342                                      what is man ?       0\n4343                                      i love fruits       0\n4344                                      summer lovely       0\n4345                                        my car fast       0\n4346                   what goooooooaaaaaal ! ! ! ! ! !       0\n...                                                 ...     ...\n8679  engineered great atmosphere british lion gig t...       0\n8680  cramer tiger is 3 words wrecked disney is stoc...       0\n8681  these boxes ready explode ! exploding kittens ...       0\n8682                                sirens everywhere !       0\n8683     i heard really loud bang everyone asleep great       0\n\n[4342 rows x 2 columns]",
      "text/html": "<div>\n<style scoped>\n    .dataframe tbody tr th:only-of-type {\n        vertical-align: middle;\n    }\n\n    .dataframe tbody tr th {\n        vertical-align: top;\n    }\n\n    .dataframe thead th {\n        text-align: right;\n    }\n</style>\n<table border=\"1\" class=\"dataframe\">\n  <thead>\n    <tr style=\"text-align: right;\">\n      <th></th>\n      <th>text</th>\n      <th>target</th>\n    </tr>\n  </thead>\n  <tbody>\n    <tr>\n      <th>4342</th>\n      <td>what is man ?</td>\n      <td>0</td>\n    </tr>\n    <tr>\n      <th>4343</th>\n      <td>i love fruits</td>\n      <td>0</td>\n    </tr>\n    <tr>\n      <th>4344</th>\n      <td>summer lovely</td>\n      <td>0</td>\n    </tr>\n    <tr>\n      <th>4345</th>\n      <td>my car fast</td>\n      <td>0</td>\n    </tr>\n    <tr>\n      <th>4346</th>\n      <td>what goooooooaaaaaal ! ! ! ! ! !</td>\n      <td>0</td>\n    </tr>\n    <tr>\n      <th>...</th>\n      <td>...</td>\n      <td>...</td>\n    </tr>\n    <tr>\n      <th>8679</th>\n      <td>engineered great atmosphere british lion gig t...</td>\n      <td>0</td>\n    </tr>\n    <tr>\n      <th>8680</th>\n      <td>cramer tiger is 3 words wrecked disney is stoc...</td>\n      <td>0</td>\n    </tr>\n    <tr>\n      <th>8681</th>\n      <td>these boxes ready explode ! exploding kittens ...</td>\n      <td>0</td>\n    </tr>\n    <tr>\n      <th>8682</th>\n      <td>sirens everywhere !</td>\n      <td>0</td>\n    </tr>\n    <tr>\n      <th>8683</th>\n      <td>i heard really loud bang everyone asleep great</td>\n      <td>0</td>\n    </tr>\n  </tbody>\n</table>\n<p>4342 rows × 2 columns</p>\n</div>"
     },
     "execution_count": 35,
     "metadata": {},
     "output_type": "execute_result"
    }
   ],
   "source": [
    "not_disaster.index = range(disaster.shape[0], disaster.shape[0] + not_disaster.shape[0])\n",
    "not_disaster"
   ],
   "metadata": {
    "collapsed": false,
    "pycharm": {
     "name": "#%%\n"
    }
   }
  },
  {
   "cell_type": "code",
   "execution_count": 36,
   "outputs": [
    {
     "data": {
      "text/plain": "                                                   text  target\n0     wreckage conclusively confirmed from mh370 mal...       1\n1     purple heart vet finds jihad threat his car ma...       0\n2     the fallacy steam roller it is object whether ...       0\n3     afghanistan un reports 'record-high levels civ...       1\n4     is bad say i am kind of afraid storms storm ? ...       1\n...                                                 ...     ...\n8679  noches el-bestia alexis_sanchez happy see team...       0\n8680  sinking carb consultative assembly plans could...       0\n8681  sexual revolution blight for women ! stories v...       0\n8682  suicide bomber kills 15 saudi security site mo...       1\n8683  remembering mordecai yasuda friedman 24 rama b...       1\n\n[8684 rows x 2 columns]",
      "text/html": "<div>\n<style scoped>\n    .dataframe tbody tr th:only-of-type {\n        vertical-align: middle;\n    }\n\n    .dataframe tbody tr th {\n        vertical-align: top;\n    }\n\n    .dataframe thead th {\n        text-align: right;\n    }\n</style>\n<table border=\"1\" class=\"dataframe\">\n  <thead>\n    <tr style=\"text-align: right;\">\n      <th></th>\n      <th>text</th>\n      <th>target</th>\n    </tr>\n  </thead>\n  <tbody>\n    <tr>\n      <th>0</th>\n      <td>wreckage conclusively confirmed from mh370 mal...</td>\n      <td>1</td>\n    </tr>\n    <tr>\n      <th>1</th>\n      <td>purple heart vet finds jihad threat his car ma...</td>\n      <td>0</td>\n    </tr>\n    <tr>\n      <th>2</th>\n      <td>the fallacy steam roller it is object whether ...</td>\n      <td>0</td>\n    </tr>\n    <tr>\n      <th>3</th>\n      <td>afghanistan un reports 'record-high levels civ...</td>\n      <td>1</td>\n    </tr>\n    <tr>\n      <th>4</th>\n      <td>is bad say i am kind of afraid storms storm ? ...</td>\n      <td>1</td>\n    </tr>\n    <tr>\n      <th>...</th>\n      <td>...</td>\n      <td>...</td>\n    </tr>\n    <tr>\n      <th>8679</th>\n      <td>noches el-bestia alexis_sanchez happy see team...</td>\n      <td>0</td>\n    </tr>\n    <tr>\n      <th>8680</th>\n      <td>sinking carb consultative assembly plans could...</td>\n      <td>0</td>\n    </tr>\n    <tr>\n      <th>8681</th>\n      <td>sexual revolution blight for women ! stories v...</td>\n      <td>0</td>\n    </tr>\n    <tr>\n      <th>8682</th>\n      <td>suicide bomber kills 15 saudi security site mo...</td>\n      <td>1</td>\n    </tr>\n    <tr>\n      <th>8683</th>\n      <td>remembering mordecai yasuda friedman 24 rama b...</td>\n      <td>1</td>\n    </tr>\n  </tbody>\n</table>\n<p>8684 rows × 2 columns</p>\n</div>"
     },
     "execution_count": 36,
     "metadata": {},
     "output_type": "execute_result"
    }
   ],
   "source": [
    "train = pd.concat([disaster, not_disaster], axis=0)\n",
    "train = train.sample(frac=1, random_state=0).reset_index(drop=True)\n",
    "train"
   ],
   "metadata": {
    "collapsed": false,
    "pycharm": {
     "name": "#%%\n"
    }
   }
  },
  {
   "cell_type": "code",
   "execution_count": 37,
   "outputs": [
    {
     "data": {
      "text/plain": "0       wreckage conclusively confirmed from mh370 mal...\n1       purple heart vet finds jihad threat his car ma...\n2       the fallacy steam roller it is object whether ...\n3       afghanistan un reports 'record-high levels civ...\n4       is bad say i am kind of afraid storms storm ? ...\n                              ...                        \n8679    noches el-bestia alexis_sanchez happy see team...\n8680    sinking carb consultative assembly plans could...\n8681    sexual revolution blight for women ! stories v...\n8682    suicide bomber kills 15 saudi security site mo...\n8683    remembering mordecai yasuda friedman 24 rama b...\nName: text, Length: 8684, dtype: object"
     },
     "execution_count": 37,
     "metadata": {},
     "output_type": "execute_result"
    }
   ],
   "source": [
    "texts = train.text\n",
    "texts"
   ],
   "metadata": {
    "collapsed": false,
    "pycharm": {
     "name": "#%%\n"
    }
   }
  },
  {
   "cell_type": "code",
   "execution_count": 38,
   "outputs": [
    {
     "data": {
      "text/plain": "0       1\n1       0\n2       0\n3       1\n4       1\n       ..\n8679    0\n8680    0\n8681    0\n8682    1\n8683    1\nName: target, Length: 8684, dtype: int64"
     },
     "execution_count": 38,
     "metadata": {},
     "output_type": "execute_result"
    }
   ],
   "source": [
    "target = train.target\n",
    "target"
   ],
   "metadata": {
    "collapsed": false,
    "pycharm": {
     "name": "#%%\n"
    }
   }
  },
  {
   "cell_type": "code",
   "execution_count": 3,
   "outputs": [
    {
     "data": {
      "text/plain": "68"
     },
     "execution_count": 3,
     "metadata": {},
     "output_type": "execute_result"
    }
   ],
   "source": [
    "max_len = len(sorted([text.split(' ') for text in texts], key=lambda sent: len(sent), reverse=True)[0])\n",
    "max_len"
   ],
   "metadata": {
    "collapsed": false,
    "pycharm": {
     "name": "#%%\n"
    }
   }
  },
  {
   "cell_type": "code",
   "execution_count": 4,
   "outputs": [
    {
     "name": "stderr",
     "output_type": "stream",
     "text": [
      "2022-02-02 17:45:03.944088: I tensorflow/core/common_runtime/pluggable_device/pluggable_device_factory.cc:305] Could not identify NUMA node of platform GPU ID 0, defaulting to 0. Your kernel may not have been built with NUMA support.\n",
      "2022-02-02 17:45:03.944202: I tensorflow/core/common_runtime/pluggable_device/pluggable_device_factory.cc:271] Created TensorFlow device (/job:localhost/replica:0/task:0/device:GPU:0 with 0 MB memory) -> physical PluggableDevice (device: 0, name: METAL, pci bus id: <undefined>)\n",
      "2022-02-02 17:45:03.994097: W tensorflow/core/platform/profile_utils/cpu_utils.cc:128] Failed to get CPU frequency: 0 Hz\n",
      "2022-02-02 17:45:04.043225: I tensorflow/core/grappler/optimizers/custom_graph_optimizer_registry.cc:112] Plugin optimizer for device_type GPU is enabled.\n"
     ]
    },
    {
     "name": "stdout",
     "output_type": "stream",
     "text": [
      "Metal device set to: Apple M1 Pro\n"
     ]
    }
   ],
   "source": [
    "max_tokens = 50000\n",
    "\n",
    "vectorizer = TextVectorization(max_tokens=max_tokens,\n",
    "                               standardize=None,\n",
    "                               ngrams=(1, 2),\n",
    "                               output_sequence_length=max_len)\n",
    "vectorizer.adapt(texts)"
   ],
   "metadata": {
    "collapsed": false,
    "pycharm": {
     "name": "#%%\n"
    }
   }
  },
  {
   "cell_type": "code",
   "execution_count": 5,
   "outputs": [],
   "source": [
    "voc = vectorizer.get_vocabulary()\n",
    "word_index = dict(zip(voc, range(len(voc))))"
   ],
   "metadata": {
    "collapsed": false,
    "pycharm": {
     "name": "#%%\n"
    }
   }
  },
  {
   "cell_type": "code",
   "execution_count": null,
   "outputs": [],
   "source": [
    "vectorizer."
   ],
   "metadata": {
    "collapsed": false,
    "pycharm": {
     "name": "#%%\n"
    }
   }
  },
  {
   "cell_type": "code",
   "execution_count": 6,
   "outputs": [
    {
     "name": "stdout",
     "output_type": "stream",
     "text": [
      "Found 400000 word vectors.\n"
     ]
    }
   ],
   "source": [
    "embeddings_index = {}\n",
    "embedding_dim = 100\n",
    "\n",
    "with open(f'glove/glove.6B.{embedding_dim}d.txt') as f:\n",
    "    for line in f:\n",
    "        word, coefs = line.split(maxsplit=1)\n",
    "        coefs = np.fromstring(coefs, \"f\", sep=\" \")\n",
    "        embeddings_index[word] = coefs\n",
    "\n",
    "print(\"Found %s word vectors.\" % len(embeddings_index))"
   ],
   "metadata": {
    "collapsed": false,
    "pycharm": {
     "name": "#%%\n"
    }
   }
  },
  {
   "cell_type": "code",
   "execution_count": 7,
   "outputs": [
    {
     "name": "stdout",
     "output_type": "stream",
     "text": [
      "Converted 9901 words (40099 misses)\n"
     ]
    }
   ],
   "source": [
    "num_tokens = len(voc) + 2\n",
    "hits = 0\n",
    "misses = 0\n",
    "\n",
    "embedding_matrix = np.zeros((num_tokens, embedding_dim))\n",
    "for word, i in word_index.items():\n",
    "    embedding_vector = embeddings_index.get(word)\n",
    "    if embedding_vector is not None:\n",
    "        embedding_matrix[i] = embedding_vector\n",
    "        hits += 1\n",
    "    else:\n",
    "        misses += 1\n",
    "print(\"Converted %d words (%d misses)\" % (hits, misses))"
   ],
   "metadata": {
    "collapsed": false,
    "pycharm": {
     "name": "#%%\n"
    }
   }
  },
  {
   "cell_type": "code",
   "execution_count": 8,
   "outputs": [],
   "source": [
    "X = np.array(texts)\n",
    "y = train.target.to_numpy()"
   ],
   "metadata": {
    "collapsed": false,
    "pycharm": {
     "name": "#%%\n"
    }
   }
  },
  {
   "cell_type": "code",
   "execution_count": 9,
   "outputs": [],
   "source": [
    "np.save('data/X.npy', X)\n",
    "np.save('data/y.npy', y)\n",
    "np.save('data/embedding_matrix.npy', embedding_matrix)\n",
    "np.save('data/num_tokens.npy', num_tokens)\n",
    "np.save('data/embedding_dim.npy', embedding_dim)\n",
    "np.save('data/max_tokens.npy', max_tokens)\n",
    "np.save('data/max_len.npy', max_len)"
   ],
   "metadata": {
    "collapsed": false,
    "pycharm": {
     "name": "#%%\n"
    }
   }
  }
 ],
 "metadata": {
  "kernelspec": {
   "display_name": "Python 3",
   "language": "python",
   "name": "python3"
  },
  "language_info": {
   "codemirror_mode": {
    "name": "ipython",
    "version": 2
   },
   "file_extension": ".py",
   "mimetype": "text/x-python",
   "name": "python",
   "nbconvert_exporter": "python",
   "pygments_lexer": "ipython2",
   "version": "2.7.6"
  }
 },
 "nbformat": 4,
 "nbformat_minor": 0
}