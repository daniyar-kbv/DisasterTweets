{
 "cells": [
  {
   "cell_type": "code",
   "execution_count": 1,
   "metadata": {
    "collapsed": true,
    "pycharm": {
     "name": "#%%\n"
    }
   },
   "outputs": [],
   "source": [
    "from keras.layers import TextVectorization\n",
    "import pandas as pd\n",
    "import numpy as np\n",
    "import pickle\n",
    "import random"
   ]
  },
  {
   "cell_type": "code",
   "execution_count": 2,
   "outputs": [],
   "source": [
    "train = pd.read_csv('data/train.csv')\n",
    "\n",
    "with open('data/texts_cleaned.pkl', 'rb') as fp:\n",
    "    texts = pickle.load(fp)"
   ],
   "metadata": {
    "collapsed": false,
    "pycharm": {
     "name": "#%%\n"
    }
   }
  },
  {
   "cell_type": "code",
   "execution_count": 3,
   "outputs": [
    {
     "data": {
      "text/plain": "                                                   text  target\n0     our deeds reason # earthquake may allah forgiv...       1\n1                  forest fire near la range ask canada       1\n2     all residents asked shelter place notified off...       1\n3     13,000 people receive # wildfires evacuation o...       1\n4     just got sent photo ruby # alaska smoke # wild...       1\n...                                                 ...     ...\n7608  two giant cranes holding bridge collapse nearb...       1\n7609  aria_ahrary thetawniest the control wild fires...       1\n7610              m1.94 01:04 ut ? him i volcano hawaii       1\n7611  police investigating bike collided car little ...       1\n7612  the latest more homes razed northern californi...       1\n\n[7613 rows x 2 columns]",
      "text/html": "<div>\n<style scoped>\n    .dataframe tbody tr th:only-of-type {\n        vertical-align: middle;\n    }\n\n    .dataframe tbody tr th {\n        vertical-align: top;\n    }\n\n    .dataframe thead th {\n        text-align: right;\n    }\n</style>\n<table border=\"1\" class=\"dataframe\">\n  <thead>\n    <tr style=\"text-align: right;\">\n      <th></th>\n      <th>text</th>\n      <th>target</th>\n    </tr>\n  </thead>\n  <tbody>\n    <tr>\n      <th>0</th>\n      <td>our deeds reason # earthquake may allah forgiv...</td>\n      <td>1</td>\n    </tr>\n    <tr>\n      <th>1</th>\n      <td>forest fire near la range ask canada</td>\n      <td>1</td>\n    </tr>\n    <tr>\n      <th>2</th>\n      <td>all residents asked shelter place notified off...</td>\n      <td>1</td>\n    </tr>\n    <tr>\n      <th>3</th>\n      <td>13,000 people receive # wildfires evacuation o...</td>\n      <td>1</td>\n    </tr>\n    <tr>\n      <th>4</th>\n      <td>just got sent photo ruby # alaska smoke # wild...</td>\n      <td>1</td>\n    </tr>\n    <tr>\n      <th>...</th>\n      <td>...</td>\n      <td>...</td>\n    </tr>\n    <tr>\n      <th>7608</th>\n      <td>two giant cranes holding bridge collapse nearb...</td>\n      <td>1</td>\n    </tr>\n    <tr>\n      <th>7609</th>\n      <td>aria_ahrary thetawniest the control wild fires...</td>\n      <td>1</td>\n    </tr>\n    <tr>\n      <th>7610</th>\n      <td>m1.94 01:04 ut ? him i volcano hawaii</td>\n      <td>1</td>\n    </tr>\n    <tr>\n      <th>7611</th>\n      <td>police investigating bike collided car little ...</td>\n      <td>1</td>\n    </tr>\n    <tr>\n      <th>7612</th>\n      <td>the latest more homes razed northern californi...</td>\n      <td>1</td>\n    </tr>\n  </tbody>\n</table>\n<p>7613 rows × 2 columns</p>\n</div>"
     },
     "execution_count": 3,
     "metadata": {},
     "output_type": "execute_result"
    }
   ],
   "source": [
    "df = pd.DataFrame(texts, columns=['text'])\n",
    "df['target'] = train.target\n",
    "df"
   ],
   "metadata": {
    "collapsed": false,
    "pycharm": {
     "name": "#%%\n"
    }
   }
  },
  {
   "cell_type": "code",
   "execution_count": 4,
   "outputs": [
    {
     "data": {
      "text/plain": "(3271, 2)"
     },
     "execution_count": 4,
     "metadata": {},
     "output_type": "execute_result"
    }
   ],
   "source": [
    "disaster = df[df.target == 1].reset_index(drop=True)\n",
    "disaster.shape"
   ],
   "metadata": {
    "collapsed": false,
    "pycharm": {
     "name": "#%%\n"
    }
   }
  },
  {
   "cell_type": "code",
   "execution_count": 5,
   "outputs": [
    {
     "data": {
      "text/plain": "(4342, 2)"
     },
     "execution_count": 5,
     "metadata": {},
     "output_type": "execute_result"
    }
   ],
   "source": [
    "not_disaster = df[df.target == 0].reset_index(drop=True)\n",
    "not_disaster.shape"
   ],
   "metadata": {
    "collapsed": false,
    "pycharm": {
     "name": "#%%\n"
    }
   }
  },
  {
   "cell_type": "code",
   "execution_count": 6,
   "outputs": [
    {
     "data": {
      "text/plain": "                                                   text  target\n3271                                      i love fruits       0\n3272                                      summer lovely       0\n3273                                        my car fast       0\n3274                   what goooooooaaaaaal ! ! ! ! ! !       0\n3275                                        london cool       0\n...                                                 ...     ...\n6537  three days work i have pretty much wrecked hah...       0\n6538  engineered great atmosphere british lion gig t...       0\n6539  cramer tiger is 3 words wrecked disney is stoc...       0\n6540  these boxes ready explode ! exploding kittens ...       0\n6541                                sirens everywhere !       0\n\n[3271 rows x 2 columns]",
      "text/html": "<div>\n<style scoped>\n    .dataframe tbody tr th:only-of-type {\n        vertical-align: middle;\n    }\n\n    .dataframe tbody tr th {\n        vertical-align: top;\n    }\n\n    .dataframe thead th {\n        text-align: right;\n    }\n</style>\n<table border=\"1\" class=\"dataframe\">\n  <thead>\n    <tr style=\"text-align: right;\">\n      <th></th>\n      <th>text</th>\n      <th>target</th>\n    </tr>\n  </thead>\n  <tbody>\n    <tr>\n      <th>3271</th>\n      <td>i love fruits</td>\n      <td>0</td>\n    </tr>\n    <tr>\n      <th>3272</th>\n      <td>summer lovely</td>\n      <td>0</td>\n    </tr>\n    <tr>\n      <th>3273</th>\n      <td>my car fast</td>\n      <td>0</td>\n    </tr>\n    <tr>\n      <th>3274</th>\n      <td>what goooooooaaaaaal ! ! ! ! ! !</td>\n      <td>0</td>\n    </tr>\n    <tr>\n      <th>3275</th>\n      <td>london cool</td>\n      <td>0</td>\n    </tr>\n    <tr>\n      <th>...</th>\n      <td>...</td>\n      <td>...</td>\n    </tr>\n    <tr>\n      <th>6537</th>\n      <td>three days work i have pretty much wrecked hah...</td>\n      <td>0</td>\n    </tr>\n    <tr>\n      <th>6538</th>\n      <td>engineered great atmosphere british lion gig t...</td>\n      <td>0</td>\n    </tr>\n    <tr>\n      <th>6539</th>\n      <td>cramer tiger is 3 words wrecked disney is stoc...</td>\n      <td>0</td>\n    </tr>\n    <tr>\n      <th>6540</th>\n      <td>these boxes ready explode ! exploding kittens ...</td>\n      <td>0</td>\n    </tr>\n    <tr>\n      <th>6541</th>\n      <td>sirens everywhere !</td>\n      <td>0</td>\n    </tr>\n  </tbody>\n</table>\n<p>3271 rows × 2 columns</p>\n</div>"
     },
     "execution_count": 6,
     "metadata": {},
     "output_type": "execute_result"
    }
   ],
   "source": [
    "indexes = random.sample(range(0, not_disaster.shape[0]), not_disaster.shape[0] - disaster.shape[0])\n",
    "not_disaster.drop(index=indexes, inplace=True)\n",
    "not_disaster.index = range(disaster.shape[0], disaster.shape[0] + not_disaster.shape[0])\n",
    "not_disaster"
   ],
   "metadata": {
    "collapsed": false,
    "pycharm": {
     "name": "#%%\n"
    }
   }
  },
  {
   "cell_type": "code",
   "execution_count": 7,
   "outputs": [
    {
     "data": {
      "text/plain": "                                                   text  target\n0     # breaking # news call tasmania is emergency s...       1\n1     amp rare occasion i go i am complete obliterat...       0\n2     do not miss chris # appy is detonation myths o...       1\n3     mom we not get home fast wished why ? mom ther...       0\n4     news refuge oil spill may costlier bigger proj...       1\n...                                                 ...     ...\n6537     by replacing fear unknown curiosity open toû_       0\n6538  suicide bomber kills 15 saudi security site mo...       1\n6539  be careful anyone lives west beaverton forest ...       1\n6540  'calgarians stunned storm insurance companies ...       1\n6541  remembering mordecai yasuda friedman 24 rama b...       1\n\n[6542 rows x 2 columns]",
      "text/html": "<div>\n<style scoped>\n    .dataframe tbody tr th:only-of-type {\n        vertical-align: middle;\n    }\n\n    .dataframe tbody tr th {\n        vertical-align: top;\n    }\n\n    .dataframe thead th {\n        text-align: right;\n    }\n</style>\n<table border=\"1\" class=\"dataframe\">\n  <thead>\n    <tr style=\"text-align: right;\">\n      <th></th>\n      <th>text</th>\n      <th>target</th>\n    </tr>\n  </thead>\n  <tbody>\n    <tr>\n      <th>0</th>\n      <td># breaking # news call tasmania is emergency s...</td>\n      <td>1</td>\n    </tr>\n    <tr>\n      <th>1</th>\n      <td>amp rare occasion i go i am complete obliterat...</td>\n      <td>0</td>\n    </tr>\n    <tr>\n      <th>2</th>\n      <td>do not miss chris # appy is detonation myths o...</td>\n      <td>1</td>\n    </tr>\n    <tr>\n      <th>3</th>\n      <td>mom we not get home fast wished why ? mom ther...</td>\n      <td>0</td>\n    </tr>\n    <tr>\n      <th>4</th>\n      <td>news refuge oil spill may costlier bigger proj...</td>\n      <td>1</td>\n    </tr>\n    <tr>\n      <th>...</th>\n      <td>...</td>\n      <td>...</td>\n    </tr>\n    <tr>\n      <th>6537</th>\n      <td>by replacing fear unknown curiosity open toû_</td>\n      <td>0</td>\n    </tr>\n    <tr>\n      <th>6538</th>\n      <td>suicide bomber kills 15 saudi security site mo...</td>\n      <td>1</td>\n    </tr>\n    <tr>\n      <th>6539</th>\n      <td>be careful anyone lives west beaverton forest ...</td>\n      <td>1</td>\n    </tr>\n    <tr>\n      <th>6540</th>\n      <td>'calgarians stunned storm insurance companies ...</td>\n      <td>1</td>\n    </tr>\n    <tr>\n      <th>6541</th>\n      <td>remembering mordecai yasuda friedman 24 rama b...</td>\n      <td>1</td>\n    </tr>\n  </tbody>\n</table>\n<p>6542 rows × 2 columns</p>\n</div>"
     },
     "execution_count": 7,
     "metadata": {},
     "output_type": "execute_result"
    }
   ],
   "source": [
    "train = pd.concat([disaster, not_disaster], axis=0)\n",
    "train = train.sample(frac=1, random_state=0).reset_index(drop=True)\n",
    "train"
   ],
   "metadata": {
    "collapsed": false,
    "pycharm": {
     "name": "#%%\n"
    }
   }
  },
  {
   "cell_type": "code",
   "execution_count": 8,
   "outputs": [
    {
     "data": {
      "text/plain": "0       # breaking # news call tasmania is emergency s...\n1       amp rare occasion i go i am complete obliterat...\n2       do not miss chris # appy is detonation myths o...\n3       mom we not get home fast wished why ? mom ther...\n4       news refuge oil spill may costlier bigger proj...\n                              ...                        \n6537       by replacing fear unknown curiosity open toû_\n6538    suicide bomber kills 15 saudi security site mo...\n6539    be careful anyone lives west beaverton forest ...\n6540    'calgarians stunned storm insurance companies ...\n6541    remembering mordecai yasuda friedman 24 rama b...\nName: text, Length: 6542, dtype: object"
     },
     "execution_count": 8,
     "metadata": {},
     "output_type": "execute_result"
    }
   ],
   "source": [
    "texts = train.text\n",
    "texts"
   ],
   "metadata": {
    "collapsed": false,
    "pycharm": {
     "name": "#%%\n"
    }
   }
  },
  {
   "cell_type": "code",
   "execution_count": 9,
   "outputs": [
    {
     "data": {
      "text/plain": "0       1\n1       0\n2       1\n3       0\n4       1\n       ..\n6537    0\n6538    1\n6539    1\n6540    1\n6541    1\nName: target, Length: 6542, dtype: int64"
     },
     "execution_count": 9,
     "metadata": {},
     "output_type": "execute_result"
    }
   ],
   "source": [
    "target = train.target\n",
    "target"
   ],
   "metadata": {
    "collapsed": false,
    "pycharm": {
     "name": "#%%\n"
    }
   }
  },
  {
   "cell_type": "code",
   "execution_count": 10,
   "outputs": [
    {
     "data": {
      "text/plain": "68"
     },
     "execution_count": 10,
     "metadata": {},
     "output_type": "execute_result"
    }
   ],
   "source": [
    "max_len = len(sorted([text.split(' ') for text in texts], key=lambda sent: len(sent), reverse=True)[0])\n",
    "max_len"
   ],
   "metadata": {
    "collapsed": false,
    "pycharm": {
     "name": "#%%\n"
    }
   }
  },
  {
   "cell_type": "code",
   "execution_count": 11,
   "outputs": [
    {
     "name": "stderr",
     "output_type": "stream",
     "text": [
      "2022-02-02 20:05:39.226397: I tensorflow/core/common_runtime/pluggable_device/pluggable_device_factory.cc:305] Could not identify NUMA node of platform GPU ID 0, defaulting to 0. Your kernel may not have been built with NUMA support.\n",
      "2022-02-02 20:05:39.226509: I tensorflow/core/common_runtime/pluggable_device/pluggable_device_factory.cc:271] Created TensorFlow device (/job:localhost/replica:0/task:0/device:GPU:0 with 0 MB memory) -> physical PluggableDevice (device: 0, name: METAL, pci bus id: <undefined>)\n",
      "2022-02-02 20:05:39.255152: W tensorflow/core/platform/profile_utils/cpu_utils.cc:128] Failed to get CPU frequency: 0 Hz\n",
      "2022-02-02 20:05:39.294185: I tensorflow/core/grappler/optimizers/custom_graph_optimizer_registry.cc:112] Plugin optimizer for device_type GPU is enabled.\n"
     ]
    },
    {
     "name": "stdout",
     "output_type": "stream",
     "text": [
      "Metal device set to: Apple M1 Pro\n"
     ]
    }
   ],
   "source": [
    "max_tokens = 50000\n",
    "\n",
    "vectorizer = TextVectorization(max_tokens=max_tokens,\n",
    "                               standardize=None,\n",
    "                               ngrams=(1, 2),\n",
    "                               output_sequence_length=max_len)\n",
    "vectorizer.adapt(texts)"
   ],
   "metadata": {
    "collapsed": false,
    "pycharm": {
     "name": "#%%\n"
    }
   }
  },
  {
   "cell_type": "code",
   "execution_count": 12,
   "outputs": [],
   "source": [
    "voc = vectorizer.get_vocabulary()\n",
    "word_index = dict(zip(voc, range(len(voc))))"
   ],
   "metadata": {
    "collapsed": false,
    "pycharm": {
     "name": "#%%\n"
    }
   }
  },
  {
   "cell_type": "code",
   "execution_count": 13,
   "outputs": [
    {
     "name": "stdout",
     "output_type": "stream",
     "text": [
      "Found 400000 word vectors.\n"
     ]
    }
   ],
   "source": [
    "embeddings_index = {}\n",
    "embedding_dim = 100\n",
    "\n",
    "with open(f'glove/glove.6B.{embedding_dim}d.txt') as f:\n",
    "    for line in f:\n",
    "        word, coefs = line.split(maxsplit=1)\n",
    "        coefs = np.fromstring(coefs, \"f\", sep=\" \")\n",
    "        embeddings_index[word] = coefs\n",
    "\n",
    "print(\"Found %s word vectors.\" % len(embeddings_index))"
   ],
   "metadata": {
    "collapsed": false,
    "pycharm": {
     "name": "#%%\n"
    }
   }
  },
  {
   "cell_type": "code",
   "execution_count": 14,
   "outputs": [
    {
     "name": "stdout",
     "output_type": "stream",
     "text": [
      "Converted 9813 words (40187 misses)\n"
     ]
    }
   ],
   "source": [
    "num_tokens = len(voc) + 2\n",
    "hits = 0\n",
    "misses = 0\n",
    "\n",
    "embedding_matrix = np.zeros((num_tokens, embedding_dim))\n",
    "for word, i in word_index.items():\n",
    "    embedding_vector = embeddings_index.get(word)\n",
    "    if embedding_vector is not None:\n",
    "        embedding_matrix[i] = embedding_vector\n",
    "        hits += 1\n",
    "    else:\n",
    "        misses += 1\n",
    "print(\"Converted %d words (%d misses)\" % (hits, misses))"
   ],
   "metadata": {
    "collapsed": false,
    "pycharm": {
     "name": "#%%\n"
    }
   }
  },
  {
   "cell_type": "code",
   "execution_count": 15,
   "outputs": [],
   "source": [
    "X = np.array(texts)\n",
    "y = train.target.to_numpy()"
   ],
   "metadata": {
    "collapsed": false,
    "pycharm": {
     "name": "#%%\n"
    }
   }
  },
  {
   "cell_type": "code",
   "execution_count": 16,
   "outputs": [],
   "source": [
    "np.save('data/X.npy', X)\n",
    "np.save('data/y.npy', y)\n",
    "np.save('data/embedding_matrix.npy', embedding_matrix)\n",
    "np.save('data/num_tokens.npy', num_tokens)\n",
    "np.save('data/embedding_dim.npy', embedding_dim)\n",
    "np.save('data/max_tokens.npy', max_tokens)\n",
    "np.save('data/max_len.npy', max_len)"
   ],
   "metadata": {
    "collapsed": false,
    "pycharm": {
     "name": "#%%\n"
    }
   }
  }
 ],
 "metadata": {
  "kernelspec": {
   "display_name": "Python 3",
   "language": "python",
   "name": "python3"
  },
  "language_info": {
   "codemirror_mode": {
    "name": "ipython",
    "version": 2
   },
   "file_extension": ".py",
   "mimetype": "text/x-python",
   "name": "python",
   "nbconvert_exporter": "python",
   "pygments_lexer": "ipython2",
   "version": "2.7.6"
  }
 },
 "nbformat": 4,
 "nbformat_minor": 0
}