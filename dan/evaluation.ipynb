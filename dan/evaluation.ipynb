{
 "cells": [
  {
   "cell_type": "code",
   "execution_count": 196,
   "metadata": {
    "collapsed": true
   },
   "outputs": [],
   "source": [
    "from sklearn.metrics import accuracy_score, confusion_matrix\n",
    "from tensorflow.keras.models import load_model\n",
    "import matplotlib.pyplot as plt\n",
    "import numpy as np\n",
    "import json"
   ]
  },
  {
   "cell_type": "code",
   "execution_count": 197,
   "outputs": [],
   "source": [
    "x_train = np.load('data/x_train.npy')\n",
    "y_train = np.load('data/y_train.npy')\n",
    "x_test = np.load('data/x_test.npy')\n",
    "y_test = np.load('data/y_test.npy')"
   ],
   "metadata": {
    "collapsed": false,
    "pycharm": {
     "name": "#%%\n"
    }
   }
  },
  {
   "cell_type": "code",
   "execution_count": 198,
   "outputs": [
    {
     "name": "stderr",
     "output_type": "stream",
     "text": [
      "2022-02-02 16:29:21.331026: I tensorflow/core/grappler/optimizers/custom_graph_optimizer_registry.cc:112] Plugin optimizer for device_type GPU is enabled.\n",
      "2022-02-02 16:29:21.335173: I tensorflow/core/grappler/optimizers/custom_graph_optimizer_registry.cc:112] Plugin optimizer for device_type GPU is enabled.\n",
      "2022-02-02 16:29:24.318610: I tensorflow/core/grappler/optimizers/custom_graph_optimizer_registry.cc:112] Plugin optimizer for device_type GPU is enabled.\n",
      "2022-02-02 16:29:24.326325: I tensorflow/core/grappler/optimizers/custom_graph_optimizer_registry.cc:112] Plugin optimizer for device_type GPU is enabled.\n"
     ]
    }
   ],
   "source": [
    "model_n = 5\n",
    "model = load_model(f'models/model{model_n}.tf')"
   ],
   "metadata": {
    "collapsed": false,
    "pycharm": {
     "name": "#%%\n"
    }
   }
  },
  {
   "cell_type": "code",
   "execution_count": 199,
   "outputs": [
    {
     "name": "stderr",
     "output_type": "stream",
     "text": [
      "2022-02-02 16:29:27.612495: I tensorflow/core/grappler/optimizers/custom_graph_optimizer_registry.cc:112] Plugin optimizer for device_type GPU is enabled.\n"
     ]
    }
   ],
   "source": [
    "y_pred = model.predict(x_test).numpy()"
   ],
   "metadata": {
    "collapsed": false,
    "pycharm": {
     "name": "#%%\n"
    }
   }
  },
  {
   "cell_type": "code",
   "execution_count": 200,
   "outputs": [],
   "source": [
    "y_pred = np.array([np.max(probs[:, 0]) for probs in y_pred])"
   ],
   "metadata": {
    "collapsed": false,
    "pycharm": {
     "name": "#%%\n"
    }
   }
  },
  {
   "cell_type": "code",
   "execution_count": 201,
   "outputs": [],
   "source": [
    "def evaluate(y_true, y_pred, thresh):\n",
    "    y_pred_ = (y_pred > thresh).astype(int)\n",
    "    return accuracy_score(y_true, y_pred_), y_pred_"
   ],
   "metadata": {
    "collapsed": false,
    "pycharm": {
     "name": "#%%\n"
    }
   }
  },
  {
   "cell_type": "code",
   "execution_count": 202,
   "outputs": [
    {
     "name": "stdout",
     "output_type": "stream",
     "text": [
      "Calculating thresh: 0.0\n",
      "Accuracy: 0.4141856392294221\n",
      "Calculating thresh: 0.01\n",
      "Accuracy: 0.4141856392294221\n",
      "Calculating thresh: 0.02\n",
      "Accuracy: 0.4141856392294221\n",
      "Calculating thresh: 0.03\n",
      "Accuracy: 0.4141856392294221\n",
      "Calculating thresh: 0.04\n",
      "Accuracy: 0.415061295971979\n",
      "Calculating thresh: 0.05\n",
      "Accuracy: 0.415061295971979\n",
      "Calculating thresh: 0.06\n",
      "Accuracy: 0.4154991243432574\n",
      "Calculating thresh: 0.07\n",
      "Accuracy: 0.4154991243432574\n",
      "Calculating thresh: 0.08\n",
      "Accuracy: 0.4154991243432574\n",
      "Calculating thresh: 0.09\n",
      "Accuracy: 0.415061295971979\n",
      "Calculating thresh: 0.1\n",
      "Accuracy: 0.415061295971979\n",
      "Calculating thresh: 0.11\n",
      "Accuracy: 0.415061295971979\n",
      "Calculating thresh: 0.12\n",
      "Accuracy: 0.415061295971979\n",
      "Calculating thresh: 0.13\n",
      "Accuracy: 0.415061295971979\n",
      "Calculating thresh: 0.14\n",
      "Accuracy: 0.415061295971979\n",
      "Calculating thresh: 0.15\n",
      "Accuracy: 0.415061295971979\n",
      "Calculating thresh: 0.16\n",
      "Accuracy: 0.415061295971979\n",
      "Calculating thresh: 0.17\n",
      "Accuracy: 0.415061295971979\n",
      "Calculating thresh: 0.18\n",
      "Accuracy: 0.415061295971979\n",
      "Calculating thresh: 0.19\n",
      "Accuracy: 0.415061295971979\n",
      "Calculating thresh: 0.2\n",
      "Accuracy: 0.415061295971979\n",
      "Calculating thresh: 0.21\n",
      "Accuracy: 0.4154991243432574\n",
      "Calculating thresh: 0.22\n",
      "Accuracy: 0.4154991243432574\n",
      "Calculating thresh: 0.23\n",
      "Accuracy: 0.4154991243432574\n",
      "Calculating thresh: 0.24\n",
      "Accuracy: 0.4154991243432574\n",
      "Calculating thresh: 0.25\n",
      "Accuracy: 0.4154991243432574\n",
      "Calculating thresh: 0.26\n",
      "Accuracy: 0.4154991243432574\n",
      "Calculating thresh: 0.27\n",
      "Accuracy: 0.4154991243432574\n",
      "Calculating thresh: 0.28\n",
      "Accuracy: 0.4154991243432574\n",
      "Calculating thresh: 0.29\n",
      "Accuracy: 0.4154991243432574\n",
      "Calculating thresh: 0.3\n",
      "Accuracy: 0.4154991243432574\n",
      "Calculating thresh: 0.31\n",
      "Accuracy: 0.4154991243432574\n",
      "Calculating thresh: 0.32\n",
      "Accuracy: 0.4154991243432574\n",
      "Calculating thresh: 0.33\n",
      "Accuracy: 0.4154991243432574\n",
      "Calculating thresh: 0.34\n",
      "Accuracy: 0.4154991243432574\n",
      "Calculating thresh: 0.35000000000000003\n",
      "Accuracy: 0.4154991243432574\n",
      "Calculating thresh: 0.36\n",
      "Accuracy: 0.4154991243432574\n",
      "Calculating thresh: 0.37\n",
      "Accuracy: 0.4154991243432574\n",
      "Calculating thresh: 0.38\n",
      "Accuracy: 0.4154991243432574\n",
      "Calculating thresh: 0.39\n",
      "Accuracy: 0.4154991243432574\n",
      "Calculating thresh: 0.4\n",
      "Accuracy: 0.4154991243432574\n",
      "Calculating thresh: 0.41000000000000003\n",
      "Accuracy: 0.4154991243432574\n",
      "Calculating thresh: 0.42\n",
      "Accuracy: 0.4154991243432574\n",
      "Calculating thresh: 0.43\n",
      "Accuracy: 0.4154991243432574\n",
      "Calculating thresh: 0.44\n",
      "Accuracy: 0.46541155866900175\n",
      "Calculating thresh: 0.45\n",
      "Accuracy: 0.47285464098073554\n",
      "Calculating thresh: 0.46\n",
      "Accuracy: 0.4754816112084063\n",
      "Calculating thresh: 0.47000000000000003\n",
      "Accuracy: 0.47723292469352013\n",
      "Calculating thresh: 0.48\n",
      "Accuracy: 0.483800350262697\n",
      "Calculating thresh: 0.49\n",
      "Accuracy: 0.5288966725043783\n",
      "Calculating thresh: 0.5\n",
      "Accuracy: 0.5407180385288967\n",
      "Calculating thresh: 0.51\n",
      "Accuracy: 0.5446584938704028\n",
      "Calculating thresh: 0.52\n",
      "Accuracy: 0.5577933450087565\n",
      "Calculating thresh: 0.53\n",
      "Accuracy: 0.5626094570928196\n",
      "Calculating thresh: 0.54\n",
      "Accuracy: 0.5652364273204904\n",
      "Calculating thresh: 0.55\n",
      "Accuracy: 0.5709281961471103\n",
      "Calculating thresh: 0.56\n",
      "Accuracy: 0.5761821366024519\n",
      "Calculating thresh: 0.5700000000000001\n",
      "Accuracy: 0.5845008756567426\n",
      "Calculating thresh: 0.58\n",
      "Accuracy: 0.5958844133099825\n",
      "Calculating thresh: 0.59\n",
      "Accuracy: 0.600262697022767\n",
      "Calculating thresh: 0.6\n",
      "Accuracy: 0.611646234676007\n",
      "Calculating thresh: 0.61\n",
      "Accuracy: 0.6344133099824869\n",
      "Calculating thresh: 0.62\n",
      "Accuracy: 0.6431698774080561\n",
      "Calculating thresh: 0.63\n",
      "Accuracy: 0.6523642732049036\n",
      "Calculating thresh: 0.64\n",
      "Accuracy: 0.6598073555166375\n",
      "Calculating thresh: 0.65\n",
      "Accuracy: 0.6720665499124343\n",
      "Calculating thresh: 0.66\n",
      "Accuracy: 0.6795096322241682\n",
      "Calculating thresh: 0.67\n",
      "Accuracy: 0.6830122591943958\n",
      "Calculating thresh: 0.68\n",
      "Accuracy: 0.6873905429071804\n",
      "Calculating thresh: 0.6900000000000001\n",
      "Accuracy: 0.6952714535901926\n",
      "Calculating thresh: 0.7000000000000001\n",
      "Accuracy: 0.6978984238178634\n",
      "Calculating thresh: 0.71\n",
      "Accuracy: 0.7027145359019265\n",
      "Calculating thresh: 0.72\n",
      "Accuracy: 0.7110332749562172\n",
      "Calculating thresh: 0.73\n",
      "Accuracy: 0.7202276707530648\n",
      "Calculating thresh: 0.74\n",
      "Accuracy: 0.723292469352014\n",
      "Calculating thresh: 0.75\n",
      "Accuracy: 0.7302977232924693\n",
      "Calculating thresh: 0.76\n",
      "Accuracy: 0.7333625218914186\n",
      "Calculating thresh: 0.77\n",
      "Accuracy: 0.7381786339754816\n",
      "Calculating thresh: 0.78\n",
      "Accuracy: 0.7438704028021016\n",
      "Calculating thresh: 0.79\n",
      "Accuracy: 0.75\n",
      "Calculating thresh: 0.8\n",
      "Accuracy: 0.7504378283712785\n",
      "Calculating thresh: 0.81\n",
      "Accuracy: 0.750875656742557\n",
      "Calculating thresh: 0.8200000000000001\n",
      "Accuracy: 0.7548161120840631\n",
      "Calculating thresh: 0.8300000000000001\n",
      "Accuracy: 0.7552539404553416\n",
      "Calculating thresh: 0.84\n",
      "Accuracy: 0.7565674255691769\n",
      "Calculating thresh: 0.85\n",
      "Accuracy: 0.7583187390542907\n",
      "Calculating thresh: 0.86\n",
      "Accuracy: 0.7618213660245184\n",
      "Calculating thresh: 0.87\n",
      "Accuracy: 0.75\n",
      "Calculating thresh: 0.88\n",
      "Accuracy: 0.7429947460595446\n",
      "Calculating thresh: 0.89\n",
      "Accuracy: 0.7368651488616462\n",
      "Calculating thresh: 0.9\n",
      "Accuracy: 0.7285464098073555\n",
      "Calculating thresh: 0.91\n",
      "Accuracy: 0.7206654991243433\n",
      "Calculating thresh: 0.92\n",
      "Accuracy: 0.7180385288966725\n",
      "Calculating thresh: 0.93\n",
      "Accuracy: 0.707092819614711\n",
      "Calculating thresh: 0.9400000000000001\n",
      "Accuracy: 0.696584938704028\n",
      "Calculating thresh: 0.9500000000000001\n",
      "Accuracy: 0.6852014010507881\n",
      "Calculating thresh: 0.96\n",
      "Accuracy: 0.6720665499124343\n",
      "Calculating thresh: 0.97\n",
      "Accuracy: 0.6624343257443083\n",
      "Calculating thresh: 0.98\n",
      "Accuracy: 0.6260945709281961\n",
      "Calculating thresh: 0.99\n",
      "Accuracy: 0.5945709281961471\n"
     ]
    }
   ],
   "source": [
    "best_thresh = 0\n",
    "best_accuracy = 0\n",
    "\n",
    "for i in np.arange(0, 1, 0.01):\n",
    "    print(f'Calculating thresh: {i}')\n",
    "    score, _ = evaluate(y_test, y_pred, i)\n",
    "    print(f'Accuracy: {score}')\n",
    "    if score > best_accuracy:\n",
    "        best_accuracy = score\n",
    "        best_thresh = i"
   ],
   "metadata": {
    "collapsed": false,
    "pycharm": {
     "name": "#%%\n"
    }
   }
  },
  {
   "cell_type": "code",
   "execution_count": 203,
   "outputs": [
    {
     "name": "stdout",
     "output_type": "stream",
     "text": [
      "0.7618213660245184\n"
     ]
    }
   ],
   "source": [
    "score, y_pred = evaluate(y_test, y_pred, best_thresh)\n",
    "print(score)"
   ],
   "metadata": {
    "collapsed": false,
    "pycharm": {
     "name": "#%%\n"
    }
   }
  },
  {
   "cell_type": "markdown",
   "source": [],
   "metadata": {
    "collapsed": false,
    "pycharm": {
     "name": "#%% md\n"
    }
   }
  },
  {
   "cell_type": "code",
   "execution_count": 204,
   "outputs": [
    {
     "data": {
      "text/plain": "(0.8151623193844999, array([0, 1, 0, ..., 0, 0, 0]))"
     },
     "execution_count": 204,
     "metadata": {},
     "output_type": "execute_result"
    }
   ],
   "source": [
    "y_pred_train = model.predict(x_train).numpy()\n",
    "y_pred_train = np.array([np.max(probs[:, 0]) for probs in y_pred_train])\n",
    "evaluate(y_train, y_pred_train, best_thresh)"
   ],
   "metadata": {
    "collapsed": false,
    "pycharm": {
     "name": "#%%\n"
    }
   }
  },
  {
   "cell_type": "code",
   "execution_count": 205,
   "outputs": [
    {
     "data": {
      "text/plain": "array([[1199,  139],\n       [ 405,  541]])"
     },
     "execution_count": 205,
     "metadata": {},
     "output_type": "execute_result"
    }
   ],
   "source": [
    "confusion_matrix(y_test, y_pred)"
   ],
   "metadata": {
    "collapsed": false,
    "pycharm": {
     "name": "#%%\n"
    }
   }
  },
  {
   "cell_type": "code",
   "execution_count": 206,
   "outputs": [],
   "source": [
    "with open(f'models/history{model_n}.json', 'r') as f:\n",
    "    history = json.load(f)"
   ],
   "metadata": {
    "collapsed": false,
    "pycharm": {
     "name": "#%%\n"
    }
   }
  },
  {
   "cell_type": "code",
   "execution_count": 207,
   "outputs": [
    {
     "name": "stdout",
     "output_type": "stream",
     "text": [
      "dict_keys(['loss', 'accuracy', 'val_loss', 'val_accuracy'])\n"
     ]
    }
   ],
   "source": [
    "print(history.keys())"
   ],
   "metadata": {
    "collapsed": false,
    "pycharm": {
     "name": "#%%\n"
    }
   }
  },
  {
   "cell_type": "code",
   "execution_count": 208,
   "outputs": [
    {
     "data": {
      "text/plain": "<Figure size 432x288 with 1 Axes>",
      "image/png": "[encoded data removed]"
     },
     "metadata": {
      "needs_background": "light"
     },
     "output_type": "display_data"
    },
    {
     "data": {
      "text/plain": "<Figure size 432x288 with 1 Axes>",
      "image/png": "[encoded data removed]"
     },
     "metadata": {
      "needs_background": "light"
     },
     "output_type": "display_data"
    }
   ],
   "source": [
    "plt.subplots()\n",
    "plt.plot(history['accuracy'])\n",
    "plt.plot(history['val_accuracy'])\n",
    "plt.title('model accuracy')\n",
    "plt.ylabel('accuracy')\n",
    "plt.xlabel('epoch')\n",
    "plt.legend(['train', 'validation'])\n",
    "plt.show()\n",
    "\n",
    "plt.subplots()\n",
    "plt.plot(history['loss'])\n",
    "plt.plot(history['val_loss'])\n",
    "plt.title('model loss')\n",
    "plt.ylabel('loss')\n",
    "plt.xlabel('epoch')\n",
    "plt.legend(['train', 'validation'])\n",
    "plt.show()"
   ],
   "metadata": {
    "collapsed": false,
    "pycharm": {
     "name": "#%%\n"
    }
   }
  }
 ],
 "metadata": {
  "kernelspec": {
   "display_name": "Python 3",
   "language": "python",
   "name": "python3"
  },
  "language_info": {
   "codemirror_mode": {
    "name": "ipython",
    "version": 2
   },
   "file_extension": ".py",
   "mimetype": "text/x-python",
   "name": "python",
   "nbconvert_exporter": "python",
   "pygments_lexer": "ipython2",
   "version": "2.7.6"
  }
 },
 "nbformat": 4,
 "nbformat_minor": 0
}