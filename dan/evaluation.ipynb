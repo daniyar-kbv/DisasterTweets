{
 "cells": [
  {
   "cell_type": "code",
   "execution_count": 66,
   "metadata": {
    "collapsed": true
   },
   "outputs": [],
   "source": [
    "from sklearn.metrics import accuracy_score, confusion_matrix\n",
    "from tensorflow.keras.models import load_model\n",
    "import matplotlib.pyplot as plt\n",
    "import numpy as np\n",
    "import json"
   ]
  },
  {
   "cell_type": "code",
   "execution_count": 67,
   "outputs": [],
   "source": [
    "x_train = np.load('data/x_train.npy')\n",
    "y_train = np.load('data/y_train.npy')\n",
    "x_test = np.load('data/x_test.npy')\n",
    "y_test = np.load('data/y_test.npy')"
   ],
   "metadata": {
    "collapsed": false,
    "pycharm": {
     "name": "#%%\n"
    }
   }
  },
  {
   "cell_type": "code",
   "execution_count": 68,
   "outputs": [
    {
     "name": "stderr",
     "output_type": "stream",
     "text": [
      "2022-02-02 14:32:01.510437: I tensorflow/core/grappler/optimizers/custom_graph_optimizer_registry.cc:112] Plugin optimizer for device_type GPU is enabled.\n",
      "2022-02-02 14:32:01.514429: I tensorflow/core/grappler/optimizers/custom_graph_optimizer_registry.cc:112] Plugin optimizer for device_type GPU is enabled.\n",
      "2022-02-02 14:32:03.536090: I tensorflow/core/grappler/optimizers/custom_graph_optimizer_registry.cc:112] Plugin optimizer for device_type GPU is enabled.\n",
      "2022-02-02 14:32:03.541769: I tensorflow/core/grappler/optimizers/custom_graph_optimizer_registry.cc:112] Plugin optimizer for device_type GPU is enabled.\n"
     ]
    }
   ],
   "source": [
    "model = load_model('models/model3.tf')"
   ],
   "metadata": {
    "collapsed": false,
    "pycharm": {
     "name": "#%%\n"
    }
   }
  },
  {
   "cell_type": "code",
   "execution_count": 69,
   "outputs": [
    {
     "name": "stderr",
     "output_type": "stream",
     "text": [
      "2022-02-02 14:32:04.882960: I tensorflow/core/grappler/optimizers/custom_graph_optimizer_registry.cc:112] Plugin optimizer for device_type GPU is enabled.\n"
     ]
    }
   ],
   "source": [
    "y_pred = model.predict(x_test).numpy()"
   ],
   "metadata": {
    "collapsed": false,
    "pycharm": {
     "name": "#%%\n"
    }
   }
  },
  {
   "cell_type": "code",
   "execution_count": 70,
   "outputs": [],
   "source": [
    "y_pred = np.array([np.max(probs[:, 0]) for probs in y_pred])"
   ],
   "metadata": {
    "collapsed": false,
    "pycharm": {
     "name": "#%%\n"
    }
   }
  },
  {
   "cell_type": "code",
   "execution_count": 71,
   "outputs": [],
   "source": [
    "def evaluate(y_true, y_pred, thresh):\n",
    "    y_pred_ = (y_pred > thresh).astype(int)\n",
    "    return accuracy_score(y_true, y_pred_), y_pred_"
   ],
   "metadata": {
    "collapsed": false,
    "pycharm": {
     "name": "#%%\n"
    }
   }
  },
  {
   "cell_type": "code",
   "execution_count": 72,
   "outputs": [
    {
     "name": "stdout",
     "output_type": "stream",
     "text": [
      "Calculating thresh: 0.0\n",
      "Accuracy: 0.4141856392294221\n",
      "Calculating thresh: 0.01\n",
      "Accuracy: 0.4141856392294221\n",
      "Calculating thresh: 0.02\n",
      "Accuracy: 0.4141856392294221\n",
      "Calculating thresh: 0.03\n",
      "Accuracy: 0.4141856392294221\n",
      "Calculating thresh: 0.04\n",
      "Accuracy: 0.4141856392294221\n",
      "Calculating thresh: 0.05\n",
      "Accuracy: 0.4141856392294221\n",
      "Calculating thresh: 0.06\n",
      "Accuracy: 0.4141856392294221\n",
      "Calculating thresh: 0.07\n",
      "Accuracy: 0.4141856392294221\n",
      "Calculating thresh: 0.08\n",
      "Accuracy: 0.4141856392294221\n",
      "Calculating thresh: 0.09\n",
      "Accuracy: 0.4141856392294221\n",
      "Calculating thresh: 0.1\n",
      "Accuracy: 0.4141856392294221\n",
      "Calculating thresh: 0.11\n",
      "Accuracy: 0.4141856392294221\n",
      "Calculating thresh: 0.12\n",
      "Accuracy: 0.4141856392294221\n",
      "Calculating thresh: 0.13\n",
      "Accuracy: 0.4141856392294221\n",
      "Calculating thresh: 0.14\n",
      "Accuracy: 0.4141856392294221\n",
      "Calculating thresh: 0.15\n",
      "Accuracy: 0.4141856392294221\n",
      "Calculating thresh: 0.16\n",
      "Accuracy: 0.4141856392294221\n",
      "Calculating thresh: 0.17\n",
      "Accuracy: 0.4141856392294221\n",
      "Calculating thresh: 0.18\n",
      "Accuracy: 0.4141856392294221\n",
      "Calculating thresh: 0.19\n",
      "Accuracy: 0.4141856392294221\n",
      "Calculating thresh: 0.2\n",
      "Accuracy: 0.4141856392294221\n",
      "Calculating thresh: 0.21\n",
      "Accuracy: 0.4137478108581436\n",
      "Calculating thresh: 0.22\n",
      "Accuracy: 0.4137478108581436\n",
      "Calculating thresh: 0.23\n",
      "Accuracy: 0.4146234676007005\n",
      "Calculating thresh: 0.24\n",
      "Accuracy: 0.4146234676007005\n",
      "Calculating thresh: 0.25\n",
      "Accuracy: 0.4146234676007005\n",
      "Calculating thresh: 0.26\n",
      "Accuracy: 0.4146234676007005\n",
      "Calculating thresh: 0.27\n",
      "Accuracy: 0.415061295971979\n",
      "Calculating thresh: 0.28\n",
      "Accuracy: 0.415061295971979\n",
      "Calculating thresh: 0.29\n",
      "Accuracy: 0.415061295971979\n",
      "Calculating thresh: 0.3\n",
      "Accuracy: 0.415061295971979\n",
      "Calculating thresh: 0.31\n",
      "Accuracy: 0.415061295971979\n",
      "Calculating thresh: 0.32\n",
      "Accuracy: 0.4154991243432574\n",
      "Calculating thresh: 0.33\n",
      "Accuracy: 0.4154991243432574\n",
      "Calculating thresh: 0.34\n",
      "Accuracy: 0.4154991243432574\n",
      "Calculating thresh: 0.35000000000000003\n",
      "Accuracy: 0.4154991243432574\n",
      "Calculating thresh: 0.36\n",
      "Accuracy: 0.4154991243432574\n",
      "Calculating thresh: 0.37\n",
      "Accuracy: 0.4154991243432574\n",
      "Calculating thresh: 0.38\n",
      "Accuracy: 0.4154991243432574\n",
      "Calculating thresh: 0.39\n",
      "Accuracy: 0.4154991243432574\n",
      "Calculating thresh: 0.4\n",
      "Accuracy: 0.4154991243432574\n",
      "Calculating thresh: 0.41000000000000003\n",
      "Accuracy: 0.4154991243432574\n",
      "Calculating thresh: 0.42\n",
      "Accuracy: 0.4154991243432574\n",
      "Calculating thresh: 0.43\n",
      "Accuracy: 0.4154991243432574\n",
      "Calculating thresh: 0.44\n",
      "Accuracy: 0.4859894921190893\n",
      "Calculating thresh: 0.45\n",
      "Accuracy: 0.4969352014010508\n",
      "Calculating thresh: 0.46\n",
      "Accuracy: 0.5021891418563923\n",
      "Calculating thresh: 0.47000000000000003\n",
      "Accuracy: 0.5070052539404554\n",
      "Calculating thresh: 0.48\n",
      "Accuracy: 0.5223292469352014\n",
      "Calculating thresh: 0.49\n",
      "Accuracy: 0.5310858143607706\n",
      "Calculating thresh: 0.5\n",
      "Accuracy: 0.5354640980735552\n",
      "Calculating thresh: 0.51\n",
      "Accuracy: 0.5586690017513135\n",
      "Calculating thresh: 0.52\n",
      "Accuracy: 0.5722416812609457\n",
      "Calculating thresh: 0.53\n",
      "Accuracy: 0.5796847635726795\n",
      "Calculating thresh: 0.54\n",
      "Accuracy: 0.5884413309982487\n",
      "Calculating thresh: 0.55\n",
      "Accuracy: 0.5945709281961471\n",
      "Calculating thresh: 0.56\n",
      "Accuracy: 0.5998248686514887\n",
      "Calculating thresh: 0.5700000000000001\n",
      "Accuracy: 0.6068301225919439\n",
      "Calculating thresh: 0.58\n",
      "Accuracy: 0.6120840630472855\n",
      "Calculating thresh: 0.59\n",
      "Accuracy: 0.6208406304728546\n",
      "Calculating thresh: 0.6\n",
      "Accuracy: 0.6309106830122592\n",
      "Calculating thresh: 0.61\n",
      "Accuracy: 0.6366024518388792\n",
      "Calculating thresh: 0.62\n",
      "Accuracy: 0.6444833625218914\n",
      "Calculating thresh: 0.63\n",
      "Accuracy: 0.6611208406304728\n",
      "Calculating thresh: 0.64\n",
      "Accuracy: 0.6694395796847635\n",
      "Calculating thresh: 0.65\n",
      "Accuracy: 0.6795096322241682\n",
      "Calculating thresh: 0.66\n",
      "Accuracy: 0.6856392294220666\n",
      "Calculating thresh: 0.67\n",
      "Accuracy: 0.7123467600700525\n",
      "Calculating thresh: 0.68\n",
      "Accuracy: 0.7189141856392294\n",
      "Calculating thresh: 0.6900000000000001\n",
      "Accuracy: 0.7254816112084063\n",
      "Calculating thresh: 0.7000000000000001\n",
      "Accuracy: 0.7294220665499125\n",
      "Calculating thresh: 0.71\n",
      "Accuracy: 0.7368651488616462\n",
      "Calculating thresh: 0.72\n",
      "Accuracy: 0.7408056042031523\n",
      "Calculating thresh: 0.73\n",
      "Accuracy: 0.7504378283712785\n",
      "Calculating thresh: 0.74\n",
      "Accuracy: 0.7539404553415061\n",
      "Calculating thresh: 0.75\n",
      "Accuracy: 0.7543782837127846\n",
      "Calculating thresh: 0.76\n",
      "Accuracy: 0.7543782837127846\n",
      "Calculating thresh: 0.77\n",
      "Accuracy: 0.7530647985989493\n",
      "Calculating thresh: 0.78\n",
      "Accuracy: 0.7548161120840631\n",
      "Calculating thresh: 0.79\n",
      "Accuracy: 0.7600700525394045\n",
      "Calculating thresh: 0.8\n",
      "Accuracy: 0.7701401050788091\n",
      "Calculating thresh: 0.81\n",
      "Accuracy: 0.7688266199649737\n",
      "Calculating thresh: 0.8200000000000001\n",
      "Accuracy: 0.7675131348511384\n",
      "Calculating thresh: 0.8300000000000001\n",
      "Accuracy: 0.7609457092819615\n",
      "Calculating thresh: 0.84\n",
      "Accuracy: 0.7583187390542907\n",
      "Calculating thresh: 0.85\n",
      "Accuracy: 0.7587565674255692\n",
      "Calculating thresh: 0.86\n",
      "Accuracy: 0.760507880910683\n",
      "Calculating thresh: 0.87\n",
      "Accuracy: 0.7561295971978984\n",
      "Calculating thresh: 0.88\n",
      "Accuracy: 0.7526269702276708\n",
      "Calculating thresh: 0.89\n",
      "Accuracy: 0.7513134851138353\n",
      "Calculating thresh: 0.9\n",
      "Accuracy: 0.7513134851138353\n",
      "Calculating thresh: 0.91\n",
      "Accuracy: 0.7399299474605955\n",
      "Calculating thresh: 0.92\n",
      "Accuracy: 0.7311733800350263\n",
      "Calculating thresh: 0.93\n",
      "Accuracy: 0.7202276707530648\n",
      "Calculating thresh: 0.9400000000000001\n",
      "Accuracy: 0.717600700525394\n",
      "Calculating thresh: 0.9500000000000001\n",
      "Accuracy: 0.7014010507880911\n",
      "Calculating thresh: 0.96\n",
      "Accuracy: 0.6922066549912435\n",
      "Calculating thresh: 0.97\n",
      "Accuracy: 0.6821366024518388\n",
      "Calculating thresh: 0.98\n",
      "Accuracy: 0.6681260945709282\n",
      "Calculating thresh: 0.99\n",
      "Accuracy: 0.6300350262697023\n"
     ]
    }
   ],
   "source": [
    "best_thresh = 0\n",
    "best_accuracy = 0\n",
    "\n",
    "for i in np.arange(0, 1, 0.01):\n",
    "    print(f'Calculating thresh: {i}')\n",
    "    score, _ = evaluate(y_test, y_pred, i)\n",
    "    print(f'Accuracy: {score}')\n",
    "    if score > best_accuracy:\n",
    "        best_accuracy = score\n",
    "        best_thresh = i"
   ],
   "metadata": {
    "collapsed": false,
    "pycharm": {
     "name": "#%%\n"
    }
   }
  },
  {
   "cell_type": "code",
   "execution_count": 73,
   "outputs": [
    {
     "name": "stdout",
     "output_type": "stream",
     "text": [
      "0.7701401050788091\n"
     ]
    }
   ],
   "source": [
    "score, y_pred = evaluate(y_test, y_pred, best_thresh)\n",
    "print(score)"
   ],
   "metadata": {
    "collapsed": false,
    "pycharm": {
     "name": "#%%\n"
    }
   }
  },
  {
   "cell_type": "markdown",
   "source": [
    "600 epochs: 0.7661996497373029\n",
    "800 epochs: 0.7574430823117339\n",
    "700 epochs: 0.7701401050788091\n",
    "1000 epochs: 0.7701401050788091"
   ],
   "metadata": {
    "collapsed": false,
    "pycharm": {
     "name": "#%% md\n"
    }
   }
  },
  {
   "cell_type": "code",
   "execution_count": 74,
   "outputs": [
    {
     "data": {
      "text/plain": "(0.8119722274347908, array([0, 0, 0, ..., 0, 0, 0]))"
     },
     "execution_count": 74,
     "metadata": {},
     "output_type": "execute_result"
    }
   ],
   "source": [
    "y_pred_train = model.predict(x_train).numpy()\n",
    "y_pred_train = np.array([np.max(probs[:, 0]) for probs in y_pred_train])\n",
    "evaluate(y_train, y_pred_train, best_thresh)"
   ],
   "metadata": {
    "collapsed": false,
    "pycharm": {
     "name": "#%%\n"
    }
   }
  },
  {
   "cell_type": "code",
   "execution_count": 75,
   "outputs": [
    {
     "data": {
      "text/plain": "array([[1123,  215],\n       [ 310,  636]])"
     },
     "execution_count": 75,
     "metadata": {},
     "output_type": "execute_result"
    }
   ],
   "source": [
    "confusion_matrix(y_test, y_pred)"
   ],
   "metadata": {
    "collapsed": false,
    "pycharm": {
     "name": "#%%\n"
    }
   }
  },
  {
   "cell_type": "code",
   "execution_count": 76,
   "outputs": [],
   "source": [
    "with open('models/history3.json', 'r') as f:\n",
    "    history = json.load(f)"
   ],
   "metadata": {
    "collapsed": false,
    "pycharm": {
     "name": "#%%\n"
    }
   }
  },
  {
   "cell_type": "code",
   "execution_count": 77,
   "outputs": [
    {
     "name": "stdout",
     "output_type": "stream",
     "text": [
      "dict_keys(['loss', 'accuracy', 'val_loss', 'val_accuracy'])\n"
     ]
    }
   ],
   "source": [
    "print(history.keys())"
   ],
   "metadata": {
    "collapsed": false,
    "pycharm": {
     "name": "#%%\n"
    }
   }
  },
  {
   "cell_type": "code",
   "execution_count": 78,
   "outputs": [
    {
     "data": {
      "text/plain": "<Figure size 432x288 with 1 Axes>",
      "image/png": "[encoded data removed]"
     },
     "metadata": {
      "needs_background": "light"
     },
     "output_type": "display_data"
    },
    {
     "data": {
      "text/plain": "<Figure size 432x288 with 1 Axes>",
      "image/png": "[encoded data removed]"
     },
     "metadata": {
      "needs_background": "light"
     },
     "output_type": "display_data"
    }
   ],
   "source": [
    "plt.subplots()\n",
    "plt.plot(history['accuracy'])\n",
    "plt.plot(history['val_accuracy'])\n",
    "plt.title('model accuracy')\n",
    "plt.ylabel('accuracy')\n",
    "plt.xlabel('epoch')\n",
    "plt.legend(['train', 'validation'])\n",
    "plt.show()\n",
    "\n",
    "plt.subplots()\n",
    "plt.plot(history['loss'])\n",
    "plt.plot(history['val_loss'])\n",
    "plt.title('model loss')\n",
    "plt.ylabel('loss')\n",
    "plt.xlabel('epoch')\n",
    "plt.legend(['train', 'validation'])\n",
    "plt.show()"
   ],
   "metadata": {
    "collapsed": false,
    "pycharm": {
     "name": "#%%\n"
    }
   }
  }
 ],
 "metadata": {
  "kernelspec": {
   "display_name": "Python 3",
   "language": "python",
   "name": "python3"
  },
  "language_info": {
   "codemirror_mode": {
    "name": "ipython",
    "version": 2
   },
   "file_extension": ".py",
   "mimetype": "text/x-python",
   "name": "python",
   "nbconvert_exporter": "python",
   "pygments_lexer": "ipython2",
   "version": "2.7.6"
  }
 },
 "nbformat": 4,
 "nbformat_minor": 0
}