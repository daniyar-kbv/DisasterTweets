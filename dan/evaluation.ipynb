{
 "cells": [
  {
   "cell_type": "code",
   "execution_count": 1,
   "metadata": {
    "collapsed": true
   },
   "outputs": [],
   "source": [
    "from sklearn.metrics import accuracy_score, confusion_matrix\n",
    "from tensorflow.keras.models import load_model\n",
    "import matplotlib.pyplot as plt\n",
    "import numpy as np\n",
    "import json"
   ]
  },
  {
   "cell_type": "code",
   "execution_count": 87,
   "outputs": [],
   "source": [
    "x_train = np.load('data/x_train.npy')\n",
    "y_train = np.load('data/y_train.npy')\n",
    "x_test = np.load('data/x_test.npy')\n",
    "y_test = np.load('data/y_test.npy')"
   ],
   "metadata": {
    "collapsed": false,
    "pycharm": {
     "name": "#%%\n"
    }
   }
  },
  {
   "cell_type": "code",
   "execution_count": 15,
   "outputs": [
    {
     "name": "stderr",
     "output_type": "stream",
     "text": [
      "2022-02-01 15:34:08.752850: I tensorflow/core/grappler/optimizers/custom_graph_optimizer_registry.cc:112] Plugin optimizer for device_type GPU is enabled.\n",
      "2022-02-01 15:34:08.758574: I tensorflow/core/grappler/optimizers/custom_graph_optimizer_registry.cc:112] Plugin optimizer for device_type GPU is enabled.\n"
     ]
    }
   ],
   "source": [
    "model = load_model('model2.tf')"
   ],
   "metadata": {
    "collapsed": false,
    "pycharm": {
     "name": "#%%\n"
    }
   }
  },
  {
   "cell_type": "code",
   "execution_count": 66,
   "outputs": [],
   "source": [
    "y_pred = model.predict(x_test).numpy()"
   ],
   "metadata": {
    "collapsed": false,
    "pycharm": {
     "name": "#%%\n"
    }
   }
  },
  {
   "cell_type": "code",
   "execution_count": 67,
   "outputs": [],
   "source": [
    "y_pred = np.array([np.max(probs[:, 0]) for probs in y_pred])"
   ],
   "metadata": {
    "collapsed": false,
    "pycharm": {
     "name": "#%%\n"
    }
   }
  },
  {
   "cell_type": "code",
   "execution_count": 84,
   "outputs": [],
   "source": [
    "def evaluate(y_true, y_pred, thresh):\n",
    "    y_pred_ = (y_pred > thresh).astype(int)\n",
    "    return accuracy_score(y_true, y_pred_), y_pred_"
   ],
   "metadata": {
    "collapsed": false,
    "pycharm": {
     "name": "#%%\n"
    }
   }
  },
  {
   "cell_type": "code",
   "execution_count": 85,
   "outputs": [
    {
     "name": "stdout",
     "output_type": "stream",
     "text": [
      "Calculating thresh: 0.0\n",
      "Accuracy: 0.4141856392294221\n",
      "Calculating thresh: 0.01\n",
      "Accuracy: 0.4141856392294221\n",
      "Calculating thresh: 0.02\n",
      "Accuracy: 0.4141856392294221\n",
      "Calculating thresh: 0.03\n",
      "Accuracy: 0.4141856392294221\n",
      "Calculating thresh: 0.04\n",
      "Accuracy: 0.4141856392294221\n",
      "Calculating thresh: 0.05\n",
      "Accuracy: 0.4141856392294221\n",
      "Calculating thresh: 0.06\n",
      "Accuracy: 0.4141856392294221\n",
      "Calculating thresh: 0.07\n",
      "Accuracy: 0.4141856392294221\n",
      "Calculating thresh: 0.08\n",
      "Accuracy: 0.4141856392294221\n",
      "Calculating thresh: 0.09\n",
      "Accuracy: 0.4141856392294221\n",
      "Calculating thresh: 0.1\n",
      "Accuracy: 0.4141856392294221\n",
      "Calculating thresh: 0.11\n",
      "Accuracy: 0.4141856392294221\n",
      "Calculating thresh: 0.12\n",
      "Accuracy: 0.4141856392294221\n",
      "Calculating thresh: 0.13\n",
      "Accuracy: 0.4141856392294221\n",
      "Calculating thresh: 0.14\n",
      "Accuracy: 0.4141856392294221\n",
      "Calculating thresh: 0.15\n",
      "Accuracy: 0.4141856392294221\n",
      "Calculating thresh: 0.16\n",
      "Accuracy: 0.4141856392294221\n",
      "Calculating thresh: 0.17\n",
      "Accuracy: 0.4141856392294221\n",
      "Calculating thresh: 0.18\n",
      "Accuracy: 0.4141856392294221\n",
      "Calculating thresh: 0.19\n",
      "Accuracy: 0.4141856392294221\n",
      "Calculating thresh: 0.2\n",
      "Accuracy: 0.4141856392294221\n",
      "Calculating thresh: 0.21\n",
      "Accuracy: 0.4141856392294221\n",
      "Calculating thresh: 0.22\n",
      "Accuracy: 0.4141856392294221\n",
      "Calculating thresh: 0.23\n",
      "Accuracy: 0.4141856392294221\n",
      "Calculating thresh: 0.24\n",
      "Accuracy: 0.4141856392294221\n",
      "Calculating thresh: 0.25\n",
      "Accuracy: 0.4141856392294221\n",
      "Calculating thresh: 0.26\n",
      "Accuracy: 0.4141856392294221\n",
      "Calculating thresh: 0.27\n",
      "Accuracy: 0.4141856392294221\n",
      "Calculating thresh: 0.28\n",
      "Accuracy: 0.4146234676007005\n",
      "Calculating thresh: 0.29\n",
      "Accuracy: 0.4146234676007005\n",
      "Calculating thresh: 0.3\n",
      "Accuracy: 0.4146234676007005\n",
      "Calculating thresh: 0.31\n",
      "Accuracy: 0.4146234676007005\n",
      "Calculating thresh: 0.32\n",
      "Accuracy: 0.4154991243432574\n",
      "Calculating thresh: 0.33\n",
      "Accuracy: 0.4154991243432574\n",
      "Calculating thresh: 0.34\n",
      "Accuracy: 0.4154991243432574\n",
      "Calculating thresh: 0.35000000000000003\n",
      "Accuracy: 0.4172504378283713\n",
      "Calculating thresh: 0.36\n",
      "Accuracy: 0.4172504378283713\n",
      "Calculating thresh: 0.37\n",
      "Accuracy: 0.4172504378283713\n",
      "Calculating thresh: 0.38\n",
      "Accuracy: 0.4176882661996497\n",
      "Calculating thresh: 0.39\n",
      "Accuracy: 0.4194395796847636\n",
      "Calculating thresh: 0.4\n",
      "Accuracy: 0.4203152364273205\n",
      "Calculating thresh: 0.41000000000000003\n",
      "Accuracy: 0.4238178633975482\n",
      "Calculating thresh: 0.42\n",
      "Accuracy: 0.4260070052539405\n",
      "Calculating thresh: 0.43\n",
      "Accuracy: 0.4308231173380035\n",
      "Calculating thresh: 0.44\n",
      "Accuracy: 0.436077057793345\n",
      "Calculating thresh: 0.45\n",
      "Accuracy: 0.47591943957968474\n",
      "Calculating thresh: 0.46\n",
      "Accuracy: 0.4873029772329247\n",
      "Calculating thresh: 0.47000000000000003\n",
      "Accuracy: 0.4991243432574431\n",
      "Calculating thresh: 0.48\n",
      "Accuracy: 0.5091943957968477\n",
      "Calculating thresh: 0.49\n",
      "Accuracy: 0.5227670753064798\n",
      "Calculating thresh: 0.5\n",
      "Accuracy: 0.532399299474606\n",
      "Calculating thresh: 0.51\n",
      "Accuracy: 0.5402802101576182\n",
      "Calculating thresh: 0.52\n",
      "Accuracy: 0.553415061295972\n",
      "Calculating thresh: 0.53\n",
      "Accuracy: 0.5652364273204904\n",
      "Calculating thresh: 0.54\n",
      "Accuracy: 0.5731173380035026\n",
      "Calculating thresh: 0.55\n",
      "Accuracy: 0.602014010507881\n",
      "Calculating thresh: 0.56\n",
      "Accuracy: 0.6120840630472855\n",
      "Calculating thresh: 0.5700000000000001\n",
      "Accuracy: 0.6217162872154116\n",
      "Calculating thresh: 0.58\n",
      "Accuracy: 0.6357267950963222\n",
      "Calculating thresh: 0.59\n",
      "Accuracy: 0.6549912434325744\n",
      "Calculating thresh: 0.6\n",
      "Accuracy: 0.6703152364273205\n",
      "Calculating thresh: 0.61\n",
      "Accuracy: 0.6795096322241682\n",
      "Calculating thresh: 0.62\n",
      "Accuracy: 0.6856392294220666\n",
      "Calculating thresh: 0.63\n",
      "Accuracy: 0.6978984238178634\n",
      "Calculating thresh: 0.64\n",
      "Accuracy: 0.7075306479859895\n",
      "Calculating thresh: 0.65\n",
      "Accuracy: 0.7167250437828371\n",
      "Calculating thresh: 0.66\n",
      "Accuracy: 0.7215411558669002\n",
      "Calculating thresh: 0.67\n",
      "Accuracy: 0.7197898423817863\n",
      "Calculating thresh: 0.68\n",
      "Accuracy: 0.7237302977232924\n",
      "Calculating thresh: 0.6900000000000001\n",
      "Accuracy: 0.7254816112084063\n",
      "Calculating thresh: 0.7000000000000001\n",
      "Accuracy: 0.7276707530647986\n",
      "Calculating thresh: 0.71\n",
      "Accuracy: 0.723292469352014\n",
      "Calculating thresh: 0.72\n",
      "Accuracy: 0.7132224168126094\n",
      "Calculating thresh: 0.73\n",
      "Accuracy: 0.7040280210157618\n",
      "Calculating thresh: 0.74\n",
      "Accuracy: 0.6987740805604203\n",
      "Calculating thresh: 0.75\n",
      "Accuracy: 0.6843257443082311\n",
      "Calculating thresh: 0.76\n",
      "Accuracy: 0.6694395796847635\n",
      "Calculating thresh: 0.77\n",
      "Accuracy: 0.660245183887916\n",
      "Calculating thresh: 0.78\n",
      "Accuracy: 0.6506129597197898\n",
      "Calculating thresh: 0.79\n",
      "Accuracy: 0.6392294220665499\n",
      "Calculating thresh: 0.8\n",
      "Accuracy: 0.6247810858143608\n",
      "Calculating thresh: 0.81\n",
      "Accuracy: 0.617338003502627\n",
      "Calculating thresh: 0.8200000000000001\n",
      "Accuracy: 0.6068301225919439\n",
      "Calculating thresh: 0.8300000000000001\n",
      "Accuracy: 0.5967600700525394\n",
      "Calculating thresh: 0.84\n",
      "Accuracy: 0.5976357267950964\n",
      "Calculating thresh: 0.85\n",
      "Accuracy: 0.5950087565674256\n",
      "Calculating thresh: 0.86\n",
      "Accuracy: 0.5862521891418564\n",
      "Calculating thresh: 0.87\n",
      "Accuracy: 0.5858143607705779\n",
      "Calculating thresh: 0.88\n",
      "Accuracy: 0.5858143607705779\n",
      "Calculating thresh: 0.89\n",
      "Accuracy: 0.5858143607705779\n",
      "Calculating thresh: 0.9\n",
      "Accuracy: 0.5858143607705779\n",
      "Calculating thresh: 0.91\n",
      "Accuracy: 0.5858143607705779\n",
      "Calculating thresh: 0.92\n",
      "Accuracy: 0.5858143607705779\n",
      "Calculating thresh: 0.93\n",
      "Accuracy: 0.5858143607705779\n",
      "Calculating thresh: 0.9400000000000001\n",
      "Accuracy: 0.5858143607705779\n",
      "Calculating thresh: 0.9500000000000001\n",
      "Accuracy: 0.5858143607705779\n",
      "Calculating thresh: 0.96\n",
      "Accuracy: 0.5858143607705779\n",
      "Calculating thresh: 0.97\n",
      "Accuracy: 0.5858143607705779\n",
      "Calculating thresh: 0.98\n",
      "Accuracy: 0.5858143607705779\n",
      "Calculating thresh: 0.99\n",
      "Accuracy: 0.5858143607705779\n"
     ]
    }
   ],
   "source": [
    "best_thresh = 0\n",
    "best_accuracy = 0\n",
    "\n",
    "for i in np.arange(0, 1, 0.01):\n",
    "    print(f'Calculating thresh: {i}')\n",
    "    score, _ = evaluate(y_test, y_pred, i)\n",
    "    print(f'Accuracy: {score}')\n",
    "    if score > best_accuracy:\n",
    "        best_accuracy = score\n",
    "        best_thresh = i"
   ],
   "metadata": {
    "collapsed": false,
    "pycharm": {
     "name": "#%%\n"
    }
   }
  },
  {
   "cell_type": "code",
   "execution_count": 86,
   "outputs": [
    {
     "name": "stdout",
     "output_type": "stream",
     "text": [
      "0.7276707530647986\n"
     ]
    }
   ],
   "source": [
    "score, y_pred = evaluate(y_test, y_pred, best_thresh)\n",
    "print(score)"
   ],
   "metadata": {
    "collapsed": false,
    "pycharm": {
     "name": "#%%\n"
    }
   }
  },
  {
   "cell_type": "code",
   "execution_count": 90,
   "outputs": [
    {
     "data": {
      "text/plain": "(0.7395383749296304, array([1, 0, 0, ..., 0, 0, 0]))"
     },
     "execution_count": 90,
     "metadata": {},
     "output_type": "execute_result"
    }
   ],
   "source": [
    "y_pred_train = model.predict(x_train).numpy()\n",
    "y_pred_train = np.array([np.max(probs[:, 0]) for probs in y_pred_train])\n",
    "evaluate(y_train, y_pred_train, best_thresh)"
   ],
   "metadata": {
    "collapsed": false,
    "pycharm": {
     "name": "#%%\n"
    }
   }
  },
  {
   "cell_type": "code",
   "execution_count": 91,
   "outputs": [
    {
     "data": {
      "text/plain": "array([[1095,  243],\n       [ 379,  567]])"
     },
     "execution_count": 91,
     "metadata": {},
     "output_type": "execute_result"
    }
   ],
   "source": [
    "confusion_matrix(y_test, y_pred)"
   ],
   "metadata": {
    "collapsed": false,
    "pycharm": {
     "name": "#%%\n"
    }
   }
  },
  {
   "cell_type": "code",
   "execution_count": 92,
   "outputs": [],
   "source": [
    "with open('history2.json', 'r') as f:\n",
    "    history = json.load(f)"
   ],
   "metadata": {
    "collapsed": false,
    "pycharm": {
     "name": "#%%\n"
    }
   }
  },
  {
   "cell_type": "code",
   "execution_count": 93,
   "outputs": [
    {
     "name": "stdout",
     "output_type": "stream",
     "text": [
      "dict_keys(['loss', 'accuracy', 'val_loss', 'val_accuracy'])\n"
     ]
    }
   ],
   "source": [
    "print(history.keys())"
   ],
   "metadata": {
    "collapsed": false,
    "pycharm": {
     "name": "#%%\n"
    }
   }
  },
  {
   "cell_type": "code",
   "execution_count": 94,
   "outputs": [
    {
     "data": {
      "text/plain": "<Figure size 432x288 with 1 Axes>",
      "image/png": "[encoded data removed]"
     },
     "metadata": {
      "needs_background": "light"
     },
     "output_type": "display_data"
    },
    {
     "data": {
      "text/plain": "<Figure size 432x288 with 1 Axes>",
      "image/png": "[encoded data removed]"
     },
     "metadata": {
      "needs_background": "light"
     },
     "output_type": "display_data"
    }
   ],
   "source": [
    "plt.subplots()\n",
    "plt.plot(history['accuracy'])\n",
    "plt.plot(history['val_accuracy'])\n",
    "plt.title('model accuracy')\n",
    "plt.ylabel('accuracy')\n",
    "plt.xlabel('epoch')\n",
    "plt.legend(['train', 'validation'])\n",
    "plt.show()\n",
    "\n",
    "plt.subplots()\n",
    "plt.plot(history['loss'])\n",
    "plt.plot(history['val_loss'])\n",
    "plt.title('model loss')\n",
    "plt.ylabel('loss')\n",
    "plt.xlabel('epoch')\n",
    "plt.legend(['train', 'validation'])\n",
    "plt.show()"
   ],
   "metadata": {
    "collapsed": false,
    "pycharm": {
     "name": "#%%\n"
    }
   }
  }
 ],
 "metadata": {
  "kernelspec": {
   "display_name": "Python 3",
   "language": "python",
   "name": "python3"
  },
  "language_info": {
   "codemirror_mode": {
    "name": "ipython",
    "version": 2
   },
   "file_extension": ".py",
   "mimetype": "text/x-python",
   "name": "python",
   "nbconvert_exporter": "python",
   "pygments_lexer": "ipython2",
   "version": "2.7.6"
  }
 },
 "nbformat": 4,
 "nbformat_minor": 0
}