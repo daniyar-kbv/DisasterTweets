{
 "cells": [
  {
   "cell_type": "code",
   "execution_count": 40,
   "metadata": {
    "collapsed": true
   },
   "outputs": [],
   "source": [
    "from sklearn.metrics import accuracy_score, confusion_matrix\n",
    "from tensorflow.keras.models import load_model\n",
    "import matplotlib.pyplot as plt\n",
    "import numpy as np\n",
    "import json"
   ]
  },
  {
   "cell_type": "code",
   "execution_count": 41,
   "outputs": [],
   "source": [
    "x_train = np.load('data/x_train.npy')\n",
    "y_train = np.load('data/y_train.npy')\n",
    "x_test = np.load('data/x_test.npy')\n",
    "y_test = np.load('data/y_test.npy')"
   ],
   "metadata": {
    "collapsed": false,
    "pycharm": {
     "name": "#%%\n"
    }
   }
  },
  {
   "cell_type": "code",
   "execution_count": 42,
   "outputs": [
    {
     "name": "stderr",
     "output_type": "stream",
     "text": [
      "2022-02-02 15:19:13.278350: I tensorflow/core/grappler/optimizers/custom_graph_optimizer_registry.cc:112] Plugin optimizer for device_type GPU is enabled.\n",
      "2022-02-02 15:19:13.281250: I tensorflow/core/grappler/optimizers/custom_graph_optimizer_registry.cc:112] Plugin optimizer for device_type GPU is enabled.\n",
      "2022-02-02 15:19:15.493696: I tensorflow/core/grappler/optimizers/custom_graph_optimizer_registry.cc:112] Plugin optimizer for device_type GPU is enabled.\n",
      "2022-02-02 15:19:15.499482: I tensorflow/core/grappler/optimizers/custom_graph_optimizer_registry.cc:112] Plugin optimizer for device_type GPU is enabled.\n"
     ]
    }
   ],
   "source": [
    "model = load_model('models/model3.tf')"
   ],
   "metadata": {
    "collapsed": false,
    "pycharm": {
     "name": "#%%\n"
    }
   }
  },
  {
   "cell_type": "code",
   "execution_count": 43,
   "outputs": [
    {
     "name": "stderr",
     "output_type": "stream",
     "text": [
      "2022-02-02 15:19:16.814914: I tensorflow/core/grappler/optimizers/custom_graph_optimizer_registry.cc:112] Plugin optimizer for device_type GPU is enabled.\n"
     ]
    }
   ],
   "source": [
    "y_pred = model.predict(x_test).numpy()"
   ],
   "metadata": {
    "collapsed": false,
    "pycharm": {
     "name": "#%%\n"
    }
   }
  },
  {
   "cell_type": "code",
   "execution_count": 44,
   "outputs": [],
   "source": [
    "y_pred = np.array([np.max(probs[:, 0]) for probs in y_pred])"
   ],
   "metadata": {
    "collapsed": false,
    "pycharm": {
     "name": "#%%\n"
    }
   }
  },
  {
   "cell_type": "code",
   "execution_count": 45,
   "outputs": [],
   "source": [
    "def evaluate(y_true, y_pred, thresh):\n",
    "    y_pred_ = (y_pred > thresh).astype(int)\n",
    "    return accuracy_score(y_true, y_pred_), y_pred_"
   ],
   "metadata": {
    "collapsed": false,
    "pycharm": {
     "name": "#%%\n"
    }
   }
  },
  {
   "cell_type": "code",
   "execution_count": 46,
   "outputs": [
    {
     "name": "stdout",
     "output_type": "stream",
     "text": [
      "Calculating thresh: 0.0\n",
      "Accuracy: 0.4141856392294221\n",
      "Calculating thresh: 0.01\n",
      "Accuracy: 0.4141856392294221\n",
      "Calculating thresh: 0.02\n",
      "Accuracy: 0.4141856392294221\n",
      "Calculating thresh: 0.03\n",
      "Accuracy: 0.4141856392294221\n",
      "Calculating thresh: 0.04\n",
      "Accuracy: 0.4141856392294221\n",
      "Calculating thresh: 0.05\n",
      "Accuracy: 0.4141856392294221\n",
      "Calculating thresh: 0.06\n",
      "Accuracy: 0.4141856392294221\n",
      "Calculating thresh: 0.07\n",
      "Accuracy: 0.4141856392294221\n",
      "Calculating thresh: 0.08\n",
      "Accuracy: 0.4141856392294221\n",
      "Calculating thresh: 0.09\n",
      "Accuracy: 0.4141856392294221\n",
      "Calculating thresh: 0.1\n",
      "Accuracy: 0.4141856392294221\n",
      "Calculating thresh: 0.11\n",
      "Accuracy: 0.4141856392294221\n",
      "Calculating thresh: 0.12\n",
      "Accuracy: 0.4141856392294221\n",
      "Calculating thresh: 0.13\n",
      "Accuracy: 0.4141856392294221\n",
      "Calculating thresh: 0.14\n",
      "Accuracy: 0.4141856392294221\n",
      "Calculating thresh: 0.15\n",
      "Accuracy: 0.4141856392294221\n",
      "Calculating thresh: 0.16\n",
      "Accuracy: 0.4141856392294221\n",
      "Calculating thresh: 0.17\n",
      "Accuracy: 0.415061295971979\n",
      "Calculating thresh: 0.18\n",
      "Accuracy: 0.4146234676007005\n",
      "Calculating thresh: 0.19\n",
      "Accuracy: 0.4146234676007005\n",
      "Calculating thresh: 0.2\n",
      "Accuracy: 0.415061295971979\n",
      "Calculating thresh: 0.21\n",
      "Accuracy: 0.415061295971979\n",
      "Calculating thresh: 0.22\n",
      "Accuracy: 0.415061295971979\n",
      "Calculating thresh: 0.23\n",
      "Accuracy: 0.415061295971979\n",
      "Calculating thresh: 0.24\n",
      "Accuracy: 0.415061295971979\n",
      "Calculating thresh: 0.25\n",
      "Accuracy: 0.415061295971979\n",
      "Calculating thresh: 0.26\n",
      "Accuracy: 0.415061295971979\n",
      "Calculating thresh: 0.27\n",
      "Accuracy: 0.415061295971979\n",
      "Calculating thresh: 0.28\n",
      "Accuracy: 0.415061295971979\n",
      "Calculating thresh: 0.29\n",
      "Accuracy: 0.415061295971979\n",
      "Calculating thresh: 0.3\n",
      "Accuracy: 0.415061295971979\n",
      "Calculating thresh: 0.31\n",
      "Accuracy: 0.415061295971979\n",
      "Calculating thresh: 0.32\n",
      "Accuracy: 0.415061295971979\n",
      "Calculating thresh: 0.33\n",
      "Accuracy: 0.415061295971979\n",
      "Calculating thresh: 0.34\n",
      "Accuracy: 0.415061295971979\n",
      "Calculating thresh: 0.35000000000000003\n",
      "Accuracy: 0.415061295971979\n",
      "Calculating thresh: 0.36\n",
      "Accuracy: 0.415061295971979\n",
      "Calculating thresh: 0.37\n",
      "Accuracy: 0.415061295971979\n",
      "Calculating thresh: 0.38\n",
      "Accuracy: 0.415061295971979\n",
      "Calculating thresh: 0.39\n",
      "Accuracy: 0.415061295971979\n",
      "Calculating thresh: 0.4\n",
      "Accuracy: 0.415061295971979\n",
      "Calculating thresh: 0.41000000000000003\n",
      "Accuracy: 0.415061295971979\n",
      "Calculating thresh: 0.42\n",
      "Accuracy: 0.415061295971979\n",
      "Calculating thresh: 0.43\n",
      "Accuracy: 0.4154991243432574\n",
      "Calculating thresh: 0.44\n",
      "Accuracy: 0.4154991243432574\n",
      "Calculating thresh: 0.45\n",
      "Accuracy: 0.4899299474605954\n",
      "Calculating thresh: 0.46\n",
      "Accuracy: 0.4973730297723292\n",
      "Calculating thresh: 0.47000000000000003\n",
      "Accuracy: 0.5100700525394045\n",
      "Calculating thresh: 0.48\n",
      "Accuracy: 0.5144483362521891\n",
      "Calculating thresh: 0.49\n",
      "Accuracy: 0.5214535901926445\n",
      "Calculating thresh: 0.5\n",
      "Accuracy: 0.5280210157618214\n",
      "Calculating thresh: 0.51\n",
      "Accuracy: 0.558231173380035\n",
      "Calculating thresh: 0.52\n",
      "Accuracy: 0.5647985989492119\n",
      "Calculating thresh: 0.53\n",
      "Accuracy: 0.5748686514886164\n",
      "Calculating thresh: 0.54\n",
      "Accuracy: 0.5862521891418564\n",
      "Calculating thresh: 0.55\n",
      "Accuracy: 0.5936952714535902\n",
      "Calculating thresh: 0.56\n",
      "Accuracy: 0.5985113835376532\n",
      "Calculating thresh: 0.5700000000000001\n",
      "Accuracy: 0.6160245183887916\n",
      "Calculating thresh: 0.58\n",
      "Accuracy: 0.6234676007005254\n",
      "Calculating thresh: 0.59\n",
      "Accuracy: 0.6256567425569177\n",
      "Calculating thresh: 0.6\n",
      "Accuracy: 0.6309106830122592\n",
      "Calculating thresh: 0.61\n",
      "Accuracy: 0.6352889667250438\n",
      "Calculating thresh: 0.62\n",
      "Accuracy: 0.6549912434325744\n",
      "Calculating thresh: 0.63\n",
      "Accuracy: 0.6641856392294221\n",
      "Calculating thresh: 0.64\n",
      "Accuracy: 0.6720665499124343\n",
      "Calculating thresh: 0.65\n",
      "Accuracy: 0.6799474605954466\n",
      "Calculating thresh: 0.66\n",
      "Accuracy: 0.686077057793345\n",
      "Calculating thresh: 0.67\n",
      "Accuracy: 0.6957092819614711\n",
      "Calculating thresh: 0.68\n",
      "Accuracy: 0.7062171628721541\n",
      "Calculating thresh: 0.6900000000000001\n",
      "Accuracy: 0.7202276707530648\n",
      "Calculating thresh: 0.7000000000000001\n",
      "Accuracy: 0.7224168126094571\n",
      "Calculating thresh: 0.71\n",
      "Accuracy: 0.728108581436077\n",
      "Calculating thresh: 0.72\n",
      "Accuracy: 0.7355516637478109\n",
      "Calculating thresh: 0.73\n",
      "Accuracy: 0.7443082311733801\n",
      "Calculating thresh: 0.74\n",
      "Accuracy: 0.7521891418563923\n",
      "Calculating thresh: 0.75\n",
      "Accuracy: 0.7543782837127846\n",
      "Calculating thresh: 0.76\n",
      "Accuracy: 0.7591943957968477\n",
      "Calculating thresh: 0.77\n",
      "Accuracy: 0.76138353765324\n",
      "Calculating thresh: 0.78\n",
      "Accuracy: 0.7635726795096323\n",
      "Calculating thresh: 0.79\n",
      "Accuracy: 0.7679509632224168\n",
      "Calculating thresh: 0.8\n",
      "Accuracy: 0.7679509632224168\n",
      "Calculating thresh: 0.81\n",
      "Accuracy: 0.7745183887915937\n",
      "Calculating thresh: 0.8200000000000001\n",
      "Accuracy: 0.7692644483362522\n",
      "Calculating thresh: 0.8300000000000001\n",
      "Accuracy: 0.7697022767075307\n",
      "Calculating thresh: 0.84\n",
      "Accuracy: 0.7666374781085814\n",
      "Calculating thresh: 0.85\n",
      "Accuracy: 0.7644483362521891\n",
      "Calculating thresh: 0.86\n",
      "Accuracy: 0.7631348511383538\n",
      "Calculating thresh: 0.87\n",
      "Accuracy: 0.7591943957968477\n",
      "Calculating thresh: 0.88\n",
      "Accuracy: 0.7530647985989493\n",
      "Calculating thresh: 0.89\n",
      "Accuracy: 0.749124343257443\n",
      "Calculating thresh: 0.9\n",
      "Accuracy: 0.7377408056042032\n",
      "Calculating thresh: 0.91\n",
      "Accuracy: 0.7276707530647986\n",
      "Calculating thresh: 0.92\n",
      "Accuracy: 0.7246059544658494\n",
      "Calculating thresh: 0.93\n",
      "Accuracy: 0.712784588441331\n",
      "Calculating thresh: 0.9400000000000001\n",
      "Accuracy: 0.7018388791593695\n",
      "Calculating thresh: 0.9500000000000001\n",
      "Accuracy: 0.6961471103327496\n",
      "Calculating thresh: 0.96\n",
      "Accuracy: 0.6847635726795096\n",
      "Calculating thresh: 0.97\n",
      "Accuracy: 0.6681260945709282\n",
      "Calculating thresh: 0.98\n",
      "Accuracy: 0.6409807355516638\n",
      "Calculating thresh: 0.99\n",
      "Accuracy: 0.6138353765323993\n"
     ]
    }
   ],
   "source": [
    "best_thresh = 0\n",
    "best_accuracy = 0\n",
    "\n",
    "for i in np.arange(0, 1, 0.01):\n",
    "    print(f'Calculating thresh: {i}')\n",
    "    score, _ = evaluate(y_test, y_pred, i)\n",
    "    print(f'Accuracy: {score}')\n",
    "    if score > best_accuracy:\n",
    "        best_accuracy = score\n",
    "        best_thresh = i"
   ],
   "metadata": {
    "collapsed": false,
    "pycharm": {
     "name": "#%%\n"
    }
   }
  },
  {
   "cell_type": "code",
   "execution_count": 47,
   "outputs": [
    {
     "name": "stdout",
     "output_type": "stream",
     "text": [
      "0.7745183887915937\n"
     ]
    }
   ],
   "source": [
    "score, y_pred = evaluate(y_test, y_pred, best_thresh)\n",
    "print(score)"
   ],
   "metadata": {
    "collapsed": false,
    "pycharm": {
     "name": "#%%\n"
    }
   }
  },
  {
   "cell_type": "markdown",
   "source": [
    "600 epochs: 0.7661996497373029\n",
    "800 epochs: 0.7574430823117339\n",
    "700 epochs: 0.7701401050788091\n",
    "1000 epochs: 0.7701401050788091"
   ],
   "metadata": {
    "collapsed": false,
    "pycharm": {
     "name": "#%% md\n"
    }
   }
  },
  {
   "cell_type": "code",
   "execution_count": 48,
   "outputs": [
    {
     "data": {
      "text/plain": "(0.8099080502908613, array([0, 0, 0, ..., 0, 0, 0]))"
     },
     "execution_count": 48,
     "metadata": {},
     "output_type": "execute_result"
    }
   ],
   "source": [
    "y_pred_train = model.predict(x_train).numpy()\n",
    "y_pred_train = np.array([np.max(probs[:, 0]) for probs in y_pred_train])\n",
    "evaluate(y_train, y_pred_train, best_thresh)"
   ],
   "metadata": {
    "collapsed": false,
    "pycharm": {
     "name": "#%%\n"
    }
   }
  },
  {
   "cell_type": "code",
   "execution_count": 49,
   "outputs": [
    {
     "data": {
      "text/plain": "array([[1158,  180],\n       [ 335,  611]])"
     },
     "execution_count": 49,
     "metadata": {},
     "output_type": "execute_result"
    }
   ],
   "source": [
    "confusion_matrix(y_test, y_pred)"
   ],
   "metadata": {
    "collapsed": false,
    "pycharm": {
     "name": "#%%\n"
    }
   }
  },
  {
   "cell_type": "code",
   "execution_count": 50,
   "outputs": [],
   "source": [
    "with open('models/history3.json', 'r') as f:\n",
    "    history = json.load(f)"
   ],
   "metadata": {
    "collapsed": false,
    "pycharm": {
     "name": "#%%\n"
    }
   }
  },
  {
   "cell_type": "code",
   "execution_count": 51,
   "outputs": [
    {
     "name": "stdout",
     "output_type": "stream",
     "text": [
      "dict_keys(['loss', 'accuracy', 'val_loss', 'val_accuracy'])\n"
     ]
    }
   ],
   "source": [
    "print(history.keys())"
   ],
   "metadata": {
    "collapsed": false,
    "pycharm": {
     "name": "#%%\n"
    }
   }
  },
  {
   "cell_type": "code",
   "execution_count": 52,
   "outputs": [
    {
     "data": {
      "text/plain": "<Figure size 432x288 with 1 Axes>",
      "image/png": "[encoded data removed]"
     },
     "metadata": {
      "needs_background": "light"
     },
     "output_type": "display_data"
    },
    {
     "data": {
      "text/plain": "<Figure size 432x288 with 1 Axes>",
      "image/png": "[encoded data removed]"
     },
     "metadata": {
      "needs_background": "light"
     },
     "output_type": "display_data"
    }
   ],
   "source": [
    "plt.subplots()\n",
    "plt.plot(history['accuracy'])\n",
    "plt.plot(history['val_accuracy'])\n",
    "plt.title('model accuracy')\n",
    "plt.ylabel('accuracy')\n",
    "plt.xlabel('epoch')\n",
    "plt.legend(['train', 'validation'])\n",
    "plt.show()\n",
    "\n",
    "plt.subplots()\n",
    "plt.plot(history['loss'])\n",
    "plt.plot(history['val_loss'])\n",
    "plt.title('model loss')\n",
    "plt.ylabel('loss')\n",
    "plt.xlabel('epoch')\n",
    "plt.legend(['train', 'validation'])\n",
    "plt.show()"
   ],
   "metadata": {
    "collapsed": false,
    "pycharm": {
     "name": "#%%\n"
    }
   }
  }
 ],
 "metadata": {
  "kernelspec": {
   "display_name": "Python 3",
   "language": "python",
   "name": "python3"
  },
  "language_info": {
   "codemirror_mode": {
    "name": "ipython",
    "version": 2
   },
   "file_extension": ".py",
   "mimetype": "text/x-python",
   "name": "python",
   "nbconvert_exporter": "python",
   "pygments_lexer": "ipython2",
   "version": "2.7.6"
  }
 },
 "nbformat": 4,
 "nbformat_minor": 0
}