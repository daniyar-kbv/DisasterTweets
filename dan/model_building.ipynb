{
 "cells": [
  {
   "cell_type": "code",
   "execution_count": 20,
   "metadata": {
    "collapsed": true
   },
   "outputs": [],
   "source": [
    "from sklearn.feature_extraction.text import TfidfVectorizer\n",
    "from sklearn.model_selection import train_test_split\n",
    "from tensorflow.keras.models import Sequential\n",
    "from tensorflow.keras.layers import Dense, Input, Dropout\n",
    "import numpy as np\n",
    "import pickle\n",
    "import json"
   ]
  },
  {
   "cell_type": "code",
   "execution_count": 2,
   "outputs": [],
   "source": [
    "with open('data/cleaned.pkl', 'rb') as f:\n",
    "    X = pickle.load(f)\n",
    "\n",
    "with open('data/target.pkl', 'rb') as f:\n",
    "    y = pickle.load(f)"
   ],
   "metadata": {
    "collapsed": false,
    "pycharm": {
     "name": "#%%\n"
    }
   }
  },
  {
   "cell_type": "code",
   "execution_count": 3,
   "outputs": [],
   "source": [
    "vectorizer = TfidfVectorizer(ngram_range=(1, 2))\n",
    "X = vectorizer.fit_transform(X)"
   ],
   "metadata": {
    "collapsed": false,
    "pycharm": {
     "name": "#%%\n"
    }
   }
  },
  {
   "cell_type": "code",
   "execution_count": 4,
   "outputs": [
    {
     "data": {
      "text/plain": "array([[0., 0., 0., ..., 0., 0., 0.],\n       [0., 0., 0., ..., 0., 0., 0.],\n       [0., 0., 0., ..., 0., 0., 0.],\n       ...,\n       [0., 0., 0., ..., 0., 0., 0.],\n       [0., 0., 0., ..., 0., 0., 0.],\n       [0., 0., 0., ..., 0., 0., 0.]])"
     },
     "execution_count": 4,
     "metadata": {},
     "output_type": "execute_result"
    }
   ],
   "source": [
    "X = X.toarray()\n",
    "X"
   ],
   "metadata": {
    "collapsed": false,
    "pycharm": {
     "name": "#%%\n"
    }
   }
  },
  {
   "cell_type": "code",
   "execution_count": 5,
   "outputs": [
    {
     "data": {
      "text/plain": "array([[1.],\n       [1.],\n       [1.],\n       ...,\n       [1.],\n       [1.],\n       [1.]], dtype=float32)"
     },
     "execution_count": 5,
     "metadata": {},
     "output_type": "execute_result"
    }
   ],
   "source": [
    "y = np.asarray(y).astype('float32').reshape((-1,1))\n",
    "y"
   ],
   "metadata": {
    "collapsed": false,
    "pycharm": {
     "name": "#%%\n"
    }
   }
  },
  {
   "cell_type": "code",
   "execution_count": 6,
   "outputs": [
    {
     "data": {
      "text/plain": "67721"
     },
     "execution_count": 6,
     "metadata": {},
     "output_type": "execute_result"
    }
   ],
   "source": [
    "n_features = len(vectorizer.vocabulary_.keys())\n",
    "n_features"
   ],
   "metadata": {
    "collapsed": false,
    "pycharm": {
     "name": "#%%\n"
    }
   }
  },
  {
   "cell_type": "code",
   "execution_count": 7,
   "outputs": [],
   "source": [
    "x_train, x_test, y_train, y_test = train_test_split(X, y, test_size=0.3, random_state=0)"
   ],
   "metadata": {
    "collapsed": false,
    "pycharm": {
     "name": "#%%\n"
    }
   }
  },
  {
   "cell_type": "code",
   "execution_count": 10,
   "outputs": [],
   "source": [
    "np.save('data/x_test.npy', x_test)\n",
    "np.save('data/y_test.npy', y_test)"
   ],
   "metadata": {
    "collapsed": false,
    "pycharm": {
     "name": "#%%\n"
    }
   }
  },
  {
   "cell_type": "code",
   "execution_count": 11,
   "outputs": [
    {
     "data": {
      "text/plain": "5329"
     },
     "execution_count": 11,
     "metadata": {},
     "output_type": "execute_result"
    }
   ],
   "source": [
    "n_samples = x_train.shape[0]\n",
    "n_samples"
   ],
   "metadata": {
    "collapsed": false,
    "pycharm": {
     "name": "#%%\n"
    }
   }
  },
  {
   "cell_type": "code",
   "execution_count": 12,
   "outputs": [],
   "source": [
    "y_train = np.array(y_train)\n",
    "y_test = np.array(y_test)"
   ],
   "metadata": {
    "collapsed": false,
    "pycharm": {
     "name": "#%%\n"
    }
   }
  },
  {
   "cell_type": "code",
   "execution_count": 13,
   "outputs": [],
   "source": [
    "n_hidden_layers = 5"
   ],
   "metadata": {
    "collapsed": false,
    "pycharm": {
     "name": "#%%\n"
    }
   }
  },
  {
   "cell_type": "code",
   "execution_count": 14,
   "outputs": [
    {
     "data": {
      "text/plain": "[10607, 1661, 260, 40, 6]"
     },
     "execution_count": 14,
     "metadata": {},
     "output_type": "execute_result"
    }
   ],
   "source": [
    "n_hidden_nodes = [int(num) for num in np.geomspace(n_features,  1, n_hidden_layers + 2)][1:-1]\n",
    "n_hidden_nodes"
   ],
   "metadata": {
    "collapsed": false,
    "pycharm": {
     "name": "#%%\n"
    }
   }
  },
  {
   "cell_type": "code",
   "execution_count": 15,
   "outputs": [
    {
     "data": {
      "text/plain": "array([0.25, 0.2 , 0.15, 0.1 , 0.05])"
     },
     "execution_count": 15,
     "metadata": {},
     "output_type": "execute_result"
    }
   ],
   "source": [
    "dropouts = np.linspace(.25, .05, n_hidden_layers)\n",
    "dropouts"
   ],
   "metadata": {
    "collapsed": false,
    "pycharm": {
     "name": "#%%\n"
    }
   }
  },
  {
   "cell_type": "code",
   "execution_count": 16,
   "outputs": [
    {
     "name": "stdout",
     "output_type": "stream",
     "text": [
      "Metal device set to: Apple M1 Pro\n"
     ]
    },
    {
     "name": "stderr",
     "output_type": "stream",
     "text": [
      "2022-01-24 17:14:44.127202: I tensorflow/core/common_runtime/pluggable_device/pluggable_device_factory.cc:305] Could not identify NUMA node of platform GPU ID 0, defaulting to 0. Your kernel may not have been built with NUMA support.\n",
      "2022-01-24 17:14:44.127356: I tensorflow/core/common_runtime/pluggable_device/pluggable_device_factory.cc:271] Created TensorFlow device (/job:localhost/replica:0/task:0/device:GPU:0 with 0 MB memory) -> physical PluggableDevice (device: 0, name: METAL, pci bus id: <undefined>)\n"
     ]
    }
   ],
   "source": [
    "my_classifier = Sequential()\n",
    "\n",
    "my_classifier.add(Input(x_train.shape[1]))\n",
    "\n",
    "for i in range(n_hidden_layers):\n",
    "    my_classifier.add(Dense(units=n_hidden_nodes[i],\n",
    "                                kernel_initializer='uniform',\n",
    "                                activation='relu'))\n",
    "    my_classifier.add(Dropout(dropouts[i]))\n",
    "\n",
    "my_classifier.add(Dense(units = 1,\n",
    "                        kernel_initializer='uniform',\n",
    "                        activation='sigmoid'))\n",
    "\n",
    "my_classifier.compile(optimizer='adam',\n",
    "                      loss='binary_crossentropy',\n",
    "                      metrics=['accuracy'])"
   ],
   "metadata": {
    "collapsed": false,
    "pycharm": {
     "name": "#%%\n"
    }
   }
  },
  {
   "cell_type": "code",
   "execution_count": 17,
   "outputs": [
    {
     "name": "stdout",
     "output_type": "stream",
     "text": [
      "Model: \"sequential\"\n",
      "_________________________________________________________________\n",
      " Layer (type)                Output Shape              Param #   \n",
      "=================================================================\n",
      " dense (Dense)               (None, 10607)             718327254 \n",
      "                                                                 \n",
      " dropout (Dropout)           (None, 10607)             0         \n",
      "                                                                 \n",
      " dense_1 (Dense)             (None, 1661)              17619888  \n",
      "                                                                 \n",
      " dropout_1 (Dropout)         (None, 1661)              0         \n",
      "                                                                 \n",
      " dense_2 (Dense)             (None, 260)               432120    \n",
      "                                                                 \n",
      " dropout_2 (Dropout)         (None, 260)               0         \n",
      "                                                                 \n",
      " dense_3 (Dense)             (None, 40)                10440     \n",
      "                                                                 \n",
      " dropout_3 (Dropout)         (None, 40)                0         \n",
      "                                                                 \n",
      " dense_4 (Dense)             (None, 6)                 246       \n",
      "                                                                 \n",
      " dropout_4 (Dropout)         (None, 6)                 0         \n",
      "                                                                 \n",
      " dense_5 (Dense)             (None, 1)                 7         \n",
      "                                                                 \n",
      "=================================================================\n",
      "Total params: 736,389,955\n",
      "Trainable params: 736,389,955\n",
      "Non-trainable params: 0\n",
      "_________________________________________________________________\n"
     ]
    }
   ],
   "source": [
    "my_classifier.summary()"
   ],
   "metadata": {
    "collapsed": false,
    "pycharm": {
     "name": "#%%\n"
    }
   }
  },
  {
   "cell_type": "code",
   "execution_count": 18,
   "outputs": [
    {
     "name": "stderr",
     "output_type": "stream",
     "text": [
      "2022-01-24 17:14:46.489799: W tensorflow/core/platform/profile_utils/cpu_utils.cc:128] Failed to get CPU frequency: 0 Hz\n"
     ]
    },
    {
     "name": "stdout",
     "output_type": "stream",
     "text": [
      "Epoch 1/20\n"
     ]
    },
    {
     "name": "stderr",
     "output_type": "stream",
     "text": [
      "2022-01-24 17:14:46.885840: I tensorflow/core/grappler/optimizers/custom_graph_optimizer_registry.cc:112] Plugin optimizer for device_type GPU is enabled.\n"
     ]
    },
    {
     "name": "stdout",
     "output_type": "stream",
     "text": [
      "5/5 [==============================] - ETA: 0s - loss: 0.6930 - accuracy: 0.5522"
     ]
    },
    {
     "name": "stderr",
     "output_type": "stream",
     "text": [
      "2022-01-24 17:15:25.252093: I tensorflow/core/grappler/optimizers/custom_graph_optimizer_registry.cc:112] Plugin optimizer for device_type GPU is enabled.\n"
     ]
    },
    {
     "name": "stdout",
     "output_type": "stream",
     "text": [
      "5/5 [==============================] - 42s 7s/step - loss: 0.6930 - accuracy: 0.5522 - val_loss: 0.6924 - val_accuracy: 0.5750\n",
      "Epoch 2/20\n",
      "5/5 [==============================] - 31s 6s/step - loss: 0.6921 - accuracy: 0.5609 - val_loss: 0.6907 - val_accuracy: 0.5750\n",
      "Epoch 3/20\n",
      "5/5 [==============================] - 33s 6s/step - loss: 0.6904 - accuracy: 0.5609 - val_loss: 0.6877 - val_accuracy: 0.5750\n",
      "Epoch 4/20\n",
      "5/5 [==============================] - 31s 6s/step - loss: 0.6875 - accuracy: 0.5609 - val_loss: 0.6834 - val_accuracy: 0.5750\n",
      "Epoch 5/20\n",
      "5/5 [==============================] - 34s 7s/step - loss: 0.6820 - accuracy: 0.5609 - val_loss: 0.6733 - val_accuracy: 0.5750\n",
      "Epoch 6/20\n",
      "5/5 [==============================] - 31s 6s/step - loss: 0.6679 - accuracy: 0.5609 - val_loss: 0.6616 - val_accuracy: 0.5750\n",
      "Epoch 7/20\n",
      "5/5 [==============================] - 33s 6s/step - loss: 0.6313 - accuracy: 0.5609 - val_loss: 0.6378 - val_accuracy: 0.5750\n",
      "Epoch 8/20\n",
      "5/5 [==============================] - 32s 6s/step - loss: 0.5584 - accuracy: 0.5609 - val_loss: 0.6062 - val_accuracy: 0.5750\n",
      "Epoch 9/20\n",
      "5/5 [==============================] - 33s 6s/step - loss: 0.4097 - accuracy: 0.5609 - val_loss: 0.6572 - val_accuracy: 0.5750\n",
      "Epoch 10/20\n",
      "5/5 [==============================] - 32s 6s/step - loss: 0.3342 - accuracy: 0.5609 - val_loss: 0.6974 - val_accuracy: 0.5750\n",
      "Epoch 11/20\n",
      "5/5 [==============================] - 32s 6s/step - loss: 0.3207 - accuracy: 0.8923 - val_loss: 0.7681 - val_accuracy: 0.7786\n",
      "Epoch 12/20\n",
      "5/5 [==============================] - 30s 6s/step - loss: 0.3116 - accuracy: 0.9848 - val_loss: 0.8181 - val_accuracy: 0.7692\n",
      "Epoch 13/20\n",
      "5/5 [==============================] - 34s 7s/step - loss: 0.2965 - accuracy: 0.9840 - val_loss: 0.8047 - val_accuracy: 0.7261\n",
      "Epoch 14/20\n",
      "5/5 [==============================] - 30s 6s/step - loss: 0.2568 - accuracy: 0.9845 - val_loss: 0.7729 - val_accuracy: 0.6501\n",
      "Epoch 15/20\n",
      "5/5 [==============================] - 32s 6s/step - loss: 0.1594 - accuracy: 0.9845 - val_loss: 1.0166 - val_accuracy: 0.5441\n",
      "Epoch 16/20\n",
      "5/5 [==============================] - 34s 7s/step - loss: 0.0685 - accuracy: 0.9843 - val_loss: 1.7010 - val_accuracy: 0.5657\n",
      "Epoch 17/20\n",
      "5/5 [==============================] - 30s 6s/step - loss: 0.0708 - accuracy: 0.9848 - val_loss: 1.8083 - val_accuracy: 0.6079\n",
      "Epoch 18/20\n",
      "5/5 [==============================] - 34s 7s/step - loss: 0.0584 - accuracy: 0.9864 - val_loss: 1.6066 - val_accuracy: 0.5994\n",
      "Epoch 19/20\n",
      "5/5 [==============================] - 28s 5s/step - loss: 0.0502 - accuracy: 0.9857 - val_loss: 1.5289 - val_accuracy: 0.5328\n",
      "Epoch 20/20\n",
      "5/5 [==============================] - 31s 6s/step - loss: 0.0398 - accuracy: 0.9859 - val_loss: 1.1996 - val_accuracy: 0.5750\n"
     ]
    }
   ],
   "source": [
    "history = my_classifier.fit(x_train,\n",
    "                            y_train,\n",
    "                            validation_split=0.2,\n",
    "                            batch_size=int(n_samples*0.2),\n",
    "                            epochs=20)\n",
    "\n",
    "my_classifier.save('model.h5')"
   ],
   "metadata": {
    "collapsed": false,
    "pycharm": {
     "name": "#%%\n"
    }
   }
  },
  {
   "cell_type": "code",
   "execution_count": 22,
   "outputs": [],
   "source": [
    "with open('history.json', 'w') as f:\n",
    "    json.dump(history.history, f)"
   ],
   "metadata": {
    "collapsed": false,
    "pycharm": {
     "name": "#%%\n"
    }
   }
  }
 ],
 "metadata": {
  "kernelspec": {
   "display_name": "Python 3",
   "language": "python",
   "name": "python3"
  },
  "language_info": {
   "codemirror_mode": {
    "name": "ipython",
    "version": 2
   },
   "file_extension": ".py",
   "mimetype": "text/x-python",
   "name": "python",
   "nbconvert_exporter": "python",
   "pygments_lexer": "ipython2",
   "version": "2.7.6"
  }
 },
 "nbformat": 4,
 "nbformat_minor": 0
}