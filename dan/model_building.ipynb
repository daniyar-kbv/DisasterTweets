{
 "cells": [
  {
   "cell_type": "code",
   "execution_count": 1,
   "metadata": {
    "collapsed": true
   },
   "outputs": [],
   "source": [
    "from tensorflow.keras.layers import Embedding\n",
    "from sklearn.model_selection import train_test_split\n",
    "from tensorflow.keras.models import Sequential, Model\n",
    "from tensorflow.keras.layers import Input, Dense, Dropout, Bidirectional, LSTM, GRU\n",
    "from tensorflow.keras.initializers import Constant\n",
    "from keras.layers import TextVectorization\n",
    "import numpy as np\n",
    "import pickle\n",
    "import json"
   ]
  },
  {
   "cell_type": "code",
   "execution_count": 2,
   "outputs": [],
   "source": [
    "X = np.load('data/X.npy', allow_pickle=True)\n",
    "y = np.load('data/y.npy')\n",
    "embedding_matrix = np.load('data/embedding_matrix.npy')\n",
    "num_tokens = np.load('data/num_tokens.npy').item()\n",
    "embedding_dim = np.load('data/embedding_dim.npy').item()\n",
    "max_tokens = np.load('data/max_tokens.npy').item()\n",
    "max_len = np.load('data/max_len.npy').item()"
   ],
   "metadata": {
    "collapsed": false,
    "pycharm": {
     "name": "#%%\n"
    }
   }
  },
  {
   "cell_type": "code",
   "execution_count": 3,
   "outputs": [
    {
     "name": "stderr",
     "output_type": "stream",
     "text": [
      "2022-02-02 19:47:26.320696: I tensorflow/core/common_runtime/pluggable_device/pluggable_device_factory.cc:305] Could not identify NUMA node of platform GPU ID 0, defaulting to 0. Your kernel may not have been built with NUMA support.\n",
      "2022-02-02 19:47:26.320800: I tensorflow/core/common_runtime/pluggable_device/pluggable_device_factory.cc:271] Created TensorFlow device (/job:localhost/replica:0/task:0/device:GPU:0 with 0 MB memory) -> physical PluggableDevice (device: 0, name: METAL, pci bus id: <undefined>)\n",
      "2022-02-02 19:47:26.350055: W tensorflow/core/platform/profile_utils/cpu_utils.cc:128] Failed to get CPU frequency: 0 Hz\n",
      "2022-02-02 19:47:26.386053: I tensorflow/core/grappler/optimizers/custom_graph_optimizer_registry.cc:112] Plugin optimizer for device_type GPU is enabled.\n"
     ]
    },
    {
     "name": "stdout",
     "output_type": "stream",
     "text": [
      "Metal device set to: Apple M1 Pro\n"
     ]
    }
   ],
   "source": [
    "vectorizer = TextVectorization(max_tokens=max_tokens,\n",
    "                               standardize=None,\n",
    "                               ngrams=(1, 2),\n",
    "                               output_sequence_length=max_len)\n",
    "vectorizer.adapt(X)"
   ],
   "metadata": {
    "collapsed": false,
    "pycharm": {
     "name": "#%%\n"
    }
   }
  },
  {
   "cell_type": "code",
   "execution_count": 4,
   "outputs": [],
   "source": [
    "y = y.reshape((-1,1))"
   ],
   "metadata": {
    "collapsed": false,
    "pycharm": {
     "name": "#%%\n"
    }
   }
  },
  {
   "cell_type": "code",
   "execution_count": 5,
   "outputs": [
    {
     "name": "stdout",
     "output_type": "stream",
     "text": [
      "(8684,)\n",
      "(8684, 1)\n"
     ]
    }
   ],
   "source": [
    "print(X.shape)\n",
    "print(y.shape)"
   ],
   "metadata": {
    "collapsed": false,
    "pycharm": {
     "name": "#%%\n"
    }
   }
  },
  {
   "cell_type": "code",
   "execution_count": 6,
   "outputs": [],
   "source": [
    "x_train, x_test, y_train, y_test = train_test_split(X, y, test_size=0.2, random_state=0)"
   ],
   "metadata": {
    "collapsed": false,
    "pycharm": {
     "name": "#%%\n"
    }
   }
  },
  {
   "cell_type": "code",
   "execution_count": 7,
   "outputs": [],
   "source": [
    "np.save('data/x_train.npy', x_train)\n",
    "np.save('data/y_train.npy', y_train)\n",
    "np.save('data/x_test.npy', x_test)\n",
    "np.save('data/y_test.npy', y_test)"
   ],
   "metadata": {
    "collapsed": false,
    "pycharm": {
     "name": "#%%\n"
    }
   }
  },
  {
   "cell_type": "code",
   "execution_count": 8,
   "outputs": [
    {
     "name": "stdout",
     "output_type": "stream",
     "text": [
      "Model: \"model\"\n",
      "_________________________________________________________________\n",
      " Layer (type)                Output Shape              Param #   \n",
      "=================================================================\n",
      " input_1 (InputLayer)        [(None, 1)]               0         \n",
      "                                                                 \n",
      " text_vectorization (TextVec  (None, 68)               0         \n",
      " torization)                                                     \n",
      "                                                                 \n",
      " embedding (Embedding)       (None, 68, 100)           5000200   \n",
      "                                                                 \n",
      " bidirectional (Bidirectiona  (None, 68, 64)           25728     \n",
      " l)                                                              \n",
      "                                                                 \n",
      " dropout (Dropout)           (None, 68, 64)            0         \n",
      "                                                                 \n",
      " bidirectional_1 (Bidirectio  (None, 68, 32)           7872      \n",
      " nal)                                                            \n",
      "                                                                 \n",
      " dropout_1 (Dropout)         (None, 68, 32)            0         \n",
      "                                                                 \n",
      " dense (Dense)               (None, 68, 10)            330       \n",
      "                                                                 \n",
      " dropout_2 (Dropout)         (None, 68, 10)            0         \n",
      "                                                                 \n",
      " dense_1 (Dense)             (None, 68, 1)             11        \n",
      "                                                                 \n",
      "=================================================================\n",
      "Total params: 5,034,141\n",
      "Trainable params: 33,941\n",
      "Non-trainable params: 5,000,200\n",
      "_________________________________________________________________\n"
     ]
    }
   ],
   "source": [
    "sequences_input = Input(shape=(1), dtype='string')\n",
    "\n",
    "vectorizer_sequence = vectorizer(sequences_input)\n",
    "\n",
    "embedding_layer = Embedding(num_tokens,\n",
    "                            embedding_dim,\n",
    "                            embeddings_initializer=Constant(embedding_matrix),\n",
    "                            trainable=False)\n",
    "embedded_sequences = embedding_layer(vectorizer_sequence)\n",
    "\n",
    "x = Bidirectional(GRU(32, return_sequences=True))(embedded_sequences)\n",
    "x = Dropout(0.2)(x)\n",
    "x = Bidirectional(GRU(16, return_sequences=True))(x)\n",
    "x = Dropout(0.2)(x)\n",
    "x = Dense(10, activation=\"relu\")(x)\n",
    "x = Dropout(0.2)(x)\n",
    "\n",
    "preds = Dense(units=1,\n",
    "              kernel_initializer='uniform',\n",
    "              activation='sigmoid')(x)\n",
    "model = Model(sequences_input, preds)\n",
    "\n",
    "model.compile(optimizer='adam',\n",
    "                      loss='binary_crossentropy',\n",
    "                      metrics=['accuracy'])\n",
    "\n",
    "model.summary()"
   ],
   "metadata": {
    "collapsed": false,
    "pycharm": {
     "name": "#%%\n"
    }
   }
  },
  {
   "cell_type": "code",
   "execution_count": 9,
   "outputs": [
    {
     "name": "stdout",
     "output_type": "stream",
     "text": [
      "Epoch 1/200\n"
     ]
    },
    {
     "name": "stderr",
     "output_type": "stream",
     "text": [
      "2022-02-02 19:47:30.534756: I tensorflow/core/grappler/optimizers/custom_graph_optimizer_registry.cc:112] Plugin optimizer for device_type GPU is enabled.\n",
      "2022-02-02 19:47:30.973149: I tensorflow/core/grappler/optimizers/custom_graph_optimizer_registry.cc:112] Plugin optimizer for device_type GPU is enabled.\n",
      "2022-02-02 19:47:30.986053: I tensorflow/core/grappler/optimizers/custom_graph_optimizer_registry.cc:112] Plugin optimizer for device_type GPU is enabled.\n",
      "2022-02-02 19:47:31.190863: I tensorflow/core/grappler/optimizers/custom_graph_optimizer_registry.cc:112] Plugin optimizer for device_type GPU is enabled.\n",
      "2022-02-02 19:47:31.202786: I tensorflow/core/grappler/optimizers/custom_graph_optimizer_registry.cc:112] Plugin optimizer for device_type GPU is enabled.\n",
      "2022-02-02 19:47:31.482509: I tensorflow/core/grappler/optimizers/custom_graph_optimizer_registry.cc:112] Plugin optimizer for device_type GPU is enabled.\n",
      "2022-02-02 19:47:31.509137: I tensorflow/core/grappler/optimizers/custom_graph_optimizer_registry.cc:112] Plugin optimizer for device_type GPU is enabled.\n",
      "2022-02-02 19:47:31.786255: I tensorflow/core/grappler/optimizers/custom_graph_optimizer_registry.cc:112] Plugin optimizer for device_type GPU is enabled.\n",
      "2022-02-02 19:47:31.803891: I tensorflow/core/grappler/optimizers/custom_graph_optimizer_registry.cc:112] Plugin optimizer for device_type GPU is enabled.\n"
     ]
    },
    {
     "name": "stdout",
     "output_type": "stream",
     "text": [
      "9/9 [==============================] - ETA: 0s - loss: 0.6929 - accuracy: 0.5098"
     ]
    },
    {
     "name": "stderr",
     "output_type": "stream",
     "text": [
      "2022-02-02 19:47:34.608386: I tensorflow/core/grappler/optimizers/custom_graph_optimizer_registry.cc:112] Plugin optimizer for device_type GPU is enabled.\n",
      "2022-02-02 19:47:34.770785: I tensorflow/core/grappler/optimizers/custom_graph_optimizer_registry.cc:112] Plugin optimizer for device_type GPU is enabled.\n",
      "2022-02-02 19:47:34.782163: I tensorflow/core/grappler/optimizers/custom_graph_optimizer_registry.cc:112] Plugin optimizer for device_type GPU is enabled.\n",
      "2022-02-02 19:47:34.977947: I tensorflow/core/grappler/optimizers/custom_graph_optimizer_registry.cc:112] Plugin optimizer for device_type GPU is enabled.\n",
      "2022-02-02 19:47:34.985138: I tensorflow/core/grappler/optimizers/custom_graph_optimizer_registry.cc:112] Plugin optimizer for device_type GPU is enabled.\n"
     ]
    },
    {
     "name": "stdout",
     "output_type": "stream",
     "text": [
      "9/9 [==============================] - 8s 450ms/step - loss: 0.6929 - accuracy: 0.5098 - val_loss: 0.6920 - val_accuracy: 0.5354\n",
      "Epoch 2/200\n",
      "9/9 [==============================] - 2s 185ms/step - loss: 0.6916 - accuracy: 0.5359 - val_loss: 0.6903 - val_accuracy: 0.5445\n",
      "Epoch 3/200\n",
      "9/9 [==============================] - 2s 181ms/step - loss: 0.6893 - accuracy: 0.5445 - val_loss: 0.6869 - val_accuracy: 0.5497\n",
      "Epoch 4/200\n",
      "9/9 [==============================] - 2s 193ms/step - loss: 0.6853 - accuracy: 0.5490 - val_loss: 0.6820 - val_accuracy: 0.5517\n",
      "Epoch 5/200\n",
      "9/9 [==============================] - 2s 191ms/step - loss: 0.6799 - accuracy: 0.5540 - val_loss: 0.6743 - val_accuracy: 0.5626\n",
      "Epoch 6/200\n",
      "9/9 [==============================] - 2s 189ms/step - loss: 0.6705 - accuracy: 0.5692 - val_loss: 0.6574 - val_accuracy: 0.5970\n",
      "Epoch 7/200\n",
      "9/9 [==============================] - 2s 182ms/step - loss: 0.6354 - accuracy: 0.6695 - val_loss: 0.5831 - val_accuracy: 0.7219\n",
      "Epoch 8/200\n",
      "9/9 [==============================] - 2s 178ms/step - loss: 0.5740 - accuracy: 0.7357 - val_loss: 0.5716 - val_accuracy: 0.7279\n",
      "Epoch 9/200\n",
      "9/9 [==============================] - 2s 180ms/step - loss: 0.5679 - accuracy: 0.7372 - val_loss: 0.5656 - val_accuracy: 0.7269\n",
      "Epoch 10/200\n",
      "9/9 [==============================] - 2s 179ms/step - loss: 0.5751 - accuracy: 0.7246 - val_loss: 0.5841 - val_accuracy: 0.7088\n",
      "Epoch 11/200\n",
      "9/9 [==============================] - 2s 179ms/step - loss: 0.5806 - accuracy: 0.7175 - val_loss: 0.5738 - val_accuracy: 0.7160\n",
      "Epoch 12/200\n",
      "9/9 [==============================] - 2s 179ms/step - loss: 0.5783 - accuracy: 0.7175 - val_loss: 0.5718 - val_accuracy: 0.7148\n",
      "Epoch 13/200\n",
      "9/9 [==============================] - 2s 180ms/step - loss: 0.5745 - accuracy: 0.7212 - val_loss: 0.5664 - val_accuracy: 0.7228\n",
      "Epoch 14/200\n",
      "9/9 [==============================] - 2s 179ms/step - loss: 0.5672 - accuracy: 0.7260 - val_loss: 0.5661 - val_accuracy: 0.7174\n",
      "Epoch 15/200\n",
      "9/9 [==============================] - 2s 180ms/step - loss: 0.5692 - accuracy: 0.7190 - val_loss: 0.5674 - val_accuracy: 0.7156\n",
      "Epoch 16/200\n",
      "9/9 [==============================] - 2s 178ms/step - loss: 0.5784 - accuracy: 0.7075 - val_loss: 0.5654 - val_accuracy: 0.7168\n",
      "Epoch 17/200\n",
      "9/9 [==============================] - 2s 178ms/step - loss: 0.5622 - accuracy: 0.7279 - val_loss: 0.5734 - val_accuracy: 0.7032\n",
      "Epoch 18/200\n",
      "9/9 [==============================] - 2s 181ms/step - loss: 0.6186 - accuracy: 0.6622 - val_loss: 0.5884 - val_accuracy: 0.6818\n",
      "Epoch 19/200\n",
      "9/9 [==============================] - 2s 181ms/step - loss: 0.5786 - accuracy: 0.7033 - val_loss: 0.5737 - val_accuracy: 0.7125\n",
      "Epoch 20/200\n",
      "9/9 [==============================] - 2s 181ms/step - loss: 0.5775 - accuracy: 0.7145 - val_loss: 0.5724 - val_accuracy: 0.7169\n",
      "Epoch 21/200\n",
      "9/9 [==============================] - 2s 178ms/step - loss: 0.5751 - accuracy: 0.7130 - val_loss: 0.5708 - val_accuracy: 0.7069\n",
      "Epoch 22/200\n",
      "9/9 [==============================] - 2s 179ms/step - loss: 0.5718 - accuracy: 0.7116 - val_loss: 0.5700 - val_accuracy: 0.7064\n",
      "Epoch 23/200\n",
      "9/9 [==============================] - 2s 178ms/step - loss: 0.5820 - accuracy: 0.6957 - val_loss: 0.5864 - val_accuracy: 0.6821\n",
      "Epoch 24/200\n",
      "9/9 [==============================] - 2s 179ms/step - loss: 0.5896 - accuracy: 0.6890 - val_loss: 0.5703 - val_accuracy: 0.7024\n",
      "Epoch 25/200\n",
      "9/9 [==============================] - 2s 179ms/step - loss: 0.5701 - accuracy: 0.7161 - val_loss: 0.5681 - val_accuracy: 0.7205\n",
      "Epoch 26/200\n",
      "9/9 [==============================] - 2s 178ms/step - loss: 0.5669 - accuracy: 0.7248 - val_loss: 0.5708 - val_accuracy: 0.7137\n",
      "Epoch 27/200\n",
      "9/9 [==============================] - 2s 180ms/step - loss: 0.5684 - accuracy: 0.7129 - val_loss: 0.5648 - val_accuracy: 0.7065\n",
      "Epoch 28/200\n",
      "9/9 [==============================] - 2s 180ms/step - loss: 0.5675 - accuracy: 0.7103 - val_loss: 0.5614 - val_accuracy: 0.7104\n",
      "Epoch 29/200\n",
      "9/9 [==============================] - 2s 181ms/step - loss: 0.5641 - accuracy: 0.7136 - val_loss: 0.5707 - val_accuracy: 0.6992\n",
      "Epoch 30/200\n",
      "9/9 [==============================] - 2s 180ms/step - loss: 0.6028 - accuracy: 0.6705 - val_loss: 0.6085 - val_accuracy: 0.6568\n",
      "Epoch 31/200\n",
      "9/9 [==============================] - 2s 180ms/step - loss: 0.5979 - accuracy: 0.6740 - val_loss: 0.5818 - val_accuracy: 0.6890\n",
      "Epoch 32/200\n",
      "9/9 [==============================] - 2s 178ms/step - loss: 0.5956 - accuracy: 0.6777 - val_loss: 0.5972 - val_accuracy: 0.6721\n",
      "Epoch 33/200\n",
      "9/9 [==============================] - 2s 179ms/step - loss: 0.5930 - accuracy: 0.6823 - val_loss: 0.5784 - val_accuracy: 0.6963\n",
      "Epoch 34/200\n",
      "9/9 [==============================] - 2s 177ms/step - loss: 0.5693 - accuracy: 0.7116 - val_loss: 0.5608 - val_accuracy: 0.7155\n",
      "Epoch 35/200\n",
      "9/9 [==============================] - 2s 178ms/step - loss: 0.5703 - accuracy: 0.7075 - val_loss: 0.5650 - val_accuracy: 0.7070\n",
      "Epoch 36/200\n",
      "9/9 [==============================] - 2s 179ms/step - loss: 0.5550 - accuracy: 0.7230 - val_loss: 0.5495 - val_accuracy: 0.7294\n",
      "Epoch 37/200\n",
      "9/9 [==============================] - 2s 178ms/step - loss: 0.5482 - accuracy: 0.7313 - val_loss: 0.5508 - val_accuracy: 0.7255\n",
      "Epoch 38/200\n",
      "9/9 [==============================] - 2s 179ms/step - loss: 0.5508 - accuracy: 0.7293 - val_loss: 0.5412 - val_accuracy: 0.7336\n",
      "Epoch 39/200\n",
      "9/9 [==============================] - 2s 178ms/step - loss: 0.5398 - accuracy: 0.7404 - val_loss: 0.5397 - val_accuracy: 0.7375\n",
      "Epoch 40/200\n",
      "9/9 [==============================] - 2s 177ms/step - loss: 0.5379 - accuracy: 0.7408 - val_loss: 0.5366 - val_accuracy: 0.7328\n",
      "Epoch 41/200\n",
      "9/9 [==============================] - 2s 179ms/step - loss: 0.5380 - accuracy: 0.7365 - val_loss: 0.5315 - val_accuracy: 0.7383\n",
      "Epoch 42/200\n",
      "9/9 [==============================] - 2s 178ms/step - loss: 0.5289 - accuracy: 0.7459 - val_loss: 0.5308 - val_accuracy: 0.7406\n",
      "Epoch 43/200\n",
      "9/9 [==============================] - 2s 178ms/step - loss: 0.5310 - accuracy: 0.7488 - val_loss: 0.5300 - val_accuracy: 0.7382\n",
      "Epoch 44/200\n",
      "9/9 [==============================] - 2s 178ms/step - loss: 0.5344 - accuracy: 0.7431 - val_loss: 0.5326 - val_accuracy: 0.7428\n",
      "Epoch 45/200\n",
      "9/9 [==============================] - 2s 178ms/step - loss: 0.5277 - accuracy: 0.7478 - val_loss: 0.5294 - val_accuracy: 0.7494\n",
      "Epoch 46/200\n",
      "9/9 [==============================] - 2s 178ms/step - loss: 0.5238 - accuracy: 0.7506 - val_loss: 0.5242 - val_accuracy: 0.7469\n",
      "Epoch 47/200\n",
      "9/9 [==============================] - 2s 180ms/step - loss: 0.5215 - accuracy: 0.7501 - val_loss: 0.5268 - val_accuracy: 0.7474\n",
      "Epoch 48/200\n",
      "9/9 [==============================] - 2s 178ms/step - loss: 0.5257 - accuracy: 0.7546 - val_loss: 0.5192 - val_accuracy: 0.7475\n",
      "Epoch 49/200\n",
      "9/9 [==============================] - 2s 178ms/step - loss: 0.5168 - accuracy: 0.7534 - val_loss: 0.5174 - val_accuracy: 0.7505\n",
      "Epoch 50/200\n",
      "9/9 [==============================] - 2s 179ms/step - loss: 0.5200 - accuracy: 0.7555 - val_loss: 0.5216 - val_accuracy: 0.7497\n",
      "Epoch 51/200\n",
      "9/9 [==============================] - 2s 178ms/step - loss: 0.5140 - accuracy: 0.7560 - val_loss: 0.5166 - val_accuracy: 0.7494\n",
      "Epoch 52/200\n",
      "9/9 [==============================] - 2s 179ms/step - loss: 0.5131 - accuracy: 0.7555 - val_loss: 0.5153 - val_accuracy: 0.7503\n",
      "Epoch 53/200\n",
      "9/9 [==============================] - 2s 177ms/step - loss: 0.5156 - accuracy: 0.7535 - val_loss: 0.5197 - val_accuracy: 0.7493\n",
      "Epoch 54/200\n",
      "9/9 [==============================] - 2s 188ms/step - loss: 0.5175 - accuracy: 0.7535 - val_loss: 0.5151 - val_accuracy: 0.7512\n",
      "Epoch 55/200\n",
      "9/9 [==============================] - 2s 186ms/step - loss: 0.5106 - accuracy: 0.7573 - val_loss: 0.5156 - val_accuracy: 0.7503\n",
      "Epoch 56/200\n",
      "9/9 [==============================] - 2s 188ms/step - loss: 0.5098 - accuracy: 0.7564 - val_loss: 0.5137 - val_accuracy: 0.7510\n",
      "Epoch 57/200\n",
      "9/9 [==============================] - 2s 187ms/step - loss: 0.5305 - accuracy: 0.7487 - val_loss: 0.5247 - val_accuracy: 0.7484\n",
      "Epoch 58/200\n",
      "9/9 [==============================] - 2s 184ms/step - loss: 0.5107 - accuracy: 0.7553 - val_loss: 0.5224 - val_accuracy: 0.7482\n",
      "Epoch 59/200\n",
      "9/9 [==============================] - 2s 183ms/step - loss: 0.5123 - accuracy: 0.7567 - val_loss: 0.5154 - val_accuracy: 0.7482\n",
      "Epoch 60/200\n",
      "9/9 [==============================] - 2s 185ms/step - loss: 0.5112 - accuracy: 0.7577 - val_loss: 0.5172 - val_accuracy: 0.7511\n",
      "Epoch 61/200\n",
      "9/9 [==============================] - 2s 185ms/step - loss: 0.5092 - accuracy: 0.7583 - val_loss: 0.5123 - val_accuracy: 0.7532\n",
      "Epoch 62/200\n",
      "9/9 [==============================] - 2s 184ms/step - loss: 0.5059 - accuracy: 0.7596 - val_loss: 0.5122 - val_accuracy: 0.7534\n",
      "Epoch 63/200\n",
      "9/9 [==============================] - 2s 185ms/step - loss: 0.5028 - accuracy: 0.7601 - val_loss: 0.5090 - val_accuracy: 0.7565\n",
      "Epoch 64/200\n",
      "9/9 [==============================] - 2s 184ms/step - loss: 0.5027 - accuracy: 0.7624 - val_loss: 0.5081 - val_accuracy: 0.7551\n",
      "Epoch 65/200\n",
      "9/9 [==============================] - 2s 184ms/step - loss: 0.5146 - accuracy: 0.7552 - val_loss: 0.5203 - val_accuracy: 0.7490\n",
      "Epoch 66/200\n",
      "9/9 [==============================] - 2s 187ms/step - loss: 0.5121 - accuracy: 0.7565 - val_loss: 0.5162 - val_accuracy: 0.7514\n",
      "Epoch 67/200\n",
      "9/9 [==============================] - 2s 185ms/step - loss: 0.5081 - accuracy: 0.7585 - val_loss: 0.5129 - val_accuracy: 0.7524\n",
      "Epoch 68/200\n",
      "9/9 [==============================] - 2s 184ms/step - loss: 0.5044 - accuracy: 0.7596 - val_loss: 0.5114 - val_accuracy: 0.7564\n",
      "Epoch 69/200\n",
      "9/9 [==============================] - 2s 184ms/step - loss: 0.5017 - accuracy: 0.7619 - val_loss: 0.5113 - val_accuracy: 0.7575\n",
      "Epoch 70/200\n",
      "9/9 [==============================] - 2s 184ms/step - loss: 0.5235 - accuracy: 0.7597 - val_loss: 0.5358 - val_accuracy: 0.7575\n",
      "Epoch 71/200\n",
      "9/9 [==============================] - 2s 184ms/step - loss: 0.5286 - accuracy: 0.7606 - val_loss: 0.5296 - val_accuracy: 0.7470\n",
      "Epoch 72/200\n",
      "9/9 [==============================] - 2s 184ms/step - loss: 0.5247 - accuracy: 0.7517 - val_loss: 0.5229 - val_accuracy: 0.7451\n",
      "Epoch 73/200\n",
      "9/9 [==============================] - 2s 184ms/step - loss: 0.5143 - accuracy: 0.7607 - val_loss: 0.5215 - val_accuracy: 0.7551\n",
      "Epoch 74/200\n",
      "9/9 [==============================] - 2s 183ms/step - loss: 0.5208 - accuracy: 0.7582 - val_loss: 0.5206 - val_accuracy: 0.7518\n",
      "Epoch 75/200\n",
      "9/9 [==============================] - 2s 187ms/step - loss: 0.5092 - accuracy: 0.7621 - val_loss: 0.5193 - val_accuracy: 0.7538\n",
      "Epoch 76/200\n",
      "9/9 [==============================] - 2s 184ms/step - loss: 0.5050 - accuracy: 0.7623 - val_loss: 0.5154 - val_accuracy: 0.7499\n",
      "Epoch 77/200\n",
      "9/9 [==============================] - 2s 184ms/step - loss: 0.5336 - accuracy: 0.7547 - val_loss: 0.5428 - val_accuracy: 0.7571\n",
      "Epoch 78/200\n",
      "9/9 [==============================] - 2s 185ms/step - loss: 0.5351 - accuracy: 0.7606 - val_loss: 0.5268 - val_accuracy: 0.7520\n",
      "Epoch 79/200\n",
      "9/9 [==============================] - 2s 185ms/step - loss: 0.5255 - accuracy: 0.7607 - val_loss: 0.5297 - val_accuracy: 0.7507\n",
      "Epoch 80/200\n",
      "9/9 [==============================] - 2s 183ms/step - loss: 0.5259 - accuracy: 0.7591 - val_loss: 0.5258 - val_accuracy: 0.7511\n",
      "Epoch 81/200\n",
      "9/9 [==============================] - 2s 185ms/step - loss: 0.5224 - accuracy: 0.7615 - val_loss: 0.5271 - val_accuracy: 0.7537\n",
      "Epoch 82/200\n",
      "9/9 [==============================] - 2s 183ms/step - loss: 0.5318 - accuracy: 0.7522 - val_loss: 0.5476 - val_accuracy: 0.7296\n",
      "Epoch 83/200\n",
      "9/9 [==============================] - 2s 184ms/step - loss: 0.5325 - accuracy: 0.7501 - val_loss: 0.5365 - val_accuracy: 0.7423\n",
      "Epoch 84/200\n",
      "9/9 [==============================] - 2s 185ms/step - loss: 0.5313 - accuracy: 0.7531 - val_loss: 0.5353 - val_accuracy: 0.7442\n",
      "Epoch 85/200\n",
      "9/9 [==============================] - 2s 185ms/step - loss: 0.5296 - accuracy: 0.7557 - val_loss: 0.5325 - val_accuracy: 0.7445\n",
      "Epoch 86/200\n",
      "9/9 [==============================] - 2s 185ms/step - loss: 0.5269 - accuracy: 0.7563 - val_loss: 0.5303 - val_accuracy: 0.7445\n",
      "Epoch 87/200\n",
      "9/9 [==============================] - 2s 186ms/step - loss: 0.5221 - accuracy: 0.7596 - val_loss: 0.5279 - val_accuracy: 0.7480\n",
      "Epoch 88/200\n",
      "9/9 [==============================] - 2s 185ms/step - loss: 0.5155 - accuracy: 0.7625 - val_loss: 0.5270 - val_accuracy: 0.7479\n",
      "Epoch 89/200\n",
      "9/9 [==============================] - 2s 186ms/step - loss: 0.5141 - accuracy: 0.7623 - val_loss: 0.5320 - val_accuracy: 0.7437\n",
      "Epoch 90/200\n",
      "9/9 [==============================] - 2s 185ms/step - loss: 0.5124 - accuracy: 0.7627 - val_loss: 0.5228 - val_accuracy: 0.7487\n",
      "Epoch 91/200\n",
      "9/9 [==============================] - 2s 185ms/step - loss: 0.5067 - accuracy: 0.7636 - val_loss: 0.5194 - val_accuracy: 0.7509\n",
      "Epoch 92/200\n",
      "9/9 [==============================] - 2s 184ms/step - loss: 0.5064 - accuracy: 0.7648 - val_loss: 0.5185 - val_accuracy: 0.7528\n",
      "Epoch 93/200\n",
      "9/9 [==============================] - 2s 185ms/step - loss: 0.5413 - accuracy: 0.7437 - val_loss: 0.5590 - val_accuracy: 0.7262\n",
      "Epoch 94/200\n",
      "9/9 [==============================] - 2s 183ms/step - loss: 0.5502 - accuracy: 0.7450 - val_loss: 0.5412 - val_accuracy: 0.7514\n",
      "Epoch 95/200\n",
      "9/9 [==============================] - 2s 185ms/step - loss: 0.5378 - accuracy: 0.7521 - val_loss: 0.5337 - val_accuracy: 0.7447\n",
      "Epoch 96/200\n",
      "9/9 [==============================] - 2s 185ms/step - loss: 0.5251 - accuracy: 0.7578 - val_loss: 0.5177 - val_accuracy: 0.7539\n",
      "Epoch 97/200\n",
      "9/9 [==============================] - 2s 183ms/step - loss: 0.5332 - accuracy: 0.7504 - val_loss: 0.5399 - val_accuracy: 0.7373\n",
      "Epoch 98/200\n",
      "9/9 [==============================] - 2s 189ms/step - loss: 0.5328 - accuracy: 0.7502 - val_loss: 0.5205 - val_accuracy: 0.7564\n",
      "Epoch 99/200\n",
      "9/9 [==============================] - 2s 185ms/step - loss: 0.5183 - accuracy: 0.7628 - val_loss: 0.5290 - val_accuracy: 0.7449\n",
      "Epoch 100/200\n",
      "9/9 [==============================] - 2s 184ms/step - loss: 0.5246 - accuracy: 0.7590 - val_loss: 0.5255 - val_accuracy: 0.7477\n",
      "Epoch 101/200\n",
      "9/9 [==============================] - 2s 183ms/step - loss: 0.5153 - accuracy: 0.7658 - val_loss: 0.5154 - val_accuracy: 0.7569\n",
      "Epoch 102/200\n",
      "9/9 [==============================] - 2s 189ms/step - loss: 0.5164 - accuracy: 0.7617 - val_loss: 0.5202 - val_accuracy: 0.7501\n",
      "Epoch 103/200\n",
      "9/9 [==============================] - 2s 185ms/step - loss: 0.5185 - accuracy: 0.7594 - val_loss: 0.5150 - val_accuracy: 0.7520\n",
      "Epoch 104/200\n",
      "9/9 [==============================] - 2s 186ms/step - loss: 0.5121 - accuracy: 0.7638 - val_loss: 0.5104 - val_accuracy: 0.7557\n",
      "Epoch 105/200\n",
      "9/9 [==============================] - 2s 184ms/step - loss: 0.5086 - accuracy: 0.7663 - val_loss: 0.5088 - val_accuracy: 0.7605\n",
      "Epoch 106/200\n",
      "9/9 [==============================] - 2s 185ms/step - loss: 0.5061 - accuracy: 0.7672 - val_loss: 0.5081 - val_accuracy: 0.7602\n",
      "Epoch 107/200\n",
      "9/9 [==============================] - 2s 189ms/step - loss: 0.5023 - accuracy: 0.7698 - val_loss: 0.5083 - val_accuracy: 0.7616\n",
      "Epoch 108/200\n",
      "9/9 [==============================] - 2s 196ms/step - loss: 0.5087 - accuracy: 0.7646 - val_loss: 0.5090 - val_accuracy: 0.7584\n",
      "Epoch 109/200\n",
      "9/9 [==============================] - 2s 191ms/step - loss: 0.5015 - accuracy: 0.7709 - val_loss: 0.5071 - val_accuracy: 0.7614\n",
      "Epoch 110/200\n",
      "9/9 [==============================] - 2s 183ms/step - loss: 0.4977 - accuracy: 0.7741 - val_loss: 0.5047 - val_accuracy: 0.7634\n",
      "Epoch 111/200\n",
      "9/9 [==============================] - 2s 188ms/step - loss: 0.4955 - accuracy: 0.7748 - val_loss: 0.5022 - val_accuracy: 0.7669\n",
      "Epoch 112/200\n",
      "9/9 [==============================] - 2s 183ms/step - loss: 0.4924 - accuracy: 0.7767 - val_loss: 0.5022 - val_accuracy: 0.7656\n",
      "Epoch 113/200\n",
      "9/9 [==============================] - 2s 190ms/step - loss: 0.4890 - accuracy: 0.7788 - val_loss: 0.5034 - val_accuracy: 0.7638\n",
      "Epoch 114/200\n",
      "9/9 [==============================] - 2s 194ms/step - loss: 0.4888 - accuracy: 0.7790 - val_loss: 0.5024 - val_accuracy: 0.7645\n",
      "Epoch 115/200\n",
      "9/9 [==============================] - 2s 181ms/step - loss: 0.4854 - accuracy: 0.7800 - val_loss: 0.4995 - val_accuracy: 0.7647\n",
      "Epoch 116/200\n",
      "9/9 [==============================] - 2s 182ms/step - loss: 0.4836 - accuracy: 0.7834 - val_loss: 0.5052 - val_accuracy: 0.7631\n",
      "Epoch 117/200\n",
      "9/9 [==============================] - 2s 182ms/step - loss: 0.4867 - accuracy: 0.7793 - val_loss: 0.4991 - val_accuracy: 0.7652\n",
      "Epoch 118/200\n",
      "9/9 [==============================] - 2s 183ms/step - loss: 0.4817 - accuracy: 0.7848 - val_loss: 0.5016 - val_accuracy: 0.7685\n",
      "Epoch 119/200\n",
      "9/9 [==============================] - 2s 181ms/step - loss: 0.4814 - accuracy: 0.7848 - val_loss: 0.5023 - val_accuracy: 0.7653\n",
      "Epoch 120/200\n",
      "9/9 [==============================] - 2s 182ms/step - loss: 0.4874 - accuracy: 0.7769 - val_loss: 0.5120 - val_accuracy: 0.7598\n",
      "Epoch 121/200\n",
      "9/9 [==============================] - 2s 182ms/step - loss: 0.5090 - accuracy: 0.7659 - val_loss: 0.5001 - val_accuracy: 0.7656\n",
      "Epoch 122/200\n",
      "9/9 [==============================] - 2s 181ms/step - loss: 0.4962 - accuracy: 0.7730 - val_loss: 0.5014 - val_accuracy: 0.7639\n",
      "Epoch 123/200\n",
      "9/9 [==============================] - 2s 180ms/step - loss: 0.4865 - accuracy: 0.7789 - val_loss: 0.5022 - val_accuracy: 0.7654\n",
      "Epoch 124/200\n",
      "9/9 [==============================] - 2s 180ms/step - loss: 0.4871 - accuracy: 0.7798 - val_loss: 0.4964 - val_accuracy: 0.7685\n",
      "Epoch 125/200\n",
      "9/9 [==============================] - 2s 183ms/step - loss: 0.4825 - accuracy: 0.7846 - val_loss: 0.4973 - val_accuracy: 0.7693\n",
      "Epoch 126/200\n",
      "9/9 [==============================] - 2s 181ms/step - loss: 0.4797 - accuracy: 0.7863 - val_loss: 0.4960 - val_accuracy: 0.7689\n",
      "Epoch 127/200\n",
      "9/9 [==============================] - 2s 182ms/step - loss: 0.4778 - accuracy: 0.7869 - val_loss: 0.4977 - val_accuracy: 0.7701\n",
      "Epoch 128/200\n",
      "9/9 [==============================] - 2s 186ms/step - loss: 0.4829 - accuracy: 0.7807 - val_loss: 0.4962 - val_accuracy: 0.7683\n",
      "Epoch 129/200\n",
      "9/9 [==============================] - 2s 185ms/step - loss: 0.4775 - accuracy: 0.7855 - val_loss: 0.4945 - val_accuracy: 0.7715\n",
      "Epoch 130/200\n",
      "9/9 [==============================] - 2s 186ms/step - loss: 0.4796 - accuracy: 0.7850 - val_loss: 0.4956 - val_accuracy: 0.7698\n",
      "Epoch 131/200\n",
      "9/9 [==============================] - 2s 184ms/step - loss: 0.4797 - accuracy: 0.7838 - val_loss: 0.4941 - val_accuracy: 0.7656\n",
      "Epoch 132/200\n",
      "9/9 [==============================] - 2s 188ms/step - loss: 0.4799 - accuracy: 0.7836 - val_loss: 0.4967 - val_accuracy: 0.7684\n",
      "Epoch 133/200\n",
      "9/9 [==============================] - 2s 186ms/step - loss: 0.4949 - accuracy: 0.7695 - val_loss: 0.4957 - val_accuracy: 0.7693\n",
      "Epoch 134/200\n",
      "9/9 [==============================] - 2s 184ms/step - loss: 0.4782 - accuracy: 0.7843 - val_loss: 0.4917 - val_accuracy: 0.7676\n",
      "Epoch 135/200\n",
      "9/9 [==============================] - 2s 184ms/step - loss: 0.4762 - accuracy: 0.7847 - val_loss: 0.4947 - val_accuracy: 0.7733\n",
      "Epoch 136/200\n",
      "9/9 [==============================] - 2s 189ms/step - loss: 0.4806 - accuracy: 0.7814 - val_loss: 0.4976 - val_accuracy: 0.7637\n",
      "Epoch 137/200\n",
      "9/9 [==============================] - 2s 191ms/step - loss: 0.4835 - accuracy: 0.7800 - val_loss: 0.4969 - val_accuracy: 0.7697\n",
      "Epoch 138/200\n",
      "9/9 [==============================] - 2s 187ms/step - loss: 0.4797 - accuracy: 0.7817 - val_loss: 0.4944 - val_accuracy: 0.7709\n",
      "Epoch 139/200\n",
      "9/9 [==============================] - 2s 182ms/step - loss: 0.4795 - accuracy: 0.7805 - val_loss: 0.4909 - val_accuracy: 0.7697\n",
      "Epoch 140/200\n",
      "9/9 [==============================] - 2s 188ms/step - loss: 0.4810 - accuracy: 0.7814 - val_loss: 0.4907 - val_accuracy: 0.7702\n",
      "Epoch 141/200\n",
      "9/9 [==============================] - 2s 189ms/step - loss: 0.4760 - accuracy: 0.7850 - val_loss: 0.4964 - val_accuracy: 0.7744\n",
      "Epoch 142/200\n",
      "9/9 [==============================] - 2s 185ms/step - loss: 0.4799 - accuracy: 0.7832 - val_loss: 0.4941 - val_accuracy: 0.7743\n",
      "Epoch 143/200\n",
      "9/9 [==============================] - 2s 182ms/step - loss: 0.4715 - accuracy: 0.7878 - val_loss: 0.4906 - val_accuracy: 0.7728\n",
      "Epoch 144/200\n",
      "9/9 [==============================] - 2s 181ms/step - loss: 0.4706 - accuracy: 0.7884 - val_loss: 0.4935 - val_accuracy: 0.7763\n",
      "Epoch 145/200\n",
      "9/9 [==============================] - 2s 182ms/step - loss: 0.4712 - accuracy: 0.7894 - val_loss: 0.4919 - val_accuracy: 0.7746\n",
      "Epoch 146/200\n",
      "9/9 [==============================] - 2s 181ms/step - loss: 0.4712 - accuracy: 0.7877 - val_loss: 0.4965 - val_accuracy: 0.7695\n",
      "Epoch 147/200\n",
      "9/9 [==============================] - 2s 181ms/step - loss: 0.4719 - accuracy: 0.7875 - val_loss: 0.4918 - val_accuracy: 0.7723\n",
      "Epoch 148/200\n",
      "9/9 [==============================] - 2s 182ms/step - loss: 0.4689 - accuracy: 0.7916 - val_loss: 0.4944 - val_accuracy: 0.7719\n",
      "Epoch 149/200\n",
      "9/9 [==============================] - 2s 182ms/step - loss: 0.4707 - accuracy: 0.7914 - val_loss: 0.4980 - val_accuracy: 0.7700\n",
      "Epoch 150/200\n",
      "9/9 [==============================] - 2s 190ms/step - loss: 0.4722 - accuracy: 0.7880 - val_loss: 0.4952 - val_accuracy: 0.7693\n",
      "Epoch 151/200\n",
      "9/9 [==============================] - 2s 188ms/step - loss: 0.4669 - accuracy: 0.7915 - val_loss: 0.4967 - val_accuracy: 0.7723\n",
      "Epoch 152/200\n",
      "9/9 [==============================] - 2s 185ms/step - loss: 0.4700 - accuracy: 0.7906 - val_loss: 0.4921 - val_accuracy: 0.7733\n",
      "Epoch 153/200\n",
      "9/9 [==============================] - 2s 191ms/step - loss: 0.4666 - accuracy: 0.7910 - val_loss: 0.4930 - val_accuracy: 0.7702\n",
      "Epoch 154/200\n",
      "9/9 [==============================] - 2s 188ms/step - loss: 0.4670 - accuracy: 0.7913 - val_loss: 0.4949 - val_accuracy: 0.7733\n",
      "Epoch 155/200\n",
      "9/9 [==============================] - 2s 188ms/step - loss: 0.4698 - accuracy: 0.7915 - val_loss: 0.4981 - val_accuracy: 0.7749\n",
      "Epoch 156/200\n",
      "9/9 [==============================] - 2s 186ms/step - loss: 0.4657 - accuracy: 0.7922 - val_loss: 0.4920 - val_accuracy: 0.7677\n",
      "Epoch 157/200\n",
      "9/9 [==============================] - 2s 193ms/step - loss: 0.4670 - accuracy: 0.7924 - val_loss: 0.4872 - val_accuracy: 0.7764\n",
      "Epoch 158/200\n",
      "9/9 [==============================] - 2s 185ms/step - loss: 0.4668 - accuracy: 0.7909 - val_loss: 0.4925 - val_accuracy: 0.7753\n",
      "Epoch 159/200\n",
      "9/9 [==============================] - 2s 186ms/step - loss: 0.4656 - accuracy: 0.7924 - val_loss: 0.4948 - val_accuracy: 0.7702\n",
      "Epoch 160/200\n",
      "9/9 [==============================] - 2s 183ms/step - loss: 0.4646 - accuracy: 0.7928 - val_loss: 0.4938 - val_accuracy: 0.7749\n",
      "Epoch 161/200\n",
      "9/9 [==============================] - 2s 182ms/step - loss: 0.4606 - accuracy: 0.7940 - val_loss: 0.4882 - val_accuracy: 0.7720\n",
      "Epoch 162/200\n",
      "9/9 [==============================] - 2s 182ms/step - loss: 0.4633 - accuracy: 0.7931 - val_loss: 0.4906 - val_accuracy: 0.7737\n",
      "Epoch 163/200\n",
      "9/9 [==============================] - 2s 182ms/step - loss: 0.4704 - accuracy: 0.7852 - val_loss: 0.4871 - val_accuracy: 0.7740\n",
      "Epoch 164/200\n",
      "9/9 [==============================] - 2s 183ms/step - loss: 0.4633 - accuracy: 0.7927 - val_loss: 0.4844 - val_accuracy: 0.7754\n",
      "Epoch 165/200\n",
      "9/9 [==============================] - 2s 181ms/step - loss: 0.4677 - accuracy: 0.7884 - val_loss: 0.4988 - val_accuracy: 0.7685\n",
      "Epoch 166/200\n",
      "9/9 [==============================] - 2s 183ms/step - loss: 0.4658 - accuracy: 0.7911 - val_loss: 0.4896 - val_accuracy: 0.7717\n",
      "Epoch 167/200\n",
      "9/9 [==============================] - 2s 184ms/step - loss: 0.4610 - accuracy: 0.7955 - val_loss: 0.4903 - val_accuracy: 0.7733\n",
      "Epoch 168/200\n",
      "9/9 [==============================] - 2s 183ms/step - loss: 0.4618 - accuracy: 0.7931 - val_loss: 0.4932 - val_accuracy: 0.7723\n",
      "Epoch 169/200\n",
      "9/9 [==============================] - 2s 182ms/step - loss: 0.4608 - accuracy: 0.7941 - val_loss: 0.4863 - val_accuracy: 0.7729\n",
      "Epoch 170/200\n",
      "9/9 [==============================] - 2s 188ms/step - loss: 0.4672 - accuracy: 0.7918 - val_loss: 0.4871 - val_accuracy: 0.7757\n",
      "Epoch 171/200\n",
      "9/9 [==============================] - 2s 187ms/step - loss: 0.4714 - accuracy: 0.7867 - val_loss: 0.5092 - val_accuracy: 0.7627\n",
      "Epoch 172/200\n",
      "9/9 [==============================] - 2s 201ms/step - loss: 0.4725 - accuracy: 0.7882 - val_loss: 0.4882 - val_accuracy: 0.7723\n",
      "Epoch 173/200\n",
      "9/9 [==============================] - 2s 185ms/step - loss: 0.4615 - accuracy: 0.7947 - val_loss: 0.4865 - val_accuracy: 0.7714\n",
      "Epoch 174/200\n",
      "9/9 [==============================] - 2s 191ms/step - loss: 0.4594 - accuracy: 0.7965 - val_loss: 0.4881 - val_accuracy: 0.7737\n",
      "Epoch 175/200\n",
      "9/9 [==============================] - 2s 189ms/step - loss: 0.4572 - accuracy: 0.7963 - val_loss: 0.4869 - val_accuracy: 0.7730\n",
      "Epoch 176/200\n",
      "9/9 [==============================] - 2s 200ms/step - loss: 0.4592 - accuracy: 0.7970 - val_loss: 0.4891 - val_accuracy: 0.7734\n",
      "Epoch 177/200\n",
      "9/9 [==============================] - 2s 186ms/step - loss: 0.4584 - accuracy: 0.7962 - val_loss: 0.4900 - val_accuracy: 0.7730\n",
      "Epoch 178/200\n",
      "9/9 [==============================] - 2s 184ms/step - loss: 0.4738 - accuracy: 0.7823 - val_loss: 0.5071 - val_accuracy: 0.7598\n",
      "Epoch 179/200\n",
      "9/9 [==============================] - 2s 187ms/step - loss: 0.4854 - accuracy: 0.7747 - val_loss: 0.4899 - val_accuracy: 0.7692\n",
      "Epoch 180/200\n",
      "9/9 [==============================] - 2s 187ms/step - loss: 0.4670 - accuracy: 0.7883 - val_loss: 0.4932 - val_accuracy: 0.7705\n",
      "Epoch 181/200\n",
      "9/9 [==============================] - 2s 192ms/step - loss: 0.4675 - accuracy: 0.7867 - val_loss: 0.4896 - val_accuracy: 0.7678\n",
      "Epoch 182/200\n",
      "9/9 [==============================] - 2s 192ms/step - loss: 0.4691 - accuracy: 0.7834 - val_loss: 0.4882 - val_accuracy: 0.7688\n",
      "Epoch 183/200\n",
      "9/9 [==============================] - 2s 187ms/step - loss: 0.4676 - accuracy: 0.7852 - val_loss: 0.4860 - val_accuracy: 0.7691\n",
      "Epoch 184/200\n",
      "9/9 [==============================] - 2s 188ms/step - loss: 0.4671 - accuracy: 0.7873 - val_loss: 0.4861 - val_accuracy: 0.7701\n",
      "Epoch 185/200\n",
      "9/9 [==============================] - 2s 187ms/step - loss: 0.4649 - accuracy: 0.7883 - val_loss: 0.4877 - val_accuracy: 0.7692\n",
      "Epoch 186/200\n",
      "9/9 [==============================] - 2s 186ms/step - loss: 0.4628 - accuracy: 0.7890 - val_loss: 0.4882 - val_accuracy: 0.7689\n",
      "Epoch 187/200\n",
      "9/9 [==============================] - 2s 184ms/step - loss: 0.4623 - accuracy: 0.7893 - val_loss: 0.4899 - val_accuracy: 0.7690\n",
      "Epoch 188/200\n",
      "9/9 [==============================] - 2s 186ms/step - loss: 0.4613 - accuracy: 0.7914 - val_loss: 0.4892 - val_accuracy: 0.7705\n",
      "Epoch 189/200\n",
      "9/9 [==============================] - 2s 189ms/step - loss: 0.4627 - accuracy: 0.7880 - val_loss: 0.4891 - val_accuracy: 0.7694\n",
      "Epoch 190/200\n",
      "9/9 [==============================] - 2s 188ms/step - loss: 0.4616 - accuracy: 0.7871 - val_loss: 0.4885 - val_accuracy: 0.7695\n",
      "Epoch 191/200\n",
      "9/9 [==============================] - 2s 183ms/step - loss: 0.4582 - accuracy: 0.7916 - val_loss: 0.4901 - val_accuracy: 0.7706\n",
      "Epoch 192/200\n",
      "9/9 [==============================] - 2s 182ms/step - loss: 0.4747 - accuracy: 0.7867 - val_loss: 0.4937 - val_accuracy: 0.7671\n",
      "Epoch 193/200\n",
      "9/9 [==============================] - 2s 194ms/step - loss: 0.4871 - accuracy: 0.7819 - val_loss: 0.4970 - val_accuracy: 0.7683\n",
      "Epoch 194/200\n",
      "9/9 [==============================] - 2s 181ms/step - loss: 0.4875 - accuracy: 0.7817 - val_loss: 0.4969 - val_accuracy: 0.7681\n",
      "Epoch 195/200\n",
      "9/9 [==============================] - 2s 183ms/step - loss: 0.4823 - accuracy: 0.7811 - val_loss: 0.4936 - val_accuracy: 0.7672\n",
      "Epoch 196/200\n",
      "9/9 [==============================] - 2s 183ms/step - loss: 0.4812 - accuracy: 0.7806 - val_loss: 0.4913 - val_accuracy: 0.7687\n",
      "Epoch 197/200\n",
      "9/9 [==============================] - 2s 189ms/step - loss: 0.4768 - accuracy: 0.7833 - val_loss: 0.4914 - val_accuracy: 0.7671\n",
      "Epoch 198/200\n",
      "9/9 [==============================] - 2s 184ms/step - loss: 0.4763 - accuracy: 0.7829 - val_loss: 0.4899 - val_accuracy: 0.7680\n",
      "Epoch 199/200\n",
      "9/9 [==============================] - 2s 183ms/step - loss: 0.4709 - accuracy: 0.7885 - val_loss: 0.4924 - val_accuracy: 0.7698\n",
      "Epoch 200/200\n",
      "9/9 [==============================] - 2s 185ms/step - loss: 0.4726 - accuracy: 0.7887 - val_loss: 0.4925 - val_accuracy: 0.7693\n"
     ]
    },
    {
     "name": "stderr",
     "output_type": "stream",
     "text": [
      "2022-02-02 19:53:08.749564: W tensorflow/python/util/util.cc:368] Sets are not currently considered sequences, but this may change in the future, so consider avoiding using them.\n",
      "2022-02-02 19:53:14.729800: I tensorflow/core/grappler/optimizers/custom_graph_optimizer_registry.cc:112] Plugin optimizer for device_type GPU is enabled.\n",
      "WARNING:absl:Found untraced functions such as gru_cell_1_layer_call_fn, gru_cell_1_layer_call_and_return_conditional_losses, gru_cell_2_layer_call_fn, gru_cell_2_layer_call_and_return_conditional_losses, gru_cell_4_layer_call_fn while saving (showing 5 of 20). These functions will not be directly callable after loading.\n"
     ]
    },
    {
     "name": "stdout",
     "output_type": "stream",
     "text": [
      "INFO:tensorflow:Assets written to: models/model7.tf/assets\n"
     ]
    },
    {
     "name": "stderr",
     "output_type": "stream",
     "text": [
      "INFO:tensorflow:Assets written to: models/model7.tf/assets\n",
      "WARNING:absl:<keras.layers.recurrent.GRUCell object at 0x286c4d670> has the same name 'GRUCell' as a built-in Keras object. Consider renaming <class 'keras.layers.recurrent.GRUCell'> to avoid naming conflicts when loading with `tf.keras.models.load_model`. If renaming is not possible, pass the object in the `custom_objects` parameter of the load function.\n",
      "WARNING:absl:<keras.layers.recurrent.GRUCell object at 0x286c4d820> has the same name 'GRUCell' as a built-in Keras object. Consider renaming <class 'keras.layers.recurrent.GRUCell'> to avoid naming conflicts when loading with `tf.keras.models.load_model`. If renaming is not possible, pass the object in the `custom_objects` parameter of the load function.\n",
      "WARNING:absl:<keras.layers.recurrent.GRUCell object at 0x283f568b0> has the same name 'GRUCell' as a built-in Keras object. Consider renaming <class 'keras.layers.recurrent.GRUCell'> to avoid naming conflicts when loading with `tf.keras.models.load_model`. If renaming is not possible, pass the object in the `custom_objects` parameter of the load function.\n",
      "WARNING:absl:<keras.layers.recurrent.GRUCell object at 0x283f56e50> has the same name 'GRUCell' as a built-in Keras object. Consider renaming <class 'keras.layers.recurrent.GRUCell'> to avoid naming conflicts when loading with `tf.keras.models.load_model`. If renaming is not possible, pass the object in the `custom_objects` parameter of the load function.\n"
     ]
    }
   ],
   "source": [
    "n_samples = x_train.shape[0]\n",
    "model_n = 7\n",
    "\n",
    "history = model.fit(x_train,\n",
    "                    y_train,\n",
    "                    validation_split=0.2,\n",
    "                    batch_size=int(n_samples*0.1),\n",
    "                    epochs=200)\n",
    "\n",
    "model.save(f'models/model{model_n}.tf')\n",
    "\n",
    "with open(f'models/history{model_n}.json', 'w') as f:\n",
    "    json.dump(history.history, f)"
   ],
   "metadata": {
    "collapsed": false,
    "pycharm": {
     "name": "#%%\n"
    }
   }
  },
  {
   "cell_type": "code",
   "execution_count": 10,
   "outputs": [],
   "source": [
    "from sklearn.metrics import accuracy_score, confusion_matrix\n",
    "import matplotlib.pyplot as plt\n",
    "import numpy as np"
   ],
   "metadata": {
    "collapsed": false,
    "pycharm": {
     "name": "#%%\n"
    }
   }
  },
  {
   "cell_type": "code",
   "execution_count": 11,
   "outputs": [
    {
     "name": "stderr",
     "output_type": "stream",
     "text": [
      "2022-02-02 19:53:28.941697: I tensorflow/core/grappler/optimizers/custom_graph_optimizer_registry.cc:112] Plugin optimizer for device_type GPU is enabled.\n",
      "2022-02-02 19:53:29.087074: I tensorflow/core/grappler/optimizers/custom_graph_optimizer_registry.cc:112] Plugin optimizer for device_type GPU is enabled.\n",
      "2022-02-02 19:53:29.095521: I tensorflow/core/grappler/optimizers/custom_graph_optimizer_registry.cc:112] Plugin optimizer for device_type GPU is enabled.\n",
      "2022-02-02 19:53:29.284516: I tensorflow/core/grappler/optimizers/custom_graph_optimizer_registry.cc:112] Plugin optimizer for device_type GPU is enabled.\n",
      "2022-02-02 19:53:29.290993: I tensorflow/core/grappler/optimizers/custom_graph_optimizer_registry.cc:112] Plugin optimizer for device_type GPU is enabled.\n"
     ]
    }
   ],
   "source": [
    "y_pred = model.predict(x_test)"
   ],
   "metadata": {
    "collapsed": false,
    "pycharm": {
     "name": "#%%\n"
    }
   }
  },
  {
   "cell_type": "code",
   "execution_count": 12,
   "outputs": [],
   "source": [
    "y_pred = np.array([np.max(probs[:, 0]) for probs in y_pred])"
   ],
   "metadata": {
    "collapsed": false,
    "pycharm": {
     "name": "#%%\n"
    }
   }
  },
  {
   "cell_type": "code",
   "execution_count": 13,
   "outputs": [],
   "source": [
    "def evaluate(y_true, y_pred, thresh):\n",
    "    y_pred_ = (y_pred > thresh).astype(int)\n",
    "    return accuracy_score(y_true, y_pred_), y_pred_"
   ],
   "metadata": {
    "collapsed": false,
    "pycharm": {
     "name": "#%%\n"
    }
   }
  },
  {
   "cell_type": "code",
   "execution_count": 14,
   "outputs": [
    {
     "name": "stdout",
     "output_type": "stream",
     "text": [
      "Calculating thresh: 0.0\n",
      "Accuracy: 0.5020149683362118\n",
      "Calculating thresh: 0.01\n",
      "Accuracy: 0.5020149683362118\n",
      "Calculating thresh: 0.02\n",
      "Accuracy: 0.5020149683362118\n",
      "Calculating thresh: 0.03\n",
      "Accuracy: 0.5020149683362118\n",
      "Calculating thresh: 0.04\n",
      "Accuracy: 0.5020149683362118\n",
      "Calculating thresh: 0.05\n",
      "Accuracy: 0.5020149683362118\n",
      "Calculating thresh: 0.06\n",
      "Accuracy: 0.5020149683362118\n",
      "Calculating thresh: 0.07\n",
      "Accuracy: 0.5020149683362118\n",
      "Calculating thresh: 0.08\n",
      "Accuracy: 0.5020149683362118\n",
      "Calculating thresh: 0.09\n",
      "Accuracy: 0.5020149683362118\n",
      "Calculating thresh: 0.1\n",
      "Accuracy: 0.5020149683362118\n",
      "Calculating thresh: 0.11\n",
      "Accuracy: 0.5020149683362118\n",
      "Calculating thresh: 0.12\n",
      "Accuracy: 0.5020149683362118\n",
      "Calculating thresh: 0.13\n",
      "Accuracy: 0.5020149683362118\n",
      "Calculating thresh: 0.14\n",
      "Accuracy: 0.5020149683362118\n",
      "Calculating thresh: 0.15\n",
      "Accuracy: 0.5020149683362118\n",
      "Calculating thresh: 0.16\n",
      "Accuracy: 0.5020149683362118\n",
      "Calculating thresh: 0.17\n",
      "Accuracy: 0.5020149683362118\n",
      "Calculating thresh: 0.18\n",
      "Accuracy: 0.5020149683362118\n",
      "Calculating thresh: 0.19\n",
      "Accuracy: 0.5020149683362118\n",
      "Calculating thresh: 0.2\n",
      "Accuracy: 0.5020149683362118\n",
      "Calculating thresh: 0.21\n",
      "Accuracy: 0.5020149683362118\n",
      "Calculating thresh: 0.22\n",
      "Accuracy: 0.5020149683362118\n",
      "Calculating thresh: 0.23\n",
      "Accuracy: 0.5020149683362118\n",
      "Calculating thresh: 0.24\n",
      "Accuracy: 0.5020149683362118\n",
      "Calculating thresh: 0.25\n",
      "Accuracy: 0.5031663788140472\n",
      "Calculating thresh: 0.26\n",
      "Accuracy: 0.5204375359815774\n",
      "Calculating thresh: 0.27\n",
      "Accuracy: 0.5739781232009211\n",
      "Calculating thresh: 0.28\n",
      "Accuracy: 0.6275187104202649\n",
      "Calculating thresh: 0.29\n",
      "Accuracy: 0.6557282671272309\n",
      "Calculating thresh: 0.3\n",
      "Accuracy: 0.6850892343120323\n",
      "Calculating thresh: 0.31\n",
      "Accuracy: 0.7092688543465746\n",
      "Calculating thresh: 0.32\n",
      "Accuracy: 0.7271157167530224\n",
      "Calculating thresh: 0.33\n",
      "Accuracy: 0.7363270005757052\n",
      "Calculating thresh: 0.34\n",
      "Accuracy: 0.740356937248129\n",
      "Calculating thresh: 0.35000000000000003\n",
      "Accuracy: 0.7495682210708118\n",
      "Calculating thresh: 0.36\n",
      "Accuracy: 0.7507196315486471\n",
      "Calculating thresh: 0.37\n",
      "Accuracy: 0.7535981577432355\n",
      "Calculating thresh: 0.38\n",
      "Accuracy: 0.7593552101324123\n",
      "Calculating thresh: 0.39\n",
      "Accuracy: 0.7633851468048359\n",
      "Calculating thresh: 0.4\n",
      "Accuracy: 0.768566493955095\n",
      "Calculating thresh: 0.41000000000000003\n",
      "Accuracy: 0.7708693149107657\n",
      "Calculating thresh: 0.42\n",
      "Accuracy: 0.7725964306275187\n",
      "Calculating thresh: 0.43\n",
      "Accuracy: 0.7789291882556131\n",
      "Calculating thresh: 0.44\n",
      "Accuracy: 0.7800805987334485\n",
      "Calculating thresh: 0.45\n",
      "Accuracy: 0.7852619458837076\n",
      "Calculating thresh: 0.46\n",
      "Accuracy: 0.7869890616004606\n",
      "Calculating thresh: 0.47000000000000003\n",
      "Accuracy: 0.7927461139896373\n",
      "Calculating thresh: 0.48\n",
      "Accuracy: 0.7927461139896373\n",
      "Calculating thresh: 0.49\n",
      "Accuracy: 0.796776050662061\n",
      "Calculating thresh: 0.5\n",
      "Accuracy: 0.8013816925734024\n",
      "Calculating thresh: 0.51\n",
      "Accuracy: 0.8008059873344847\n",
      "Calculating thresh: 0.52\n",
      "Accuracy: 0.8013816925734024\n",
      "Calculating thresh: 0.53\n",
      "Accuracy: 0.8008059873344847\n",
      "Calculating thresh: 0.54\n",
      "Accuracy: 0.8019573978123201\n",
      "Calculating thresh: 0.55\n",
      "Accuracy: 0.8008059873344847\n",
      "Calculating thresh: 0.56\n",
      "Accuracy: 0.8013816925734024\n",
      "Calculating thresh: 0.5700000000000001\n",
      "Accuracy: 0.8031088082901554\n",
      "Calculating thresh: 0.58\n",
      "Accuracy: 0.7996545768566494\n",
      "Calculating thresh: 0.59\n",
      "Accuracy: 0.798503166378814\n",
      "Calculating thresh: 0.6\n",
      "Accuracy: 0.8008059873344847\n",
      "Calculating thresh: 0.61\n",
      "Accuracy: 0.7979274611398963\n",
      "Calculating thresh: 0.62\n",
      "Accuracy: 0.7962003454231433\n",
      "Calculating thresh: 0.63\n",
      "Accuracy: 0.8002302820955671\n",
      "Calculating thresh: 0.64\n",
      "Accuracy: 0.8025331030512378\n",
      "Calculating thresh: 0.65\n",
      "Accuracy: 0.7973517559009787\n",
      "Calculating thresh: 0.66\n",
      "Accuracy: 0.796776050662061\n",
      "Calculating thresh: 0.67\n",
      "Accuracy: 0.796776050662061\n",
      "Calculating thresh: 0.68\n",
      "Accuracy: 0.7973517559009787\n",
      "Calculating thresh: 0.6900000000000001\n",
      "Accuracy: 0.795048934945308\n",
      "Calculating thresh: 0.7000000000000001\n",
      "Accuracy: 0.7962003454231433\n",
      "Calculating thresh: 0.71\n",
      "Accuracy: 0.7927461139896373\n",
      "Calculating thresh: 0.72\n",
      "Accuracy: 0.7921704087507196\n",
      "Calculating thresh: 0.73\n",
      "Accuracy: 0.7910189982728842\n",
      "Calculating thresh: 0.74\n",
      "Accuracy: 0.7841105354058722\n",
      "Calculating thresh: 0.75\n",
      "Accuracy: 0.7841105354058722\n",
      "Calculating thresh: 0.76\n",
      "Accuracy: 0.7818077144502015\n",
      "Calculating thresh: 0.77\n",
      "Accuracy: 0.7795048934945308\n",
      "Calculating thresh: 0.78\n",
      "Accuracy: 0.7777777777777778\n",
      "Calculating thresh: 0.79\n",
      "Accuracy: 0.7708693149107657\n",
      "Calculating thresh: 0.8\n",
      "Accuracy: 0.7656879677605066\n",
      "Calculating thresh: 0.81\n",
      "Accuracy: 0.7633851468048359\n",
      "Calculating thresh: 0.8200000000000001\n",
      "Accuracy: 0.7605066206102475\n",
      "Calculating thresh: 0.8300000000000001\n",
      "Accuracy: 0.7570523891767416\n",
      "Calculating thresh: 0.84\n",
      "Accuracy: 0.7564766839378239\n",
      "Calculating thresh: 0.85\n",
      "Accuracy: 0.7535981577432355\n",
      "Calculating thresh: 0.86\n",
      "Accuracy: 0.7484168105929764\n",
      "Calculating thresh: 0.87\n",
      "Accuracy: 0.7409326424870466\n",
      "Calculating thresh: 0.88\n",
      "Accuracy: 0.7369027058146229\n",
      "Calculating thresh: 0.89\n",
      "Accuracy: 0.7294185377086931\n",
      "Calculating thresh: 0.9\n",
      "Accuracy: 0.724237190558434\n",
      "Calculating thresh: 0.91\n",
      "Accuracy: 0.7132987910189983\n",
      "Calculating thresh: 0.92\n",
      "Accuracy: 0.7086931491076569\n",
      "Calculating thresh: 0.93\n",
      "Accuracy: 0.7023603914795624\n",
      "Calculating thresh: 0.9400000000000001\n",
      "Accuracy: 0.6879677605066206\n",
      "Calculating thresh: 0.9500000000000001\n",
      "Accuracy: 0.6833621185952792\n",
      "Calculating thresh: 0.96\n",
      "Accuracy: 0.6689694876223373\n",
      "Calculating thresh: 0.97\n",
      "Accuracy: 0.643062751871042\n",
      "Calculating thresh: 0.98\n",
      "Accuracy: 0.6062176165803109\n",
      "Calculating thresh: 0.99\n",
      "Accuracy: 0.5354058721934369\n"
     ]
    }
   ],
   "source": [
    "best_thresh = 0\n",
    "best_accuracy = 0\n",
    "\n",
    "for i in np.arange(0, 1, 0.01):\n",
    "    print(f'Calculating thresh: {i}')\n",
    "    score, _ = evaluate(y_test, y_pred, i)\n",
    "    print(f'Accuracy: {score}')\n",
    "    if score > best_accuracy:\n",
    "        best_accuracy = score\n",
    "        best_thresh = i"
   ],
   "metadata": {
    "collapsed": false,
    "pycharm": {
     "name": "#%%\n"
    }
   }
  },
  {
   "cell_type": "code",
   "execution_count": 15,
   "outputs": [
    {
     "name": "stdout",
     "output_type": "stream",
     "text": [
      "0.8031088082901554\n"
     ]
    }
   ],
   "source": [
    "score, y_pred = evaluate(y_test, y_pred, best_thresh)\n",
    "print(score)"
   ],
   "metadata": {
    "collapsed": false,
    "pycharm": {
     "name": "#%%\n"
    }
   }
  },
  {
   "cell_type": "markdown",
   "source": [],
   "metadata": {
    "collapsed": false
   }
  },
  {
   "cell_type": "code",
   "execution_count": 16,
   "outputs": [
    {
     "data": {
      "text/plain": "(0.7873902403915359, array([0, 1, 0, ..., 0, 1, 0]))"
     },
     "execution_count": 16,
     "metadata": {},
     "output_type": "execute_result"
    }
   ],
   "source": [
    "y_pred_train = model.predict(x_train)\n",
    "y_pred_train = np.array([np.max(probs[:, 0]) for probs in y_pred_train])\n",
    "evaluate(y_train, y_pred_train, best_thresh)"
   ],
   "metadata": {
    "collapsed": false,
    "pycharm": {
     "name": "#%%\n"
    }
   }
  },
  {
   "cell_type": "code",
   "execution_count": 17,
   "outputs": [
    {
     "data": {
      "text/plain": "array([[693, 172],\n       [170, 702]])"
     },
     "execution_count": 17,
     "metadata": {},
     "output_type": "execute_result"
    }
   ],
   "source": [
    "confusion_matrix(y_test, y_pred)"
   ],
   "metadata": {
    "collapsed": false,
    "pycharm": {
     "name": "#%%\n"
    }
   }
  },
  {
   "cell_type": "code",
   "execution_count": 18,
   "outputs": [
    {
     "name": "stdout",
     "output_type": "stream",
     "text": [
      "dict_keys(['loss', 'accuracy', 'val_loss', 'val_accuracy'])\n"
     ]
    }
   ],
   "source": [
    "print(history.history.keys())"
   ],
   "metadata": {
    "collapsed": false,
    "pycharm": {
     "name": "#%%\n"
    }
   }
  },
  {
   "cell_type": "code",
   "execution_count": 19,
   "outputs": [],
   "source": [
    "history = history.history"
   ],
   "metadata": {
    "collapsed": false,
    "pycharm": {
     "name": "#%%\n"
    }
   }
  },
  {
   "cell_type": "code",
   "execution_count": 20,
   "outputs": [
    {
     "data": {
      "text/plain": "<Figure size 432x288 with 1 Axes>",
      "image/png": "[encoded data removed]"
     },
     "metadata": {
      "needs_background": "light"
     },
     "output_type": "display_data"
    },
    {
     "data": {
      "text/plain": "<Figure size 432x288 with 1 Axes>",
      "image/png": "[encoded data removed]"
     },
     "metadata": {
      "needs_background": "light"
     },
     "output_type": "display_data"
    }
   ],
   "source": [
    "plt.subplots()\n",
    "plt.plot(history['accuracy'])\n",
    "plt.plot(history['val_accuracy'])\n",
    "plt.title('model accuracy')\n",
    "plt.ylabel('accuracy')\n",
    "plt.xlabel('epoch')\n",
    "plt.legend(['train', 'validation'])\n",
    "plt.show()\n",
    "\n",
    "plt.subplots()\n",
    "plt.plot(history['loss'])\n",
    "plt.plot(history['val_loss'])\n",
    "plt.title('model loss')\n",
    "plt.ylabel('loss')\n",
    "plt.xlabel('epoch')\n",
    "plt.legend(['train', 'validation'])\n",
    "plt.show()"
   ],
   "metadata": {
    "collapsed": false,
    "pycharm": {
     "name": "#%%\n"
    }
   }
  }
 ],
 "metadata": {
  "kernelspec": {
   "display_name": "Python 3",
   "language": "python",
   "name": "python3"
  },
  "language_info": {
   "codemirror_mode": {
    "name": "ipython",
    "version": 2
   },
   "file_extension": ".py",
   "mimetype": "text/x-python",
   "name": "python",
   "nbconvert_exporter": "python",
   "pygments_lexer": "ipython2",
   "version": "2.7.6"
  }
 },
 "nbformat": 4,
 "nbformat_minor": 0
}