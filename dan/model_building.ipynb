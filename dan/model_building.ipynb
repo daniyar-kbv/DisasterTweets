{
 "cells": [
  {
   "cell_type": "code",
   "execution_count": 1,
   "metadata": {
    "collapsed": true
   },
   "outputs": [],
   "source": [
    "from tensorflow.keras.layers import Embedding\n",
    "from sklearn.model_selection import train_test_split\n",
    "from tensorflow.keras.models import Sequential, Model\n",
    "from tensorflow.keras.layers import Input, Dense, Dropout, Bidirectional, LSTM, GRU\n",
    "from tensorflow.keras.initializers import Constant\n",
    "from keras.layers import TextVectorization\n",
    "import numpy as np\n",
    "import pickle\n",
    "import json"
   ]
  },
  {
   "cell_type": "code",
   "execution_count": 2,
   "outputs": [],
   "source": [
    "X = np.load('data/X.npy', allow_pickle=True)\n",
    "y = np.load('data/y.npy')\n",
    "embedding_matrix = np.load('data/embedding_matrix.npy')\n",
    "num_tokens = np.load('data/num_tokens.npy').item()\n",
    "embedding_dim = np.load('data/embedding_dim.npy').item()\n",
    "max_tokens = np.load('data/max_tokens.npy').item()\n",
    "max_len = np.load('data/max_len.npy').item()"
   ],
   "metadata": {
    "collapsed": false,
    "pycharm": {
     "name": "#%%\n"
    }
   }
  },
  {
   "cell_type": "code",
   "execution_count": 3,
   "outputs": [
    {
     "name": "stderr",
     "output_type": "stream",
     "text": [
      "2022-02-03 14:00:39.693652: I tensorflow/core/common_runtime/pluggable_device/pluggable_device_factory.cc:305] Could not identify NUMA node of platform GPU ID 0, defaulting to 0. Your kernel may not have been built with NUMA support.\n",
      "2022-02-03 14:00:39.693784: I tensorflow/core/common_runtime/pluggable_device/pluggable_device_factory.cc:271] Created TensorFlow device (/job:localhost/replica:0/task:0/device:GPU:0 with 0 MB memory) -> physical PluggableDevice (device: 0, name: METAL, pci bus id: <undefined>)\n",
      "2022-02-03 14:00:39.724311: W tensorflow/core/platform/profile_utils/cpu_utils.cc:128] Failed to get CPU frequency: 0 Hz\n",
      "2022-02-03 14:00:39.763196: I tensorflow/core/grappler/optimizers/custom_graph_optimizer_registry.cc:112] Plugin optimizer for device_type GPU is enabled.\n"
     ]
    },
    {
     "name": "stdout",
     "output_type": "stream",
     "text": [
      "Metal device set to: Apple M1 Pro\n"
     ]
    }
   ],
   "source": [
    "vectorizer = TextVectorization(max_tokens=max_tokens,\n",
    "                               standardize=None,\n",
    "                               ngrams=(1, 2),\n",
    "                               output_sequence_length=max_len)\n",
    "vectorizer.adapt(X)"
   ],
   "metadata": {
    "collapsed": false,
    "pycharm": {
     "name": "#%%\n"
    }
   }
  },
  {
   "cell_type": "code",
   "execution_count": 4,
   "outputs": [],
   "source": [
    "y = y.reshape((-1,1))"
   ],
   "metadata": {
    "collapsed": false,
    "pycharm": {
     "name": "#%%\n"
    }
   }
  },
  {
   "cell_type": "code",
   "execution_count": 5,
   "outputs": [
    {
     "name": "stdout",
     "output_type": "stream",
     "text": [
      "(8684,)\n",
      "(8684, 1)\n"
     ]
    }
   ],
   "source": [
    "print(X.shape)\n",
    "print(y.shape)"
   ],
   "metadata": {
    "collapsed": false,
    "pycharm": {
     "name": "#%%\n"
    }
   }
  },
  {
   "cell_type": "code",
   "execution_count": 6,
   "outputs": [],
   "source": [
    "x_train, x_test, y_train, y_test = train_test_split(X, y, test_size=0.2, random_state=0)"
   ],
   "metadata": {
    "collapsed": false,
    "pycharm": {
     "name": "#%%\n"
    }
   }
  },
  {
   "cell_type": "code",
   "execution_count": 7,
   "outputs": [],
   "source": [
    "np.save('data/x_train.npy', x_train)\n",
    "np.save('data/y_train.npy', y_train)\n",
    "np.save('data/x_test.npy', x_test)\n",
    "np.save('data/y_test.npy', y_test)"
   ],
   "metadata": {
    "collapsed": false,
    "pycharm": {
     "name": "#%%\n"
    }
   }
  },
  {
   "cell_type": "code",
   "execution_count": 8,
   "outputs": [
    {
     "name": "stdout",
     "output_type": "stream",
     "text": [
      "Model: \"model\"\n",
      "_________________________________________________________________\n",
      " Layer (type)                Output Shape              Param #   \n",
      "=================================================================\n",
      " input_1 (InputLayer)        [(None, 1)]               0         \n",
      "                                                                 \n",
      " text_vectorization (TextVec  (None, 68)               0         \n",
      " torization)                                                     \n",
      "                                                                 \n",
      " embedding (Embedding)       (None, 68, 100)           5000200   \n",
      "                                                                 \n",
      " bidirectional (Bidirectiona  (None, 68, 64)           25728     \n",
      " l)                                                              \n",
      "                                                                 \n",
      " dropout (Dropout)           (None, 68, 64)            0         \n",
      "                                                                 \n",
      " bidirectional_1 (Bidirectio  (None, 68, 32)           7872      \n",
      " nal)                                                            \n",
      "                                                                 \n",
      " dropout_1 (Dropout)         (None, 68, 32)            0         \n",
      "                                                                 \n",
      " dense (Dense)               (None, 68, 10)            330       \n",
      "                                                                 \n",
      " dropout_2 (Dropout)         (None, 68, 10)            0         \n",
      "                                                                 \n",
      " dense_1 (Dense)             (None, 68, 1)             11        \n",
      "                                                                 \n",
      "=================================================================\n",
      "Total params: 5,034,141\n",
      "Trainable params: 33,941\n",
      "Non-trainable params: 5,000,200\n",
      "_________________________________________________________________\n"
     ]
    }
   ],
   "source": [
    "sequences_input = Input(shape=(1), dtype='string')\n",
    "\n",
    "vectorizer_sequence = vectorizer(sequences_input)\n",
    "\n",
    "embedding_layer = Embedding(num_tokens,\n",
    "                            embedding_dim,\n",
    "                            embeddings_initializer=Constant(embedding_matrix),\n",
    "                            trainable=False)\n",
    "embedded_sequences = embedding_layer(vectorizer_sequence)\n",
    "\n",
    "x = Bidirectional(GRU(32, return_sequences=True))(embedded_sequences)\n",
    "x = Dropout(0.2)(x)\n",
    "x = Bidirectional(GRU(16, return_sequences=True))(x)\n",
    "x = Dropout(0.2)(x)\n",
    "x = Dense(10, activation=\"relu\")(x)\n",
    "x = Dropout(0.2)(x)\n",
    "\n",
    "preds = Dense(units=1,\n",
    "              kernel_initializer='uniform',\n",
    "              activation='sigmoid')(x)\n",
    "model = Model(sequences_input, preds)\n",
    "\n",
    "model.compile(optimizer='adam',\n",
    "                      loss='binary_crossentropy',\n",
    "                      metrics=['accuracy'])\n",
    "\n",
    "model.summary()"
   ],
   "metadata": {
    "collapsed": false,
    "pycharm": {
     "name": "#%%\n"
    }
   }
  },
  {
   "cell_type": "code",
   "execution_count": 9,
   "outputs": [
    {
     "name": "stdout",
     "output_type": "stream",
     "text": [
      "Epoch 1/200\n"
     ]
    },
    {
     "name": "stderr",
     "output_type": "stream",
     "text": [
      "2022-02-03 14:00:44.080001: I tensorflow/core/grappler/optimizers/custom_graph_optimizer_registry.cc:112] Plugin optimizer for device_type GPU is enabled.\n",
      "2022-02-03 14:00:44.612697: I tensorflow/core/grappler/optimizers/custom_graph_optimizer_registry.cc:112] Plugin optimizer for device_type GPU is enabled.\n",
      "2022-02-03 14:00:44.630011: I tensorflow/core/grappler/optimizers/custom_graph_optimizer_registry.cc:112] Plugin optimizer for device_type GPU is enabled.\n",
      "2022-02-03 14:00:45.504228: I tensorflow/core/grappler/optimizers/custom_graph_optimizer_registry.cc:112] Plugin optimizer for device_type GPU is enabled.\n",
      "2022-02-03 14:00:45.517708: I tensorflow/core/grappler/optimizers/custom_graph_optimizer_registry.cc:112] Plugin optimizer for device_type GPU is enabled.\n",
      "2022-02-03 14:00:47.501590: I tensorflow/core/grappler/optimizers/custom_graph_optimizer_registry.cc:112] Plugin optimizer for device_type GPU is enabled.\n",
      "2022-02-03 14:00:47.508594: I tensorflow/core/grappler/optimizers/custom_graph_optimizer_registry.cc:112] Plugin optimizer for device_type GPU is enabled.\n",
      "2022-02-03 14:00:48.916485: I tensorflow/core/grappler/optimizers/custom_graph_optimizer_registry.cc:112] Plugin optimizer for device_type GPU is enabled.\n",
      "2022-02-03 14:00:48.933663: I tensorflow/core/grappler/optimizers/custom_graph_optimizer_registry.cc:112] Plugin optimizer for device_type GPU is enabled.\n"
     ]
    },
    {
     "name": "stdout",
     "output_type": "stream",
     "text": [
      "9/9 [==============================] - ETA: 0s - loss: 0.6929 - accuracy: 0.4919"
     ]
    },
    {
     "name": "stderr",
     "output_type": "stream",
     "text": [
      "2022-02-03 14:00:51.994163: I tensorflow/core/grappler/optimizers/custom_graph_optimizer_registry.cc:112] Plugin optimizer for device_type GPU is enabled.\n",
      "2022-02-03 14:00:52.151049: I tensorflow/core/grappler/optimizers/custom_graph_optimizer_registry.cc:112] Plugin optimizer for device_type GPU is enabled.\n",
      "2022-02-03 14:00:52.161654: I tensorflow/core/grappler/optimizers/custom_graph_optimizer_registry.cc:112] Plugin optimizer for device_type GPU is enabled.\n",
      "2022-02-03 14:00:52.318201: I tensorflow/core/grappler/optimizers/custom_graph_optimizer_registry.cc:112] Plugin optimizer for device_type GPU is enabled.\n",
      "2022-02-03 14:00:52.325295: I tensorflow/core/grappler/optimizers/custom_graph_optimizer_registry.cc:112] Plugin optimizer for device_type GPU is enabled.\n"
     ]
    },
    {
     "name": "stdout",
     "output_type": "stream",
     "text": [
      "9/9 [==============================] - 12s 486ms/step - loss: 0.6929 - accuracy: 0.4919 - val_loss: 0.6921 - val_accuracy: 0.5290\n",
      "Epoch 2/200\n",
      "9/9 [==============================] - 2s 183ms/step - loss: 0.6916 - accuracy: 0.5319 - val_loss: 0.6905 - val_accuracy: 0.5377\n",
      "Epoch 3/200\n",
      "9/9 [==============================] - 2s 181ms/step - loss: 0.6894 - accuracy: 0.5351 - val_loss: 0.6874 - val_accuracy: 0.5400\n",
      "Epoch 4/200\n",
      "9/9 [==============================] - 2s 178ms/step - loss: 0.6861 - accuracy: 0.5470 - val_loss: 0.6832 - val_accuracy: 0.5592\n",
      "Epoch 5/200\n",
      "9/9 [==============================] - 2s 178ms/step - loss: 0.6810 - accuracy: 0.5679 - val_loss: 0.6758 - val_accuracy: 0.5758\n",
      "Epoch 6/200\n",
      "9/9 [==============================] - 2s 184ms/step - loss: 0.6696 - accuracy: 0.5921 - val_loss: 0.6553 - val_accuracy: 0.6069\n",
      "Epoch 7/200\n",
      "9/9 [==============================] - 2s 187ms/step - loss: 0.6232 - accuracy: 0.6684 - val_loss: 0.5808 - val_accuracy: 0.7120\n",
      "Epoch 8/200\n",
      "9/9 [==============================] - 2s 180ms/step - loss: 0.5777 - accuracy: 0.7276 - val_loss: 0.5770 - val_accuracy: 0.7204\n",
      "Epoch 9/200\n",
      "9/9 [==============================] - 2s 176ms/step - loss: 0.5741 - accuracy: 0.7278 - val_loss: 0.5911 - val_accuracy: 0.7075\n",
      "Epoch 10/200\n",
      "9/9 [==============================] - 2s 176ms/step - loss: 0.5858 - accuracy: 0.7220 - val_loss: 0.6137 - val_accuracy: 0.6964\n",
      "Epoch 11/200\n",
      "9/9 [==============================] - 2s 178ms/step - loss: 0.5961 - accuracy: 0.7095 - val_loss: 0.5817 - val_accuracy: 0.7120\n",
      "Epoch 12/200\n",
      "9/9 [==============================] - 2s 177ms/step - loss: 0.5719 - accuracy: 0.7285 - val_loss: 0.5753 - val_accuracy: 0.7136\n",
      "Epoch 13/200\n",
      "9/9 [==============================] - 2s 179ms/step - loss: 0.6181 - accuracy: 0.6717 - val_loss: 0.6123 - val_accuracy: 0.6664\n",
      "Epoch 14/200\n",
      "9/9 [==============================] - 2s 177ms/step - loss: 0.5895 - accuracy: 0.7004 - val_loss: 0.5715 - val_accuracy: 0.7167\n",
      "Epoch 15/200\n",
      "9/9 [==============================] - 2s 175ms/step - loss: 0.5697 - accuracy: 0.7238 - val_loss: 0.5672 - val_accuracy: 0.7191\n",
      "Epoch 16/200\n",
      "9/9 [==============================] - 2s 182ms/step - loss: 0.5681 - accuracy: 0.7237 - val_loss: 0.5652 - val_accuracy: 0.7194\n",
      "Epoch 17/200\n",
      "9/9 [==============================] - 2s 179ms/step - loss: 0.5672 - accuracy: 0.7233 - val_loss: 0.5621 - val_accuracy: 0.7236\n",
      "Epoch 18/200\n",
      "9/9 [==============================] - 2s 175ms/step - loss: 0.5619 - accuracy: 0.7296 - val_loss: 0.5599 - val_accuracy: 0.7334\n",
      "Epoch 19/200\n",
      "9/9 [==============================] - 2s 174ms/step - loss: 0.5609 - accuracy: 0.7429 - val_loss: 0.5574 - val_accuracy: 0.7374\n",
      "Epoch 20/200\n",
      "9/9 [==============================] - 2s 176ms/step - loss: 0.5592 - accuracy: 0.7329 - val_loss: 0.5636 - val_accuracy: 0.7157\n",
      "Epoch 21/200\n",
      "9/9 [==============================] - 2s 174ms/step - loss: 0.5624 - accuracy: 0.7228 - val_loss: 0.5550 - val_accuracy: 0.7266\n",
      "Epoch 22/200\n",
      "9/9 [==============================] - 2s 177ms/step - loss: 0.5545 - accuracy: 0.7346 - val_loss: 0.5539 - val_accuracy: 0.7268\n",
      "Epoch 23/200\n",
      "9/9 [==============================] - 2s 174ms/step - loss: 0.5565 - accuracy: 0.7283 - val_loss: 0.5525 - val_accuracy: 0.7277\n",
      "Epoch 24/200\n",
      "9/9 [==============================] - 2s 175ms/step - loss: 0.5500 - accuracy: 0.7371 - val_loss: 0.5589 - val_accuracy: 0.7189\n",
      "Epoch 25/200\n",
      "9/9 [==============================] - 2s 174ms/step - loss: 0.5596 - accuracy: 0.7227 - val_loss: 0.5508 - val_accuracy: 0.7348\n",
      "Epoch 26/200\n",
      "9/9 [==============================] - 2s 174ms/step - loss: 0.5466 - accuracy: 0.7422 - val_loss: 0.5559 - val_accuracy: 0.7198\n",
      "Epoch 27/200\n",
      "9/9 [==============================] - 2s 178ms/step - loss: 0.5558 - accuracy: 0.7235 - val_loss: 0.5657 - val_accuracy: 0.7068\n",
      "Epoch 28/200\n",
      "9/9 [==============================] - 2s 182ms/step - loss: 0.6108 - accuracy: 0.6616 - val_loss: 0.6222 - val_accuracy: 0.6409\n",
      "Epoch 29/200\n",
      "9/9 [==============================] - 2s 182ms/step - loss: 0.6032 - accuracy: 0.6659 - val_loss: 0.5770 - val_accuracy: 0.6919\n",
      "Epoch 30/200\n",
      "9/9 [==============================] - 2s 179ms/step - loss: 0.5793 - accuracy: 0.6948 - val_loss: 0.5738 - val_accuracy: 0.6985\n",
      "Epoch 31/200\n",
      "9/9 [==============================] - 2s 182ms/step - loss: 0.5626 - accuracy: 0.7195 - val_loss: 0.5616 - val_accuracy: 0.7171\n",
      "Epoch 32/200\n",
      "9/9 [==============================] - 2s 184ms/step - loss: 0.5741 - accuracy: 0.7044 - val_loss: 0.5866 - val_accuracy: 0.6828\n",
      "Epoch 33/200\n",
      "9/9 [==============================] - 2s 188ms/step - loss: 0.5781 - accuracy: 0.6990 - val_loss: 0.5730 - val_accuracy: 0.6998\n",
      "Epoch 34/200\n",
      "9/9 [==============================] - 2s 184ms/step - loss: 0.5831 - accuracy: 0.6931 - val_loss: 0.5857 - val_accuracy: 0.6833\n",
      "Epoch 35/200\n",
      "9/9 [==============================] - 2s 185ms/step - loss: 0.5764 - accuracy: 0.7012 - val_loss: 0.5714 - val_accuracy: 0.7006\n",
      "Epoch 36/200\n",
      "9/9 [==============================] - 2s 183ms/step - loss: 0.5856 - accuracy: 0.6876 - val_loss: 0.5904 - val_accuracy: 0.6752\n",
      "Epoch 37/200\n",
      "9/9 [==============================] - 2s 182ms/step - loss: 0.5760 - accuracy: 0.6972 - val_loss: 0.5569 - val_accuracy: 0.7164\n",
      "Epoch 38/200\n",
      "9/9 [==============================] - 2s 183ms/step - loss: 0.5498 - accuracy: 0.7291 - val_loss: 0.5512 - val_accuracy: 0.7231\n",
      "Epoch 39/200\n",
      "9/9 [==============================] - 2s 182ms/step - loss: 0.5582 - accuracy: 0.7163 - val_loss: 0.5663 - val_accuracy: 0.7025\n",
      "Epoch 40/200\n",
      "9/9 [==============================] - 2s 183ms/step - loss: 0.5592 - accuracy: 0.7135 - val_loss: 0.5589 - val_accuracy: 0.7057\n",
      "Epoch 41/200\n",
      "9/9 [==============================] - 2s 184ms/step - loss: 0.5838 - accuracy: 0.6850 - val_loss: 0.5944 - val_accuracy: 0.6713\n",
      "Epoch 42/200\n",
      "9/9 [==============================] - 2s 182ms/step - loss: 0.5909 - accuracy: 0.6837 - val_loss: 0.5837 - val_accuracy: 0.6937\n",
      "Epoch 43/200\n",
      "9/9 [==============================] - 2s 185ms/step - loss: 0.5827 - accuracy: 0.7000 - val_loss: 0.5785 - val_accuracy: 0.6977\n",
      "Epoch 44/200\n",
      "9/9 [==============================] - 2s 183ms/step - loss: 0.5738 - accuracy: 0.7168 - val_loss: 0.5713 - val_accuracy: 0.7337\n",
      "Epoch 45/200\n",
      "9/9 [==============================] - 2s 183ms/step - loss: 0.5619 - accuracy: 0.7392 - val_loss: 0.5587 - val_accuracy: 0.7386\n",
      "Epoch 46/200\n",
      "9/9 [==============================] - 2s 183ms/step - loss: 0.5548 - accuracy: 0.7477 - val_loss: 0.5569 - val_accuracy: 0.7410\n",
      "Epoch 47/200\n",
      "9/9 [==============================] - 2s 189ms/step - loss: 0.5469 - accuracy: 0.7516 - val_loss: 0.5474 - val_accuracy: 0.7403\n",
      "Epoch 48/200\n",
      "9/9 [==============================] - 2s 176ms/step - loss: 0.5400 - accuracy: 0.7524 - val_loss: 0.5439 - val_accuracy: 0.7410\n",
      "Epoch 49/200\n",
      "9/9 [==============================] - 2s 179ms/step - loss: 0.5448 - accuracy: 0.7501 - val_loss: 0.5509 - val_accuracy: 0.7399\n",
      "Epoch 50/200\n",
      "9/9 [==============================] - 2s 180ms/step - loss: 0.5431 - accuracy: 0.7527 - val_loss: 0.5414 - val_accuracy: 0.7427\n",
      "Epoch 51/200\n",
      "9/9 [==============================] - 2s 188ms/step - loss: 0.5371 - accuracy: 0.7525 - val_loss: 0.5383 - val_accuracy: 0.7434\n",
      "Epoch 52/200\n",
      "9/9 [==============================] - 2s 185ms/step - loss: 0.5316 - accuracy: 0.7543 - val_loss: 0.5349 - val_accuracy: 0.7456\n",
      "Epoch 53/200\n",
      "9/9 [==============================] - 2s 182ms/step - loss: 0.5282 - accuracy: 0.7552 - val_loss: 0.5360 - val_accuracy: 0.7446\n",
      "Epoch 54/200\n",
      "9/9 [==============================] - 2s 180ms/step - loss: 0.5278 - accuracy: 0.7537 - val_loss: 0.5381 - val_accuracy: 0.7450\n",
      "Epoch 55/200\n",
      "9/9 [==============================] - 2s 182ms/step - loss: 0.5283 - accuracy: 0.7533 - val_loss: 0.5345 - val_accuracy: 0.7453\n",
      "Epoch 56/200\n",
      "9/9 [==============================] - 2s 181ms/step - loss: 0.5224 - accuracy: 0.7558 - val_loss: 0.5289 - val_accuracy: 0.7483\n",
      "Epoch 57/200\n",
      "9/9 [==============================] - 2s 183ms/step - loss: 0.5213 - accuracy: 0.7545 - val_loss: 0.5294 - val_accuracy: 0.7489\n",
      "Epoch 58/200\n",
      "9/9 [==============================] - 2s 182ms/step - loss: 0.5201 - accuracy: 0.7556 - val_loss: 0.5300 - val_accuracy: 0.7468\n",
      "Epoch 59/200\n",
      "9/9 [==============================] - 2s 178ms/step - loss: 0.5188 - accuracy: 0.7557 - val_loss: 0.5297 - val_accuracy: 0.7479\n",
      "Epoch 60/200\n",
      "9/9 [==============================] - 2s 185ms/step - loss: 0.5180 - accuracy: 0.7574 - val_loss: 0.5312 - val_accuracy: 0.7483\n",
      "Epoch 61/200\n",
      "9/9 [==============================] - 2s 176ms/step - loss: 0.5214 - accuracy: 0.7567 - val_loss: 0.5278 - val_accuracy: 0.7464\n",
      "Epoch 62/200\n",
      "9/9 [==============================] - 2s 179ms/step - loss: 0.5323 - accuracy: 0.7521 - val_loss: 0.5419 - val_accuracy: 0.7444\n",
      "Epoch 63/200\n",
      "9/9 [==============================] - 2s 180ms/step - loss: 0.5351 - accuracy: 0.7491 - val_loss: 0.5330 - val_accuracy: 0.7371\n",
      "Epoch 64/200\n",
      "9/9 [==============================] - 2s 179ms/step - loss: 0.5269 - accuracy: 0.7497 - val_loss: 0.5298 - val_accuracy: 0.7442\n",
      "Epoch 65/200\n",
      "9/9 [==============================] - 2s 181ms/step - loss: 0.5236 - accuracy: 0.7560 - val_loss: 0.5338 - val_accuracy: 0.7466\n",
      "Epoch 66/200\n",
      "9/9 [==============================] - 2s 176ms/step - loss: 0.5197 - accuracy: 0.7564 - val_loss: 0.5332 - val_accuracy: 0.7446\n",
      "Epoch 67/200\n",
      "9/9 [==============================] - 2s 177ms/step - loss: 0.5210 - accuracy: 0.7534 - val_loss: 0.5301 - val_accuracy: 0.7459\n",
      "Epoch 68/200\n",
      "9/9 [==============================] - 2s 180ms/step - loss: 0.5153 - accuracy: 0.7562 - val_loss: 0.5300 - val_accuracy: 0.7457\n",
      "Epoch 69/200\n",
      "9/9 [==============================] - 2s 180ms/step - loss: 0.5160 - accuracy: 0.7556 - val_loss: 0.5296 - val_accuracy: 0.7465\n",
      "Epoch 70/200\n",
      "9/9 [==============================] - 2s 182ms/step - loss: 0.5151 - accuracy: 0.7570 - val_loss: 0.5264 - val_accuracy: 0.7464\n",
      "Epoch 71/200\n",
      "9/9 [==============================] - 2s 179ms/step - loss: 0.5124 - accuracy: 0.7558 - val_loss: 0.5241 - val_accuracy: 0.7472\n",
      "Epoch 72/200\n",
      "9/9 [==============================] - 2s 182ms/step - loss: 0.5130 - accuracy: 0.7553 - val_loss: 0.5251 - val_accuracy: 0.7475\n",
      "Epoch 73/200\n",
      "9/9 [==============================] - 2s 187ms/step - loss: 0.5104 - accuracy: 0.7561 - val_loss: 0.5242 - val_accuracy: 0.7483\n",
      "Epoch 74/200\n",
      "9/9 [==============================] - 2s 184ms/step - loss: 0.5092 - accuracy: 0.7557 - val_loss: 0.5228 - val_accuracy: 0.7476\n",
      "Epoch 75/200\n",
      "9/9 [==============================] - 2s 181ms/step - loss: 0.5069 - accuracy: 0.7576 - val_loss: 0.5216 - val_accuracy: 0.7474\n",
      "Epoch 76/200\n",
      "9/9 [==============================] - 2s 183ms/step - loss: 0.5051 - accuracy: 0.7578 - val_loss: 0.5200 - val_accuracy: 0.7486\n",
      "Epoch 77/200\n",
      "9/9 [==============================] - 2s 182ms/step - loss: 0.5058 - accuracy: 0.7566 - val_loss: 0.5195 - val_accuracy: 0.7500\n",
      "Epoch 78/200\n",
      "9/9 [==============================] - 2s 182ms/step - loss: 0.5109 - accuracy: 0.7572 - val_loss: 0.5257 - val_accuracy: 0.7498\n",
      "Epoch 79/200\n",
      "9/9 [==============================] - 2s 183ms/step - loss: 0.5054 - accuracy: 0.7585 - val_loss: 0.5234 - val_accuracy: 0.7511\n",
      "Epoch 80/200\n",
      "9/9 [==============================] - 2s 183ms/step - loss: 0.5018 - accuracy: 0.7594 - val_loss: 0.5215 - val_accuracy: 0.7487\n",
      "Epoch 81/200\n",
      "9/9 [==============================] - 2s 182ms/step - loss: 0.5021 - accuracy: 0.7572 - val_loss: 0.5234 - val_accuracy: 0.7506\n",
      "Epoch 82/200\n",
      "9/9 [==============================] - 2s 181ms/step - loss: 0.5015 - accuracy: 0.7578 - val_loss: 0.5217 - val_accuracy: 0.7506\n",
      "Epoch 83/200\n",
      "9/9 [==============================] - 2s 181ms/step - loss: 0.4986 - accuracy: 0.7577 - val_loss: 0.5233 - val_accuracy: 0.7511\n",
      "Epoch 84/200\n",
      "9/9 [==============================] - 2s 183ms/step - loss: 0.4973 - accuracy: 0.7599 - val_loss: 0.5222 - val_accuracy: 0.7493\n",
      "Epoch 85/200\n",
      "9/9 [==============================] - 2s 183ms/step - loss: 0.4987 - accuracy: 0.7583 - val_loss: 0.5226 - val_accuracy: 0.7506\n",
      "Epoch 86/200\n",
      "9/9 [==============================] - 2s 183ms/step - loss: 0.4997 - accuracy: 0.7588 - val_loss: 0.5302 - val_accuracy: 0.7495\n",
      "Epoch 87/200\n",
      "9/9 [==============================] - 2s 183ms/step - loss: 0.5006 - accuracy: 0.7582 - val_loss: 0.5251 - val_accuracy: 0.7499\n",
      "Epoch 88/200\n",
      "9/9 [==============================] - 2s 182ms/step - loss: 0.5006 - accuracy: 0.7607 - val_loss: 0.5245 - val_accuracy: 0.7531\n",
      "Epoch 89/200\n",
      "9/9 [==============================] - 2s 183ms/step - loss: 0.4997 - accuracy: 0.7587 - val_loss: 0.5283 - val_accuracy: 0.7541\n",
      "Epoch 90/200\n",
      "9/9 [==============================] - 2s 184ms/step - loss: 0.4980 - accuracy: 0.7602 - val_loss: 0.5246 - val_accuracy: 0.7524\n",
      "Epoch 91/200\n",
      "9/9 [==============================] - 2s 183ms/step - loss: 0.4944 - accuracy: 0.7606 - val_loss: 0.5247 - val_accuracy: 0.7523\n",
      "Epoch 92/200\n",
      "9/9 [==============================] - 2s 181ms/step - loss: 0.4949 - accuracy: 0.7592 - val_loss: 0.5221 - val_accuracy: 0.7534\n",
      "Epoch 93/200\n",
      "9/9 [==============================] - 2s 185ms/step - loss: 0.4936 - accuracy: 0.7590 - val_loss: 0.5241 - val_accuracy: 0.7500\n",
      "Epoch 94/200\n",
      "9/9 [==============================] - 2s 188ms/step - loss: 0.4952 - accuracy: 0.7590 - val_loss: 0.5228 - val_accuracy: 0.7515\n",
      "Epoch 95/200\n",
      "9/9 [==============================] - 2s 188ms/step - loss: 0.4941 - accuracy: 0.7608 - val_loss: 0.5242 - val_accuracy: 0.7500\n",
      "Epoch 96/200\n",
      "9/9 [==============================] - 2s 180ms/step - loss: 0.4993 - accuracy: 0.7605 - val_loss: 0.5305 - val_accuracy: 0.7504\n",
      "Epoch 97/200\n",
      "9/9 [==============================] - 2s 184ms/step - loss: 0.4992 - accuracy: 0.7604 - val_loss: 0.5245 - val_accuracy: 0.7514\n",
      "Epoch 98/200\n",
      "9/9 [==============================] - 2s 181ms/step - loss: 0.4936 - accuracy: 0.7611 - val_loss: 0.5206 - val_accuracy: 0.7532\n",
      "Epoch 99/200\n",
      "9/9 [==============================] - 2s 189ms/step - loss: 0.4902 - accuracy: 0.7625 - val_loss: 0.5195 - val_accuracy: 0.7531\n",
      "Epoch 100/200\n",
      "9/9 [==============================] - 2s 180ms/step - loss: 0.4902 - accuracy: 0.7636 - val_loss: 0.5203 - val_accuracy: 0.7534\n",
      "Epoch 101/200\n",
      "9/9 [==============================] - 2s 177ms/step - loss: 0.4913 - accuracy: 0.7624 - val_loss: 0.5211 - val_accuracy: 0.7547\n",
      "Epoch 102/200\n",
      "9/9 [==============================] - 2s 179ms/step - loss: 0.4913 - accuracy: 0.7631 - val_loss: 0.5221 - val_accuracy: 0.7527\n",
      "Epoch 103/200\n",
      "9/9 [==============================] - 2s 174ms/step - loss: 0.5085 - accuracy: 0.7602 - val_loss: 0.5206 - val_accuracy: 0.7548\n",
      "Epoch 104/200\n",
      "9/9 [==============================] - 2s 179ms/step - loss: 0.5001 - accuracy: 0.7594 - val_loss: 0.5234 - val_accuracy: 0.7457\n",
      "Epoch 105/200\n",
      "9/9 [==============================] - 2s 177ms/step - loss: 0.5004 - accuracy: 0.7609 - val_loss: 0.5217 - val_accuracy: 0.7545\n",
      "Epoch 106/200\n",
      "9/9 [==============================] - 2s 179ms/step - loss: 0.4992 - accuracy: 0.7607 - val_loss: 0.5237 - val_accuracy: 0.7529\n",
      "Epoch 107/200\n",
      "9/9 [==============================] - 2s 177ms/step - loss: 0.4949 - accuracy: 0.7610 - val_loss: 0.5200 - val_accuracy: 0.7538\n",
      "Epoch 108/200\n",
      "9/9 [==============================] - 2s 176ms/step - loss: 0.4924 - accuracy: 0.7619 - val_loss: 0.5174 - val_accuracy: 0.7556\n",
      "Epoch 109/200\n",
      "9/9 [==============================] - 2s 179ms/step - loss: 0.4909 - accuracy: 0.7626 - val_loss: 0.5199 - val_accuracy: 0.7537\n",
      "Epoch 110/200\n",
      "9/9 [==============================] - 2s 183ms/step - loss: 0.4899 - accuracy: 0.7613 - val_loss: 0.5209 - val_accuracy: 0.7535\n",
      "Epoch 111/200\n",
      "9/9 [==============================] - 2s 177ms/step - loss: 0.4881 - accuracy: 0.7623 - val_loss: 0.5209 - val_accuracy: 0.7532\n",
      "Epoch 112/200\n",
      "9/9 [==============================] - 2s 179ms/step - loss: 0.4881 - accuracy: 0.7622 - val_loss: 0.5219 - val_accuracy: 0.7529\n",
      "Epoch 113/200\n",
      "9/9 [==============================] - 2s 177ms/step - loss: 0.4863 - accuracy: 0.7627 - val_loss: 0.5234 - val_accuracy: 0.7528\n",
      "Epoch 114/200\n",
      "9/9 [==============================] - 2s 177ms/step - loss: 0.4930 - accuracy: 0.7612 - val_loss: 0.5207 - val_accuracy: 0.7556\n",
      "Epoch 115/200\n",
      "9/9 [==============================] - 2s 178ms/step - loss: 0.4974 - accuracy: 0.7622 - val_loss: 0.5181 - val_accuracy: 0.7544\n",
      "Epoch 116/200\n",
      "9/9 [==============================] - 2s 178ms/step - loss: 0.5022 - accuracy: 0.7622 - val_loss: 0.5182 - val_accuracy: 0.7546\n",
      "Epoch 117/200\n",
      "9/9 [==============================] - 2s 176ms/step - loss: 0.4919 - accuracy: 0.7651 - val_loss: 0.5237 - val_accuracy: 0.7551\n",
      "Epoch 118/200\n",
      "9/9 [==============================] - 2s 181ms/step - loss: 0.4908 - accuracy: 0.7653 - val_loss: 0.5231 - val_accuracy: 0.7537\n",
      "Epoch 119/200\n",
      "9/9 [==============================] - 2s 181ms/step - loss: 0.4930 - accuracy: 0.7650 - val_loss: 0.5224 - val_accuracy: 0.7523\n",
      "Epoch 120/200\n",
      "9/9 [==============================] - 2s 180ms/step - loss: 0.4925 - accuracy: 0.7647 - val_loss: 0.5196 - val_accuracy: 0.7529\n",
      "Epoch 121/200\n",
      "9/9 [==============================] - 2s 180ms/step - loss: 0.4874 - accuracy: 0.7641 - val_loss: 0.5180 - val_accuracy: 0.7562\n",
      "Epoch 122/200\n",
      "9/9 [==============================] - 2s 180ms/step - loss: 0.4867 - accuracy: 0.7649 - val_loss: 0.5194 - val_accuracy: 0.7555\n",
      "Epoch 123/200\n",
      "9/9 [==============================] - 2s 178ms/step - loss: 0.4843 - accuracy: 0.7644 - val_loss: 0.5211 - val_accuracy: 0.7553\n",
      "Epoch 124/200\n",
      "9/9 [==============================] - 2s 179ms/step - loss: 0.4960 - accuracy: 0.7653 - val_loss: 0.5250 - val_accuracy: 0.7509\n",
      "Epoch 125/200\n",
      "9/9 [==============================] - 2s 176ms/step - loss: 0.4923 - accuracy: 0.7642 - val_loss: 0.5228 - val_accuracy: 0.7564\n",
      "Epoch 126/200\n",
      "9/9 [==============================] - 2s 179ms/step - loss: 0.4894 - accuracy: 0.7652 - val_loss: 0.5207 - val_accuracy: 0.7567\n",
      "Epoch 127/200\n",
      "9/9 [==============================] - 2s 179ms/step - loss: 0.4888 - accuracy: 0.7645 - val_loss: 0.5186 - val_accuracy: 0.7551\n",
      "Epoch 128/200\n",
      "9/9 [==============================] - 2s 178ms/step - loss: 0.4874 - accuracy: 0.7645 - val_loss: 0.5206 - val_accuracy: 0.7521\n",
      "Epoch 129/200\n",
      "9/9 [==============================] - 2s 181ms/step - loss: 0.4919 - accuracy: 0.7630 - val_loss: 0.5198 - val_accuracy: 0.7543\n",
      "Epoch 130/200\n",
      "9/9 [==============================] - 2s 180ms/step - loss: 0.4925 - accuracy: 0.7656 - val_loss: 0.5230 - val_accuracy: 0.7570\n",
      "Epoch 131/200\n",
      "9/9 [==============================] - 2s 178ms/step - loss: 0.5214 - accuracy: 0.7608 - val_loss: 0.5383 - val_accuracy: 0.7509\n",
      "Epoch 132/200\n",
      "9/9 [==============================] - 2s 180ms/step - loss: 0.5237 - accuracy: 0.7596 - val_loss: 0.5228 - val_accuracy: 0.7537\n",
      "Epoch 133/200\n",
      "9/9 [==============================] - 2s 179ms/step - loss: 0.5059 - accuracy: 0.7618 - val_loss: 0.5175 - val_accuracy: 0.7499\n",
      "Epoch 134/200\n",
      "9/9 [==============================] - 2s 178ms/step - loss: 0.4958 - accuracy: 0.7629 - val_loss: 0.5209 - val_accuracy: 0.7526\n",
      "Epoch 135/200\n",
      "9/9 [==============================] - 2s 177ms/step - loss: 0.4963 - accuracy: 0.7661 - val_loss: 0.5244 - val_accuracy: 0.7553\n",
      "Epoch 136/200\n",
      "9/9 [==============================] - 2s 178ms/step - loss: 0.4918 - accuracy: 0.7643 - val_loss: 0.5177 - val_accuracy: 0.7530\n",
      "Epoch 137/200\n",
      "9/9 [==============================] - 2s 175ms/step - loss: 0.5338 - accuracy: 0.7603 - val_loss: 0.5587 - val_accuracy: 0.7532\n",
      "Epoch 138/200\n",
      "9/9 [==============================] - 2s 180ms/step - loss: 0.5439 - accuracy: 0.7607 - val_loss: 0.5396 - val_accuracy: 0.7565\n",
      "Epoch 139/200\n",
      "9/9 [==============================] - 2s 180ms/step - loss: 0.5271 - accuracy: 0.7623 - val_loss: 0.5330 - val_accuracy: 0.7450\n",
      "Epoch 140/200\n",
      "9/9 [==============================] - 2s 177ms/step - loss: 0.5286 - accuracy: 0.7486 - val_loss: 0.5337 - val_accuracy: 0.7340\n",
      "Epoch 141/200\n",
      "9/9 [==============================] - 2s 178ms/step - loss: 0.5192 - accuracy: 0.7610 - val_loss: 0.5276 - val_accuracy: 0.7562\n",
      "Epoch 142/200\n",
      "9/9 [==============================] - 2s 180ms/step - loss: 0.5202 - accuracy: 0.7655 - val_loss: 0.5304 - val_accuracy: 0.7548\n",
      "Epoch 143/200\n",
      "9/9 [==============================] - 2s 178ms/step - loss: 0.5167 - accuracy: 0.7644 - val_loss: 0.5233 - val_accuracy: 0.7529\n",
      "Epoch 144/200\n",
      "9/9 [==============================] - 2s 178ms/step - loss: 0.5161 - accuracy: 0.7607 - val_loss: 0.5218 - val_accuracy: 0.7514\n",
      "Epoch 145/200\n",
      "9/9 [==============================] - 2s 179ms/step - loss: 0.5108 - accuracy: 0.7644 - val_loss: 0.5201 - val_accuracy: 0.7565\n",
      "Epoch 146/200\n",
      "9/9 [==============================] - 2s 178ms/step - loss: 0.5106 - accuracy: 0.7652 - val_loss: 0.5182 - val_accuracy: 0.7559\n",
      "Epoch 147/200\n",
      "9/9 [==============================] - 2s 178ms/step - loss: 0.5082 - accuracy: 0.7645 - val_loss: 0.5229 - val_accuracy: 0.7473\n",
      "Epoch 148/200\n",
      "9/9 [==============================] - 2s 179ms/step - loss: 0.5123 - accuracy: 0.7606 - val_loss: 0.5148 - val_accuracy: 0.7565\n",
      "Epoch 149/200\n",
      "9/9 [==============================] - 2s 181ms/step - loss: 0.5063 - accuracy: 0.7640 - val_loss: 0.5177 - val_accuracy: 0.7572\n",
      "Epoch 150/200\n",
      "9/9 [==============================] - 2s 177ms/step - loss: 0.5045 - accuracy: 0.7655 - val_loss: 0.5172 - val_accuracy: 0.7558\n",
      "Epoch 151/200\n",
      "9/9 [==============================] - 2s 176ms/step - loss: 0.5117 - accuracy: 0.7615 - val_loss: 0.5136 - val_accuracy: 0.7565\n",
      "Epoch 152/200\n",
      "9/9 [==============================] - 2s 177ms/step - loss: 0.5153 - accuracy: 0.7587 - val_loss: 0.5400 - val_accuracy: 0.7342\n",
      "Epoch 153/200\n",
      "9/9 [==============================] - 2s 175ms/step - loss: 0.5155 - accuracy: 0.7586 - val_loss: 0.5150 - val_accuracy: 0.7567\n",
      "Epoch 154/200\n",
      "9/9 [==============================] - 2s 179ms/step - loss: 0.5049 - accuracy: 0.7659 - val_loss: 0.5168 - val_accuracy: 0.7565\n",
      "Epoch 155/200\n",
      "9/9 [==============================] - 2s 178ms/step - loss: 0.5019 - accuracy: 0.7665 - val_loss: 0.5160 - val_accuracy: 0.7562\n",
      "Epoch 156/200\n",
      "9/9 [==============================] - 2s 174ms/step - loss: 0.5045 - accuracy: 0.7643 - val_loss: 0.5145 - val_accuracy: 0.7567\n",
      "Epoch 157/200\n",
      "9/9 [==============================] - 2s 175ms/step - loss: 0.5019 - accuracy: 0.7664 - val_loss: 0.5123 - val_accuracy: 0.7599\n",
      "Epoch 158/200\n",
      "9/9 [==============================] - 2s 175ms/step - loss: 0.5028 - accuracy: 0.7646 - val_loss: 0.5128 - val_accuracy: 0.7584\n",
      "Epoch 159/200\n",
      "9/9 [==============================] - 2s 180ms/step - loss: 0.5015 - accuracy: 0.7667 - val_loss: 0.5126 - val_accuracy: 0.7605\n",
      "Epoch 160/200\n",
      "9/9 [==============================] - 2s 179ms/step - loss: 0.5014 - accuracy: 0.7667 - val_loss: 0.5119 - val_accuracy: 0.7590\n",
      "Epoch 161/200\n",
      "9/9 [==============================] - 2s 179ms/step - loss: 0.5052 - accuracy: 0.7654 - val_loss: 0.5185 - val_accuracy: 0.7548\n",
      "Epoch 162/200\n",
      "9/9 [==============================] - 2s 178ms/step - loss: 0.5039 - accuracy: 0.7666 - val_loss: 0.5114 - val_accuracy: 0.7587\n",
      "Epoch 163/200\n",
      "9/9 [==============================] - 2s 176ms/step - loss: 0.5005 - accuracy: 0.7663 - val_loss: 0.5113 - val_accuracy: 0.7589\n",
      "Epoch 164/200\n",
      "9/9 [==============================] - 2s 176ms/step - loss: 0.4991 - accuracy: 0.7671 - val_loss: 0.5135 - val_accuracy: 0.7590\n",
      "Epoch 165/200\n",
      "9/9 [==============================] - 2s 179ms/step - loss: 0.4980 - accuracy: 0.7670 - val_loss: 0.5138 - val_accuracy: 0.7598\n",
      "Epoch 166/200\n",
      "9/9 [==============================] - 2s 179ms/step - loss: 0.4992 - accuracy: 0.7680 - val_loss: 0.5144 - val_accuracy: 0.7590\n",
      "Epoch 167/200\n",
      "9/9 [==============================] - 2s 178ms/step - loss: 0.4955 - accuracy: 0.7691 - val_loss: 0.5121 - val_accuracy: 0.7607\n",
      "Epoch 168/200\n",
      "9/9 [==============================] - 2s 176ms/step - loss: 0.4974 - accuracy: 0.7669 - val_loss: 0.5126 - val_accuracy: 0.7563\n",
      "Epoch 169/200\n",
      "9/9 [==============================] - 2s 175ms/step - loss: 0.4971 - accuracy: 0.7664 - val_loss: 0.5096 - val_accuracy: 0.7567\n",
      "Epoch 170/200\n",
      "9/9 [==============================] - 2s 175ms/step - loss: 0.4969 - accuracy: 0.7677 - val_loss: 0.5093 - val_accuracy: 0.7560\n",
      "Epoch 171/200\n",
      "9/9 [==============================] - 2s 175ms/step - loss: 0.4955 - accuracy: 0.7681 - val_loss: 0.5105 - val_accuracy: 0.7568\n",
      "Epoch 172/200\n",
      "9/9 [==============================] - 2s 175ms/step - loss: 0.4959 - accuracy: 0.7693 - val_loss: 0.5122 - val_accuracy: 0.7609\n",
      "Epoch 173/200\n",
      "9/9 [==============================] - 2s 175ms/step - loss: 0.5012 - accuracy: 0.7648 - val_loss: 0.5076 - val_accuracy: 0.7604\n",
      "Epoch 174/200\n",
      "9/9 [==============================] - 2s 175ms/step - loss: 0.4963 - accuracy: 0.7671 - val_loss: 0.5153 - val_accuracy: 0.7497\n",
      "Epoch 175/200\n",
      "9/9 [==============================] - 2s 174ms/step - loss: 0.4997 - accuracy: 0.7659 - val_loss: 0.5061 - val_accuracy: 0.7591\n",
      "Epoch 176/200\n",
      "9/9 [==============================] - 2s 175ms/step - loss: 0.5010 - accuracy: 0.7636 - val_loss: 0.5099 - val_accuracy: 0.7560\n",
      "Epoch 177/200\n",
      "9/9 [==============================] - 2s 176ms/step - loss: 0.4995 - accuracy: 0.7651 - val_loss: 0.5109 - val_accuracy: 0.7563\n",
      "Epoch 178/200\n",
      "9/9 [==============================] - 2s 176ms/step - loss: 0.5022 - accuracy: 0.7671 - val_loss: 0.5143 - val_accuracy: 0.7549\n",
      "Epoch 179/200\n",
      "9/9 [==============================] - 2s 175ms/step - loss: 0.5055 - accuracy: 0.7644 - val_loss: 0.5204 - val_accuracy: 0.7470\n",
      "Epoch 180/200\n",
      "9/9 [==============================] - 2s 177ms/step - loss: 0.5150 - accuracy: 0.7615 - val_loss: 0.5406 - val_accuracy: 0.7404\n",
      "Epoch 181/200\n",
      "9/9 [==============================] - 2s 176ms/step - loss: 0.5346 - accuracy: 0.7589 - val_loss: 0.5366 - val_accuracy: 0.7542\n",
      "Epoch 182/200\n",
      "9/9 [==============================] - 2s 176ms/step - loss: 0.5412 - accuracy: 0.7535 - val_loss: 0.5382 - val_accuracy: 0.7493\n",
      "Epoch 183/200\n",
      "9/9 [==============================] - 2s 178ms/step - loss: 0.5383 - accuracy: 0.7503 - val_loss: 0.5351 - val_accuracy: 0.7438\n",
      "Epoch 184/200\n",
      "9/9 [==============================] - 2s 178ms/step - loss: 0.5300 - accuracy: 0.7512 - val_loss: 0.5295 - val_accuracy: 0.7452\n",
      "Epoch 185/200\n",
      "9/9 [==============================] - 2s 176ms/step - loss: 0.5261 - accuracy: 0.7532 - val_loss: 0.5279 - val_accuracy: 0.7468\n",
      "Epoch 186/200\n",
      "9/9 [==============================] - 2s 179ms/step - loss: 0.5263 - accuracy: 0.7534 - val_loss: 0.5266 - val_accuracy: 0.7495\n",
      "Epoch 187/200\n",
      "9/9 [==============================] - 2s 179ms/step - loss: 0.5262 - accuracy: 0.7543 - val_loss: 0.5281 - val_accuracy: 0.7516\n",
      "Epoch 188/200\n",
      "9/9 [==============================] - 2s 181ms/step - loss: 0.5239 - accuracy: 0.7551 - val_loss: 0.5263 - val_accuracy: 0.7471\n",
      "Epoch 189/200\n",
      "9/9 [==============================] - 2s 178ms/step - loss: 0.5211 - accuracy: 0.7554 - val_loss: 0.5257 - val_accuracy: 0.7475\n",
      "Epoch 190/200\n",
      "9/9 [==============================] - 2s 178ms/step - loss: 0.5199 - accuracy: 0.7552 - val_loss: 0.5267 - val_accuracy: 0.7468\n",
      "Epoch 191/200\n",
      "9/9 [==============================] - 2s 176ms/step - loss: 0.5206 - accuracy: 0.7554 - val_loss: 0.5279 - val_accuracy: 0.7466\n",
      "Epoch 192/200\n",
      "9/9 [==============================] - 2s 176ms/step - loss: 0.5194 - accuracy: 0.7561 - val_loss: 0.5265 - val_accuracy: 0.7483\n",
      "Epoch 193/200\n",
      "9/9 [==============================] - 2s 177ms/step - loss: 0.5182 - accuracy: 0.7572 - val_loss: 0.5254 - val_accuracy: 0.7489\n",
      "Epoch 194/200\n",
      "9/9 [==============================] - 2s 177ms/step - loss: 0.5173 - accuracy: 0.7559 - val_loss: 0.5243 - val_accuracy: 0.7491\n",
      "Epoch 195/200\n",
      "9/9 [==============================] - 2s 177ms/step - loss: 0.5148 - accuracy: 0.7578 - val_loss: 0.5238 - val_accuracy: 0.7458\n",
      "Epoch 196/200\n",
      "9/9 [==============================] - 2s 179ms/step - loss: 0.5147 - accuracy: 0.7575 - val_loss: 0.5232 - val_accuracy: 0.7453\n",
      "Epoch 197/200\n",
      "9/9 [==============================] - 2s 180ms/step - loss: 0.5137 - accuracy: 0.7584 - val_loss: 0.5231 - val_accuracy: 0.7467\n",
      "Epoch 198/200\n",
      "9/9 [==============================] - 2s 182ms/step - loss: 0.5135 - accuracy: 0.7595 - val_loss: 0.5226 - val_accuracy: 0.7490\n",
      "Epoch 199/200\n",
      "9/9 [==============================] - 2s 180ms/step - loss: 0.5120 - accuracy: 0.7609 - val_loss: 0.5203 - val_accuracy: 0.7521\n",
      "Epoch 200/200\n",
      "9/9 [==============================] - 2s 181ms/step - loss: 0.5129 - accuracy: 0.7589 - val_loss: 0.5239 - val_accuracy: 0.7429\n"
     ]
    },
    {
     "name": "stderr",
     "output_type": "stream",
     "text": [
      "2022-02-03 14:06:18.073504: W tensorflow/python/util/util.cc:368] Sets are not currently considered sequences, but this may change in the future, so consider avoiding using them.\n",
      "2022-02-03 14:06:23.761036: I tensorflow/core/grappler/optimizers/custom_graph_optimizer_registry.cc:112] Plugin optimizer for device_type GPU is enabled.\n",
      "WARNING:absl:Found untraced functions such as gru_cell_1_layer_call_fn, gru_cell_1_layer_call_and_return_conditional_losses, gru_cell_2_layer_call_fn, gru_cell_2_layer_call_and_return_conditional_losses, gru_cell_4_layer_call_fn while saving (showing 5 of 20). These functions will not be directly callable after loading.\n"
     ]
    },
    {
     "name": "stdout",
     "output_type": "stream",
     "text": [
      "INFO:tensorflow:Assets written to: models/model8.tf/assets\n"
     ]
    },
    {
     "name": "stderr",
     "output_type": "stream",
     "text": [
      "INFO:tensorflow:Assets written to: models/model8.tf/assets\n",
      "WARNING:absl:<keras.layers.recurrent.GRUCell object at 0x2854a35e0> has the same name 'GRUCell' as a built-in Keras object. Consider renaming <class 'keras.layers.recurrent.GRUCell'> to avoid naming conflicts when loading with `tf.keras.models.load_model`. If renaming is not possible, pass the object in the `custom_objects` parameter of the load function.\n",
      "WARNING:absl:<keras.layers.recurrent.GRUCell object at 0x2854a3790> has the same name 'GRUCell' as a built-in Keras object. Consider renaming <class 'keras.layers.recurrent.GRUCell'> to avoid naming conflicts when loading with `tf.keras.models.load_model`. If renaming is not possible, pass the object in the `custom_objects` parameter of the load function.\n",
      "WARNING:absl:<keras.layers.recurrent.GRUCell object at 0x287d817c0> has the same name 'GRUCell' as a built-in Keras object. Consider renaming <class 'keras.layers.recurrent.GRUCell'> to avoid naming conflicts when loading with `tf.keras.models.load_model`. If renaming is not possible, pass the object in the `custom_objects` parameter of the load function.\n",
      "WARNING:absl:<keras.layers.recurrent.GRUCell object at 0x287d81d60> has the same name 'GRUCell' as a built-in Keras object. Consider renaming <class 'keras.layers.recurrent.GRUCell'> to avoid naming conflicts when loading with `tf.keras.models.load_model`. If renaming is not possible, pass the object in the `custom_objects` parameter of the load function.\n"
     ]
    }
   ],
   "source": [
    "n_samples = x_train.shape[0]\n",
    "model_n = 8\n",
    "\n",
    "history = model.fit(x_train,\n",
    "                    y_train,\n",
    "                    validation_split=0.2,\n",
    "                    batch_size=int(n_samples*0.1),\n",
    "                    epochs=200)\n",
    "\n",
    "model.save(f'models/model{model_n}.tf')\n",
    "\n",
    "with open(f'models/history{model_n}.json', 'w') as f:\n",
    "    json.dump(history.history, f)"
   ],
   "metadata": {
    "collapsed": false,
    "pycharm": {
     "name": "#%%\n"
    }
   }
  },
  {
   "cell_type": "code",
   "execution_count": 10,
   "outputs": [],
   "source": [
    "from sklearn.metrics import accuracy_score, confusion_matrix\n",
    "import matplotlib.pyplot as plt\n",
    "import numpy as np"
   ],
   "metadata": {
    "collapsed": false,
    "pycharm": {
     "name": "#%%\n"
    }
   }
  },
  {
   "cell_type": "code",
   "execution_count": 27,
   "outputs": [],
   "source": [
    "y_pred = model.predict(x_test)"
   ],
   "metadata": {
    "collapsed": false,
    "pycharm": {
     "name": "#%%\n"
    }
   }
  },
  {
   "cell_type": "code",
   "execution_count": 28,
   "outputs": [],
   "source": [
    "y_pred = np.array([np.mean(probs[:, 0]) for probs in y_pred])"
   ],
   "metadata": {
    "collapsed": false,
    "pycharm": {
     "name": "#%%\n"
    }
   }
  },
  {
   "cell_type": "code",
   "execution_count": 29,
   "outputs": [],
   "source": [
    "def evaluate(y_true, y_pred, thresh):\n",
    "    y_pred_ = (y_pred > thresh).astype(int)\n",
    "    return accuracy_score(y_true, y_pred_), y_pred_"
   ],
   "metadata": {
    "collapsed": false,
    "pycharm": {
     "name": "#%%\n"
    }
   }
  },
  {
   "cell_type": "code",
   "execution_count": 30,
   "outputs": [
    {
     "name": "stdout",
     "output_type": "stream",
     "text": [
      "Calculating thresh: 0.0\n",
      "Accuracy: 0.5020149683362118\n",
      "Calculating thresh: 0.01\n",
      "Accuracy: 0.5020149683362118\n",
      "Calculating thresh: 0.02\n",
      "Accuracy: 0.5020149683362118\n",
      "Calculating thresh: 0.03\n",
      "Accuracy: 0.5020149683362118\n",
      "Calculating thresh: 0.04\n",
      "Accuracy: 0.5020149683362118\n",
      "Calculating thresh: 0.05\n",
      "Accuracy: 0.5020149683362118\n",
      "Calculating thresh: 0.06\n",
      "Accuracy: 0.5020149683362118\n",
      "Calculating thresh: 0.07\n",
      "Accuracy: 0.5020149683362118\n",
      "Calculating thresh: 0.08\n",
      "Accuracy: 0.5020149683362118\n",
      "Calculating thresh: 0.09\n",
      "Accuracy: 0.5020149683362118\n",
      "Calculating thresh: 0.1\n",
      "Accuracy: 0.5020149683362118\n",
      "Calculating thresh: 0.11\n",
      "Accuracy: 0.5020149683362118\n",
      "Calculating thresh: 0.12\n",
      "Accuracy: 0.5020149683362118\n",
      "Calculating thresh: 0.13\n",
      "Accuracy: 0.5020149683362118\n",
      "Calculating thresh: 0.14\n",
      "Accuracy: 0.5020149683362118\n",
      "Calculating thresh: 0.15\n",
      "Accuracy: 0.5020149683362118\n",
      "Calculating thresh: 0.16\n",
      "Accuracy: 0.5020149683362118\n",
      "Calculating thresh: 0.17\n",
      "Accuracy: 0.5020149683362118\n",
      "Calculating thresh: 0.18\n",
      "Accuracy: 0.5020149683362118\n",
      "Calculating thresh: 0.19\n",
      "Accuracy: 0.5020149683362118\n",
      "Calculating thresh: 0.2\n",
      "Accuracy: 0.5020149683362118\n",
      "Calculating thresh: 0.21\n",
      "Accuracy: 0.5020149683362118\n",
      "Calculating thresh: 0.22\n",
      "Accuracy: 0.5071963154864709\n",
      "Calculating thresh: 0.23\n",
      "Accuracy: 0.5624640184225677\n",
      "Calculating thresh: 0.24\n",
      "Accuracy: 0.6188831318364997\n",
      "Calculating thresh: 0.25\n",
      "Accuracy: 0.6632124352331606\n",
      "Calculating thresh: 0.26\n",
      "Accuracy: 0.6989061600460564\n",
      "Calculating thresh: 0.27\n",
      "Accuracy: 0.7236614853195165\n",
      "Calculating thresh: 0.28\n",
      "Accuracy: 0.7380541162924582\n",
      "Calculating thresh: 0.29\n",
      "Accuracy: 0.7449625791594704\n",
      "Calculating thresh: 0.3\n",
      "Accuracy: 0.7449625791594704\n",
      "Calculating thresh: 0.31\n",
      "Accuracy: 0.7547495682210709\n",
      "Calculating thresh: 0.32\n",
      "Accuracy: 0.7570523891767416\n",
      "Calculating thresh: 0.33\n",
      "Accuracy: 0.7559009786989062\n",
      "Calculating thresh: 0.34\n",
      "Accuracy: 0.7559009786989062\n",
      "Calculating thresh: 0.35000000000000003\n",
      "Accuracy: 0.7564766839378239\n",
      "Calculating thresh: 0.36\n",
      "Accuracy: 0.7570523891767416\n",
      "Calculating thresh: 0.37\n",
      "Accuracy: 0.7559009786989062\n",
      "Calculating thresh: 0.38\n",
      "Accuracy: 0.7524467472654001\n",
      "Calculating thresh: 0.39\n",
      "Accuracy: 0.7501439263097294\n",
      "Calculating thresh: 0.4\n",
      "Accuracy: 0.7518710420264825\n",
      "Calculating thresh: 0.41000000000000003\n",
      "Accuracy: 0.7507196315486471\n",
      "Calculating thresh: 0.42\n",
      "Accuracy: 0.7524467472654001\n",
      "Calculating thresh: 0.43\n",
      "Accuracy: 0.7524467472654001\n",
      "Calculating thresh: 0.44\n",
      "Accuracy: 0.7461139896373057\n",
      "Calculating thresh: 0.45\n",
      "Accuracy: 0.7449625791594704\n",
      "Calculating thresh: 0.46\n",
      "Accuracy: 0.7449625791594704\n",
      "Calculating thresh: 0.47000000000000003\n",
      "Accuracy: 0.7461139896373057\n",
      "Calculating thresh: 0.48\n",
      "Accuracy: 0.7472654001151411\n",
      "Calculating thresh: 0.49\n",
      "Accuracy: 0.7461139896373057\n",
      "Calculating thresh: 0.5\n",
      "Accuracy: 0.7484168105929764\n",
      "Calculating thresh: 0.51\n",
      "Accuracy: 0.7501439263097294\n",
      "Calculating thresh: 0.52\n",
      "Accuracy: 0.7507196315486471\n",
      "Calculating thresh: 0.53\n",
      "Accuracy: 0.7524467472654001\n",
      "Calculating thresh: 0.54\n",
      "Accuracy: 0.7535981577432355\n",
      "Calculating thresh: 0.55\n",
      "Accuracy: 0.7530224525043178\n",
      "Calculating thresh: 0.56\n",
      "Accuracy: 0.7541738629821532\n",
      "Calculating thresh: 0.5700000000000001\n",
      "Accuracy: 0.7530224525043178\n",
      "Calculating thresh: 0.58\n",
      "Accuracy: 0.7512953367875648\n",
      "Calculating thresh: 0.59\n",
      "Accuracy: 0.7518710420264825\n",
      "Calculating thresh: 0.6\n",
      "Accuracy: 0.7518710420264825\n",
      "Calculating thresh: 0.61\n",
      "Accuracy: 0.7507196315486471\n",
      "Calculating thresh: 0.62\n",
      "Accuracy: 0.7501439263097294\n",
      "Calculating thresh: 0.63\n",
      "Accuracy: 0.7484168105929764\n",
      "Calculating thresh: 0.64\n",
      "Accuracy: 0.7484168105929764\n",
      "Calculating thresh: 0.65\n",
      "Accuracy: 0.7489925158318941\n",
      "Calculating thresh: 0.66\n",
      "Accuracy: 0.7472654001151411\n",
      "Calculating thresh: 0.67\n",
      "Accuracy: 0.7461139896373057\n",
      "Calculating thresh: 0.68\n",
      "Accuracy: 0.7461139896373057\n",
      "Calculating thresh: 0.6900000000000001\n",
      "Accuracy: 0.7461139896373057\n",
      "Calculating thresh: 0.7000000000000001\n",
      "Accuracy: 0.743811168681635\n",
      "Calculating thresh: 0.71\n",
      "Accuracy: 0.7409326424870466\n",
      "Calculating thresh: 0.72\n",
      "Accuracy: 0.7369027058146229\n",
      "Calculating thresh: 0.73\n",
      "Accuracy: 0.7340241796200345\n",
      "Calculating thresh: 0.74\n",
      "Accuracy: 0.7345998848589522\n",
      "Calculating thresh: 0.75\n",
      "Accuracy: 0.7328727691421992\n",
      "Calculating thresh: 0.76\n",
      "Accuracy: 0.7317213586643638\n",
      "Calculating thresh: 0.77\n",
      "Accuracy: 0.7317213586643638\n",
      "Calculating thresh: 0.78\n",
      "Accuracy: 0.7317213586643638\n",
      "Calculating thresh: 0.79\n",
      "Accuracy: 0.7328727691421992\n",
      "Calculating thresh: 0.8\n",
      "Accuracy: 0.7299942429476108\n",
      "Calculating thresh: 0.81\n",
      "Accuracy: 0.7265400115141047\n",
      "Calculating thresh: 0.8200000000000001\n",
      "Accuracy: 0.7230857800805988\n",
      "Calculating thresh: 0.8300000000000001\n",
      "Accuracy: 0.717328727691422\n",
      "Calculating thresh: 0.84\n",
      "Accuracy: 0.7132987910189983\n",
      "Calculating thresh: 0.85\n",
      "Accuracy: 0.7104202648244099\n",
      "Calculating thresh: 0.86\n",
      "Accuracy: 0.7012089810017271\n",
      "Calculating thresh: 0.87\n",
      "Accuracy: 0.6914219919401267\n",
      "Calculating thresh: 0.88\n",
      "Accuracy: 0.6914219919401267\n",
      "Calculating thresh: 0.89\n",
      "Accuracy: 0.6839378238341969\n",
      "Calculating thresh: 0.9\n",
      "Accuracy: 0.669545192861255\n",
      "Calculating thresh: 0.91\n",
      "Accuracy: 0.6511226252158895\n",
      "Calculating thresh: 0.92\n",
      "Accuracy: 0.6315486470926885\n",
      "Calculating thresh: 0.93\n",
      "Accuracy: 0.6079447322970639\n",
      "Calculating thresh: 0.9400000000000001\n",
      "Accuracy: 0.5820379965457686\n",
      "Calculating thresh: 0.9500000000000001\n",
      "Accuracy: 0.5486470926885435\n",
      "Calculating thresh: 0.96\n",
      "Accuracy: 0.5152561888313184\n",
      "Calculating thresh: 0.97\n",
      "Accuracy: 0.5002878526194589\n",
      "Calculating thresh: 0.98\n",
      "Accuracy: 0.49798503166378816\n",
      "Calculating thresh: 0.99\n",
      "Accuracy: 0.49798503166378816\n"
     ]
    }
   ],
   "source": [
    "best_thresh = 0\n",
    "best_accuracy = 0\n",
    "\n",
    "for i in np.arange(0, 1, 0.01):\n",
    "    print(f'Calculating thresh: {i}')\n",
    "    score, _ = evaluate(y_test, y_pred, i)\n",
    "    print(f'Accuracy: {score}')\n",
    "    if score > best_accuracy:\n",
    "        best_accuracy = score\n",
    "        best_thresh = i"
   ],
   "metadata": {
    "collapsed": false,
    "pycharm": {
     "name": "#%%\n"
    }
   }
  },
  {
   "cell_type": "code",
   "execution_count": 31,
   "outputs": [
    {
     "name": "stdout",
     "output_type": "stream",
     "text": [
      "0.7570523891767416\n"
     ]
    }
   ],
   "source": [
    "score, y_pred = evaluate(y_test, y_pred, best_thresh)\n",
    "print(score)"
   ],
   "metadata": {
    "collapsed": false,
    "pycharm": {
     "name": "#%%\n"
    }
   }
  },
  {
   "cell_type": "markdown",
   "source": [],
   "metadata": {
    "collapsed": false
   }
  },
  {
   "cell_type": "code",
   "execution_count": 16,
   "outputs": [
    {
     "data": {
      "text/plain": "(0.7472290197207427, array([0, 1, 0, ..., 0, 1, 0]))"
     },
     "execution_count": 16,
     "metadata": {},
     "output_type": "execute_result"
    }
   ],
   "source": [
    "y_pred_train = model.predict(x_train)\n",
    "y_pred_train = np.array([np.mean(probs[:, 0]) for probs in y_pred_train])\n",
    "evaluate(y_train, y_pred_train, best_thresh)"
   ],
   "metadata": {
    "collapsed": false,
    "pycharm": {
     "name": "#%%\n"
    }
   }
  },
  {
   "cell_type": "code",
   "execution_count": 17,
   "outputs": [
    {
     "data": {
      "text/plain": "array([[677, 188],\n       [234, 638]])"
     },
     "execution_count": 17,
     "metadata": {},
     "output_type": "execute_result"
    }
   ],
   "source": [
    "confusion_matrix(y_test, y_pred)"
   ],
   "metadata": {
    "collapsed": false,
    "pycharm": {
     "name": "#%%\n"
    }
   }
  },
  {
   "cell_type": "code",
   "execution_count": 18,
   "outputs": [
    {
     "name": "stdout",
     "output_type": "stream",
     "text": [
      "dict_keys(['loss', 'accuracy', 'val_loss', 'val_accuracy'])\n"
     ]
    }
   ],
   "source": [
    "print(history.history.keys())"
   ],
   "metadata": {
    "collapsed": false,
    "pycharm": {
     "name": "#%%\n"
    }
   }
  },
  {
   "cell_type": "code",
   "execution_count": 19,
   "outputs": [],
   "source": [
    "history = history.history"
   ],
   "metadata": {
    "collapsed": false,
    "pycharm": {
     "name": "#%%\n"
    }
   }
  },
  {
   "cell_type": "code",
   "execution_count": 20,
   "outputs": [
    {
     "data": {
      "text/plain": "<Figure size 432x288 with 1 Axes>",
      "image/png": "[encoded data removed]"
     },
     "metadata": {
      "needs_background": "light"
     },
     "output_type": "display_data"
    },
    {
     "data": {
      "text/plain": "<Figure size 432x288 with 1 Axes>",
      "image/png": "[encoded data removed]"
     },
     "metadata": {
      "needs_background": "light"
     },
     "output_type": "display_data"
    }
   ],
   "source": [
    "plt.subplots()\n",
    "plt.plot(history['accuracy'])\n",
    "plt.plot(history['val_accuracy'])\n",
    "plt.title('model accuracy')\n",
    "plt.ylabel('accuracy')\n",
    "plt.xlabel('epoch')\n",
    "plt.legend(['train', 'validation'])\n",
    "plt.show()\n",
    "\n",
    "plt.subplots()\n",
    "plt.plot(history['loss'])\n",
    "plt.plot(history['val_loss'])\n",
    "plt.title('model loss')\n",
    "plt.ylabel('loss')\n",
    "plt.xlabel('epoch')\n",
    "plt.legend(['train', 'validation'])\n",
    "plt.show()"
   ],
   "metadata": {
    "collapsed": false,
    "pycharm": {
     "name": "#%%\n"
    }
   }
  }
 ],
 "metadata": {
  "kernelspec": {
   "display_name": "Python 3",
   "language": "python",
   "name": "python3"
  },
  "language_info": {
   "codemirror_mode": {
    "name": "ipython",
    "version": 2
   },
   "file_extension": ".py",
   "mimetype": "text/x-python",
   "name": "python",
   "nbconvert_exporter": "python",
   "pygments_lexer": "ipython2",
   "version": "2.7.6"
  }
 },
 "nbformat": 4,
 "nbformat_minor": 0
}