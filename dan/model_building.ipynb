{
 "cells": [
  {
   "cell_type": "code",
   "execution_count": 1,
   "metadata": {
    "collapsed": true
   },
   "outputs": [],
   "source": [
    "from tensorflow.keras.layers import Embedding\n",
    "from sklearn.model_selection import train_test_split\n",
    "from tensorflow.keras.models import Sequential, Model\n",
    "from tensorflow.keras.layers import Input, Dense, Dropout, Bidirectional, LSTM, GRU\n",
    "from tensorflow.keras.initializers import Constant\n",
    "from keras.layers import TextVectorization\n",
    "import numpy as np\n",
    "import pickle\n",
    "import json"
   ]
  },
  {
   "cell_type": "code",
   "execution_count": 2,
   "outputs": [],
   "source": [
    "X = np.load('data/X.npy', allow_pickle=True)\n",
    "y = np.load('data/y.npy')\n",
    "embedding_matrix = np.load('data/embedding_matrix.npy')\n",
    "num_tokens = np.load('data/num_tokens.npy').item()\n",
    "embedding_dim = np.load('data/embedding_dim.npy').item()\n",
    "max_tokens = np.load('data/max_tokens.npy').item()\n",
    "max_len = np.load('data/max_len.npy').item()"
   ],
   "metadata": {
    "collapsed": false,
    "pycharm": {
     "name": "#%%\n"
    }
   }
  },
  {
   "cell_type": "code",
   "execution_count": 3,
   "outputs": [
    {
     "name": "stdout",
     "output_type": "stream",
     "text": [
      "Metal device set to: Apple M1 Pro\n"
     ]
    },
    {
     "name": "stderr",
     "output_type": "stream",
     "text": [
      "2022-02-02 17:18:40.440483: I tensorflow/core/common_runtime/pluggable_device/pluggable_device_factory.cc:305] Could not identify NUMA node of platform GPU ID 0, defaulting to 0. Your kernel may not have been built with NUMA support.\n",
      "2022-02-02 17:18:40.440633: I tensorflow/core/common_runtime/pluggable_device/pluggable_device_factory.cc:271] Created TensorFlow device (/job:localhost/replica:0/task:0/device:GPU:0 with 0 MB memory) -> physical PluggableDevice (device: 0, name: METAL, pci bus id: <undefined>)\n",
      "2022-02-02 17:18:40.468995: W tensorflow/core/platform/profile_utils/cpu_utils.cc:128] Failed to get CPU frequency: 0 Hz\n",
      "2022-02-02 17:18:40.505359: I tensorflow/core/grappler/optimizers/custom_graph_optimizer_registry.cc:112] Plugin optimizer for device_type GPU is enabled.\n"
     ]
    }
   ],
   "source": [
    "vectorizer = TextVectorization(max_tokens=max_tokens,\n",
    "                               standardize=None,\n",
    "                               ngrams=(1, 2),\n",
    "                               output_sequence_length=max_len)\n",
    "vectorizer.adapt(X)"
   ],
   "metadata": {
    "collapsed": false,
    "pycharm": {
     "name": "#%%\n"
    }
   }
  },
  {
   "cell_type": "code",
   "execution_count": 4,
   "outputs": [],
   "source": [
    "y = y.reshape((-1,1))"
   ],
   "metadata": {
    "collapsed": false,
    "pycharm": {
     "name": "#%%\n"
    }
   }
  },
  {
   "cell_type": "code",
   "execution_count": 5,
   "outputs": [
    {
     "name": "stdout",
     "output_type": "stream",
     "text": [
      "(7613,)\n",
      "(7613, 1)\n"
     ]
    }
   ],
   "source": [
    "print(X.shape)\n",
    "print(y.shape)"
   ],
   "metadata": {
    "collapsed": false,
    "pycharm": {
     "name": "#%%\n"
    }
   }
  },
  {
   "cell_type": "code",
   "execution_count": 6,
   "outputs": [],
   "source": [
    "x_train, x_test, y_train, y_test = train_test_split(X, y, test_size=0.3, random_state=0)"
   ],
   "metadata": {
    "collapsed": false,
    "pycharm": {
     "name": "#%%\n"
    }
   }
  },
  {
   "cell_type": "code",
   "execution_count": 7,
   "outputs": [],
   "source": [
    "np.save('data/x_train.npy', x_train)\n",
    "np.save('data/y_train.npy', y_train)\n",
    "np.save('data/x_test.npy', x_test)\n",
    "np.save('data/y_test.npy', y_test)"
   ],
   "metadata": {
    "collapsed": false,
    "pycharm": {
     "name": "#%%\n"
    }
   }
  },
  {
   "cell_type": "code",
   "execution_count": 8,
   "outputs": [
    {
     "name": "stdout",
     "output_type": "stream",
     "text": [
      "Model: \"model\"\n",
      "_________________________________________________________________\n",
      " Layer (type)                Output Shape              Param #   \n",
      "=================================================================\n",
      " input_1 (InputLayer)        [(None, 1)]               0         \n",
      "                                                                 \n",
      " text_vectorization (TextVec  (None, 68)               0         \n",
      " torization)                                                     \n",
      "                                                                 \n",
      " embedding (Embedding)       (None, 68, 100)           5000200   \n",
      "                                                                 \n",
      " bidirectional (Bidirectiona  (None, 68, 64)           25728     \n",
      " l)                                                              \n",
      "                                                                 \n",
      " bidirectional_1 (Bidirectio  (None, 68, 36)           9072      \n",
      " nal)                                                            \n",
      "                                                                 \n",
      " dense (Dense)               (None, 68, 10)            370       \n",
      "                                                                 \n",
      " dropout (Dropout)           (None, 68, 10)            0         \n",
      "                                                                 \n",
      " dense_1 (Dense)             (None, 68, 1)             11        \n",
      "                                                                 \n",
      "=================================================================\n",
      "Total params: 5,035,381\n",
      "Trainable params: 35,181\n",
      "Non-trainable params: 5,000,200\n",
      "_________________________________________________________________\n"
     ]
    }
   ],
   "source": [
    "sequences_input = Input(shape=(1), dtype='string')\n",
    "\n",
    "vectorizer_sequence = vectorizer(sequences_input)\n",
    "\n",
    "embedding_layer = Embedding(num_tokens,\n",
    "                            embedding_dim,\n",
    "                            embeddings_initializer=Constant(embedding_matrix),\n",
    "                            trainable=False)\n",
    "embedded_sequences = embedding_layer(vectorizer_sequence)\n",
    "\n",
    "x = Bidirectional(GRU(32, return_sequences=True))(embedded_sequences)\n",
    "x = Bidirectional(GRU(18, return_sequences=True))(x)\n",
    "x = Dense(10, activation=\"relu\")(x)\n",
    "x = Dropout(0.2)(x)\n",
    "\n",
    "preds = Dense(units=1,\n",
    "              kernel_initializer='uniform',\n",
    "              activation='sigmoid')(x)\n",
    "model = Model(sequences_input, preds)\n",
    "\n",
    "model.compile(optimizer='adam',\n",
    "                      loss='binary_crossentropy',\n",
    "                      metrics=['accuracy'])\n",
    "\n",
    "model.summary()"
   ],
   "metadata": {
    "collapsed": false,
    "pycharm": {
     "name": "#%%\n"
    }
   }
  },
  {
   "cell_type": "code",
   "execution_count": 9,
   "outputs": [
    {
     "name": "stdout",
     "output_type": "stream",
     "text": [
      "Epoch 1/100\n"
     ]
    },
    {
     "name": "stderr",
     "output_type": "stream",
     "text": [
      "2022-02-02 17:18:44.479680: I tensorflow/core/grappler/optimizers/custom_graph_optimizer_registry.cc:112] Plugin optimizer for device_type GPU is enabled.\n",
      "2022-02-02 17:18:44.913719: I tensorflow/core/grappler/optimizers/custom_graph_optimizer_registry.cc:112] Plugin optimizer for device_type GPU is enabled.\n",
      "2022-02-02 17:18:44.928795: I tensorflow/core/grappler/optimizers/custom_graph_optimizer_registry.cc:112] Plugin optimizer for device_type GPU is enabled.\n",
      "2022-02-02 17:18:45.264787: I tensorflow/core/grappler/optimizers/custom_graph_optimizer_registry.cc:112] Plugin optimizer for device_type GPU is enabled.\n",
      "2022-02-02 17:18:45.281995: I tensorflow/core/grappler/optimizers/custom_graph_optimizer_registry.cc:112] Plugin optimizer for device_type GPU is enabled.\n",
      "2022-02-02 17:18:45.593465: I tensorflow/core/grappler/optimizers/custom_graph_optimizer_registry.cc:112] Plugin optimizer for device_type GPU is enabled.\n",
      "2022-02-02 17:18:45.611791: I tensorflow/core/grappler/optimizers/custom_graph_optimizer_registry.cc:112] Plugin optimizer for device_type GPU is enabled.\n",
      "2022-02-02 17:18:46.213343: I tensorflow/core/grappler/optimizers/custom_graph_optimizer_registry.cc:112] Plugin optimizer for device_type GPU is enabled.\n",
      "2022-02-02 17:18:46.234749: I tensorflow/core/grappler/optimizers/custom_graph_optimizer_registry.cc:112] Plugin optimizer for device_type GPU is enabled.\n"
     ]
    },
    {
     "name": "stdout",
     "output_type": "stream",
     "text": [
      "9/9 [==============================] - ETA: 0s - loss: 0.6915 - accuracy: 0.5602"
     ]
    },
    {
     "name": "stderr",
     "output_type": "stream",
     "text": [
      "2022-02-02 17:18:49.529960: I tensorflow/core/grappler/optimizers/custom_graph_optimizer_registry.cc:112] Plugin optimizer for device_type GPU is enabled.\n",
      "2022-02-02 17:18:49.679456: I tensorflow/core/grappler/optimizers/custom_graph_optimizer_registry.cc:112] Plugin optimizer for device_type GPU is enabled.\n",
      "2022-02-02 17:18:49.688868: I tensorflow/core/grappler/optimizers/custom_graph_optimizer_registry.cc:112] Plugin optimizer for device_type GPU is enabled.\n",
      "2022-02-02 17:18:49.867743: I tensorflow/core/grappler/optimizers/custom_graph_optimizer_registry.cc:112] Plugin optimizer for device_type GPU is enabled.\n",
      "2022-02-02 17:18:49.874107: I tensorflow/core/grappler/optimizers/custom_graph_optimizer_registry.cc:112] Plugin optimizer for device_type GPU is enabled.\n"
     ]
    },
    {
     "name": "stdout",
     "output_type": "stream",
     "text": [
      "9/9 [==============================] - 9s 510ms/step - loss: 0.6915 - accuracy: 0.5602 - val_loss: 0.6882 - val_accuracy: 0.5762\n",
      "Epoch 2/100\n",
      "9/9 [==============================] - 1s 167ms/step - loss: 0.6876 - accuracy: 0.5621 - val_loss: 0.6829 - val_accuracy: 0.5763\n",
      "Epoch 3/100\n",
      "9/9 [==============================] - 1s 162ms/step - loss: 0.6838 - accuracy: 0.5623 - val_loss: 0.6774 - val_accuracy: 0.5787\n",
      "Epoch 4/100\n",
      "9/9 [==============================] - 1s 165ms/step - loss: 0.6805 - accuracy: 0.5658 - val_loss: 0.6724 - val_accuracy: 0.5868\n",
      "Epoch 5/100\n",
      "9/9 [==============================] - 2s 169ms/step - loss: 0.6761 - accuracy: 0.5779 - val_loss: 0.6664 - val_accuracy: 0.6023\n",
      "Epoch 6/100\n",
      "9/9 [==============================] - 1s 167ms/step - loss: 0.6704 - accuracy: 0.5934 - val_loss: 0.6602 - val_accuracy: 0.6121\n",
      "Epoch 7/100\n",
      "9/9 [==============================] - 1s 162ms/step - loss: 0.6653 - accuracy: 0.6010 - val_loss: 0.6513 - val_accuracy: 0.6167\n",
      "Epoch 8/100\n",
      "9/9 [==============================] - 1s 162ms/step - loss: 0.6462 - accuracy: 0.6132 - val_loss: 0.6048 - val_accuracy: 0.6675\n",
      "Epoch 9/100\n",
      "9/9 [==============================] - 1s 158ms/step - loss: 0.5996 - accuracy: 0.7154 - val_loss: 0.5733 - val_accuracy: 0.7389\n",
      "Epoch 10/100\n",
      "9/9 [==============================] - 1s 160ms/step - loss: 0.5801 - accuracy: 0.7350 - val_loss: 0.5591 - val_accuracy: 0.7450\n",
      "Epoch 11/100\n",
      "9/9 [==============================] - 1s 160ms/step - loss: 0.5717 - accuracy: 0.7430 - val_loss: 0.5502 - val_accuracy: 0.7541\n",
      "Epoch 12/100\n",
      "9/9 [==============================] - 1s 159ms/step - loss: 0.5650 - accuracy: 0.7481 - val_loss: 0.5486 - val_accuracy: 0.7563\n",
      "Epoch 13/100\n",
      "9/9 [==============================] - 1s 158ms/step - loss: 0.5619 - accuracy: 0.7519 - val_loss: 0.5447 - val_accuracy: 0.7614\n",
      "Epoch 14/100\n",
      "9/9 [==============================] - 1s 160ms/step - loss: 0.5574 - accuracy: 0.7547 - val_loss: 0.5502 - val_accuracy: 0.7557\n",
      "Epoch 15/100\n",
      "9/9 [==============================] - 1s 159ms/step - loss: 0.5564 - accuracy: 0.7572 - val_loss: 0.5383 - val_accuracy: 0.7664\n",
      "Epoch 16/100\n",
      "9/9 [==============================] - 1s 162ms/step - loss: 0.5547 - accuracy: 0.7582 - val_loss: 0.5413 - val_accuracy: 0.7646\n",
      "Epoch 17/100\n",
      "9/9 [==============================] - 1s 162ms/step - loss: 0.5539 - accuracy: 0.7589 - val_loss: 0.5423 - val_accuracy: 0.7648\n",
      "Epoch 18/100\n",
      "9/9 [==============================] - 1s 167ms/step - loss: 0.5538 - accuracy: 0.7590 - val_loss: 0.5410 - val_accuracy: 0.7632\n",
      "Epoch 19/100\n",
      "9/9 [==============================] - 2s 169ms/step - loss: 0.5560 - accuracy: 0.7574 - val_loss: 0.5418 - val_accuracy: 0.7647\n",
      "Epoch 20/100\n",
      "9/9 [==============================] - 1s 165ms/step - loss: 0.5596 - accuracy: 0.7550 - val_loss: 0.5341 - val_accuracy: 0.7693\n",
      "Epoch 21/100\n",
      "9/9 [==============================] - 1s 163ms/step - loss: 0.5511 - accuracy: 0.7610 - val_loss: 0.5473 - val_accuracy: 0.7583\n",
      "Epoch 22/100\n",
      "9/9 [==============================] - 1s 162ms/step - loss: 0.5505 - accuracy: 0.7608 - val_loss: 0.5407 - val_accuracy: 0.7634\n",
      "Epoch 23/100\n",
      "9/9 [==============================] - 1s 166ms/step - loss: 0.5486 - accuracy: 0.7616 - val_loss: 0.5373 - val_accuracy: 0.7655\n",
      "Epoch 24/100\n",
      "9/9 [==============================] - 1s 165ms/step - loss: 0.5482 - accuracy: 0.7612 - val_loss: 0.5453 - val_accuracy: 0.7562\n",
      "Epoch 25/100\n",
      "9/9 [==============================] - 1s 163ms/step - loss: 0.5560 - accuracy: 0.7511 - val_loss: 0.5449 - val_accuracy: 0.7540\n",
      "Epoch 26/100\n",
      "9/9 [==============================] - 1s 159ms/step - loss: 0.5481 - accuracy: 0.7594 - val_loss: 0.5402 - val_accuracy: 0.7640\n",
      "Epoch 27/100\n",
      "9/9 [==============================] - 1s 159ms/step - loss: 0.5499 - accuracy: 0.7607 - val_loss: 0.5454 - val_accuracy: 0.7565\n",
      "Epoch 28/100\n",
      "9/9 [==============================] - 1s 159ms/step - loss: 0.5459 - accuracy: 0.7593 - val_loss: 0.5427 - val_accuracy: 0.7534\n",
      "Epoch 29/100\n",
      "9/9 [==============================] - 1s 166ms/step - loss: 0.5489 - accuracy: 0.7544 - val_loss: 0.5406 - val_accuracy: 0.7548\n",
      "Epoch 30/100\n",
      "9/9 [==============================] - 2s 168ms/step - loss: 0.5435 - accuracy: 0.7597 - val_loss: 0.5401 - val_accuracy: 0.7552\n",
      "Epoch 31/100\n",
      "9/9 [==============================] - 1s 163ms/step - loss: 0.5417 - accuracy: 0.7615 - val_loss: 0.5321 - val_accuracy: 0.7661\n",
      "Epoch 32/100\n",
      "9/9 [==============================] - 1s 161ms/step - loss: 0.5426 - accuracy: 0.7616 - val_loss: 0.5260 - val_accuracy: 0.7703\n",
      "Epoch 33/100\n",
      "9/9 [==============================] - 1s 163ms/step - loss: 0.5380 - accuracy: 0.7632 - val_loss: 0.5345 - val_accuracy: 0.7560\n",
      "Epoch 34/100\n",
      "9/9 [==============================] - 1s 166ms/step - loss: 0.5418 - accuracy: 0.7582 - val_loss: 0.5343 - val_accuracy: 0.7548\n",
      "Epoch 35/100\n",
      "9/9 [==============================] - 2s 180ms/step - loss: 0.5404 - accuracy: 0.7554 - val_loss: 0.5346 - val_accuracy: 0.7516\n",
      "Epoch 36/100\n",
      "9/9 [==============================] - 1s 166ms/step - loss: 0.5406 - accuracy: 0.7524 - val_loss: 0.5332 - val_accuracy: 0.7511\n",
      "Epoch 37/100\n",
      "9/9 [==============================] - 1s 165ms/step - loss: 0.5394 - accuracy: 0.7536 - val_loss: 0.5307 - val_accuracy: 0.7526\n",
      "Epoch 38/100\n",
      "9/9 [==============================] - 1s 163ms/step - loss: 0.5357 - accuracy: 0.7564 - val_loss: 0.5305 - val_accuracy: 0.7551\n",
      "Epoch 39/100\n",
      "9/9 [==============================] - 1s 161ms/step - loss: 0.5341 - accuracy: 0.7576 - val_loss: 0.5261 - val_accuracy: 0.7561\n",
      "Epoch 40/100\n",
      "9/9 [==============================] - 1s 163ms/step - loss: 0.5327 - accuracy: 0.7583 - val_loss: 0.5276 - val_accuracy: 0.7541\n",
      "Epoch 41/100\n",
      "9/9 [==============================] - 2s 169ms/step - loss: 0.5340 - accuracy: 0.7549 - val_loss: 0.5304 - val_accuracy: 0.7530\n",
      "Epoch 42/100\n",
      "9/9 [==============================] - 1s 163ms/step - loss: 0.5451 - accuracy: 0.7477 - val_loss: 0.5473 - val_accuracy: 0.7437\n",
      "Epoch 43/100\n",
      "9/9 [==============================] - 1s 166ms/step - loss: 0.5547 - accuracy: 0.7413 - val_loss: 0.5428 - val_accuracy: 0.7448\n",
      "Epoch 44/100\n",
      "9/9 [==============================] - 2s 170ms/step - loss: 0.5442 - accuracy: 0.7495 - val_loss: 0.5349 - val_accuracy: 0.7530\n",
      "Epoch 45/100\n",
      "9/9 [==============================] - 2s 178ms/step - loss: 0.5397 - accuracy: 0.7554 - val_loss: 0.5325 - val_accuracy: 0.7566\n",
      "Epoch 46/100\n",
      "9/9 [==============================] - 1s 168ms/step - loss: 0.5376 - accuracy: 0.7567 - val_loss: 0.5349 - val_accuracy: 0.7528\n",
      "Epoch 47/100\n",
      "9/9 [==============================] - 1s 167ms/step - loss: 0.5418 - accuracy: 0.7536 - val_loss: 0.5379 - val_accuracy: 0.7536\n",
      "Epoch 48/100\n",
      "9/9 [==============================] - 1s 160ms/step - loss: 0.5452 - accuracy: 0.7489 - val_loss: 0.5302 - val_accuracy: 0.7601\n",
      "Epoch 49/100\n",
      "9/9 [==============================] - 1s 158ms/step - loss: 0.5362 - accuracy: 0.7628 - val_loss: 0.5256 - val_accuracy: 0.7670\n",
      "Epoch 50/100\n",
      "9/9 [==============================] - 1s 157ms/step - loss: 0.5351 - accuracy: 0.7614 - val_loss: 0.5337 - val_accuracy: 0.7619\n",
      "Epoch 51/100\n",
      "9/9 [==============================] - 1s 158ms/step - loss: 0.5429 - accuracy: 0.7611 - val_loss: 0.5367 - val_accuracy: 0.7644\n",
      "Epoch 52/100\n",
      "9/9 [==============================] - 1s 157ms/step - loss: 0.5370 - accuracy: 0.7645 - val_loss: 0.5294 - val_accuracy: 0.7619\n",
      "Epoch 53/100\n",
      "9/9 [==============================] - 1s 158ms/step - loss: 0.5369 - accuracy: 0.7631 - val_loss: 0.5257 - val_accuracy: 0.7605\n",
      "Epoch 54/100\n",
      "9/9 [==============================] - 1s 156ms/step - loss: 0.5303 - accuracy: 0.7645 - val_loss: 0.5232 - val_accuracy: 0.7667\n",
      "Epoch 55/100\n",
      "9/9 [==============================] - 1s 158ms/step - loss: 0.5290 - accuracy: 0.7662 - val_loss: 0.5213 - val_accuracy: 0.7616\n",
      "Epoch 56/100\n",
      "9/9 [==============================] - 1s 164ms/step - loss: 0.5303 - accuracy: 0.7671 - val_loss: 0.5194 - val_accuracy: 0.7627\n",
      "Epoch 57/100\n",
      "9/9 [==============================] - 1s 161ms/step - loss: 0.5255 - accuracy: 0.7686 - val_loss: 0.5184 - val_accuracy: 0.7651\n",
      "Epoch 58/100\n",
      "9/9 [==============================] - 1s 163ms/step - loss: 0.5239 - accuracy: 0.7692 - val_loss: 0.5152 - val_accuracy: 0.7651\n",
      "Epoch 59/100\n",
      "9/9 [==============================] - 1s 160ms/step - loss: 0.5235 - accuracy: 0.7617 - val_loss: 0.5212 - val_accuracy: 0.7658\n",
      "Epoch 60/100\n",
      "9/9 [==============================] - 1s 160ms/step - loss: 0.5262 - accuracy: 0.7600 - val_loss: 0.5211 - val_accuracy: 0.7624\n",
      "Epoch 61/100\n",
      "9/9 [==============================] - 1s 160ms/step - loss: 0.5203 - accuracy: 0.7693 - val_loss: 0.5196 - val_accuracy: 0.7607\n",
      "Epoch 62/100\n",
      "9/9 [==============================] - 1s 161ms/step - loss: 0.5193 - accuracy: 0.7672 - val_loss: 0.5179 - val_accuracy: 0.7631\n",
      "Epoch 63/100\n",
      "9/9 [==============================] - 1s 164ms/step - loss: 0.5163 - accuracy: 0.7675 - val_loss: 0.5164 - val_accuracy: 0.7649\n",
      "Epoch 64/100\n",
      "9/9 [==============================] - 1s 161ms/step - loss: 0.5154 - accuracy: 0.7667 - val_loss: 0.5149 - val_accuracy: 0.7676\n",
      "Epoch 65/100\n",
      "9/9 [==============================] - 1s 162ms/step - loss: 0.5140 - accuracy: 0.7679 - val_loss: 0.5135 - val_accuracy: 0.7638\n",
      "Epoch 66/100\n",
      "9/9 [==============================] - 1s 159ms/step - loss: 0.5112 - accuracy: 0.7698 - val_loss: 0.5135 - val_accuracy: 0.7647\n",
      "Epoch 67/100\n",
      "9/9 [==============================] - 1s 161ms/step - loss: 0.5112 - accuracy: 0.7689 - val_loss: 0.5117 - val_accuracy: 0.7667\n",
      "Epoch 68/100\n",
      "9/9 [==============================] - 1s 160ms/step - loss: 0.5088 - accuracy: 0.7696 - val_loss: 0.5096 - val_accuracy: 0.7639\n",
      "Epoch 69/100\n",
      "9/9 [==============================] - 1s 160ms/step - loss: 0.5090 - accuracy: 0.7692 - val_loss: 0.5093 - val_accuracy: 0.7668\n",
      "Epoch 70/100\n",
      "9/9 [==============================] - 1s 160ms/step - loss: 0.5080 - accuracy: 0.7678 - val_loss: 0.5060 - val_accuracy: 0.7689\n",
      "Epoch 71/100\n",
      "9/9 [==============================] - 1s 161ms/step - loss: 0.5081 - accuracy: 0.7703 - val_loss: 0.5080 - val_accuracy: 0.7680\n",
      "Epoch 72/100\n",
      "9/9 [==============================] - 1s 160ms/step - loss: 0.5069 - accuracy: 0.7720 - val_loss: 0.5041 - val_accuracy: 0.7689\n",
      "Epoch 73/100\n",
      "9/9 [==============================] - 1s 160ms/step - loss: 0.5033 - accuracy: 0.7716 - val_loss: 0.5035 - val_accuracy: 0.7696\n",
      "Epoch 74/100\n",
      "9/9 [==============================] - 1s 160ms/step - loss: 0.5065 - accuracy: 0.7674 - val_loss: 0.5071 - val_accuracy: 0.7682\n",
      "Epoch 75/100\n",
      "9/9 [==============================] - 1s 160ms/step - loss: 0.5053 - accuracy: 0.7716 - val_loss: 0.5035 - val_accuracy: 0.7711\n",
      "Epoch 76/100\n",
      "9/9 [==============================] - 1s 160ms/step - loss: 0.5004 - accuracy: 0.7727 - val_loss: 0.4999 - val_accuracy: 0.7697\n",
      "Epoch 77/100\n",
      "9/9 [==============================] - 1s 161ms/step - loss: 0.4985 - accuracy: 0.7732 - val_loss: 0.4997 - val_accuracy: 0.7701\n",
      "Epoch 78/100\n",
      "9/9 [==============================] - 1s 160ms/step - loss: 0.4972 - accuracy: 0.7736 - val_loss: 0.4981 - val_accuracy: 0.7712\n",
      "Epoch 79/100\n",
      "9/9 [==============================] - 1s 161ms/step - loss: 0.4974 - accuracy: 0.7723 - val_loss: 0.4989 - val_accuracy: 0.7721\n",
      "Epoch 80/100\n",
      "9/9 [==============================] - 1s 160ms/step - loss: 0.4990 - accuracy: 0.7758 - val_loss: 0.5000 - val_accuracy: 0.7727\n",
      "Epoch 81/100\n",
      "9/9 [==============================] - 1s 160ms/step - loss: 0.4986 - accuracy: 0.7758 - val_loss: 0.4966 - val_accuracy: 0.7729\n",
      "Epoch 82/100\n",
      "9/9 [==============================] - 1s 158ms/step - loss: 0.5001 - accuracy: 0.7750 - val_loss: 0.4959 - val_accuracy: 0.7743\n",
      "Epoch 83/100\n",
      "9/9 [==============================] - 1s 160ms/step - loss: 0.4919 - accuracy: 0.7775 - val_loss: 0.4907 - val_accuracy: 0.7766\n",
      "Epoch 84/100\n",
      "9/9 [==============================] - 1s 161ms/step - loss: 0.4893 - accuracy: 0.7791 - val_loss: 0.4890 - val_accuracy: 0.7769\n",
      "Epoch 85/100\n",
      "9/9 [==============================] - 1s 161ms/step - loss: 0.4886 - accuracy: 0.7793 - val_loss: 0.4877 - val_accuracy: 0.7776\n",
      "Epoch 86/100\n",
      "9/9 [==============================] - 1s 161ms/step - loss: 0.4849 - accuracy: 0.7811 - val_loss: 0.4859 - val_accuracy: 0.7794\n",
      "Epoch 87/100\n",
      "9/9 [==============================] - 1s 160ms/step - loss: 0.4900 - accuracy: 0.7786 - val_loss: 0.4891 - val_accuracy: 0.7784\n",
      "Epoch 88/100\n",
      "9/9 [==============================] - 1s 160ms/step - loss: 0.4843 - accuracy: 0.7812 - val_loss: 0.4879 - val_accuracy: 0.7769\n",
      "Epoch 89/100\n",
      "9/9 [==============================] - 1s 160ms/step - loss: 0.4823 - accuracy: 0.7824 - val_loss: 0.4807 - val_accuracy: 0.7832\n",
      "Epoch 90/100\n",
      "9/9 [==============================] - 1s 159ms/step - loss: 0.4806 - accuracy: 0.7848 - val_loss: 0.4783 - val_accuracy: 0.7823\n",
      "Epoch 91/100\n",
      "9/9 [==============================] - 1s 160ms/step - loss: 0.4833 - accuracy: 0.7821 - val_loss: 0.4822 - val_accuracy: 0.7809\n",
      "Epoch 92/100\n",
      "9/9 [==============================] - 1s 159ms/step - loss: 0.4774 - accuracy: 0.7863 - val_loss: 0.4766 - val_accuracy: 0.7856\n",
      "Epoch 93/100\n",
      "9/9 [==============================] - 1s 160ms/step - loss: 0.4784 - accuracy: 0.7864 - val_loss: 0.4785 - val_accuracy: 0.7822\n",
      "Epoch 94/100\n",
      "9/9 [==============================] - 1s 161ms/step - loss: 0.4735 - accuracy: 0.7899 - val_loss: 0.4783 - val_accuracy: 0.7850\n",
      "Epoch 95/100\n",
      "9/9 [==============================] - 1s 160ms/step - loss: 0.4712 - accuracy: 0.7919 - val_loss: 0.4744 - val_accuracy: 0.7855\n",
      "Epoch 96/100\n",
      "9/9 [==============================] - 1s 160ms/step - loss: 0.4703 - accuracy: 0.7909 - val_loss: 0.4764 - val_accuracy: 0.7851\n",
      "Epoch 97/100\n",
      "9/9 [==============================] - 1s 161ms/step - loss: 0.4688 - accuracy: 0.7930 - val_loss: 0.4741 - val_accuracy: 0.7845\n",
      "Epoch 98/100\n",
      "9/9 [==============================] - 1s 158ms/step - loss: 0.4662 - accuracy: 0.7956 - val_loss: 0.4737 - val_accuracy: 0.7887\n",
      "Epoch 99/100\n",
      "9/9 [==============================] - 1s 158ms/step - loss: 0.4673 - accuracy: 0.7941 - val_loss: 0.4693 - val_accuracy: 0.7892\n",
      "Epoch 100/100\n",
      "9/9 [==============================] - 1s 160ms/step - loss: 0.4627 - accuracy: 0.7975 - val_loss: 0.4669 - val_accuracy: 0.7964\n"
     ]
    },
    {
     "name": "stderr",
     "output_type": "stream",
     "text": [
      "2022-02-02 17:21:18.892244: W tensorflow/python/util/util.cc:368] Sets are not currently considered sequences, but this may change in the future, so consider avoiding using them.\n",
      "2022-02-02 17:21:24.455205: I tensorflow/core/grappler/optimizers/custom_graph_optimizer_registry.cc:112] Plugin optimizer for device_type GPU is enabled.\n",
      "WARNING:absl:Found untraced functions such as gru_cell_1_layer_call_fn, gru_cell_1_layer_call_and_return_conditional_losses, gru_cell_2_layer_call_fn, gru_cell_2_layer_call_and_return_conditional_losses, gru_cell_4_layer_call_fn while saving (showing 5 of 20). These functions will not be directly callable after loading.\n"
     ]
    },
    {
     "name": "stdout",
     "output_type": "stream",
     "text": [
      "INFO:tensorflow:Assets written to: models/model6.tf/assets\n"
     ]
    },
    {
     "name": "stderr",
     "output_type": "stream",
     "text": [
      "INFO:tensorflow:Assets written to: models/model6.tf/assets\n",
      "WARNING:absl:<keras.layers.recurrent.GRUCell object at 0x2a14071c0> has the same name 'GRUCell' as a built-in Keras object. Consider renaming <class 'keras.layers.recurrent.GRUCell'> to avoid naming conflicts when loading with `tf.keras.models.load_model`. If renaming is not possible, pass the object in the `custom_objects` parameter of the load function.\n",
      "WARNING:absl:<keras.layers.recurrent.GRUCell object at 0x2a1407a90> has the same name 'GRUCell' as a built-in Keras object. Consider renaming <class 'keras.layers.recurrent.GRUCell'> to avoid naming conflicts when loading with `tf.keras.models.load_model`. If renaming is not possible, pass the object in the `custom_objects` parameter of the load function.\n",
      "WARNING:absl:<keras.layers.recurrent.GRUCell object at 0x29faa50a0> has the same name 'GRUCell' as a built-in Keras object. Consider renaming <class 'keras.layers.recurrent.GRUCell'> to avoid naming conflicts when loading with `tf.keras.models.load_model`. If renaming is not possible, pass the object in the `custom_objects` parameter of the load function.\n",
      "WARNING:absl:<keras.layers.recurrent.GRUCell object at 0x2a122a520> has the same name 'GRUCell' as a built-in Keras object. Consider renaming <class 'keras.layers.recurrent.GRUCell'> to avoid naming conflicts when loading with `tf.keras.models.load_model`. If renaming is not possible, pass the object in the `custom_objects` parameter of the load function.\n"
     ]
    }
   ],
   "source": [
    "n_samples = x_train.shape[0]\n",
    "model_n = 6\n",
    "\n",
    "history = model.fit(x_train,\n",
    "                    y_train,\n",
    "                    validation_split=0.2,\n",
    "                    batch_size=int(n_samples*0.1),\n",
    "                    epochs=100)\n",
    "\n",
    "model.save(f'models/model{model_n}.tf')\n",
    "\n",
    "with open(f'models/history{model_n}.json', 'w') as f:\n",
    "    json.dump(history.history, f)"
   ],
   "metadata": {
    "collapsed": false,
    "pycharm": {
     "name": "#%%\n"
    }
   }
  }
 ],
 "metadata": {
  "kernelspec": {
   "display_name": "Python 3",
   "language": "python",
   "name": "python3"
  },
  "language_info": {
   "codemirror_mode": {
    "name": "ipython",
    "version": 2
   },
   "file_extension": ".py",
   "mimetype": "text/x-python",
   "name": "python",
   "nbconvert_exporter": "python",
   "pygments_lexer": "ipython2",
   "version": "2.7.6"
  }
 },
 "nbformat": 4,
 "nbformat_minor": 0
}