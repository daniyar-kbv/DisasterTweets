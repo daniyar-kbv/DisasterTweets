{
 "cells": [
  {
   "cell_type": "code",
   "execution_count": 82,
   "metadata": {
    "collapsed": true
   },
   "outputs": [],
   "source": [
    "from tensorflow.keras.layers import Embedding\n",
    "from sklearn.model_selection import train_test_split\n",
    "from tensorflow.keras.models import Sequential, Model\n",
    "from tensorflow.keras.layers import Input, Dense, Dropout, Conv1D, MaxPooling1D, GlobalMaxPooling1D\n",
    "from tensorflow.keras.initializers import Constant\n",
    "from keras.layers import TextVectorization\n",
    "import numpy as np\n",
    "import pickle\n",
    "import json"
   ]
  },
  {
   "cell_type": "code",
   "execution_count": 83,
   "outputs": [],
   "source": [
    "X = np.load('data/X.npy', allow_pickle=True)\n",
    "y = np.load('data/y.npy')\n",
    "embedding_matrix = np.load('data/embedding_matrix.npy')\n",
    "num_tokens = np.load('data/num_tokens.npy').item()\n",
    "embedding_dim = np.load('data/embedding_dim.npy').item()\n",
    "max_tokens = np.load('data/max_tokens.npy').item()\n",
    "max_len = np.load('data/max_len.npy').item()"
   ],
   "metadata": {
    "collapsed": false,
    "pycharm": {
     "name": "#%%\n"
    }
   }
  },
  {
   "cell_type": "code",
   "execution_count": 84,
   "outputs": [
    {
     "name": "stderr",
     "output_type": "stream",
     "text": [
      "2022-02-02 15:39:40.655426: I tensorflow/core/grappler/optimizers/custom_graph_optimizer_registry.cc:112] Plugin optimizer for device_type GPU is enabled.\n"
     ]
    }
   ],
   "source": [
    "vectorizer = TextVectorization(max_tokens=max_tokens,\n",
    "                               standardize=None,\n",
    "                               ngrams=(1, 2),\n",
    "                               output_sequence_length=max_len)\n",
    "vectorizer.adapt(X)"
   ],
   "metadata": {
    "collapsed": false,
    "pycharm": {
     "name": "#%%\n"
    }
   }
  },
  {
   "cell_type": "code",
   "execution_count": 85,
   "outputs": [],
   "source": [
    "y = y.reshape((-1,1))"
   ],
   "metadata": {
    "collapsed": false,
    "pycharm": {
     "name": "#%%\n"
    }
   }
  },
  {
   "cell_type": "code",
   "execution_count": 86,
   "outputs": [
    {
     "name": "stdout",
     "output_type": "stream",
     "text": [
      "(7613,)\n",
      "(7613, 1)\n"
     ]
    }
   ],
   "source": [
    "print(X.shape)\n",
    "print(y.shape)"
   ],
   "metadata": {
    "collapsed": false,
    "pycharm": {
     "name": "#%%\n"
    }
   }
  },
  {
   "cell_type": "code",
   "execution_count": 87,
   "outputs": [],
   "source": [
    "x_train, x_test, y_train, y_test = train_test_split(X, y, test_size=0.3, random_state=0)"
   ],
   "metadata": {
    "collapsed": false,
    "pycharm": {
     "name": "#%%\n"
    }
   }
  },
  {
   "cell_type": "code",
   "execution_count": 88,
   "outputs": [],
   "source": [
    "np.save('data/x_train.npy', x_train)\n",
    "np.save('data/y_train.npy', y_train)\n",
    "np.save('data/x_test.npy', x_test)\n",
    "np.save('data/y_test.npy', y_test)"
   ],
   "metadata": {
    "collapsed": false,
    "pycharm": {
     "name": "#%%\n"
    }
   }
  },
  {
   "cell_type": "code",
   "execution_count": 89,
   "outputs": [
    {
     "name": "stdout",
     "output_type": "stream",
     "text": [
      "Model: \"model_9\"\n",
      "_________________________________________________________________\n",
      " Layer (type)                Output Shape              Param #   \n",
      "=================================================================\n",
      " input_10 (InputLayer)       [(None, 1)]               0         \n",
      "                                                                 \n",
      " text_vectorization_9 (TextV  (None, 68)               0         \n",
      " ectorization)                                                   \n",
      "                                                                 \n",
      " embedding_9 (Embedding)     (None, 68, 200)           10000400  \n",
      "                                                                 \n",
      " dense_41 (Dense)            (None, 68, 130)           26130     \n",
      "                                                                 \n",
      " dropout_32 (Dropout)        (None, 68, 130)           0         \n",
      "                                                                 \n",
      " dense_42 (Dense)            (None, 68, 60)            7860      \n",
      "                                                                 \n",
      " dropout_33 (Dropout)        (None, 68, 60)            0         \n",
      "                                                                 \n",
      " dense_43 (Dense)            (None, 68, 5)             305       \n",
      "                                                                 \n",
      " dropout_34 (Dropout)        (None, 68, 5)             0         \n",
      "                                                                 \n",
      " dense_44 (Dense)            (None, 68, 1)             6         \n",
      "                                                                 \n",
      "=================================================================\n",
      "Total params: 10,034,701\n",
      "Trainable params: 34,301\n",
      "Non-trainable params: 10,000,400\n",
      "_________________________________________________________________\n"
     ]
    }
   ],
   "source": [
    "sequences_input = Input(shape=(1), dtype='string')\n",
    "\n",
    "vectorizer_sequence = vectorizer(sequences_input)\n",
    "\n",
    "embedding_layer = Embedding(num_tokens,\n",
    "                            embedding_dim,\n",
    "                            embeddings_initializer=Constant(embedding_matrix),\n",
    "                            trainable=False)\n",
    "embedded_sequences = embedding_layer(vectorizer_sequence)\n",
    "\n",
    "x = Dense(130, activation=\"relu\")(embedded_sequences)\n",
    "x = Dropout(0.2)(x)\n",
    "x = Dense(60, activation=\"relu\")(x)\n",
    "x = Dropout(0.2)(x)\n",
    "x = Dense(5, activation=\"relu\")(x)\n",
    "x = Dropout(0.2)(x)\n",
    "\n",
    "preds = Dense(units=1,\n",
    "              kernel_initializer='uniform',\n",
    "              activation='sigmoid')(x)\n",
    "model = Model(sequences_input, preds)\n",
    "\n",
    "model.compile(optimizer='adam',\n",
    "                      loss='binary_crossentropy',\n",
    "                      metrics=['accuracy'])\n",
    "\n",
    "model.summary()"
   ],
   "metadata": {
    "collapsed": false,
    "pycharm": {
     "name": "#%%\n"
    }
   }
  },
  {
   "cell_type": "code",
   "execution_count": 90,
   "outputs": [
    {
     "name": "stdout",
     "output_type": "stream",
     "text": [
      "Epoch 1/150\n"
     ]
    },
    {
     "name": "stderr",
     "output_type": "stream",
     "text": [
      "2022-02-02 15:39:42.149928: I tensorflow/core/grappler/optimizers/custom_graph_optimizer_registry.cc:112] Plugin optimizer for device_type GPU is enabled.\n"
     ]
    },
    {
     "name": "stdout",
     "output_type": "stream",
     "text": [
      "9/9 [==============================] - 1s 93ms/step - loss: 0.6927 - accuracy: 0.5597 - val_loss: 0.6918 - val_accuracy: 0.5750\n"
     ]
    },
    {
     "name": "stderr",
     "output_type": "stream",
     "text": [
      "2022-02-02 15:39:43.030392: I tensorflow/core/grappler/optimizers/custom_graph_optimizer_registry.cc:112] Plugin optimizer for device_type GPU is enabled.\n"
     ]
    },
    {
     "name": "stdout",
     "output_type": "stream",
     "text": [
      "Epoch 2/150\n",
      "9/9 [==============================] - 1s 58ms/step - loss: 0.6915 - accuracy: 0.5609 - val_loss: 0.6896 - val_accuracy: 0.5750\n",
      "Epoch 3/150\n",
      "9/9 [==============================] - 1s 57ms/step - loss: 0.6894 - accuracy: 0.5609 - val_loss: 0.6861 - val_accuracy: 0.5750\n",
      "Epoch 4/150\n",
      "9/9 [==============================] - 1s 56ms/step - loss: 0.6875 - accuracy: 0.5609 - val_loss: 0.6838 - val_accuracy: 0.5750\n",
      "Epoch 5/150\n",
      "9/9 [==============================] - 1s 59ms/step - loss: 0.6864 - accuracy: 0.5609 - val_loss: 0.6824 - val_accuracy: 0.5750\n",
      "Epoch 6/150\n",
      "9/9 [==============================] - 1s 57ms/step - loss: 0.6856 - accuracy: 0.5612 - val_loss: 0.6827 - val_accuracy: 0.5754\n",
      "Epoch 7/150\n",
      "9/9 [==============================] - 1s 59ms/step - loss: 0.6851 - accuracy: 0.5665 - val_loss: 0.6820 - val_accuracy: 0.5855\n",
      "Epoch 8/150\n",
      "9/9 [==============================] - 1s 56ms/step - loss: 0.6841 - accuracy: 0.5713 - val_loss: 0.6801 - val_accuracy: 0.5877\n",
      "Epoch 9/150\n",
      "9/9 [==============================] - 1s 57ms/step - loss: 0.6827 - accuracy: 0.5718 - val_loss: 0.6782 - val_accuracy: 0.5883\n",
      "Epoch 10/150\n",
      "9/9 [==============================] - 1s 56ms/step - loss: 0.6810 - accuracy: 0.5718 - val_loss: 0.6761 - val_accuracy: 0.5882\n",
      "Epoch 11/150\n",
      "9/9 [==============================] - 1s 56ms/step - loss: 0.6799 - accuracy: 0.5720 - val_loss: 0.6745 - val_accuracy: 0.5887\n",
      "Epoch 12/150\n",
      "9/9 [==============================] - 0s 55ms/step - loss: 0.6794 - accuracy: 0.5721 - val_loss: 0.6753 - val_accuracy: 0.5882\n",
      "Epoch 13/150\n",
      "9/9 [==============================] - 1s 57ms/step - loss: 0.6791 - accuracy: 0.5727 - val_loss: 0.6744 - val_accuracy: 0.5896\n",
      "Epoch 14/150\n",
      "9/9 [==============================] - 0s 56ms/step - loss: 0.6788 - accuracy: 0.5733 - val_loss: 0.6747 - val_accuracy: 0.5898\n",
      "Epoch 15/150\n",
      "9/9 [==============================] - 1s 57ms/step - loss: 0.6786 - accuracy: 0.5736 - val_loss: 0.6741 - val_accuracy: 0.5898\n",
      "Epoch 16/150\n",
      "9/9 [==============================] - 0s 55ms/step - loss: 0.6784 - accuracy: 0.5735 - val_loss: 0.6733 - val_accuracy: 0.5894\n",
      "Epoch 17/150\n",
      "9/9 [==============================] - 1s 56ms/step - loss: 0.6787 - accuracy: 0.5732 - val_loss: 0.6728 - val_accuracy: 0.5899\n",
      "Epoch 18/150\n",
      "9/9 [==============================] - 0s 55ms/step - loss: 0.6780 - accuracy: 0.5736 - val_loss: 0.6728 - val_accuracy: 0.5904\n",
      "Epoch 19/150\n",
      "9/9 [==============================] - 1s 57ms/step - loss: 0.6778 - accuracy: 0.5742 - val_loss: 0.6723 - val_accuracy: 0.5912\n",
      "Epoch 20/150\n",
      "9/9 [==============================] - 1s 56ms/step - loss: 0.6778 - accuracy: 0.5738 - val_loss: 0.6721 - val_accuracy: 0.5914\n",
      "Epoch 21/150\n",
      "9/9 [==============================] - 1s 57ms/step - loss: 0.6775 - accuracy: 0.5742 - val_loss: 0.6724 - val_accuracy: 0.5917\n",
      "Epoch 22/150\n",
      "9/9 [==============================] - 0s 55ms/step - loss: 0.6772 - accuracy: 0.5745 - val_loss: 0.6721 - val_accuracy: 0.5911\n",
      "Epoch 23/150\n",
      "9/9 [==============================] - 1s 57ms/step - loss: 0.6769 - accuracy: 0.5745 - val_loss: 0.6730 - val_accuracy: 0.5913\n",
      "Epoch 24/150\n",
      "9/9 [==============================] - 1s 56ms/step - loss: 0.6771 - accuracy: 0.5751 - val_loss: 0.6728 - val_accuracy: 0.5918\n",
      "Epoch 25/150\n",
      "9/9 [==============================] - 0s 56ms/step - loss: 0.6771 - accuracy: 0.5747 - val_loss: 0.6721 - val_accuracy: 0.5913\n",
      "Epoch 26/150\n",
      "9/9 [==============================] - 1s 56ms/step - loss: 0.6772 - accuracy: 0.5745 - val_loss: 0.6716 - val_accuracy: 0.5910\n",
      "Epoch 27/150\n",
      "9/9 [==============================] - 1s 57ms/step - loss: 0.6776 - accuracy: 0.5748 - val_loss: 0.6714 - val_accuracy: 0.5920\n",
      "Epoch 28/150\n",
      "9/9 [==============================] - 1s 56ms/step - loss: 0.6772 - accuracy: 0.5755 - val_loss: 0.6714 - val_accuracy: 0.5925\n",
      "Epoch 29/150\n",
      "9/9 [==============================] - 1s 57ms/step - loss: 0.6765 - accuracy: 0.5757 - val_loss: 0.6715 - val_accuracy: 0.5924\n",
      "Epoch 30/150\n",
      "9/9 [==============================] - 1s 56ms/step - loss: 0.6766 - accuracy: 0.5752 - val_loss: 0.6719 - val_accuracy: 0.5922\n",
      "Epoch 31/150\n",
      "9/9 [==============================] - 1s 56ms/step - loss: 0.6768 - accuracy: 0.5754 - val_loss: 0.6728 - val_accuracy: 0.5927\n",
      "Epoch 32/150\n",
      "9/9 [==============================] - 1s 57ms/step - loss: 0.6765 - accuracy: 0.5757 - val_loss: 0.6719 - val_accuracy: 0.5925\n",
      "Epoch 33/150\n",
      "9/9 [==============================] - 1s 57ms/step - loss: 0.6769 - accuracy: 0.5747 - val_loss: 0.6718 - val_accuracy: 0.5917\n",
      "Epoch 34/150\n",
      "9/9 [==============================] - 1s 57ms/step - loss: 0.6769 - accuracy: 0.5748 - val_loss: 0.6708 - val_accuracy: 0.5931\n",
      "Epoch 35/150\n",
      "9/9 [==============================] - 1s 56ms/step - loss: 0.6761 - accuracy: 0.5756 - val_loss: 0.6720 - val_accuracy: 0.5922\n",
      "Epoch 36/150\n",
      "9/9 [==============================] - 1s 56ms/step - loss: 0.6766 - accuracy: 0.5753 - val_loss: 0.6726 - val_accuracy: 0.5923\n",
      "Epoch 37/150\n",
      "9/9 [==============================] - 1s 57ms/step - loss: 0.6764 - accuracy: 0.5759 - val_loss: 0.6722 - val_accuracy: 0.5935\n",
      "Epoch 38/150\n",
      "9/9 [==============================] - 1s 56ms/step - loss: 0.6759 - accuracy: 0.5763 - val_loss: 0.6718 - val_accuracy: 0.5935\n",
      "Epoch 39/150\n",
      "9/9 [==============================] - 1s 59ms/step - loss: 0.6757 - accuracy: 0.5762 - val_loss: 0.6716 - val_accuracy: 0.5933\n",
      "Epoch 40/150\n",
      "9/9 [==============================] - 1s 56ms/step - loss: 0.6758 - accuracy: 0.5762 - val_loss: 0.6717 - val_accuracy: 0.5930\n",
      "Epoch 41/150\n",
      "9/9 [==============================] - 1s 58ms/step - loss: 0.6754 - accuracy: 0.5764 - val_loss: 0.6710 - val_accuracy: 0.5932\n",
      "Epoch 42/150\n",
      "9/9 [==============================] - 1s 58ms/step - loss: 0.6753 - accuracy: 0.5764 - val_loss: 0.6712 - val_accuracy: 0.5935\n",
      "Epoch 43/150\n",
      "9/9 [==============================] - 1s 58ms/step - loss: 0.6755 - accuracy: 0.5766 - val_loss: 0.6716 - val_accuracy: 0.5926\n",
      "Epoch 44/150\n",
      "9/9 [==============================] - 1s 58ms/step - loss: 0.6752 - accuracy: 0.5768 - val_loss: 0.6712 - val_accuracy: 0.5937\n",
      "Epoch 45/150\n",
      "9/9 [==============================] - 1s 56ms/step - loss: 0.6751 - accuracy: 0.5766 - val_loss: 0.6713 - val_accuracy: 0.5936\n",
      "Epoch 46/150\n",
      "9/9 [==============================] - 1s 57ms/step - loss: 0.6751 - accuracy: 0.5767 - val_loss: 0.6711 - val_accuracy: 0.5936\n",
      "Epoch 47/150\n",
      "9/9 [==============================] - 1s 56ms/step - loss: 0.6749 - accuracy: 0.5769 - val_loss: 0.6708 - val_accuracy: 0.5933\n",
      "Epoch 48/150\n",
      "9/9 [==============================] - 1s 56ms/step - loss: 0.6749 - accuracy: 0.5769 - val_loss: 0.6705 - val_accuracy: 0.5928\n",
      "Epoch 49/150\n",
      "9/9 [==============================] - 1s 57ms/step - loss: 0.6750 - accuracy: 0.5765 - val_loss: 0.6713 - val_accuracy: 0.5925\n",
      "Epoch 50/150\n",
      "9/9 [==============================] - 1s 56ms/step - loss: 0.6749 - accuracy: 0.5767 - val_loss: 0.6708 - val_accuracy: 0.5936\n",
      "Epoch 51/150\n",
      "9/9 [==============================] - 0s 55ms/step - loss: 0.6747 - accuracy: 0.5770 - val_loss: 0.6702 - val_accuracy: 0.5937\n",
      "Epoch 52/150\n",
      "9/9 [==============================] - 0s 55ms/step - loss: 0.6745 - accuracy: 0.5774 - val_loss: 0.6698 - val_accuracy: 0.5933\n",
      "Epoch 53/150\n",
      "9/9 [==============================] - 0s 55ms/step - loss: 0.6743 - accuracy: 0.5774 - val_loss: 0.6702 - val_accuracy: 0.5935\n",
      "Epoch 54/150\n",
      "9/9 [==============================] - 0s 56ms/step - loss: 0.6746 - accuracy: 0.5771 - val_loss: 0.6709 - val_accuracy: 0.5933\n",
      "Epoch 55/150\n",
      "9/9 [==============================] - 1s 56ms/step - loss: 0.6743 - accuracy: 0.5769 - val_loss: 0.6704 - val_accuracy: 0.5938\n",
      "Epoch 56/150\n",
      "9/9 [==============================] - 1s 56ms/step - loss: 0.6741 - accuracy: 0.5776 - val_loss: 0.6699 - val_accuracy: 0.5936\n",
      "Epoch 57/150\n",
      "9/9 [==============================] - 1s 56ms/step - loss: 0.6743 - accuracy: 0.5773 - val_loss: 0.6697 - val_accuracy: 0.5937\n",
      "Epoch 58/150\n",
      "9/9 [==============================] - 1s 57ms/step - loss: 0.6739 - accuracy: 0.5777 - val_loss: 0.6698 - val_accuracy: 0.5934\n",
      "Epoch 59/150\n",
      "9/9 [==============================] - 1s 56ms/step - loss: 0.6738 - accuracy: 0.5776 - val_loss: 0.6698 - val_accuracy: 0.5935\n",
      "Epoch 60/150\n",
      "9/9 [==============================] - 0s 55ms/step - loss: 0.6737 - accuracy: 0.5773 - val_loss: 0.6706 - val_accuracy: 0.5934\n",
      "Epoch 61/150\n",
      "9/9 [==============================] - 0s 55ms/step - loss: 0.6740 - accuracy: 0.5777 - val_loss: 0.6704 - val_accuracy: 0.5944\n",
      "Epoch 62/150\n",
      "9/9 [==============================] - 0s 55ms/step - loss: 0.6742 - accuracy: 0.5772 - val_loss: 0.6702 - val_accuracy: 0.5943\n",
      "Epoch 63/150\n",
      "9/9 [==============================] - 0s 55ms/step - loss: 0.6741 - accuracy: 0.5774 - val_loss: 0.6708 - val_accuracy: 0.5938\n",
      "Epoch 64/150\n",
      "9/9 [==============================] - 1s 56ms/step - loss: 0.6747 - accuracy: 0.5770 - val_loss: 0.6721 - val_accuracy: 0.5935\n",
      "Epoch 65/150\n",
      "9/9 [==============================] - 0s 56ms/step - loss: 0.6744 - accuracy: 0.5778 - val_loss: 0.6717 - val_accuracy: 0.5945\n",
      "Epoch 66/150\n",
      "9/9 [==============================] - 1s 56ms/step - loss: 0.6744 - accuracy: 0.5779 - val_loss: 0.6713 - val_accuracy: 0.5946\n",
      "Epoch 67/150\n",
      "9/9 [==============================] - 1s 56ms/step - loss: 0.6737 - accuracy: 0.5783 - val_loss: 0.6704 - val_accuracy: 0.5945\n",
      "Epoch 68/150\n",
      "9/9 [==============================] - 1s 56ms/step - loss: 0.6733 - accuracy: 0.5781 - val_loss: 0.6696 - val_accuracy: 0.5947\n",
      "Epoch 69/150\n",
      "9/9 [==============================] - 1s 56ms/step - loss: 0.6735 - accuracy: 0.5777 - val_loss: 0.6692 - val_accuracy: 0.5947\n",
      "Epoch 70/150\n",
      "9/9 [==============================] - 0s 55ms/step - loss: 0.6737 - accuracy: 0.5777 - val_loss: 0.6707 - val_accuracy: 0.5932\n",
      "Epoch 71/150\n",
      "9/9 [==============================] - 0s 55ms/step - loss: 0.6739 - accuracy: 0.5778 - val_loss: 0.6707 - val_accuracy: 0.5941\n",
      "Epoch 72/150\n",
      "9/9 [==============================] - 0s 55ms/step - loss: 0.6739 - accuracy: 0.5780 - val_loss: 0.6707 - val_accuracy: 0.5945\n",
      "Epoch 73/150\n",
      "9/9 [==============================] - 0s 55ms/step - loss: 0.6735 - accuracy: 0.5783 - val_loss: 0.6705 - val_accuracy: 0.5947\n",
      "Epoch 74/150\n",
      "9/9 [==============================] - 0s 55ms/step - loss: 0.6732 - accuracy: 0.5782 - val_loss: 0.6697 - val_accuracy: 0.5946\n",
      "Epoch 75/150\n",
      "9/9 [==============================] - 0s 56ms/step - loss: 0.6734 - accuracy: 0.5782 - val_loss: 0.6694 - val_accuracy: 0.5946\n",
      "Epoch 76/150\n",
      "9/9 [==============================] - 1s 56ms/step - loss: 0.6737 - accuracy: 0.5779 - val_loss: 0.6687 - val_accuracy: 0.5942\n",
      "Epoch 77/150\n",
      "9/9 [==============================] - 0s 55ms/step - loss: 0.6729 - accuracy: 0.5784 - val_loss: 0.6699 - val_accuracy: 0.5935\n",
      "Epoch 78/150\n",
      "9/9 [==============================] - 0s 55ms/step - loss: 0.6734 - accuracy: 0.5779 - val_loss: 0.6698 - val_accuracy: 0.5945\n",
      "Epoch 79/150\n",
      "9/9 [==============================] - 0s 56ms/step - loss: 0.6729 - accuracy: 0.5786 - val_loss: 0.6694 - val_accuracy: 0.5953\n",
      "Epoch 80/150\n",
      "9/9 [==============================] - 1s 56ms/step - loss: 0.6727 - accuracy: 0.5785 - val_loss: 0.6688 - val_accuracy: 0.5952\n",
      "Epoch 81/150\n",
      "9/9 [==============================] - 1s 56ms/step - loss: 0.6725 - accuracy: 0.5785 - val_loss: 0.6686 - val_accuracy: 0.5949\n",
      "Epoch 82/150\n",
      "9/9 [==============================] - 0s 56ms/step - loss: 0.6726 - accuracy: 0.5786 - val_loss: 0.6687 - val_accuracy: 0.5946\n",
      "Epoch 83/150\n",
      "9/9 [==============================] - 0s 56ms/step - loss: 0.6728 - accuracy: 0.5783 - val_loss: 0.6683 - val_accuracy: 0.5947\n",
      "Epoch 84/150\n",
      "9/9 [==============================] - 1s 56ms/step - loss: 0.6723 - accuracy: 0.5785 - val_loss: 0.6686 - val_accuracy: 0.5944\n",
      "Epoch 85/150\n",
      "9/9 [==============================] - 0s 56ms/step - loss: 0.6725 - accuracy: 0.5785 - val_loss: 0.6691 - val_accuracy: 0.5949\n",
      "Epoch 86/150\n",
      "9/9 [==============================] - 0s 55ms/step - loss: 0.6724 - accuracy: 0.5789 - val_loss: 0.6687 - val_accuracy: 0.5950\n",
      "Epoch 87/150\n",
      "9/9 [==============================] - 0s 55ms/step - loss: 0.6729 - accuracy: 0.5783 - val_loss: 0.6684 - val_accuracy: 0.5948\n",
      "Epoch 88/150\n",
      "9/9 [==============================] - 1s 56ms/step - loss: 0.6724 - accuracy: 0.5791 - val_loss: 0.6685 - val_accuracy: 0.5942\n",
      "Epoch 89/150\n",
      "9/9 [==============================] - 1s 56ms/step - loss: 0.6722 - accuracy: 0.5788 - val_loss: 0.6684 - val_accuracy: 0.5947\n",
      "Epoch 90/150\n",
      "9/9 [==============================] - 0s 55ms/step - loss: 0.6719 - accuracy: 0.5790 - val_loss: 0.6688 - val_accuracy: 0.5945\n",
      "Epoch 91/150\n",
      "9/9 [==============================] - 0s 56ms/step - loss: 0.6722 - accuracy: 0.5787 - val_loss: 0.6689 - val_accuracy: 0.5946\n",
      "Epoch 92/150\n",
      "9/9 [==============================] - 1s 56ms/step - loss: 0.6721 - accuracy: 0.5786 - val_loss: 0.6686 - val_accuracy: 0.5949\n",
      "Epoch 93/150\n",
      "9/9 [==============================] - 0s 56ms/step - loss: 0.6720 - accuracy: 0.5790 - val_loss: 0.6685 - val_accuracy: 0.5947\n",
      "Epoch 94/150\n",
      "9/9 [==============================] - 0s 55ms/step - loss: 0.6721 - accuracy: 0.5785 - val_loss: 0.6684 - val_accuracy: 0.5951\n",
      "Epoch 95/150\n",
      "9/9 [==============================] - 0s 56ms/step - loss: 0.6714 - accuracy: 0.5795 - val_loss: 0.6687 - val_accuracy: 0.5949\n",
      "Epoch 96/150\n",
      "9/9 [==============================] - 0s 55ms/step - loss: 0.6716 - accuracy: 0.5789 - val_loss: 0.6689 - val_accuracy: 0.5946\n",
      "Epoch 97/150\n",
      "9/9 [==============================] - 0s 56ms/step - loss: 0.6714 - accuracy: 0.5795 - val_loss: 0.6685 - val_accuracy: 0.5949\n",
      "Epoch 98/150\n",
      "9/9 [==============================] - 0s 56ms/step - loss: 0.6718 - accuracy: 0.5792 - val_loss: 0.6690 - val_accuracy: 0.5946\n",
      "Epoch 99/150\n",
      "9/9 [==============================] - 0s 55ms/step - loss: 0.6719 - accuracy: 0.5789 - val_loss: 0.6688 - val_accuracy: 0.5948\n",
      "Epoch 100/150\n",
      "9/9 [==============================] - 0s 56ms/step - loss: 0.6713 - accuracy: 0.5792 - val_loss: 0.6692 - val_accuracy: 0.5950\n",
      "Epoch 101/150\n",
      "9/9 [==============================] - 0s 55ms/step - loss: 0.6716 - accuracy: 0.5795 - val_loss: 0.6696 - val_accuracy: 0.5947\n",
      "Epoch 102/150\n",
      "9/9 [==============================] - 1s 56ms/step - loss: 0.6716 - accuracy: 0.5792 - val_loss: 0.6693 - val_accuracy: 0.5947\n",
      "Epoch 103/150\n",
      "9/9 [==============================] - 0s 55ms/step - loss: 0.6717 - accuracy: 0.5794 - val_loss: 0.6688 - val_accuracy: 0.5949\n",
      "Epoch 104/150\n",
      "9/9 [==============================] - 1s 56ms/step - loss: 0.6718 - accuracy: 0.5792 - val_loss: 0.6685 - val_accuracy: 0.5951\n",
      "Epoch 105/150\n",
      "9/9 [==============================] - 0s 55ms/step - loss: 0.6722 - accuracy: 0.5796 - val_loss: 0.6683 - val_accuracy: 0.5951\n",
      "Epoch 106/150\n",
      "9/9 [==============================] - 1s 56ms/step - loss: 0.6719 - accuracy: 0.5794 - val_loss: 0.6682 - val_accuracy: 0.5943\n",
      "Epoch 107/150\n",
      "9/9 [==============================] - 0s 56ms/step - loss: 0.6715 - accuracy: 0.5791 - val_loss: 0.6686 - val_accuracy: 0.5947\n",
      "Epoch 108/150\n",
      "9/9 [==============================] - 0s 56ms/step - loss: 0.6714 - accuracy: 0.5792 - val_loss: 0.6690 - val_accuracy: 0.5947\n",
      "Epoch 109/150\n",
      "9/9 [==============================] - 0s 55ms/step - loss: 0.6716 - accuracy: 0.5792 - val_loss: 0.6689 - val_accuracy: 0.5943\n",
      "Epoch 110/150\n",
      "9/9 [==============================] - 0s 56ms/step - loss: 0.6717 - accuracy: 0.5789 - val_loss: 0.6684 - val_accuracy: 0.5949\n",
      "Epoch 111/150\n",
      "9/9 [==============================] - 0s 55ms/step - loss: 0.6712 - accuracy: 0.5796 - val_loss: 0.6687 - val_accuracy: 0.5941\n",
      "Epoch 112/150\n",
      "9/9 [==============================] - 1s 56ms/step - loss: 0.6715 - accuracy: 0.5791 - val_loss: 0.6690 - val_accuracy: 0.5939\n",
      "Epoch 113/150\n",
      "9/9 [==============================] - 0s 55ms/step - loss: 0.6711 - accuracy: 0.5793 - val_loss: 0.6689 - val_accuracy: 0.5941\n",
      "Epoch 114/150\n",
      "9/9 [==============================] - 1s 58ms/step - loss: 0.6714 - accuracy: 0.5795 - val_loss: 0.6686 - val_accuracy: 0.5947\n",
      "Epoch 115/150\n",
      "9/9 [==============================] - 1s 57ms/step - loss: 0.6716 - accuracy: 0.5790 - val_loss: 0.6697 - val_accuracy: 0.5937\n",
      "Epoch 116/150\n",
      "9/9 [==============================] - 0s 55ms/step - loss: 0.6719 - accuracy: 0.5792 - val_loss: 0.6699 - val_accuracy: 0.5948\n",
      "Epoch 117/150\n",
      "9/9 [==============================] - 1s 56ms/step - loss: 0.6715 - accuracy: 0.5793 - val_loss: 0.6698 - val_accuracy: 0.5945\n",
      "Epoch 118/150\n",
      "9/9 [==============================] - 0s 55ms/step - loss: 0.6713 - accuracy: 0.5793 - val_loss: 0.6690 - val_accuracy: 0.5947\n",
      "Epoch 119/150\n",
      "9/9 [==============================] - 0s 55ms/step - loss: 0.6711 - accuracy: 0.5795 - val_loss: 0.6687 - val_accuracy: 0.5947\n",
      "Epoch 120/150\n",
      "9/9 [==============================] - 1s 56ms/step - loss: 0.6711 - accuracy: 0.5794 - val_loss: 0.6685 - val_accuracy: 0.5951\n",
      "Epoch 121/150\n",
      "9/9 [==============================] - 1s 56ms/step - loss: 0.6709 - accuracy: 0.5794 - val_loss: 0.6686 - val_accuracy: 0.5945\n",
      "Epoch 122/150\n",
      "9/9 [==============================] - 1s 56ms/step - loss: 0.6708 - accuracy: 0.5798 - val_loss: 0.6683 - val_accuracy: 0.5949\n",
      "Epoch 123/150\n",
      "9/9 [==============================] - 0s 55ms/step - loss: 0.6708 - accuracy: 0.5796 - val_loss: 0.6684 - val_accuracy: 0.5945\n",
      "Epoch 124/150\n",
      "9/9 [==============================] - 0s 55ms/step - loss: 0.6708 - accuracy: 0.5799 - val_loss: 0.6687 - val_accuracy: 0.5944\n",
      "Epoch 125/150\n",
      "9/9 [==============================] - 1s 56ms/step - loss: 0.6709 - accuracy: 0.5796 - val_loss: 0.6687 - val_accuracy: 0.5943\n",
      "Epoch 126/150\n",
      "9/9 [==============================] - 1s 55ms/step - loss: 0.6712 - accuracy: 0.5794 - val_loss: 0.6688 - val_accuracy: 0.5947\n",
      "Epoch 127/150\n",
      "9/9 [==============================] - 1s 57ms/step - loss: 0.6710 - accuracy: 0.5795 - val_loss: 0.6685 - val_accuracy: 0.5945\n",
      "Epoch 128/150\n",
      "9/9 [==============================] - 1s 56ms/step - loss: 0.6708 - accuracy: 0.5793 - val_loss: 0.6684 - val_accuracy: 0.5947\n",
      "Epoch 129/150\n",
      "9/9 [==============================] - 1s 58ms/step - loss: 0.6705 - accuracy: 0.5796 - val_loss: 0.6686 - val_accuracy: 0.5947\n",
      "Epoch 130/150\n",
      "9/9 [==============================] - 1s 57ms/step - loss: 0.6709 - accuracy: 0.5798 - val_loss: 0.6689 - val_accuracy: 0.5944\n",
      "Epoch 131/150\n",
      "9/9 [==============================] - 1s 58ms/step - loss: 0.6709 - accuracy: 0.5796 - val_loss: 0.6685 - val_accuracy: 0.5946\n",
      "Epoch 132/150\n",
      "9/9 [==============================] - 1s 59ms/step - loss: 0.6706 - accuracy: 0.5797 - val_loss: 0.6684 - val_accuracy: 0.5947\n",
      "Epoch 133/150\n",
      "9/9 [==============================] - 1s 58ms/step - loss: 0.6707 - accuracy: 0.5796 - val_loss: 0.6694 - val_accuracy: 0.5945\n",
      "Epoch 134/150\n",
      "9/9 [==============================] - 1s 58ms/step - loss: 0.6707 - accuracy: 0.5796 - val_loss: 0.6694 - val_accuracy: 0.5945\n",
      "Epoch 135/150\n",
      "9/9 [==============================] - 1s 56ms/step - loss: 0.6704 - accuracy: 0.5802 - val_loss: 0.6695 - val_accuracy: 0.5944\n",
      "Epoch 136/150\n",
      "9/9 [==============================] - 1s 58ms/step - loss: 0.6705 - accuracy: 0.5800 - val_loss: 0.6690 - val_accuracy: 0.5947\n",
      "Epoch 137/150\n",
      "9/9 [==============================] - 1s 56ms/step - loss: 0.6707 - accuracy: 0.5793 - val_loss: 0.6693 - val_accuracy: 0.5948\n",
      "Epoch 138/150\n",
      "9/9 [==============================] - 1s 57ms/step - loss: 0.6707 - accuracy: 0.5798 - val_loss: 0.6694 - val_accuracy: 0.5950\n",
      "Epoch 139/150\n",
      "9/9 [==============================] - 1s 56ms/step - loss: 0.6704 - accuracy: 0.5802 - val_loss: 0.6692 - val_accuracy: 0.5946\n",
      "Epoch 140/150\n",
      "9/9 [==============================] - 1s 56ms/step - loss: 0.6706 - accuracy: 0.5798 - val_loss: 0.6693 - val_accuracy: 0.5947\n",
      "Epoch 141/150\n",
      "9/9 [==============================] - 0s 55ms/step - loss: 0.6702 - accuracy: 0.5802 - val_loss: 0.6699 - val_accuracy: 0.5942\n",
      "Epoch 142/150\n",
      "9/9 [==============================] - 1s 56ms/step - loss: 0.6705 - accuracy: 0.5795 - val_loss: 0.6695 - val_accuracy: 0.5943\n",
      "Epoch 143/150\n",
      "9/9 [==============================] - 1s 56ms/step - loss: 0.6701 - accuracy: 0.5801 - val_loss: 0.6692 - val_accuracy: 0.5945\n",
      "Epoch 144/150\n",
      "9/9 [==============================] - 0s 56ms/step - loss: 0.6703 - accuracy: 0.5796 - val_loss: 0.6689 - val_accuracy: 0.5946\n",
      "Epoch 145/150\n",
      "9/9 [==============================] - 1s 57ms/step - loss: 0.6701 - accuracy: 0.5795 - val_loss: 0.6686 - val_accuracy: 0.5950\n",
      "Epoch 146/150\n",
      "9/9 [==============================] - 1s 56ms/step - loss: 0.6699 - accuracy: 0.5803 - val_loss: 0.6685 - val_accuracy: 0.5947\n",
      "Epoch 147/150\n",
      "9/9 [==============================] - 1s 56ms/step - loss: 0.6700 - accuracy: 0.5799 - val_loss: 0.6685 - val_accuracy: 0.5947\n",
      "Epoch 148/150\n",
      "9/9 [==============================] - 1s 56ms/step - loss: 0.6701 - accuracy: 0.5800 - val_loss: 0.6686 - val_accuracy: 0.5942\n",
      "Epoch 149/150\n",
      "9/9 [==============================] - 1s 56ms/step - loss: 0.6700 - accuracy: 0.5799 - val_loss: 0.6686 - val_accuracy: 0.5944\n",
      "Epoch 150/150\n",
      "9/9 [==============================] - 1s 56ms/step - loss: 0.6698 - accuracy: 0.5802 - val_loss: 0.6688 - val_accuracy: 0.5943\n"
     ]
    },
    {
     "name": "stderr",
     "output_type": "stream",
     "text": [
      "2022-02-02 15:41:04.169316: I tensorflow/core/grappler/optimizers/custom_graph_optimizer_registry.cc:112] Plugin optimizer for device_type GPU is enabled.\n"
     ]
    },
    {
     "name": "stdout",
     "output_type": "stream",
     "text": [
      "INFO:tensorflow:Assets written to: models/model4.tf/assets\n"
     ]
    }
   ],
   "source": [
    "n_samples = x_train.shape[0]\n",
    "model_n = 4\n",
    "\n",
    "history = model.fit(x_train,\n",
    "                    y_train,\n",
    "                    validation_split=0.2,\n",
    "                    batch_size=int(n_samples*0.1),\n",
    "                    epochs=150)\n",
    "\n",
    "model.save(f'models/model{model_n}.tf')\n",
    "\n",
    "with open(f'models/history{model_n}.json', 'w') as f:\n",
    "    json.dump(history.history, f)"
   ],
   "metadata": {
    "collapsed": false,
    "pycharm": {
     "name": "#%%\n"
    }
   }
  }
 ],
 "metadata": {
  "kernelspec": {
   "display_name": "Python 3",
   "language": "python",
   "name": "python3"
  },
  "language_info": {
   "codemirror_mode": {
    "name": "ipython",
    "version": 2
   },
   "file_extension": ".py",
   "mimetype": "text/x-python",
   "name": "python",
   "nbconvert_exporter": "python",
   "pygments_lexer": "ipython2",
   "version": "2.7.6"
  }
 },
 "nbformat": 4,
 "nbformat_minor": 0
}