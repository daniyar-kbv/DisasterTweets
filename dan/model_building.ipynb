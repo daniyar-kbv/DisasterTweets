{
 "cells": [
  {
   "cell_type": "code",
   "execution_count": 1,
   "metadata": {
    "collapsed": true
   },
   "outputs": [],
   "source": [
    "from tensorflow.keras.layers import Embedding\n",
    "from sklearn.model_selection import train_test_split\n",
    "from tensorflow.keras.models import Sequential, Model\n",
    "from tensorflow.keras.layers import Input, Dense, Dropout, Bidirectional, LSTM, GRU\n",
    "from tensorflow.keras.initializers import Constant\n",
    "from keras.layers import TextVectorization\n",
    "import numpy as np\n",
    "import pickle\n",
    "import json"
   ]
  },
  {
   "cell_type": "code",
   "execution_count": 2,
   "outputs": [],
   "source": [
    "X = np.load('data/X.npy', allow_pickle=True)\n",
    "y = np.load('data/y.npy')\n",
    "embedding_matrix = np.load('data/embedding_matrix.npy')\n",
    "num_tokens = np.load('data/num_tokens.npy').item()\n",
    "embedding_dim = np.load('data/embedding_dim.npy').item()\n",
    "max_tokens = np.load('data/max_tokens.npy').item()\n",
    "max_len = np.load('data/max_len.npy').item()"
   ],
   "metadata": {
    "collapsed": false,
    "pycharm": {
     "name": "#%%\n"
    }
   }
  },
  {
   "cell_type": "code",
   "execution_count": 3,
   "outputs": [
    {
     "name": "stdout",
     "output_type": "stream",
     "text": [
      "Metal device set to: Apple M1 Pro\n"
     ]
    },
    {
     "name": "stderr",
     "output_type": "stream",
     "text": [
      "2022-02-02 20:06:04.342398: I tensorflow/core/common_runtime/pluggable_device/pluggable_device_factory.cc:305] Could not identify NUMA node of platform GPU ID 0, defaulting to 0. Your kernel may not have been built with NUMA support.\n",
      "2022-02-02 20:06:04.342525: I tensorflow/core/common_runtime/pluggable_device/pluggable_device_factory.cc:271] Created TensorFlow device (/job:localhost/replica:0/task:0/device:GPU:0 with 0 MB memory) -> physical PluggableDevice (device: 0, name: METAL, pci bus id: <undefined>)\n",
      "2022-02-02 20:06:04.372557: W tensorflow/core/platform/profile_utils/cpu_utils.cc:128] Failed to get CPU frequency: 0 Hz\n",
      "2022-02-02 20:06:04.407927: I tensorflow/core/grappler/optimizers/custom_graph_optimizer_registry.cc:112] Plugin optimizer for device_type GPU is enabled.\n"
     ]
    }
   ],
   "source": [
    "vectorizer = TextVectorization(max_tokens=max_tokens,\n",
    "                               standardize=None,\n",
    "                               ngrams=(1, 2),\n",
    "                               output_sequence_length=max_len)\n",
    "vectorizer.adapt(X)"
   ],
   "metadata": {
    "collapsed": false,
    "pycharm": {
     "name": "#%%\n"
    }
   }
  },
  {
   "cell_type": "code",
   "execution_count": 4,
   "outputs": [],
   "source": [
    "y = y.reshape((-1,1))"
   ],
   "metadata": {
    "collapsed": false,
    "pycharm": {
     "name": "#%%\n"
    }
   }
  },
  {
   "cell_type": "code",
   "execution_count": 5,
   "outputs": [
    {
     "name": "stdout",
     "output_type": "stream",
     "text": [
      "(6542,)\n",
      "(6542, 1)\n"
     ]
    }
   ],
   "source": [
    "print(X.shape)\n",
    "print(y.shape)"
   ],
   "metadata": {
    "collapsed": false,
    "pycharm": {
     "name": "#%%\n"
    }
   }
  },
  {
   "cell_type": "code",
   "execution_count": 6,
   "outputs": [],
   "source": [
    "x_train, x_test, y_train, y_test = train_test_split(X, y, test_size=0.2, random_state=0)"
   ],
   "metadata": {
    "collapsed": false,
    "pycharm": {
     "name": "#%%\n"
    }
   }
  },
  {
   "cell_type": "code",
   "execution_count": 7,
   "outputs": [],
   "source": [
    "np.save('data/x_train.npy', x_train)\n",
    "np.save('data/y_train.npy', y_train)\n",
    "np.save('data/x_test.npy', x_test)\n",
    "np.save('data/y_test.npy', y_test)"
   ],
   "metadata": {
    "collapsed": false,
    "pycharm": {
     "name": "#%%\n"
    }
   }
  },
  {
   "cell_type": "code",
   "execution_count": 8,
   "outputs": [
    {
     "name": "stdout",
     "output_type": "stream",
     "text": [
      "Model: \"model\"\n",
      "_________________________________________________________________\n",
      " Layer (type)                Output Shape              Param #   \n",
      "=================================================================\n",
      " input_1 (InputLayer)        [(None, 1)]               0         \n",
      "                                                                 \n",
      " text_vectorization (TextVec  (None, 68)               0         \n",
      " torization)                                                     \n",
      "                                                                 \n",
      " embedding (Embedding)       (None, 68, 100)           5000200   \n",
      "                                                                 \n",
      " bidirectional (Bidirectiona  (None, 68, 64)           25728     \n",
      " l)                                                              \n",
      "                                                                 \n",
      " dropout (Dropout)           (None, 68, 64)            0         \n",
      "                                                                 \n",
      " bidirectional_1 (Bidirectio  (None, 68, 32)           7872      \n",
      " nal)                                                            \n",
      "                                                                 \n",
      " dropout_1 (Dropout)         (None, 68, 32)            0         \n",
      "                                                                 \n",
      " dense (Dense)               (None, 68, 10)            330       \n",
      "                                                                 \n",
      " dropout_2 (Dropout)         (None, 68, 10)            0         \n",
      "                                                                 \n",
      " dense_1 (Dense)             (None, 68, 1)             11        \n",
      "                                                                 \n",
      "=================================================================\n",
      "Total params: 5,034,141\n",
      "Trainable params: 33,941\n",
      "Non-trainable params: 5,000,200\n",
      "_________________________________________________________________\n"
     ]
    }
   ],
   "source": [
    "sequences_input = Input(shape=(1), dtype='string')\n",
    "\n",
    "vectorizer_sequence = vectorizer(sequences_input)\n",
    "\n",
    "embedding_layer = Embedding(num_tokens,\n",
    "                            embedding_dim,\n",
    "                            embeddings_initializer=Constant(embedding_matrix),\n",
    "                            trainable=False)\n",
    "embedded_sequences = embedding_layer(vectorizer_sequence)\n",
    "\n",
    "x = Bidirectional(GRU(32, return_sequences=True))(embedded_sequences)\n",
    "x = Dropout(0.2)(x)\n",
    "x = Bidirectional(GRU(16, return_sequences=True))(x)\n",
    "x = Dropout(0.2)(x)\n",
    "x = Dense(10, activation=\"relu\")(x)\n",
    "x = Dropout(0.2)(x)\n",
    "\n",
    "preds = Dense(units=1,\n",
    "              kernel_initializer='uniform',\n",
    "              activation='sigmoid')(x)\n",
    "model = Model(sequences_input, preds)\n",
    "\n",
    "model.compile(optimizer='adam',\n",
    "                      loss='binary_crossentropy',\n",
    "                      metrics=['accuracy'])\n",
    "\n",
    "model.summary()"
   ],
   "metadata": {
    "collapsed": false,
    "pycharm": {
     "name": "#%%\n"
    }
   }
  },
  {
   "cell_type": "code",
   "execution_count": 9,
   "outputs": [
    {
     "name": "stdout",
     "output_type": "stream",
     "text": [
      "Epoch 1/200\n"
     ]
    },
    {
     "name": "stderr",
     "output_type": "stream",
     "text": [
      "2022-02-02 20:06:08.766304: I tensorflow/core/grappler/optimizers/custom_graph_optimizer_registry.cc:112] Plugin optimizer for device_type GPU is enabled.\n",
      "2022-02-02 20:06:09.212548: I tensorflow/core/grappler/optimizers/custom_graph_optimizer_registry.cc:112] Plugin optimizer for device_type GPU is enabled.\n",
      "2022-02-02 20:06:09.227408: I tensorflow/core/grappler/optimizers/custom_graph_optimizer_registry.cc:112] Plugin optimizer for device_type GPU is enabled.\n",
      "2022-02-02 20:06:09.452559: I tensorflow/core/grappler/optimizers/custom_graph_optimizer_registry.cc:112] Plugin optimizer for device_type GPU is enabled.\n",
      "2022-02-02 20:06:09.467267: I tensorflow/core/grappler/optimizers/custom_graph_optimizer_registry.cc:112] Plugin optimizer for device_type GPU is enabled.\n",
      "2022-02-02 20:06:09.762433: I tensorflow/core/grappler/optimizers/custom_graph_optimizer_registry.cc:112] Plugin optimizer for device_type GPU is enabled.\n",
      "2022-02-02 20:06:09.781333: I tensorflow/core/grappler/optimizers/custom_graph_optimizer_registry.cc:112] Plugin optimizer for device_type GPU is enabled.\n",
      "2022-02-02 20:06:10.048664: I tensorflow/core/grappler/optimizers/custom_graph_optimizer_registry.cc:112] Plugin optimizer for device_type GPU is enabled.\n",
      "2022-02-02 20:06:10.064603: I tensorflow/core/grappler/optimizers/custom_graph_optimizer_registry.cc:112] Plugin optimizer for device_type GPU is enabled.\n"
     ]
    },
    {
     "name": "stdout",
     "output_type": "stream",
     "text": [
      "9/9 [==============================] - ETA: 0s - loss: 0.6928 - accuracy: 0.5051"
     ]
    },
    {
     "name": "stderr",
     "output_type": "stream",
     "text": [
      "2022-02-02 20:06:13.010352: I tensorflow/core/grappler/optimizers/custom_graph_optimizer_registry.cc:112] Plugin optimizer for device_type GPU is enabled.\n",
      "2022-02-02 20:06:13.173700: I tensorflow/core/grappler/optimizers/custom_graph_optimizer_registry.cc:112] Plugin optimizer for device_type GPU is enabled.\n",
      "2022-02-02 20:06:13.184237: I tensorflow/core/grappler/optimizers/custom_graph_optimizer_registry.cc:112] Plugin optimizer for device_type GPU is enabled.\n",
      "2022-02-02 20:06:13.377886: I tensorflow/core/grappler/optimizers/custom_graph_optimizer_registry.cc:112] Plugin optimizer for device_type GPU is enabled.\n",
      "2022-02-02 20:06:13.384657: I tensorflow/core/grappler/optimizers/custom_graph_optimizer_registry.cc:112] Plugin optimizer for device_type GPU is enabled.\n"
     ]
    },
    {
     "name": "stdout",
     "output_type": "stream",
     "text": [
      "9/9 [==============================] - 8s 492ms/step - loss: 0.6928 - accuracy: 0.5051 - val_loss: 0.6922 - val_accuracy: 0.5319\n",
      "Epoch 2/200\n",
      "9/9 [==============================] - 1s 154ms/step - loss: 0.6919 - accuracy: 0.5185 - val_loss: 0.6914 - val_accuracy: 0.5072\n",
      "Epoch 3/200\n",
      "9/9 [==============================] - 1s 165ms/step - loss: 0.6908 - accuracy: 0.5186 - val_loss: 0.6905 - val_accuracy: 0.5046\n",
      "Epoch 4/200\n",
      "9/9 [==============================] - 1s 161ms/step - loss: 0.6894 - accuracy: 0.5198 - val_loss: 0.6895 - val_accuracy: 0.5080\n",
      "Epoch 5/200\n",
      "9/9 [==============================] - 1s 165ms/step - loss: 0.6876 - accuracy: 0.5261 - val_loss: 0.6869 - val_accuracy: 0.5215\n",
      "Epoch 6/200\n",
      "9/9 [==============================] - 1s 158ms/step - loss: 0.6823 - accuracy: 0.5448 - val_loss: 0.6765 - val_accuracy: 0.5538\n",
      "Epoch 7/200\n",
      "9/9 [==============================] - 1s 152ms/step - loss: 0.6658 - accuracy: 0.6131 - val_loss: 0.6370 - val_accuracy: 0.6930\n",
      "Epoch 8/200\n",
      "9/9 [==============================] - 1s 153ms/step - loss: 0.6169 - accuracy: 0.7031 - val_loss: 0.5867 - val_accuracy: 0.7141\n",
      "Epoch 9/200\n",
      "9/9 [==============================] - 1s 152ms/step - loss: 0.5960 - accuracy: 0.7136 - val_loss: 0.5722 - val_accuracy: 0.7303\n",
      "Epoch 10/200\n",
      "9/9 [==============================] - 1s 162ms/step - loss: 0.5856 - accuracy: 0.7207 - val_loss: 0.5840 - val_accuracy: 0.7110\n",
      "Epoch 11/200\n",
      "9/9 [==============================] - 1s 158ms/step - loss: 0.6049 - accuracy: 0.6934 - val_loss: 0.6205 - val_accuracy: 0.6629\n",
      "Epoch 12/200\n",
      "9/9 [==============================] - 1s 160ms/step - loss: 0.6157 - accuracy: 0.6680 - val_loss: 0.6144 - val_accuracy: 0.6562\n",
      "Epoch 13/200\n",
      "9/9 [==============================] - 1s 157ms/step - loss: 0.6107 - accuracy: 0.6648 - val_loss: 0.6102 - val_accuracy: 0.6579\n",
      "Epoch 14/200\n",
      "9/9 [==============================] - 1s 161ms/step - loss: 0.6100 - accuracy: 0.6656 - val_loss: 0.6128 - val_accuracy: 0.6586\n",
      "Epoch 15/200\n",
      "9/9 [==============================] - 1s 155ms/step - loss: 0.6110 - accuracy: 0.6610 - val_loss: 0.6112 - val_accuracy: 0.6484\n",
      "Epoch 16/200\n",
      "9/9 [==============================] - 2s 170ms/step - loss: 0.6099 - accuracy: 0.6567 - val_loss: 0.6103 - val_accuracy: 0.6462\n",
      "Epoch 17/200\n",
      "9/9 [==============================] - 1s 160ms/step - loss: 0.6092 - accuracy: 0.6552 - val_loss: 0.6092 - val_accuracy: 0.6461\n",
      "Epoch 18/200\n",
      "9/9 [==============================] - 1s 162ms/step - loss: 0.6060 - accuracy: 0.6567 - val_loss: 0.6044 - val_accuracy: 0.6508\n",
      "Epoch 19/200\n",
      "9/9 [==============================] - 1s 163ms/step - loss: 0.6059 - accuracy: 0.6608 - val_loss: 0.6075 - val_accuracy: 0.6556\n",
      "Epoch 20/200\n",
      "9/9 [==============================] - 1s 165ms/step - loss: 0.6086 - accuracy: 0.6630 - val_loss: 0.6064 - val_accuracy: 0.6561\n",
      "Epoch 21/200\n",
      "9/9 [==============================] - 1s 167ms/step - loss: 0.6064 - accuracy: 0.6644 - val_loss: 0.6034 - val_accuracy: 0.6572\n",
      "Epoch 22/200\n",
      "9/9 [==============================] - 1s 160ms/step - loss: 0.6000 - accuracy: 0.6658 - val_loss: 0.5983 - val_accuracy: 0.6560\n",
      "Epoch 23/200\n",
      "9/9 [==============================] - 1s 155ms/step - loss: 0.5957 - accuracy: 0.6659 - val_loss: 0.5965 - val_accuracy: 0.6568\n",
      "Epoch 24/200\n",
      "9/9 [==============================] - 1s 157ms/step - loss: 0.5945 - accuracy: 0.6675 - val_loss: 0.5951 - val_accuracy: 0.6586\n",
      "Epoch 25/200\n",
      "9/9 [==============================] - 1s 154ms/step - loss: 0.5943 - accuracy: 0.6688 - val_loss: 0.5946 - val_accuracy: 0.6595\n",
      "Epoch 26/200\n",
      "9/9 [==============================] - 1s 155ms/step - loss: 0.5947 - accuracy: 0.6697 - val_loss: 0.5947 - val_accuracy: 0.6594\n",
      "Epoch 27/200\n",
      "9/9 [==============================] - 1s 156ms/step - loss: 0.5929 - accuracy: 0.6685 - val_loss: 0.5932 - val_accuracy: 0.6582\n",
      "Epoch 28/200\n",
      "9/9 [==============================] - 1s 159ms/step - loss: 0.5910 - accuracy: 0.6694 - val_loss: 0.5920 - val_accuracy: 0.6599\n",
      "Epoch 29/200\n",
      "9/9 [==============================] - 1s 156ms/step - loss: 0.5907 - accuracy: 0.6702 - val_loss: 0.5920 - val_accuracy: 0.6607\n",
      "Epoch 30/200\n",
      "9/9 [==============================] - 1s 163ms/step - loss: 0.5907 - accuracy: 0.6697 - val_loss: 0.5922 - val_accuracy: 0.6597\n",
      "Epoch 31/200\n",
      "9/9 [==============================] - 1s 161ms/step - loss: 0.5900 - accuracy: 0.6699 - val_loss: 0.5912 - val_accuracy: 0.6605\n",
      "Epoch 32/200\n",
      "9/9 [==============================] - 1s 167ms/step - loss: 0.5906 - accuracy: 0.6685 - val_loss: 0.5934 - val_accuracy: 0.6582\n",
      "Epoch 33/200\n",
      "9/9 [==============================] - 1s 160ms/step - loss: 0.5925 - accuracy: 0.6680 - val_loss: 0.5915 - val_accuracy: 0.6601\n",
      "Epoch 34/200\n",
      "9/9 [==============================] - 1s 156ms/step - loss: 0.5883 - accuracy: 0.6719 - val_loss: 0.5852 - val_accuracy: 0.6652\n",
      "Epoch 35/200\n",
      "9/9 [==============================] - 1s 157ms/step - loss: 0.5852 - accuracy: 0.6745 - val_loss: 0.5839 - val_accuracy: 0.6671\n",
      "Epoch 36/200\n",
      "9/9 [==============================] - 1s 156ms/step - loss: 0.5834 - accuracy: 0.6757 - val_loss: 0.5832 - val_accuracy: 0.6684\n",
      "Epoch 37/200\n",
      "9/9 [==============================] - 1s 160ms/step - loss: 0.5836 - accuracy: 0.6763 - val_loss: 0.5847 - val_accuracy: 0.6681\n",
      "Epoch 38/200\n",
      "9/9 [==============================] - 1s 155ms/step - loss: 0.5898 - accuracy: 0.6787 - val_loss: 0.5892 - val_accuracy: 0.6694\n",
      "Epoch 39/200\n",
      "9/9 [==============================] - 1s 158ms/step - loss: 0.5888 - accuracy: 0.6803 - val_loss: 0.5830 - val_accuracy: 0.6682\n",
      "Epoch 40/200\n",
      "9/9 [==============================] - 1s 155ms/step - loss: 0.5820 - accuracy: 0.6765 - val_loss: 0.5850 - val_accuracy: 0.6652\n",
      "Epoch 41/200\n",
      "9/9 [==============================] - 1s 155ms/step - loss: 0.5821 - accuracy: 0.6746 - val_loss: 0.5836 - val_accuracy: 0.6657\n",
      "Epoch 42/200\n",
      "9/9 [==============================] - 1s 155ms/step - loss: 0.5804 - accuracy: 0.6765 - val_loss: 0.5812 - val_accuracy: 0.6678\n",
      "Epoch 43/200\n",
      "9/9 [==============================] - 1s 154ms/step - loss: 0.5796 - accuracy: 0.6791 - val_loss: 0.5804 - val_accuracy: 0.6697\n",
      "Epoch 44/200\n",
      "9/9 [==============================] - 1s 155ms/step - loss: 0.5796 - accuracy: 0.6820 - val_loss: 0.5792 - val_accuracy: 0.6703\n",
      "Epoch 45/200\n",
      "9/9 [==============================] - 2s 171ms/step - loss: 0.5778 - accuracy: 0.6796 - val_loss: 0.5801 - val_accuracy: 0.6687\n",
      "Epoch 46/200\n",
      "9/9 [==============================] - 1s 163ms/step - loss: 0.5777 - accuracy: 0.6798 - val_loss: 0.5794 - val_accuracy: 0.6705\n",
      "Epoch 47/200\n",
      "9/9 [==============================] - 1s 159ms/step - loss: 0.5775 - accuracy: 0.6817 - val_loss: 0.5783 - val_accuracy: 0.6709\n",
      "Epoch 48/200\n",
      "9/9 [==============================] - 1s 162ms/step - loss: 0.5788 - accuracy: 0.6860 - val_loss: 0.5785 - val_accuracy: 0.6767\n",
      "Epoch 49/200\n",
      "9/9 [==============================] - 1s 162ms/step - loss: 0.5793 - accuracy: 0.6910 - val_loss: 0.5781 - val_accuracy: 0.6785\n",
      "Epoch 50/200\n",
      "9/9 [==============================] - 1s 161ms/step - loss: 0.5762 - accuracy: 0.6882 - val_loss: 0.5773 - val_accuracy: 0.6772\n",
      "Epoch 51/200\n",
      "9/9 [==============================] - 1s 159ms/step - loss: 0.5765 - accuracy: 0.6917 - val_loss: 0.5745 - val_accuracy: 0.6914\n",
      "Epoch 52/200\n",
      "9/9 [==============================] - 1s 159ms/step - loss: 0.5761 - accuracy: 0.6972 - val_loss: 0.5726 - val_accuracy: 0.6984\n",
      "Epoch 53/200\n",
      "9/9 [==============================] - 1s 162ms/step - loss: 0.5792 - accuracy: 0.6977 - val_loss: 0.5764 - val_accuracy: 0.7030\n",
      "Epoch 54/200\n",
      "9/9 [==============================] - 1s 159ms/step - loss: 0.5846 - accuracy: 0.6904 - val_loss: 0.5721 - val_accuracy: 0.7111\n",
      "Epoch 55/200\n",
      "9/9 [==============================] - 1s 159ms/step - loss: 0.5729 - accuracy: 0.7050 - val_loss: 0.5701 - val_accuracy: 0.6975\n",
      "Epoch 56/200\n",
      "9/9 [==============================] - 1s 160ms/step - loss: 0.5733 - accuracy: 0.6962 - val_loss: 0.5755 - val_accuracy: 0.6862\n",
      "Epoch 57/200\n",
      "9/9 [==============================] - 1s 160ms/step - loss: 0.5739 - accuracy: 0.6988 - val_loss: 0.5705 - val_accuracy: 0.7009\n",
      "Epoch 58/200\n",
      "9/9 [==============================] - 1s 159ms/step - loss: 0.5731 - accuracy: 0.7097 - val_loss: 0.5675 - val_accuracy: 0.7179\n",
      "Epoch 59/200\n",
      "9/9 [==============================] - 1s 158ms/step - loss: 0.5689 - accuracy: 0.7173 - val_loss: 0.5605 - val_accuracy: 0.7263\n",
      "Epoch 60/200\n",
      "9/9 [==============================] - 1s 166ms/step - loss: 0.5645 - accuracy: 0.7226 - val_loss: 0.5577 - val_accuracy: 0.7365\n",
      "Epoch 61/200\n",
      "9/9 [==============================] - 1s 161ms/step - loss: 0.5671 - accuracy: 0.7197 - val_loss: 0.5630 - val_accuracy: 0.7355\n",
      "Epoch 62/200\n",
      "9/9 [==============================] - 1s 156ms/step - loss: 0.5773 - accuracy: 0.7065 - val_loss: 0.5605 - val_accuracy: 0.7361\n",
      "Epoch 63/200\n",
      "9/9 [==============================] - 1s 156ms/step - loss: 0.5618 - accuracy: 0.7224 - val_loss: 0.5528 - val_accuracy: 0.7219\n",
      "Epoch 64/200\n",
      "9/9 [==============================] - 1s 155ms/step - loss: 0.5607 - accuracy: 0.7182 - val_loss: 0.5544 - val_accuracy: 0.7206\n",
      "Epoch 65/200\n",
      "9/9 [==============================] - 1s 155ms/step - loss: 0.5596 - accuracy: 0.7210 - val_loss: 0.5526 - val_accuracy: 0.7268\n",
      "Epoch 66/200\n",
      "9/9 [==============================] - 1s 156ms/step - loss: 0.5566 - accuracy: 0.7250 - val_loss: 0.5493 - val_accuracy: 0.7339\n",
      "Epoch 67/200\n",
      "9/9 [==============================] - 1s 159ms/step - loss: 0.5540 - accuracy: 0.7282 - val_loss: 0.5467 - val_accuracy: 0.7375\n",
      "Epoch 68/200\n",
      "9/9 [==============================] - 1s 157ms/step - loss: 0.5517 - accuracy: 0.7291 - val_loss: 0.5446 - val_accuracy: 0.7425\n",
      "Epoch 69/200\n",
      "9/9 [==============================] - 1s 156ms/step - loss: 0.5518 - accuracy: 0.7286 - val_loss: 0.5467 - val_accuracy: 0.7339\n",
      "Epoch 70/200\n",
      "9/9 [==============================] - 1s 157ms/step - loss: 0.5524 - accuracy: 0.7282 - val_loss: 0.5461 - val_accuracy: 0.7341\n",
      "Epoch 71/200\n",
      "9/9 [==============================] - 1s 162ms/step - loss: 0.5508 - accuracy: 0.7297 - val_loss: 0.5450 - val_accuracy: 0.7330\n",
      "Epoch 72/200\n",
      "9/9 [==============================] - 1s 155ms/step - loss: 0.5497 - accuracy: 0.7293 - val_loss: 0.5435 - val_accuracy: 0.7333\n",
      "Epoch 73/200\n",
      "9/9 [==============================] - 1s 159ms/step - loss: 0.5471 - accuracy: 0.7310 - val_loss: 0.5435 - val_accuracy: 0.7431\n",
      "Epoch 74/200\n",
      "9/9 [==============================] - 1s 156ms/step - loss: 0.5464 - accuracy: 0.7316 - val_loss: 0.5436 - val_accuracy: 0.7307\n",
      "Epoch 75/200\n",
      "9/9 [==============================] - 1s 158ms/step - loss: 0.5445 - accuracy: 0.7318 - val_loss: 0.5404 - val_accuracy: 0.7394\n",
      "Epoch 76/200\n",
      "9/9 [==============================] - 1s 159ms/step - loss: 0.5448 - accuracy: 0.7319 - val_loss: 0.5410 - val_accuracy: 0.7369\n",
      "Epoch 77/200\n",
      "9/9 [==============================] - 1s 159ms/step - loss: 0.5460 - accuracy: 0.7319 - val_loss: 0.5401 - val_accuracy: 0.7418\n",
      "Epoch 78/200\n",
      "9/9 [==============================] - 1s 162ms/step - loss: 0.5441 - accuracy: 0.7328 - val_loss: 0.5389 - val_accuracy: 0.7431\n",
      "Epoch 79/200\n",
      "9/9 [==============================] - 1s 158ms/step - loss: 0.5459 - accuracy: 0.7318 - val_loss: 0.5455 - val_accuracy: 0.7449\n",
      "Epoch 80/200\n",
      "9/9 [==============================] - 1s 158ms/step - loss: 0.5506 - accuracy: 0.7312 - val_loss: 0.5391 - val_accuracy: 0.7434\n",
      "Epoch 81/200\n",
      "9/9 [==============================] - 1s 160ms/step - loss: 0.5419 - accuracy: 0.7336 - val_loss: 0.5379 - val_accuracy: 0.7398\n",
      "Epoch 82/200\n",
      "9/9 [==============================] - 2s 170ms/step - loss: 0.5416 - accuracy: 0.7358 - val_loss: 0.5343 - val_accuracy: 0.7483\n",
      "Epoch 83/200\n",
      "9/9 [==============================] - 1s 163ms/step - loss: 0.5392 - accuracy: 0.7351 - val_loss: 0.5340 - val_accuracy: 0.7482\n",
      "Epoch 84/200\n",
      "9/9 [==============================] - 2s 169ms/step - loss: 0.5395 - accuracy: 0.7357 - val_loss: 0.5338 - val_accuracy: 0.7429\n",
      "Epoch 85/200\n",
      "9/9 [==============================] - 1s 158ms/step - loss: 0.5378 - accuracy: 0.7381 - val_loss: 0.5339 - val_accuracy: 0.7477\n",
      "Epoch 86/200\n",
      "9/9 [==============================] - 1s 158ms/step - loss: 0.5379 - accuracy: 0.7360 - val_loss: 0.5366 - val_accuracy: 0.7332\n",
      "Epoch 87/200\n",
      "9/9 [==============================] - 1s 159ms/step - loss: 0.5403 - accuracy: 0.7327 - val_loss: 0.5388 - val_accuracy: 0.7310\n",
      "Epoch 88/200\n",
      "9/9 [==============================] - 1s 159ms/step - loss: 0.5355 - accuracy: 0.7374 - val_loss: 0.5333 - val_accuracy: 0.7467\n",
      "Epoch 89/200\n",
      "9/9 [==============================] - 1s 158ms/step - loss: 0.5343 - accuracy: 0.7371 - val_loss: 0.5335 - val_accuracy: 0.7430\n",
      "Epoch 90/200\n",
      "9/9 [==============================] - 1s 157ms/step - loss: 0.5388 - accuracy: 0.7367 - val_loss: 0.5374 - val_accuracy: 0.7365\n",
      "Epoch 91/200\n",
      "9/9 [==============================] - 1s 156ms/step - loss: 0.5403 - accuracy: 0.7364 - val_loss: 0.5360 - val_accuracy: 0.7415\n",
      "Epoch 92/200\n",
      "9/9 [==============================] - 1s 157ms/step - loss: 0.5366 - accuracy: 0.7367 - val_loss: 0.5345 - val_accuracy: 0.7476\n",
      "Epoch 93/200\n",
      "9/9 [==============================] - 1s 156ms/step - loss: 0.5391 - accuracy: 0.7385 - val_loss: 0.5413 - val_accuracy: 0.7469\n",
      "Epoch 94/200\n",
      "9/9 [==============================] - 1s 156ms/step - loss: 0.5405 - accuracy: 0.7360 - val_loss: 0.5334 - val_accuracy: 0.7473\n",
      "Epoch 95/200\n",
      "9/9 [==============================] - 1s 156ms/step - loss: 0.5336 - accuracy: 0.7377 - val_loss: 0.5290 - val_accuracy: 0.7453\n",
      "Epoch 96/200\n",
      "9/9 [==============================] - 1s 157ms/step - loss: 0.5323 - accuracy: 0.7365 - val_loss: 0.5301 - val_accuracy: 0.7452\n",
      "Epoch 97/200\n",
      "9/9 [==============================] - 1s 161ms/step - loss: 0.5343 - accuracy: 0.7359 - val_loss: 0.5293 - val_accuracy: 0.7458\n",
      "Epoch 98/200\n",
      "9/9 [==============================] - 1s 161ms/step - loss: 0.5329 - accuracy: 0.7390 - val_loss: 0.5319 - val_accuracy: 0.7467\n",
      "Epoch 99/200\n",
      "9/9 [==============================] - 1s 158ms/step - loss: 0.5324 - accuracy: 0.7404 - val_loss: 0.5310 - val_accuracy: 0.7477\n",
      "Epoch 100/200\n",
      "9/9 [==============================] - 1s 158ms/step - loss: 0.5354 - accuracy: 0.7332 - val_loss: 0.5346 - val_accuracy: 0.7417\n",
      "Epoch 101/200\n",
      "9/9 [==============================] - 1s 154ms/step - loss: 0.5352 - accuracy: 0.7327 - val_loss: 0.5288 - val_accuracy: 0.7478\n",
      "Epoch 102/200\n",
      "9/9 [==============================] - 1s 155ms/step - loss: 0.5336 - accuracy: 0.7415 - val_loss: 0.5334 - val_accuracy: 0.7466\n",
      "Epoch 103/200\n",
      "9/9 [==============================] - 1s 157ms/step - loss: 0.5390 - accuracy: 0.7405 - val_loss: 0.5319 - val_accuracy: 0.7482\n",
      "Epoch 104/200\n",
      "9/9 [==============================] - 1s 155ms/step - loss: 0.5317 - accuracy: 0.7403 - val_loss: 0.5282 - val_accuracy: 0.7498\n",
      "Epoch 105/200\n",
      "9/9 [==============================] - 1s 156ms/step - loss: 0.5310 - accuracy: 0.7387 - val_loss: 0.5285 - val_accuracy: 0.7480\n",
      "Epoch 106/200\n",
      "9/9 [==============================] - 1s 156ms/step - loss: 0.5325 - accuracy: 0.7406 - val_loss: 0.5294 - val_accuracy: 0.7491\n",
      "Epoch 107/200\n",
      "9/9 [==============================] - 1s 158ms/step - loss: 0.5288 - accuracy: 0.7427 - val_loss: 0.5284 - val_accuracy: 0.7497\n",
      "Epoch 108/200\n",
      "9/9 [==============================] - 1s 158ms/step - loss: 0.5287 - accuracy: 0.7408 - val_loss: 0.5310 - val_accuracy: 0.7497\n",
      "Epoch 109/200\n",
      "9/9 [==============================] - 1s 157ms/step - loss: 0.5324 - accuracy: 0.7413 - val_loss: 0.5340 - val_accuracy: 0.7494\n",
      "Epoch 110/200\n",
      "9/9 [==============================] - 1s 160ms/step - loss: 0.5327 - accuracy: 0.7437 - val_loss: 0.5288 - val_accuracy: 0.7519\n",
      "Epoch 111/200\n",
      "9/9 [==============================] - 1s 163ms/step - loss: 0.5303 - accuracy: 0.7453 - val_loss: 0.5283 - val_accuracy: 0.7514\n",
      "Epoch 112/200\n",
      "9/9 [==============================] - 1s 160ms/step - loss: 0.5251 - accuracy: 0.7481 - val_loss: 0.5246 - val_accuracy: 0.7520\n",
      "Epoch 113/200\n",
      "9/9 [==============================] - 1s 155ms/step - loss: 0.5333 - accuracy: 0.7324 - val_loss: 0.5381 - val_accuracy: 0.7307\n",
      "Epoch 114/200\n",
      "9/9 [==============================] - 1s 160ms/step - loss: 0.5349 - accuracy: 0.7297 - val_loss: 0.5270 - val_accuracy: 0.7495\n",
      "Epoch 115/200\n",
      "9/9 [==============================] - 1s 157ms/step - loss: 0.5246 - accuracy: 0.7465 - val_loss: 0.5287 - val_accuracy: 0.7509\n",
      "Epoch 116/200\n",
      "9/9 [==============================] - 1s 155ms/step - loss: 0.5272 - accuracy: 0.7475 - val_loss: 0.5287 - val_accuracy: 0.7506\n",
      "Epoch 117/200\n",
      "9/9 [==============================] - 1s 158ms/step - loss: 0.5255 - accuracy: 0.7492 - val_loss: 0.5258 - val_accuracy: 0.7525\n",
      "Epoch 118/200\n",
      "9/9 [==============================] - 1s 156ms/step - loss: 0.5236 - accuracy: 0.7454 - val_loss: 0.5230 - val_accuracy: 0.7526\n",
      "Epoch 119/200\n",
      "9/9 [==============================] - 1s 157ms/step - loss: 0.5222 - accuracy: 0.7484 - val_loss: 0.5253 - val_accuracy: 0.7514\n",
      "Epoch 120/200\n",
      "9/9 [==============================] - 1s 157ms/step - loss: 0.5206 - accuracy: 0.7504 - val_loss: 0.5224 - val_accuracy: 0.7549\n",
      "Epoch 121/200\n",
      "9/9 [==============================] - 1s 157ms/step - loss: 0.5188 - accuracy: 0.7498 - val_loss: 0.5249 - val_accuracy: 0.7543\n",
      "Epoch 122/200\n",
      "9/9 [==============================] - 1s 157ms/step - loss: 0.5203 - accuracy: 0.7499 - val_loss: 0.5248 - val_accuracy: 0.7564\n",
      "Epoch 123/200\n",
      "9/9 [==============================] - 1s 157ms/step - loss: 0.5225 - accuracy: 0.7500 - val_loss: 0.5301 - val_accuracy: 0.7513\n",
      "Epoch 124/200\n",
      "9/9 [==============================] - 1s 159ms/step - loss: 0.5243 - accuracy: 0.7505 - val_loss: 0.5287 - val_accuracy: 0.7545\n",
      "Epoch 125/200\n",
      "9/9 [==============================] - 1s 156ms/step - loss: 0.5190 - accuracy: 0.7524 - val_loss: 0.5260 - val_accuracy: 0.7516\n",
      "Epoch 126/200\n",
      "9/9 [==============================] - 1s 155ms/step - loss: 0.5196 - accuracy: 0.7508 - val_loss: 0.5288 - val_accuracy: 0.7495\n",
      "Epoch 127/200\n",
      "9/9 [==============================] - 1s 161ms/step - loss: 0.5210 - accuracy: 0.7485 - val_loss: 0.5275 - val_accuracy: 0.7508\n",
      "Epoch 128/200\n",
      "9/9 [==============================] - 1s 166ms/step - loss: 0.5201 - accuracy: 0.7508 - val_loss: 0.5265 - val_accuracy: 0.7523\n",
      "Epoch 129/200\n",
      "9/9 [==============================] - 1s 167ms/step - loss: 0.5177 - accuracy: 0.7533 - val_loss: 0.5232 - val_accuracy: 0.7536\n",
      "Epoch 130/200\n",
      "9/9 [==============================] - 1s 166ms/step - loss: 0.5171 - accuracy: 0.7523 - val_loss: 0.5256 - val_accuracy: 0.7552\n",
      "Epoch 131/200\n",
      "9/9 [==============================] - 1s 157ms/step - loss: 0.5183 - accuracy: 0.7527 - val_loss: 0.5235 - val_accuracy: 0.7539\n",
      "Epoch 132/200\n",
      "9/9 [==============================] - 1s 161ms/step - loss: 0.5156 - accuracy: 0.7527 - val_loss: 0.5227 - val_accuracy: 0.7541\n",
      "Epoch 133/200\n",
      "9/9 [==============================] - 1s 156ms/step - loss: 0.5236 - accuracy: 0.7401 - val_loss: 0.5282 - val_accuracy: 0.7474\n",
      "Epoch 134/200\n",
      "9/9 [==============================] - 1s 158ms/step - loss: 0.5174 - accuracy: 0.7516 - val_loss: 0.5261 - val_accuracy: 0.7542\n",
      "Epoch 135/200\n",
      "9/9 [==============================] - 1s 157ms/step - loss: 0.5380 - accuracy: 0.7432 - val_loss: 0.5564 - val_accuracy: 0.7365\n",
      "Epoch 136/200\n",
      "9/9 [==============================] - 1s 158ms/step - loss: 0.5489 - accuracy: 0.7416 - val_loss: 0.5403 - val_accuracy: 0.7520\n",
      "Epoch 137/200\n",
      "9/9 [==============================] - 1s 164ms/step - loss: 0.5306 - accuracy: 0.7484 - val_loss: 0.5327 - val_accuracy: 0.7469\n",
      "Epoch 138/200\n",
      "9/9 [==============================] - 1s 161ms/step - loss: 0.5222 - accuracy: 0.7515 - val_loss: 0.5282 - val_accuracy: 0.7478\n",
      "Epoch 139/200\n",
      "9/9 [==============================] - 1s 159ms/step - loss: 0.5215 - accuracy: 0.7506 - val_loss: 0.5267 - val_accuracy: 0.7481\n",
      "Epoch 140/200\n",
      "9/9 [==============================] - 1s 156ms/step - loss: 0.5194 - accuracy: 0.7522 - val_loss: 0.5287 - val_accuracy: 0.7488\n",
      "Epoch 141/200\n",
      "9/9 [==============================] - 1s 158ms/step - loss: 0.5180 - accuracy: 0.7506 - val_loss: 0.5276 - val_accuracy: 0.7524\n",
      "Epoch 142/200\n",
      "9/9 [==============================] - 1s 161ms/step - loss: 0.5196 - accuracy: 0.7495 - val_loss: 0.5313 - val_accuracy: 0.7506\n",
      "Epoch 143/200\n",
      "9/9 [==============================] - 1s 158ms/step - loss: 0.5220 - accuracy: 0.7462 - val_loss: 0.5308 - val_accuracy: 0.7502\n",
      "Epoch 144/200\n",
      "9/9 [==============================] - 1s 160ms/step - loss: 0.5178 - accuracy: 0.7493 - val_loss: 0.5275 - val_accuracy: 0.7554\n",
      "Epoch 145/200\n",
      "9/9 [==============================] - 1s 160ms/step - loss: 0.5147 - accuracy: 0.7528 - val_loss: 0.5249 - val_accuracy: 0.7538\n",
      "Epoch 146/200\n",
      "9/9 [==============================] - 1s 156ms/step - loss: 0.5145 - accuracy: 0.7528 - val_loss: 0.5257 - val_accuracy: 0.7561\n",
      "Epoch 147/200\n",
      "9/9 [==============================] - 1s 156ms/step - loss: 0.5176 - accuracy: 0.7503 - val_loss: 0.5281 - val_accuracy: 0.7543\n",
      "Epoch 148/200\n",
      "9/9 [==============================] - 1s 158ms/step - loss: 0.5136 - accuracy: 0.7547 - val_loss: 0.5233 - val_accuracy: 0.7607\n",
      "Epoch 149/200\n",
      "9/9 [==============================] - 1s 157ms/step - loss: 0.5171 - accuracy: 0.7607 - val_loss: 0.5204 - val_accuracy: 0.7614\n",
      "Epoch 150/200\n",
      "9/9 [==============================] - 2s 170ms/step - loss: 0.5414 - accuracy: 0.7469 - val_loss: 0.5817 - val_accuracy: 0.7319\n",
      "Epoch 151/200\n",
      "9/9 [==============================] - 1s 167ms/step - loss: 0.5802 - accuracy: 0.7347 - val_loss: 0.5723 - val_accuracy: 0.7416\n",
      "Epoch 152/200\n",
      "9/9 [==============================] - 1s 163ms/step - loss: 0.5744 - accuracy: 0.7311 - val_loss: 0.5569 - val_accuracy: 0.7433\n",
      "Epoch 153/200\n",
      "9/9 [==============================] - 2s 168ms/step - loss: 0.5743 - accuracy: 0.7342 - val_loss: 0.5815 - val_accuracy: 0.7211\n",
      "Epoch 154/200\n",
      "9/9 [==============================] - 1s 162ms/step - loss: 0.5693 - accuracy: 0.7377 - val_loss: 0.5478 - val_accuracy: 0.7408\n",
      "Epoch 155/200\n",
      "9/9 [==============================] - 1s 158ms/step - loss: 0.5480 - accuracy: 0.7426 - val_loss: 0.5389 - val_accuracy: 0.7448\n",
      "Epoch 156/200\n",
      "9/9 [==============================] - 1s 159ms/step - loss: 0.5420 - accuracy: 0.7444 - val_loss: 0.5411 - val_accuracy: 0.7403\n",
      "Epoch 157/200\n",
      "9/9 [==============================] - 1s 158ms/step - loss: 0.5470 - accuracy: 0.7420 - val_loss: 0.5514 - val_accuracy: 0.7282\n",
      "Epoch 158/200\n",
      "9/9 [==============================] - 1s 159ms/step - loss: 0.5413 - accuracy: 0.7417 - val_loss: 0.5372 - val_accuracy: 0.7440\n",
      "Epoch 159/200\n",
      "9/9 [==============================] - 2s 168ms/step - loss: 0.5462 - accuracy: 0.7387 - val_loss: 0.5379 - val_accuracy: 0.7457\n",
      "Epoch 160/200\n",
      "9/9 [==============================] - 1s 159ms/step - loss: 0.5339 - accuracy: 0.7472 - val_loss: 0.5363 - val_accuracy: 0.7406\n",
      "Epoch 161/200\n",
      "9/9 [==============================] - 1s 157ms/step - loss: 0.5345 - accuracy: 0.7482 - val_loss: 0.5343 - val_accuracy: 0.7425\n",
      "Epoch 162/200\n",
      "9/9 [==============================] - 1s 158ms/step - loss: 0.5324 - accuracy: 0.7491 - val_loss: 0.5316 - val_accuracy: 0.7455\n",
      "Epoch 163/200\n",
      "9/9 [==============================] - 1s 157ms/step - loss: 0.5293 - accuracy: 0.7520 - val_loss: 0.5329 - val_accuracy: 0.7425\n",
      "Epoch 164/200\n",
      "9/9 [==============================] - 1s 157ms/step - loss: 0.5330 - accuracy: 0.7466 - val_loss: 0.5363 - val_accuracy: 0.7351\n",
      "Epoch 165/200\n",
      "9/9 [==============================] - 1s 155ms/step - loss: 0.5297 - accuracy: 0.7494 - val_loss: 0.5279 - val_accuracy: 0.7438\n",
      "Epoch 166/200\n",
      "9/9 [==============================] - 1s 161ms/step - loss: 0.5299 - accuracy: 0.7506 - val_loss: 0.5276 - val_accuracy: 0.7456\n",
      "Epoch 167/200\n",
      "9/9 [==============================] - 1s 167ms/step - loss: 0.5305 - accuracy: 0.7481 - val_loss: 0.5544 - val_accuracy: 0.7184\n",
      "Epoch 168/200\n",
      "9/9 [==============================] - 1s 166ms/step - loss: 0.5551 - accuracy: 0.7267 - val_loss: 0.5500 - val_accuracy: 0.7201\n",
      "Epoch 169/200\n",
      "9/9 [==============================] - 1s 165ms/step - loss: 0.5328 - accuracy: 0.7449 - val_loss: 0.5301 - val_accuracy: 0.7467\n",
      "Epoch 170/200\n",
      "9/9 [==============================] - 1s 159ms/step - loss: 0.5379 - accuracy: 0.7458 - val_loss: 0.5432 - val_accuracy: 0.7463\n",
      "Epoch 171/200\n",
      "9/9 [==============================] - 1s 163ms/step - loss: 0.5473 - accuracy: 0.7401 - val_loss: 0.5277 - val_accuracy: 0.7469\n",
      "Epoch 172/200\n",
      "9/9 [==============================] - 1s 158ms/step - loss: 0.5224 - accuracy: 0.7544 - val_loss: 0.5277 - val_accuracy: 0.7416\n",
      "Epoch 173/200\n",
      "9/9 [==============================] - 1s 164ms/step - loss: 0.5225 - accuracy: 0.7530 - val_loss: 0.5277 - val_accuracy: 0.7426\n",
      "Epoch 174/200\n",
      "9/9 [==============================] - 1s 165ms/step - loss: 0.5203 - accuracy: 0.7564 - val_loss: 0.5257 - val_accuracy: 0.7460\n",
      "Epoch 175/200\n",
      "9/9 [==============================] - 1s 167ms/step - loss: 0.5186 - accuracy: 0.7601 - val_loss: 0.5295 - val_accuracy: 0.7437\n",
      "Epoch 176/200\n",
      "9/9 [==============================] - 1s 160ms/step - loss: 0.5205 - accuracy: 0.7589 - val_loss: 0.5269 - val_accuracy: 0.7460\n",
      "Epoch 177/200\n",
      "9/9 [==============================] - 1s 156ms/step - loss: 0.5173 - accuracy: 0.7595 - val_loss: 0.5220 - val_accuracy: 0.7474\n",
      "Epoch 178/200\n",
      "9/9 [==============================] - 1s 159ms/step - loss: 0.5149 - accuracy: 0.7616 - val_loss: 0.5201 - val_accuracy: 0.7481\n",
      "Epoch 179/200\n",
      "9/9 [==============================] - 1s 156ms/step - loss: 0.5175 - accuracy: 0.7588 - val_loss: 0.5202 - val_accuracy: 0.7479\n",
      "Epoch 180/200\n",
      "9/9 [==============================] - 1s 156ms/step - loss: 0.5200 - accuracy: 0.7586 - val_loss: 0.5648 - val_accuracy: 0.7371\n",
      "Epoch 181/200\n",
      "9/9 [==============================] - 1s 157ms/step - loss: 0.5231 - accuracy: 0.7591 - val_loss: 0.5200 - val_accuracy: 0.7462\n",
      "Epoch 182/200\n",
      "9/9 [==============================] - 1s 156ms/step - loss: 0.5323 - accuracy: 0.7488 - val_loss: 0.5578 - val_accuracy: 0.7290\n",
      "Epoch 183/200\n",
      "9/9 [==============================] - 1s 156ms/step - loss: 0.5540 - accuracy: 0.7433 - val_loss: 0.5465 - val_accuracy: 0.7336\n",
      "Epoch 184/200\n",
      "9/9 [==============================] - 1s 158ms/step - loss: 0.5446 - accuracy: 0.7448 - val_loss: 0.5409 - val_accuracy: 0.7316\n",
      "Epoch 185/200\n",
      "9/9 [==============================] - 1s 166ms/step - loss: 0.5367 - accuracy: 0.7449 - val_loss: 0.5374 - val_accuracy: 0.7371\n",
      "Epoch 186/200\n",
      "9/9 [==============================] - 1s 162ms/step - loss: 0.5349 - accuracy: 0.7455 - val_loss: 0.5368 - val_accuracy: 0.7412\n",
      "Epoch 187/200\n",
      "9/9 [==============================] - 1s 164ms/step - loss: 0.5352 - accuracy: 0.7476 - val_loss: 0.5358 - val_accuracy: 0.7454\n",
      "Epoch 188/200\n",
      "9/9 [==============================] - 1s 157ms/step - loss: 0.5293 - accuracy: 0.7524 - val_loss: 0.5296 - val_accuracy: 0.7412\n",
      "Epoch 189/200\n",
      "9/9 [==============================] - 1s 156ms/step - loss: 0.5319 - accuracy: 0.7489 - val_loss: 0.5404 - val_accuracy: 0.7268\n",
      "Epoch 190/200\n",
      "9/9 [==============================] - 1s 156ms/step - loss: 0.5397 - accuracy: 0.7437 - val_loss: 0.5384 - val_accuracy: 0.7344\n",
      "Epoch 191/200\n",
      "9/9 [==============================] - 1s 158ms/step - loss: 0.5268 - accuracy: 0.7570 - val_loss: 0.5255 - val_accuracy: 0.7546\n",
      "Epoch 192/200\n",
      "9/9 [==============================] - 1s 157ms/step - loss: 0.5243 - accuracy: 0.7581 - val_loss: 0.5305 - val_accuracy: 0.7526\n",
      "Epoch 193/200\n",
      "9/9 [==============================] - 1s 162ms/step - loss: 0.5252 - accuracy: 0.7585 - val_loss: 0.5262 - val_accuracy: 0.7488\n",
      "Epoch 194/200\n",
      "9/9 [==============================] - 1s 158ms/step - loss: 0.5168 - accuracy: 0.7643 - val_loss: 0.5250 - val_accuracy: 0.7490\n",
      "Epoch 195/200\n",
      "9/9 [==============================] - 1s 161ms/step - loss: 0.5164 - accuracy: 0.7620 - val_loss: 0.5242 - val_accuracy: 0.7450\n",
      "Epoch 196/200\n",
      "9/9 [==============================] - 1s 162ms/step - loss: 0.5148 - accuracy: 0.7626 - val_loss: 0.5247 - val_accuracy: 0.7509\n",
      "Epoch 197/200\n",
      "9/9 [==============================] - 1s 155ms/step - loss: 0.5178 - accuracy: 0.7642 - val_loss: 0.5345 - val_accuracy: 0.7511\n",
      "Epoch 198/200\n",
      "9/9 [==============================] - 1s 157ms/step - loss: 0.5323 - accuracy: 0.7558 - val_loss: 0.5317 - val_accuracy: 0.7580\n",
      "Epoch 199/200\n",
      "9/9 [==============================] - 1s 163ms/step - loss: 0.5199 - accuracy: 0.7644 - val_loss: 0.5323 - val_accuracy: 0.7412\n",
      "Epoch 200/200\n",
      "9/9 [==============================] - 1s 161ms/step - loss: 0.5215 - accuracy: 0.7612 - val_loss: 0.5323 - val_accuracy: 0.7309\n"
     ]
    },
    {
     "name": "stderr",
     "output_type": "stream",
     "text": [
      "2022-02-02 20:11:03.113848: W tensorflow/python/util/util.cc:368] Sets are not currently considered sequences, but this may change in the future, so consider avoiding using them.\n",
      "2022-02-02 20:11:08.832828: I tensorflow/core/grappler/optimizers/custom_graph_optimizer_registry.cc:112] Plugin optimizer for device_type GPU is enabled.\n",
      "WARNING:absl:Found untraced functions such as gru_cell_1_layer_call_fn, gru_cell_1_layer_call_and_return_conditional_losses, gru_cell_2_layer_call_fn, gru_cell_2_layer_call_and_return_conditional_losses, gru_cell_4_layer_call_fn while saving (showing 5 of 20). These functions will not be directly callable after loading.\n"
     ]
    },
    {
     "name": "stdout",
     "output_type": "stream",
     "text": [
      "INFO:tensorflow:Assets written to: models/model8.tf/assets\n"
     ]
    },
    {
     "name": "stderr",
     "output_type": "stream",
     "text": [
      "INFO:tensorflow:Assets written to: models/model8.tf/assets\n",
      "WARNING:absl:<keras.layers.recurrent.GRUCell object at 0x17db00610> has the same name 'GRUCell' as a built-in Keras object. Consider renaming <class 'keras.layers.recurrent.GRUCell'> to avoid naming conflicts when loading with `tf.keras.models.load_model`. If renaming is not possible, pass the object in the `custom_objects` parameter of the load function.\n",
      "WARNING:absl:<keras.layers.recurrent.GRUCell object at 0x17db007c0> has the same name 'GRUCell' as a built-in Keras object. Consider renaming <class 'keras.layers.recurrent.GRUCell'> to avoid naming conflicts when loading with `tf.keras.models.load_model`. If renaming is not possible, pass the object in the `custom_objects` parameter of the load function.\n",
      "WARNING:absl:<keras.layers.recurrent.GRUCell object at 0x17f15a820> has the same name 'GRUCell' as a built-in Keras object. Consider renaming <class 'keras.layers.recurrent.GRUCell'> to avoid naming conflicts when loading with `tf.keras.models.load_model`. If renaming is not possible, pass the object in the `custom_objects` parameter of the load function.\n",
      "WARNING:absl:<keras.layers.recurrent.GRUCell object at 0x17f15adc0> has the same name 'GRUCell' as a built-in Keras object. Consider renaming <class 'keras.layers.recurrent.GRUCell'> to avoid naming conflicts when loading with `tf.keras.models.load_model`. If renaming is not possible, pass the object in the `custom_objects` parameter of the load function.\n"
     ]
    }
   ],
   "source": [
    "n_samples = x_train.shape[0]\n",
    "model_n = 8\n",
    "\n",
    "history = model.fit(x_train,\n",
    "                    y_train,\n",
    "                    validation_split=0.2,\n",
    "                    batch_size=int(n_samples*0.1),\n",
    "                    epochs=200)\n",
    "\n",
    "model.save(f'models/model{model_n}.tf')\n",
    "\n",
    "with open(f'models/history{model_n}.json', 'w') as f:\n",
    "    json.dump(history.history, f)"
   ],
   "metadata": {
    "collapsed": false,
    "pycharm": {
     "name": "#%%\n"
    }
   }
  },
  {
   "cell_type": "code",
   "execution_count": 10,
   "outputs": [],
   "source": [
    "from sklearn.metrics import accuracy_score, confusion_matrix\n",
    "import matplotlib.pyplot as plt\n",
    "import numpy as np"
   ],
   "metadata": {
    "collapsed": false,
    "pycharm": {
     "name": "#%%\n"
    }
   }
  },
  {
   "cell_type": "code",
   "execution_count": 11,
   "outputs": [
    {
     "name": "stderr",
     "output_type": "stream",
     "text": [
      "2022-02-02 20:11:23.139176: I tensorflow/core/grappler/optimizers/custom_graph_optimizer_registry.cc:112] Plugin optimizer for device_type GPU is enabled.\n",
      "2022-02-02 20:11:23.334644: I tensorflow/core/grappler/optimizers/custom_graph_optimizer_registry.cc:112] Plugin optimizer for device_type GPU is enabled.\n",
      "2022-02-02 20:11:23.347958: I tensorflow/core/grappler/optimizers/custom_graph_optimizer_registry.cc:112] Plugin optimizer for device_type GPU is enabled.\n",
      "2022-02-02 20:11:23.537686: I tensorflow/core/grappler/optimizers/custom_graph_optimizer_registry.cc:112] Plugin optimizer for device_type GPU is enabled.\n",
      "2022-02-02 20:11:23.544502: I tensorflow/core/grappler/optimizers/custom_graph_optimizer_registry.cc:112] Plugin optimizer for device_type GPU is enabled.\n"
     ]
    }
   ],
   "source": [
    "y_pred = model.predict(x_test)"
   ],
   "metadata": {
    "collapsed": false,
    "pycharm": {
     "name": "#%%\n"
    }
   }
  },
  {
   "cell_type": "code",
   "execution_count": 12,
   "outputs": [],
   "source": [
    "y_pred = np.array([np.max(probs[:, 0]) for probs in y_pred])"
   ],
   "metadata": {
    "collapsed": false,
    "pycharm": {
     "name": "#%%\n"
    }
   }
  },
  {
   "cell_type": "code",
   "execution_count": 13,
   "outputs": [],
   "source": [
    "def evaluate(y_true, y_pred, thresh):\n",
    "    y_pred_ = (y_pred > thresh).astype(int)\n",
    "    return accuracy_score(y_true, y_pred_), y_pred_"
   ],
   "metadata": {
    "collapsed": false,
    "pycharm": {
     "name": "#%%\n"
    }
   }
  },
  {
   "cell_type": "code",
   "execution_count": 14,
   "outputs": [
    {
     "name": "stdout",
     "output_type": "stream",
     "text": [
      "Calculating thresh: 0.0\n",
      "Accuracy: 0.48128342245989303\n",
      "Calculating thresh: 0.01\n",
      "Accuracy: 0.48128342245989303\n",
      "Calculating thresh: 0.02\n",
      "Accuracy: 0.48128342245989303\n",
      "Calculating thresh: 0.03\n",
      "Accuracy: 0.48128342245989303\n",
      "Calculating thresh: 0.04\n",
      "Accuracy: 0.48128342245989303\n",
      "Calculating thresh: 0.05\n",
      "Accuracy: 0.48128342245989303\n",
      "Calculating thresh: 0.06\n",
      "Accuracy: 0.48128342245989303\n",
      "Calculating thresh: 0.07\n",
      "Accuracy: 0.48128342245989303\n",
      "Calculating thresh: 0.08\n",
      "Accuracy: 0.48128342245989303\n",
      "Calculating thresh: 0.09\n",
      "Accuracy: 0.48128342245989303\n",
      "Calculating thresh: 0.1\n",
      "Accuracy: 0.48128342245989303\n",
      "Calculating thresh: 0.11\n",
      "Accuracy: 0.48128342245989303\n",
      "Calculating thresh: 0.12\n",
      "Accuracy: 0.48128342245989303\n",
      "Calculating thresh: 0.13\n",
      "Accuracy: 0.48128342245989303\n",
      "Calculating thresh: 0.14\n",
      "Accuracy: 0.48128342245989303\n",
      "Calculating thresh: 0.15\n",
      "Accuracy: 0.48128342245989303\n",
      "Calculating thresh: 0.16\n",
      "Accuracy: 0.48128342245989303\n",
      "Calculating thresh: 0.17\n",
      "Accuracy: 0.48128342245989303\n",
      "Calculating thresh: 0.18\n",
      "Accuracy: 0.48128342245989303\n",
      "Calculating thresh: 0.19\n",
      "Accuracy: 0.48128342245989303\n",
      "Calculating thresh: 0.2\n",
      "Accuracy: 0.48128342245989303\n",
      "Calculating thresh: 0.21\n",
      "Accuracy: 0.48128342245989303\n",
      "Calculating thresh: 0.22\n",
      "Accuracy: 0.48128342245989303\n",
      "Calculating thresh: 0.23\n",
      "Accuracy: 0.48128342245989303\n",
      "Calculating thresh: 0.24\n",
      "Accuracy: 0.48128342245989303\n",
      "Calculating thresh: 0.25\n",
      "Accuracy: 0.4912146676852559\n",
      "Calculating thresh: 0.26\n",
      "Accuracy: 0.5057295645530939\n",
      "Calculating thresh: 0.27\n",
      "Accuracy: 0.533231474407945\n",
      "Calculating thresh: 0.28\n",
      "Accuracy: 0.5553857906799083\n",
      "Calculating thresh: 0.29\n",
      "Accuracy: 0.5836516424751719\n",
      "Calculating thresh: 0.3\n",
      "Accuracy: 0.6027501909854851\n",
      "Calculating thresh: 0.31\n",
      "Accuracy: 0.6264323911382735\n",
      "Calculating thresh: 0.32\n",
      "Accuracy: 0.6493506493506493\n",
      "Calculating thresh: 0.33\n",
      "Accuracy: 0.6676852559205501\n",
      "Calculating thresh: 0.34\n",
      "Accuracy: 0.6852559205500381\n",
      "Calculating thresh: 0.35000000000000003\n",
      "Accuracy: 0.693659281894576\n",
      "Calculating thresh: 0.36\n",
      "Accuracy: 0.7020626432391138\n",
      "Calculating thresh: 0.37\n",
      "Accuracy: 0.7058823529411765\n",
      "Calculating thresh: 0.38\n",
      "Accuracy: 0.7158135981665393\n",
      "Calculating thresh: 0.39\n",
      "Accuracy: 0.7226890756302521\n",
      "Calculating thresh: 0.4\n",
      "Accuracy: 0.7219251336898396\n",
      "Calculating thresh: 0.41000000000000003\n",
      "Accuracy: 0.7295645530939648\n",
      "Calculating thresh: 0.42\n",
      "Accuracy: 0.7372039724980901\n",
      "Calculating thresh: 0.43\n",
      "Accuracy: 0.7394957983193278\n",
      "Calculating thresh: 0.44\n",
      "Accuracy: 0.7417876241405653\n",
      "Calculating thresh: 0.45\n",
      "Accuracy: 0.7440794499618029\n",
      "Calculating thresh: 0.46\n",
      "Accuracy: 0.7478991596638656\n",
      "Calculating thresh: 0.47000000000000003\n",
      "Accuracy: 0.7509549274255156\n",
      "Calculating thresh: 0.48\n",
      "Accuracy: 0.7532467532467533\n",
      "Calculating thresh: 0.49\n",
      "Accuracy: 0.7540106951871658\n",
      "Calculating thresh: 0.5\n",
      "Accuracy: 0.7540106951871658\n",
      "Calculating thresh: 0.51\n",
      "Accuracy: 0.7570664629488159\n",
      "Calculating thresh: 0.52\n",
      "Accuracy: 0.7593582887700535\n",
      "Calculating thresh: 0.53\n",
      "Accuracy: 0.7563025210084033\n",
      "Calculating thresh: 0.54\n",
      "Accuracy: 0.7555385790679908\n",
      "Calculating thresh: 0.55\n",
      "Accuracy: 0.7547746371275783\n",
      "Calculating thresh: 0.56\n",
      "Accuracy: 0.7563025210084033\n",
      "Calculating thresh: 0.5700000000000001\n",
      "Accuracy: 0.7593582887700535\n",
      "Calculating thresh: 0.58\n",
      "Accuracy: 0.7593582887700535\n",
      "Calculating thresh: 0.59\n",
      "Accuracy: 0.7593582887700535\n",
      "Calculating thresh: 0.6\n",
      "Accuracy: 0.758594346829641\n",
      "Calculating thresh: 0.61\n",
      "Accuracy: 0.7616501145912911\n",
      "Calculating thresh: 0.62\n",
      "Accuracy: 0.760122230710466\n",
      "Calculating thresh: 0.63\n",
      "Accuracy: 0.7593582887700535\n",
      "Calculating thresh: 0.64\n",
      "Accuracy: 0.7570664629488159\n",
      "Calculating thresh: 0.65\n",
      "Accuracy: 0.7555385790679908\n",
      "Calculating thresh: 0.66\n",
      "Accuracy: 0.7563025210084033\n",
      "Calculating thresh: 0.67\n",
      "Accuracy: 0.7563025210084033\n",
      "Calculating thresh: 0.68\n",
      "Accuracy: 0.7555385790679908\n",
      "Calculating thresh: 0.6900000000000001\n",
      "Accuracy: 0.7540106951871658\n",
      "Calculating thresh: 0.7000000000000001\n",
      "Accuracy: 0.7517188693659282\n",
      "Calculating thresh: 0.71\n",
      "Accuracy: 0.7501909854851031\n",
      "Calculating thresh: 0.72\n",
      "Accuracy: 0.7478991596638656\n",
      "Calculating thresh: 0.73\n",
      "Accuracy: 0.7478991596638656\n",
      "Calculating thresh: 0.74\n",
      "Accuracy: 0.7463712757830405\n",
      "Calculating thresh: 0.75\n",
      "Accuracy: 0.7433155080213903\n",
      "Calculating thresh: 0.76\n",
      "Accuracy: 0.7410236822001528\n",
      "Calculating thresh: 0.77\n",
      "Accuracy: 0.7417876241405653\n",
      "Calculating thresh: 0.78\n",
      "Accuracy: 0.7425515660809778\n",
      "Calculating thresh: 0.79\n",
      "Accuracy: 0.7402597402597403\n",
      "Calculating thresh: 0.8\n",
      "Accuracy: 0.7364400305576776\n",
      "Calculating thresh: 0.81\n",
      "Accuracy: 0.7402597402597403\n",
      "Calculating thresh: 0.8200000000000001\n",
      "Accuracy: 0.7417876241405653\n",
      "Calculating thresh: 0.8300000000000001\n",
      "Accuracy: 0.7356760886172651\n",
      "Calculating thresh: 0.84\n",
      "Accuracy: 0.7349121466768526\n",
      "Calculating thresh: 0.85\n",
      "Accuracy: 0.7333842627960275\n",
      "Calculating thresh: 0.86\n",
      "Accuracy: 0.7280366692131398\n",
      "Calculating thresh: 0.87\n",
      "Accuracy: 0.7242169595110771\n",
      "Calculating thresh: 0.88\n",
      "Accuracy: 0.7234530175706646\n",
      "Calculating thresh: 0.89\n",
      "Accuracy: 0.7173414820473644\n",
      "Calculating thresh: 0.9\n",
      "Accuracy: 0.7142857142857143\n",
      "Calculating thresh: 0.91\n",
      "Accuracy: 0.7081741787624141\n",
      "Calculating thresh: 0.92\n",
      "Accuracy: 0.7028265851795263\n",
      "Calculating thresh: 0.93\n",
      "Accuracy: 0.6883116883116883\n",
      "Calculating thresh: 0.9400000000000001\n",
      "Accuracy: 0.6753246753246753\n",
      "Calculating thresh: 0.9500000000000001\n",
      "Accuracy: 0.666157372039725\n",
      "Calculating thresh: 0.96\n",
      "Accuracy: 0.6432391138273491\n",
      "Calculating thresh: 0.97\n",
      "Accuracy: 0.6073338426279603\n",
      "Calculating thresh: 0.98\n",
      "Accuracy: 0.5538579067990833\n",
      "Calculating thresh: 0.99\n",
      "Accuracy: 0.5187165775401069\n"
     ]
    }
   ],
   "source": [
    "best_thresh = 0\n",
    "best_accuracy = 0\n",
    "\n",
    "for i in np.arange(0, 1, 0.01):\n",
    "    print(f'Calculating thresh: {i}')\n",
    "    score, _ = evaluate(y_test, y_pred, i)\n",
    "    print(f'Accuracy: {score}')\n",
    "    if score > best_accuracy:\n",
    "        best_accuracy = score\n",
    "        best_thresh = i"
   ],
   "metadata": {
    "collapsed": false,
    "pycharm": {
     "name": "#%%\n"
    }
   }
  },
  {
   "cell_type": "code",
   "execution_count": 15,
   "outputs": [
    {
     "name": "stdout",
     "output_type": "stream",
     "text": [
      "0.7616501145912911\n"
     ]
    }
   ],
   "source": [
    "score, y_pred = evaluate(y_test, y_pred, best_thresh)\n",
    "print(score)"
   ],
   "metadata": {
    "collapsed": false,
    "pycharm": {
     "name": "#%%\n"
    }
   }
  },
  {
   "cell_type": "markdown",
   "source": [],
   "metadata": {
    "collapsed": false
   }
  },
  {
   "cell_type": "code",
   "execution_count": 16,
   "outputs": [
    {
     "data": {
      "text/plain": "(0.7668641314733422, array([1, 0, 1, ..., 1, 0, 1]))"
     },
     "execution_count": 16,
     "metadata": {},
     "output_type": "execute_result"
    }
   ],
   "source": [
    "y_pred_train = model.predict(x_train)\n",
    "y_pred_train = np.array([np.max(probs[:, 0]) for probs in y_pred_train])\n",
    "evaluate(y_train, y_pred_train, best_thresh)"
   ],
   "metadata": {
    "collapsed": false,
    "pycharm": {
     "name": "#%%\n"
    }
   }
  },
  {
   "cell_type": "code",
   "execution_count": 17,
   "outputs": [
    {
     "data": {
      "text/plain": "array([[559, 120],\n       [192, 438]])"
     },
     "execution_count": 17,
     "metadata": {},
     "output_type": "execute_result"
    }
   ],
   "source": [
    "confusion_matrix(y_test, y_pred)"
   ],
   "metadata": {
    "collapsed": false,
    "pycharm": {
     "name": "#%%\n"
    }
   }
  },
  {
   "cell_type": "code",
   "execution_count": 18,
   "outputs": [
    {
     "name": "stdout",
     "output_type": "stream",
     "text": [
      "dict_keys(['loss', 'accuracy', 'val_loss', 'val_accuracy'])\n"
     ]
    }
   ],
   "source": [
    "print(history.history.keys())"
   ],
   "metadata": {
    "collapsed": false,
    "pycharm": {
     "name": "#%%\n"
    }
   }
  },
  {
   "cell_type": "code",
   "execution_count": 19,
   "outputs": [],
   "source": [
    "history = history.history"
   ],
   "metadata": {
    "collapsed": false,
    "pycharm": {
     "name": "#%%\n"
    }
   }
  },
  {
   "cell_type": "code",
   "execution_count": 20,
   "outputs": [
    {
     "data": {
      "text/plain": "<Figure size 432x288 with 1 Axes>",
      "image/png": "[encoded data removed]"
     },
     "metadata": {
      "needs_background": "light"
     },
     "output_type": "display_data"
    },
    {
     "data": {
      "text/plain": "<Figure size 432x288 with 1 Axes>",
      "image/png": "[encoded data removed]"
     },
     "metadata": {
      "needs_background": "light"
     },
     "output_type": "display_data"
    }
   ],
   "source": [
    "plt.subplots()\n",
    "plt.plot(history['accuracy'])\n",
    "plt.plot(history['val_accuracy'])\n",
    "plt.title('model accuracy')\n",
    "plt.ylabel('accuracy')\n",
    "plt.xlabel('epoch')\n",
    "plt.legend(['train', 'validation'])\n",
    "plt.show()\n",
    "\n",
    "plt.subplots()\n",
    "plt.plot(history['loss'])\n",
    "plt.plot(history['val_loss'])\n",
    "plt.title('model loss')\n",
    "plt.ylabel('loss')\n",
    "plt.xlabel('epoch')\n",
    "plt.legend(['train', 'validation'])\n",
    "plt.show()"
   ],
   "metadata": {
    "collapsed": false,
    "pycharm": {
     "name": "#%%\n"
    }
   }
  }
 ],
 "metadata": {
  "kernelspec": {
   "display_name": "Python 3",
   "language": "python",
   "name": "python3"
  },
  "language_info": {
   "codemirror_mode": {
    "name": "ipython",
    "version": 2
   },
   "file_extension": ".py",
   "mimetype": "text/x-python",
   "name": "python",
   "nbconvert_exporter": "python",
   "pygments_lexer": "ipython2",
   "version": "2.7.6"
  }
 },
 "nbformat": 4,
 "nbformat_minor": 0
}