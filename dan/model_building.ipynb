{
 "cells": [
  {
   "cell_type": "code",
   "execution_count": 10,
   "metadata": {
    "collapsed": true
   },
   "outputs": [],
   "source": [
    "from tensorflow.keras.layers import Embedding\n",
    "from sklearn.model_selection import train_test_split\n",
    "from tensorflow.keras.models import Sequential, Model\n",
    "from tensorflow.keras.layers import Input, Dense, Dropout, Conv1D, MaxPooling1D, GlobalMaxPooling1D\n",
    "from tensorflow.keras.initializers import Constant\n",
    "from keras.layers import TextVectorization\n",
    "import numpy as np\n",
    "import pickle\n",
    "import json"
   ]
  },
  {
   "cell_type": "code",
   "execution_count": 11,
   "outputs": [],
   "source": [
    "X = np.load('data/X.npy', allow_pickle=True)\n",
    "y = np.load('data/y.npy')\n",
    "embedding_matrix = np.load('data/embedding_matrix.npy')\n",
    "num_tokens = np.load('data/num_tokens.npy').item()\n",
    "embedding_dim = np.load('data/embedding_dim.npy').item()"
   ],
   "metadata": {
    "collapsed": false,
    "pycharm": {
     "name": "#%%\n"
    }
   }
  },
  {
   "cell_type": "code",
   "execution_count": 12,
   "outputs": [
    {
     "name": "stderr",
     "output_type": "stream",
     "text": [
      "2022-02-01 14:47:35.226661: I tensorflow/core/grappler/optimizers/custom_graph_optimizer_registry.cc:112] Plugin optimizer for device_type GPU is enabled.\n"
     ]
    }
   ],
   "source": [
    "vectorizer = TextVectorization(max_tokens=20000, output_sequence_length=200)\n",
    "vectorizer.adapt(X)"
   ],
   "metadata": {
    "collapsed": false,
    "pycharm": {
     "name": "#%%\n"
    }
   }
  },
  {
   "cell_type": "code",
   "execution_count": 13,
   "outputs": [],
   "source": [
    "y = y.reshape((-1,1))"
   ],
   "metadata": {
    "collapsed": false,
    "pycharm": {
     "name": "#%%\n"
    }
   }
  },
  {
   "cell_type": "code",
   "execution_count": 14,
   "outputs": [
    {
     "name": "stdout",
     "output_type": "stream",
     "text": [
      "(7613,)\n",
      "(7613, 1)\n"
     ]
    }
   ],
   "source": [
    "print(X.shape)\n",
    "print(y.shape)"
   ],
   "metadata": {
    "collapsed": false,
    "pycharm": {
     "name": "#%%\n"
    }
   }
  },
  {
   "cell_type": "code",
   "execution_count": 15,
   "outputs": [],
   "source": [
    "x_train, x_test, y_train, y_test = train_test_split(X, y, test_size=0.3, random_state=0)"
   ],
   "metadata": {
    "collapsed": false,
    "pycharm": {
     "name": "#%%\n"
    }
   }
  },
  {
   "cell_type": "code",
   "execution_count": 19,
   "outputs": [],
   "source": [
    "np.save('data/x_train.npy', x_train)\n",
    "np.save('data/y_train.npy', y_train)\n",
    "np.save('data/x_test.npy', x_test)\n",
    "np.save('data/y_test.npy', y_test)"
   ],
   "metadata": {
    "collapsed": false,
    "pycharm": {
     "name": "#%%\n"
    }
   }
  },
  {
   "cell_type": "code",
   "execution_count": 17,
   "outputs": [
    {
     "name": "stdout",
     "output_type": "stream",
     "text": [
      "Model: \"model_1\"\n",
      "_________________________________________________________________\n",
      " Layer (type)                Output Shape              Param #   \n",
      "=================================================================\n",
      " input_2 (InputLayer)        [(None, 1)]               0         \n",
      "                                                                 \n",
      " text_vectorization_1 (TextV  (None, 200)              0         \n",
      " ectorization)                                                   \n",
      "                                                                 \n",
      " embedding_1 (Embedding)     (None, 200, 50)           888300    \n",
      "                                                                 \n",
      " dense_4 (Dense)             (None, 200, 50)           2550      \n",
      "                                                                 \n",
      " dropout_3 (Dropout)         (None, 200, 50)           0         \n",
      "                                                                 \n",
      " dense_5 (Dense)             (None, 200, 20)           1020      \n",
      "                                                                 \n",
      " dropout_4 (Dropout)         (None, 200, 20)           0         \n",
      "                                                                 \n",
      " dense_6 (Dense)             (None, 200, 5)            105       \n",
      "                                                                 \n",
      " dropout_5 (Dropout)         (None, 200, 5)            0         \n",
      "                                                                 \n",
      " dense_7 (Dense)             (None, 200, 1)            6         \n",
      "                                                                 \n",
      "=================================================================\n",
      "Total params: 891,981\n",
      "Trainable params: 3,681\n",
      "Non-trainable params: 888,300\n",
      "_________________________________________________________________\n"
     ]
    }
   ],
   "source": [
    "sequences_input = Input(shape=(1), dtype='string')\n",
    "\n",
    "vectorizer_sequence = vectorizer(sequences_input)\n",
    "\n",
    "embedding_layer = Embedding(num_tokens,\n",
    "                            embedding_dim,\n",
    "                            embeddings_initializer=Constant(embedding_matrix),\n",
    "                            trainable=False)\n",
    "embedded_sequences = embedding_layer(vectorizer_sequence)\n",
    "\n",
    "x = Dense(50, activation=\"relu\")(embedded_sequences)\n",
    "x = Dropout(0.2)(x)\n",
    "x = Dense(20, activation=\"relu\")(x)\n",
    "x = Dropout(0.2)(x)\n",
    "x = Dense(5, activation=\"relu\")(x)\n",
    "x = Dropout(0.2)(x)\n",
    "\n",
    "preds = Dense(units=1,\n",
    "              kernel_initializer='uniform',\n",
    "              activation='sigmoid')(x)\n",
    "model = Model(sequences_input, preds)\n",
    "\n",
    "model.compile(optimizer='adam',\n",
    "                      loss='binary_crossentropy',\n",
    "                      metrics=['accuracy'])\n",
    "\n",
    "model.summary()"
   ],
   "metadata": {
    "collapsed": false,
    "pycharm": {
     "name": "#%%\n"
    }
   }
  },
  {
   "cell_type": "code",
   "execution_count": 18,
   "outputs": [
    {
     "name": "stdout",
     "output_type": "stream",
     "text": [
      "Epoch 1/150\n"
     ]
    },
    {
     "name": "stderr",
     "output_type": "stream",
     "text": [
      "2022-02-01 14:47:35.863638: I tensorflow/core/grappler/optimizers/custom_graph_optimizer_registry.cc:112] Plugin optimizer for device_type GPU is enabled.\n"
     ]
    },
    {
     "name": "stdout",
     "output_type": "stream",
     "text": [
      "5/5 [==============================] - 3s 491ms/step - loss: 0.6930 - accuracy: 0.5600 - val_loss: 0.6928 - val_accuracy: 0.5751\n"
     ]
    },
    {
     "name": "stderr",
     "output_type": "stream",
     "text": [
      "2022-02-01 14:47:38.714544: I tensorflow/core/grappler/optimizers/custom_graph_optimizer_registry.cc:112] Plugin optimizer for device_type GPU is enabled.\n"
     ]
    },
    {
     "name": "stdout",
     "output_type": "stream",
     "text": [
      "Epoch 2/150\n",
      "5/5 [==============================] - 2s 442ms/step - loss: 0.6928 - accuracy: 0.5606 - val_loss: 0.6926 - val_accuracy: 0.5751\n",
      "Epoch 3/150\n",
      "5/5 [==============================] - 2s 440ms/step - loss: 0.6927 - accuracy: 0.5607 - val_loss: 0.6924 - val_accuracy: 0.5750\n",
      "Epoch 4/150\n",
      "5/5 [==============================] - 2s 440ms/step - loss: 0.6924 - accuracy: 0.5608 - val_loss: 0.6920 - val_accuracy: 0.5750\n",
      "Epoch 5/150\n",
      "5/5 [==============================] - 2s 443ms/step - loss: 0.6922 - accuracy: 0.5609 - val_loss: 0.6919 - val_accuracy: 0.5750\n",
      "Epoch 6/150\n",
      "5/5 [==============================] - 2s 441ms/step - loss: 0.6921 - accuracy: 0.5608 - val_loss: 0.6917 - val_accuracy: 0.5750\n",
      "Epoch 7/150\n",
      "5/5 [==============================] - 2s 433ms/step - loss: 0.6920 - accuracy: 0.5609 - val_loss: 0.6916 - val_accuracy: 0.5750\n",
      "Epoch 8/150\n",
      "5/5 [==============================] - 2s 441ms/step - loss: 0.6919 - accuracy: 0.5608 - val_loss: 0.6915 - val_accuracy: 0.5750\n",
      "Epoch 9/150\n",
      "5/5 [==============================] - 2s 434ms/step - loss: 0.6917 - accuracy: 0.5609 - val_loss: 0.6912 - val_accuracy: 0.5750\n",
      "Epoch 10/150\n",
      "5/5 [==============================] - 2s 433ms/step - loss: 0.6916 - accuracy: 0.5609 - val_loss: 0.6912 - val_accuracy: 0.5750\n",
      "Epoch 11/150\n",
      "5/5 [==============================] - 2s 435ms/step - loss: 0.6915 - accuracy: 0.5608 - val_loss: 0.6910 - val_accuracy: 0.5750\n",
      "Epoch 12/150\n",
      "5/5 [==============================] - 2s 437ms/step - loss: 0.6913 - accuracy: 0.5609 - val_loss: 0.6906 - val_accuracy: 0.5750\n",
      "Epoch 13/150\n",
      "5/5 [==============================] - 2s 439ms/step - loss: 0.6910 - accuracy: 0.5609 - val_loss: 0.6902 - val_accuracy: 0.5750\n",
      "Epoch 14/150\n",
      "5/5 [==============================] - 2s 431ms/step - loss: 0.6907 - accuracy: 0.5609 - val_loss: 0.6899 - val_accuracy: 0.5750\n",
      "Epoch 15/150\n",
      "5/5 [==============================] - 2s 428ms/step - loss: 0.6905 - accuracy: 0.5609 - val_loss: 0.6896 - val_accuracy: 0.5750\n",
      "Epoch 16/150\n",
      "5/5 [==============================] - 2s 426ms/step - loss: 0.6902 - accuracy: 0.5609 - val_loss: 0.6892 - val_accuracy: 0.5750\n",
      "Epoch 17/150\n",
      "5/5 [==============================] - 2s 432ms/step - loss: 0.6898 - accuracy: 0.5609 - val_loss: 0.6888 - val_accuracy: 0.5750\n",
      "Epoch 18/150\n",
      "5/5 [==============================] - 2s 436ms/step - loss: 0.6896 - accuracy: 0.5609 - val_loss: 0.6883 - val_accuracy: 0.5750\n",
      "Epoch 19/150\n",
      "5/5 [==============================] - 2s 435ms/step - loss: 0.6891 - accuracy: 0.5609 - val_loss: 0.6877 - val_accuracy: 0.5750\n",
      "Epoch 20/150\n",
      "5/5 [==============================] - 2s 440ms/step - loss: 0.6887 - accuracy: 0.5609 - val_loss: 0.6870 - val_accuracy: 0.5750\n",
      "Epoch 21/150\n",
      "5/5 [==============================] - 2s 437ms/step - loss: 0.6881 - accuracy: 0.5609 - val_loss: 0.6863 - val_accuracy: 0.5750\n",
      "Epoch 22/150\n",
      "5/5 [==============================] - 2s 441ms/step - loss: 0.6878 - accuracy: 0.5609 - val_loss: 0.6861 - val_accuracy: 0.5750\n",
      "Epoch 23/150\n",
      "5/5 [==============================] - 2s 441ms/step - loss: 0.6876 - accuracy: 0.5609 - val_loss: 0.6860 - val_accuracy: 0.5750\n",
      "Epoch 24/150\n",
      "5/5 [==============================] - 2s 442ms/step - loss: 0.6876 - accuracy: 0.5609 - val_loss: 0.6862 - val_accuracy: 0.5750\n",
      "Epoch 25/150\n",
      "5/5 [==============================] - 2s 443ms/step - loss: 0.6877 - accuracy: 0.5610 - val_loss: 0.6861 - val_accuracy: 0.5751\n",
      "Epoch 26/150\n",
      "5/5 [==============================] - 2s 443ms/step - loss: 0.6876 - accuracy: 0.5613 - val_loss: 0.6860 - val_accuracy: 0.5753\n",
      "Epoch 27/150\n",
      "5/5 [==============================] - 2s 441ms/step - loss: 0.6875 - accuracy: 0.5617 - val_loss: 0.6857 - val_accuracy: 0.5760\n",
      "Epoch 28/150\n",
      "5/5 [==============================] - 2s 443ms/step - loss: 0.6872 - accuracy: 0.5624 - val_loss: 0.6854 - val_accuracy: 0.5772\n",
      "Epoch 29/150\n",
      "5/5 [==============================] - 2s 444ms/step - loss: 0.6870 - accuracy: 0.5630 - val_loss: 0.6851 - val_accuracy: 0.5780\n",
      "Epoch 30/150\n",
      "5/5 [==============================] - 2s 440ms/step - loss: 0.6867 - accuracy: 0.5638 - val_loss: 0.6846 - val_accuracy: 0.5788\n",
      "Epoch 31/150\n",
      "5/5 [==============================] - 2s 442ms/step - loss: 0.6864 - accuracy: 0.5642 - val_loss: 0.6840 - val_accuracy: 0.5792\n",
      "Epoch 32/150\n",
      "5/5 [==============================] - 2s 443ms/step - loss: 0.6860 - accuracy: 0.5642 - val_loss: 0.6833 - val_accuracy: 0.5792\n",
      "Epoch 33/150\n",
      "5/5 [==============================] - 2s 441ms/step - loss: 0.6857 - accuracy: 0.5643 - val_loss: 0.6828 - val_accuracy: 0.5792\n",
      "Epoch 34/150\n",
      "5/5 [==============================] - 2s 443ms/step - loss: 0.6855 - accuracy: 0.5645 - val_loss: 0.6826 - val_accuracy: 0.5794\n",
      "Epoch 35/150\n",
      "5/5 [==============================] - 2s 442ms/step - loss: 0.6854 - accuracy: 0.5647 - val_loss: 0.6825 - val_accuracy: 0.5797\n",
      "Epoch 36/150\n",
      "5/5 [==============================] - 2s 438ms/step - loss: 0.6852 - accuracy: 0.5649 - val_loss: 0.6823 - val_accuracy: 0.5798\n",
      "Epoch 37/150\n",
      "5/5 [==============================] - 2s 440ms/step - loss: 0.6850 - accuracy: 0.5652 - val_loss: 0.6820 - val_accuracy: 0.5800\n",
      "Epoch 38/150\n",
      "5/5 [==============================] - 2s 440ms/step - loss: 0.6849 - accuracy: 0.5651 - val_loss: 0.6817 - val_accuracy: 0.5799\n",
      "Epoch 39/150\n",
      "5/5 [==============================] - 2s 442ms/step - loss: 0.6847 - accuracy: 0.5653 - val_loss: 0.6813 - val_accuracy: 0.5799\n",
      "Epoch 40/150\n",
      "5/5 [==============================] - 2s 442ms/step - loss: 0.6846 - accuracy: 0.5653 - val_loss: 0.6810 - val_accuracy: 0.5800\n",
      "Epoch 41/150\n",
      "5/5 [==============================] - 2s 441ms/step - loss: 0.6845 - accuracy: 0.5653 - val_loss: 0.6808 - val_accuracy: 0.5799\n",
      "Epoch 42/150\n",
      "5/5 [==============================] - 2s 434ms/step - loss: 0.6844 - accuracy: 0.5653 - val_loss: 0.6809 - val_accuracy: 0.5798\n",
      "Epoch 43/150\n",
      "5/5 [==============================] - 2s 436ms/step - loss: 0.6843 - accuracy: 0.5653 - val_loss: 0.6810 - val_accuracy: 0.5797\n",
      "Epoch 44/150\n",
      "5/5 [==============================] - 2s 435ms/step - loss: 0.6843 - accuracy: 0.5651 - val_loss: 0.6808 - val_accuracy: 0.5798\n",
      "Epoch 45/150\n",
      "5/5 [==============================] - 2s 436ms/step - loss: 0.6843 - accuracy: 0.5653 - val_loss: 0.6808 - val_accuracy: 0.5797\n",
      "Epoch 46/150\n",
      "5/5 [==============================] - 2s 441ms/step - loss: 0.6843 - accuracy: 0.5653 - val_loss: 0.6807 - val_accuracy: 0.5799\n",
      "Epoch 47/150\n",
      "5/5 [==============================] - 2s 440ms/step - loss: 0.6841 - accuracy: 0.5653 - val_loss: 0.6804 - val_accuracy: 0.5798\n",
      "Epoch 48/150\n",
      "5/5 [==============================] - 2s 440ms/step - loss: 0.6842 - accuracy: 0.5653 - val_loss: 0.6804 - val_accuracy: 0.5798\n",
      "Epoch 49/150\n",
      "5/5 [==============================] - 2s 440ms/step - loss: 0.6842 - accuracy: 0.5654 - val_loss: 0.6804 - val_accuracy: 0.5798\n",
      "Epoch 50/150\n",
      "5/5 [==============================] - 2s 439ms/step - loss: 0.6842 - accuracy: 0.5653 - val_loss: 0.6804 - val_accuracy: 0.5798\n",
      "Epoch 51/150\n",
      "5/5 [==============================] - 2s 441ms/step - loss: 0.6842 - accuracy: 0.5654 - val_loss: 0.6803 - val_accuracy: 0.5798\n",
      "Epoch 52/150\n",
      "5/5 [==============================] - 2s 441ms/step - loss: 0.6840 - accuracy: 0.5655 - val_loss: 0.6802 - val_accuracy: 0.5798\n",
      "Epoch 53/150\n",
      "5/5 [==============================] - 2s 439ms/step - loss: 0.6841 - accuracy: 0.5655 - val_loss: 0.6803 - val_accuracy: 0.5798\n",
      "Epoch 54/150\n",
      "5/5 [==============================] - 2s 434ms/step - loss: 0.6840 - accuracy: 0.5654 - val_loss: 0.6803 - val_accuracy: 0.5799\n",
      "Epoch 55/150\n",
      "5/5 [==============================] - 2s 440ms/step - loss: 0.6840 - accuracy: 0.5655 - val_loss: 0.6804 - val_accuracy: 0.5799\n",
      "Epoch 56/150\n",
      "5/5 [==============================] - 2s 434ms/step - loss: 0.6841 - accuracy: 0.5654 - val_loss: 0.6806 - val_accuracy: 0.5798\n",
      "Epoch 57/150\n",
      "5/5 [==============================] - 2s 447ms/step - loss: 0.6841 - accuracy: 0.5655 - val_loss: 0.6808 - val_accuracy: 0.5797\n",
      "Epoch 58/150\n",
      "5/5 [==============================] - 2s 441ms/step - loss: 0.6842 - accuracy: 0.5654 - val_loss: 0.6808 - val_accuracy: 0.5798\n",
      "Epoch 59/150\n",
      "5/5 [==============================] - 2s 439ms/step - loss: 0.6842 - accuracy: 0.5655 - val_loss: 0.6808 - val_accuracy: 0.5799\n",
      "Epoch 60/150\n",
      "5/5 [==============================] - 2s 442ms/step - loss: 0.6840 - accuracy: 0.5656 - val_loss: 0.6809 - val_accuracy: 0.5799\n",
      "Epoch 61/150\n",
      "5/5 [==============================] - 2s 441ms/step - loss: 0.6841 - accuracy: 0.5656 - val_loss: 0.6810 - val_accuracy: 0.5798\n",
      "Epoch 62/150\n",
      "5/5 [==============================] - 2s 440ms/step - loss: 0.6842 - accuracy: 0.5654 - val_loss: 0.6812 - val_accuracy: 0.5798\n",
      "Epoch 63/150\n",
      "5/5 [==============================] - 2s 442ms/step - loss: 0.6843 - accuracy: 0.5655 - val_loss: 0.6814 - val_accuracy: 0.5798\n",
      "Epoch 64/150\n",
      "5/5 [==============================] - 2s 441ms/step - loss: 0.6843 - accuracy: 0.5655 - val_loss: 0.6816 - val_accuracy: 0.5798\n",
      "Epoch 65/150\n",
      "5/5 [==============================] - 2s 441ms/step - loss: 0.6845 - accuracy: 0.5655 - val_loss: 0.6817 - val_accuracy: 0.5798\n",
      "Epoch 66/150\n",
      "5/5 [==============================] - 2s 440ms/step - loss: 0.6845 - accuracy: 0.5655 - val_loss: 0.6818 - val_accuracy: 0.5798\n",
      "Epoch 67/150\n",
      "5/5 [==============================] - 2s 437ms/step - loss: 0.6846 - accuracy: 0.5656 - val_loss: 0.6820 - val_accuracy: 0.5798\n",
      "Epoch 68/150\n",
      "5/5 [==============================] - 2s 434ms/step - loss: 0.6846 - accuracy: 0.5655 - val_loss: 0.6820 - val_accuracy: 0.5799\n",
      "Epoch 69/150\n",
      "5/5 [==============================] - 2s 437ms/step - loss: 0.6846 - accuracy: 0.5655 - val_loss: 0.6818 - val_accuracy: 0.5800\n",
      "Epoch 70/150\n",
      "5/5 [==============================] - 2s 441ms/step - loss: 0.6845 - accuracy: 0.5657 - val_loss: 0.6816 - val_accuracy: 0.5800\n",
      "Epoch 71/150\n",
      "5/5 [==============================] - 2s 440ms/step - loss: 0.6844 - accuracy: 0.5655 - val_loss: 0.6816 - val_accuracy: 0.5800\n",
      "Epoch 72/150\n",
      "5/5 [==============================] - 2s 433ms/step - loss: 0.6844 - accuracy: 0.5656 - val_loss: 0.6815 - val_accuracy: 0.5800\n",
      "Epoch 73/150\n",
      "5/5 [==============================] - 2s 441ms/step - loss: 0.6844 - accuracy: 0.5654 - val_loss: 0.6813 - val_accuracy: 0.5801\n",
      "Epoch 74/150\n",
      "5/5 [==============================] - 2s 443ms/step - loss: 0.6842 - accuracy: 0.5656 - val_loss: 0.6810 - val_accuracy: 0.5800\n",
      "Epoch 75/150\n",
      "5/5 [==============================] - 2s 433ms/step - loss: 0.6842 - accuracy: 0.5656 - val_loss: 0.6811 - val_accuracy: 0.5800\n",
      "Epoch 76/150\n",
      "5/5 [==============================] - 2s 435ms/step - loss: 0.6842 - accuracy: 0.5656 - val_loss: 0.6812 - val_accuracy: 0.5800\n",
      "Epoch 77/150\n",
      "5/5 [==============================] - 2s 435ms/step - loss: 0.6842 - accuracy: 0.5656 - val_loss: 0.6811 - val_accuracy: 0.5799\n",
      "Epoch 78/150\n",
      "5/5 [==============================] - 2s 445ms/step - loss: 0.6842 - accuracy: 0.5655 - val_loss: 0.6809 - val_accuracy: 0.5800\n",
      "Epoch 79/150\n",
      "5/5 [==============================] - 2s 436ms/step - loss: 0.6840 - accuracy: 0.5656 - val_loss: 0.6807 - val_accuracy: 0.5800\n",
      "Epoch 80/150\n",
      "5/5 [==============================] - 2s 438ms/step - loss: 0.6840 - accuracy: 0.5657 - val_loss: 0.6808 - val_accuracy: 0.5800\n",
      "Epoch 81/150\n",
      "5/5 [==============================] - 2s 441ms/step - loss: 0.6840 - accuracy: 0.5656 - val_loss: 0.6807 - val_accuracy: 0.5800\n",
      "Epoch 82/150\n",
      "5/5 [==============================] - 2s 439ms/step - loss: 0.6839 - accuracy: 0.5656 - val_loss: 0.6806 - val_accuracy: 0.5800\n",
      "Epoch 83/150\n",
      "5/5 [==============================] - 2s 439ms/step - loss: 0.6839 - accuracy: 0.5657 - val_loss: 0.6805 - val_accuracy: 0.5801\n",
      "Epoch 84/150\n",
      "5/5 [==============================] - 2s 441ms/step - loss: 0.6839 - accuracy: 0.5657 - val_loss: 0.6806 - val_accuracy: 0.5800\n",
      "Epoch 85/150\n",
      "5/5 [==============================] - 2s 439ms/step - loss: 0.6839 - accuracy: 0.5657 - val_loss: 0.6806 - val_accuracy: 0.5800\n",
      "Epoch 86/150\n",
      "5/5 [==============================] - 2s 440ms/step - loss: 0.6840 - accuracy: 0.5656 - val_loss: 0.6804 - val_accuracy: 0.5800\n",
      "Epoch 87/150\n",
      "5/5 [==============================] - 2s 439ms/step - loss: 0.6839 - accuracy: 0.5657 - val_loss: 0.6804 - val_accuracy: 0.5801\n",
      "Epoch 88/150\n",
      "5/5 [==============================] - 2s 433ms/step - loss: 0.6839 - accuracy: 0.5657 - val_loss: 0.6802 - val_accuracy: 0.5802\n",
      "Epoch 89/150\n",
      "5/5 [==============================] - 2s 440ms/step - loss: 0.6838 - accuracy: 0.5656 - val_loss: 0.6800 - val_accuracy: 0.5801\n",
      "Epoch 90/150\n",
      "5/5 [==============================] - 2s 440ms/step - loss: 0.6838 - accuracy: 0.5657 - val_loss: 0.6797 - val_accuracy: 0.5801\n",
      "Epoch 91/150\n",
      "5/5 [==============================] - 2s 439ms/step - loss: 0.6837 - accuracy: 0.5657 - val_loss: 0.6797 - val_accuracy: 0.5801\n",
      "Epoch 92/150\n",
      "5/5 [==============================] - 2s 440ms/step - loss: 0.6838 - accuracy: 0.5656 - val_loss: 0.6796 - val_accuracy: 0.5801\n",
      "Epoch 93/150\n",
      "5/5 [==============================] - 2s 435ms/step - loss: 0.6838 - accuracy: 0.5659 - val_loss: 0.6795 - val_accuracy: 0.5801\n",
      "Epoch 94/150\n",
      "5/5 [==============================] - 2s 434ms/step - loss: 0.6838 - accuracy: 0.5657 - val_loss: 0.6795 - val_accuracy: 0.5801\n",
      "Epoch 95/150\n",
      "5/5 [==============================] - 2s 435ms/step - loss: 0.6838 - accuracy: 0.5658 - val_loss: 0.6795 - val_accuracy: 0.5801\n",
      "Epoch 96/150\n",
      "5/5 [==============================] - 2s 437ms/step - loss: 0.6838 - accuracy: 0.5657 - val_loss: 0.6795 - val_accuracy: 0.5801\n",
      "Epoch 97/150\n",
      "5/5 [==============================] - 2s 436ms/step - loss: 0.6839 - accuracy: 0.5657 - val_loss: 0.6794 - val_accuracy: 0.5800\n",
      "Epoch 98/150\n",
      "5/5 [==============================] - 2s 446ms/step - loss: 0.6838 - accuracy: 0.5657 - val_loss: 0.6793 - val_accuracy: 0.5801\n",
      "Epoch 99/150\n",
      "5/5 [==============================] - 2s 444ms/step - loss: 0.6838 - accuracy: 0.5658 - val_loss: 0.6793 - val_accuracy: 0.5801\n",
      "Epoch 100/150\n",
      "5/5 [==============================] - 2s 444ms/step - loss: 0.6840 - accuracy: 0.5657 - val_loss: 0.6792 - val_accuracy: 0.5801\n",
      "Epoch 101/150\n",
      "5/5 [==============================] - 2s 439ms/step - loss: 0.6840 - accuracy: 0.5657 - val_loss: 0.6792 - val_accuracy: 0.5801\n",
      "Epoch 102/150\n",
      "5/5 [==============================] - 2s 438ms/step - loss: 0.6840 - accuracy: 0.5657 - val_loss: 0.6792 - val_accuracy: 0.5801\n",
      "Epoch 103/150\n",
      "5/5 [==============================] - 2s 437ms/step - loss: 0.6838 - accuracy: 0.5658 - val_loss: 0.6793 - val_accuracy: 0.5800\n",
      "Epoch 104/150\n",
      "5/5 [==============================] - 2s 439ms/step - loss: 0.6838 - accuracy: 0.5658 - val_loss: 0.6794 - val_accuracy: 0.5801\n",
      "Epoch 105/150\n",
      "5/5 [==============================] - 2s 440ms/step - loss: 0.6837 - accuracy: 0.5656 - val_loss: 0.6794 - val_accuracy: 0.5801\n",
      "Epoch 106/150\n",
      "5/5 [==============================] - 2s 432ms/step - loss: 0.6838 - accuracy: 0.5657 - val_loss: 0.6794 - val_accuracy: 0.5801\n",
      "Epoch 107/150\n",
      "5/5 [==============================] - 2s 443ms/step - loss: 0.6837 - accuracy: 0.5657 - val_loss: 0.6793 - val_accuracy: 0.5801\n",
      "Epoch 108/150\n",
      "5/5 [==============================] - 2s 443ms/step - loss: 0.6838 - accuracy: 0.5657 - val_loss: 0.6791 - val_accuracy: 0.5801\n",
      "Epoch 109/150\n",
      "5/5 [==============================] - 2s 444ms/step - loss: 0.6839 - accuracy: 0.5657 - val_loss: 0.6791 - val_accuracy: 0.5802\n",
      "Epoch 110/150\n",
      "5/5 [==============================] - 2s 442ms/step - loss: 0.6840 - accuracy: 0.5657 - val_loss: 0.6791 - val_accuracy: 0.5802\n",
      "Epoch 111/150\n",
      "5/5 [==============================] - 2s 440ms/step - loss: 0.6841 - accuracy: 0.5657 - val_loss: 0.6791 - val_accuracy: 0.5801\n",
      "Epoch 112/150\n",
      "5/5 [==============================] - 2s 444ms/step - loss: 0.6839 - accuracy: 0.5657 - val_loss: 0.6791 - val_accuracy: 0.5801\n",
      "Epoch 113/150\n",
      "5/5 [==============================] - 2s 443ms/step - loss: 0.6837 - accuracy: 0.5657 - val_loss: 0.6793 - val_accuracy: 0.5799\n",
      "Epoch 114/150\n",
      "5/5 [==============================] - 2s 443ms/step - loss: 0.6837 - accuracy: 0.5657 - val_loss: 0.6794 - val_accuracy: 0.5800\n",
      "Epoch 115/150\n",
      "5/5 [==============================] - 2s 439ms/step - loss: 0.6837 - accuracy: 0.5656 - val_loss: 0.6796 - val_accuracy: 0.5800\n",
      "Epoch 116/150\n",
      "5/5 [==============================] - 2s 445ms/step - loss: 0.6837 - accuracy: 0.5657 - val_loss: 0.6796 - val_accuracy: 0.5800\n",
      "Epoch 117/150\n",
      "5/5 [==============================] - 2s 438ms/step - loss: 0.6837 - accuracy: 0.5657 - val_loss: 0.6795 - val_accuracy: 0.5800\n",
      "Epoch 118/150\n",
      "5/5 [==============================] - 2s 435ms/step - loss: 0.6836 - accuracy: 0.5657 - val_loss: 0.6795 - val_accuracy: 0.5801\n",
      "Epoch 119/150\n",
      "5/5 [==============================] - 2s 442ms/step - loss: 0.6837 - accuracy: 0.5658 - val_loss: 0.6794 - val_accuracy: 0.5802\n",
      "Epoch 120/150\n",
      "5/5 [==============================] - 2s 445ms/step - loss: 0.6837 - accuracy: 0.5657 - val_loss: 0.6794 - val_accuracy: 0.5801\n",
      "Epoch 121/150\n",
      "5/5 [==============================] - 2s 442ms/step - loss: 0.6838 - accuracy: 0.5658 - val_loss: 0.6793 - val_accuracy: 0.5800\n",
      "Epoch 122/150\n",
      "5/5 [==============================] - 2s 444ms/step - loss: 0.6838 - accuracy: 0.5657 - val_loss: 0.6793 - val_accuracy: 0.5800\n",
      "Epoch 123/150\n",
      "5/5 [==============================] - 2s 443ms/step - loss: 0.6837 - accuracy: 0.5658 - val_loss: 0.6793 - val_accuracy: 0.5800\n",
      "Epoch 124/150\n",
      "5/5 [==============================] - 2s 439ms/step - loss: 0.6836 - accuracy: 0.5659 - val_loss: 0.6793 - val_accuracy: 0.5801\n",
      "Epoch 125/150\n",
      "5/5 [==============================] - 2s 437ms/step - loss: 0.6835 - accuracy: 0.5658 - val_loss: 0.6794 - val_accuracy: 0.5801\n",
      "Epoch 126/150\n",
      "5/5 [==============================] - 2s 437ms/step - loss: 0.6836 - accuracy: 0.5658 - val_loss: 0.6797 - val_accuracy: 0.5802\n",
      "Epoch 127/150\n",
      "5/5 [==============================] - 2s 440ms/step - loss: 0.6835 - accuracy: 0.5658 - val_loss: 0.6799 - val_accuracy: 0.5802\n",
      "Epoch 128/150\n",
      "5/5 [==============================] - 2s 435ms/step - loss: 0.6836 - accuracy: 0.5658 - val_loss: 0.6800 - val_accuracy: 0.5802\n",
      "Epoch 129/150\n",
      "5/5 [==============================] - 2s 440ms/step - loss: 0.6835 - accuracy: 0.5658 - val_loss: 0.6800 - val_accuracy: 0.5801\n",
      "Epoch 130/150\n",
      "5/5 [==============================] - 2s 430ms/step - loss: 0.6836 - accuracy: 0.5658 - val_loss: 0.6800 - val_accuracy: 0.5802\n",
      "Epoch 131/150\n",
      "5/5 [==============================] - 2s 437ms/step - loss: 0.6836 - accuracy: 0.5660 - val_loss: 0.6799 - val_accuracy: 0.5802\n",
      "Epoch 132/150\n",
      "5/5 [==============================] - 2s 437ms/step - loss: 0.6835 - accuracy: 0.5659 - val_loss: 0.6800 - val_accuracy: 0.5802\n",
      "Epoch 133/150\n",
      "5/5 [==============================] - 2s 438ms/step - loss: 0.6836 - accuracy: 0.5658 - val_loss: 0.6801 - val_accuracy: 0.5802\n",
      "Epoch 134/150\n",
      "5/5 [==============================] - 2s 437ms/step - loss: 0.6836 - accuracy: 0.5658 - val_loss: 0.6802 - val_accuracy: 0.5802\n",
      "Epoch 135/150\n",
      "5/5 [==============================] - 2s 436ms/step - loss: 0.6836 - accuracy: 0.5660 - val_loss: 0.6802 - val_accuracy: 0.5802\n",
      "Epoch 136/150\n",
      "5/5 [==============================] - 2s 435ms/step - loss: 0.6836 - accuracy: 0.5658 - val_loss: 0.6802 - val_accuracy: 0.5801\n",
      "Epoch 137/150\n",
      "5/5 [==============================] - 2s 435ms/step - loss: 0.6836 - accuracy: 0.5660 - val_loss: 0.6801 - val_accuracy: 0.5801\n",
      "Epoch 138/150\n",
      "5/5 [==============================] - 2s 440ms/step - loss: 0.6835 - accuracy: 0.5658 - val_loss: 0.6802 - val_accuracy: 0.5801\n",
      "Epoch 139/150\n",
      "5/5 [==============================] - 2s 437ms/step - loss: 0.6835 - accuracy: 0.5658 - val_loss: 0.6802 - val_accuracy: 0.5801\n",
      "Epoch 140/150\n",
      "5/5 [==============================] - 2s 437ms/step - loss: 0.6836 - accuracy: 0.5658 - val_loss: 0.6802 - val_accuracy: 0.5802\n",
      "Epoch 141/150\n",
      "5/5 [==============================] - 2s 438ms/step - loss: 0.6836 - accuracy: 0.5659 - val_loss: 0.6801 - val_accuracy: 0.5802\n",
      "Epoch 142/150\n",
      "5/5 [==============================] - 2s 439ms/step - loss: 0.6835 - accuracy: 0.5660 - val_loss: 0.6801 - val_accuracy: 0.5802\n",
      "Epoch 143/150\n",
      "5/5 [==============================] - 2s 440ms/step - loss: 0.6836 - accuracy: 0.5659 - val_loss: 0.6799 - val_accuracy: 0.5802\n",
      "Epoch 144/150\n",
      "5/5 [==============================] - 2s 439ms/step - loss: 0.6834 - accuracy: 0.5660 - val_loss: 0.6798 - val_accuracy: 0.5801\n",
      "Epoch 145/150\n",
      "5/5 [==============================] - 2s 435ms/step - loss: 0.6834 - accuracy: 0.5659 - val_loss: 0.6796 - val_accuracy: 0.5802\n",
      "Epoch 146/150\n",
      "5/5 [==============================] - 2s 436ms/step - loss: 0.6834 - accuracy: 0.5659 - val_loss: 0.6794 - val_accuracy: 0.5801\n",
      "Epoch 147/150\n",
      "5/5 [==============================] - 2s 442ms/step - loss: 0.6834 - accuracy: 0.5660 - val_loss: 0.6793 - val_accuracy: 0.5801\n",
      "Epoch 148/150\n",
      "5/5 [==============================] - 2s 442ms/step - loss: 0.6836 - accuracy: 0.5659 - val_loss: 0.6793 - val_accuracy: 0.5801\n",
      "Epoch 149/150\n",
      "5/5 [==============================] - 2s 437ms/step - loss: 0.6835 - accuracy: 0.5658 - val_loss: 0.6795 - val_accuracy: 0.5801\n",
      "Epoch 150/150\n",
      "5/5 [==============================] - 2s 437ms/step - loss: 0.6834 - accuracy: 0.5659 - val_loss: 0.6796 - val_accuracy: 0.5802\n"
     ]
    },
    {
     "name": "stderr",
     "output_type": "stream",
     "text": [
      "2022-02-01 14:53:26.461269: I tensorflow/core/grappler/optimizers/custom_graph_optimizer_registry.cc:112] Plugin optimizer for device_type GPU is enabled.\n"
     ]
    },
    {
     "name": "stdout",
     "output_type": "stream",
     "text": [
      "INFO:tensorflow:Assets written to: model2.tf/assets\n"
     ]
    }
   ],
   "source": [
    "n_samples = x_train.shape[0]\n",
    "\n",
    "history = model.fit(x_train,\n",
    "                    y_train,\n",
    "                    validation_split=0.2,\n",
    "                    batch_size=int(n_samples*0.2),\n",
    "                    epochs=150)\n",
    "\n",
    "model.save('model2.tf')\n",
    "\n",
    "with open('history2.json', 'w') as f:\n",
    "    json.dump(history.history, f)"
   ],
   "metadata": {
    "collapsed": false,
    "pycharm": {
     "name": "#%%\n"
    }
   }
  }
 ],
 "metadata": {
  "kernelspec": {
   "display_name": "Python 3",
   "language": "python",
   "name": "python3"
  },
  "language_info": {
   "codemirror_mode": {
    "name": "ipython",
    "version": 2
   },
   "file_extension": ".py",
   "mimetype": "text/x-python",
   "name": "python",
   "nbconvert_exporter": "python",
   "pygments_lexer": "ipython2",
   "version": "2.7.6"
  }
 },
 "nbformat": 4,
 "nbformat_minor": 0
}