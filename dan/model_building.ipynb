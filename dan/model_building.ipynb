{
 "cells": [
  {
   "cell_type": "code",
   "execution_count": 41,
   "metadata": {
    "collapsed": true
   },
   "outputs": [],
   "source": [
    "from tensorflow.keras.layers import Embedding\n",
    "from sklearn.model_selection import train_test_split\n",
    "from tensorflow.keras.models import Sequential, Model\n",
    "from tensorflow.keras.layers import Input, Dense, Dropout, Bidirectional, LSTM, GRU\n",
    "from tensorflow.keras.initializers import Constant\n",
    "from keras.layers import TextVectorization\n",
    "import numpy as np\n",
    "import pickle\n",
    "import json"
   ]
  },
  {
   "cell_type": "code",
   "execution_count": 42,
   "outputs": [],
   "source": [
    "X = np.load('data/X.npy', allow_pickle=True)\n",
    "y = np.load('data/y.npy')\n",
    "embedding_matrix = np.load('data/embedding_matrix.npy')\n",
    "num_tokens = np.load('data/num_tokens.npy').item()\n",
    "embedding_dim = np.load('data/embedding_dim.npy').item()\n",
    "max_tokens = np.load('data/max_tokens.npy').item()\n",
    "max_len = np.load('data/max_len.npy').item()"
   ],
   "metadata": {
    "collapsed": false,
    "pycharm": {
     "name": "#%%\n"
    }
   }
  },
  {
   "cell_type": "code",
   "execution_count": 43,
   "outputs": [
    {
     "name": "stderr",
     "output_type": "stream",
     "text": [
      "2022-02-02 19:34:55.511996: I tensorflow/core/grappler/optimizers/custom_graph_optimizer_registry.cc:112] Plugin optimizer for device_type GPU is enabled.\n"
     ]
    }
   ],
   "source": [
    "vectorizer = TextVectorization(max_tokens=max_tokens,\n",
    "                               standardize=None,\n",
    "                               ngrams=(1, 2),\n",
    "                               output_sequence_length=max_len)\n",
    "vectorizer.adapt(X)"
   ],
   "metadata": {
    "collapsed": false,
    "pycharm": {
     "name": "#%%\n"
    }
   }
  },
  {
   "cell_type": "code",
   "execution_count": 44,
   "outputs": [],
   "source": [
    "y = y.reshape((-1,1))"
   ],
   "metadata": {
    "collapsed": false,
    "pycharm": {
     "name": "#%%\n"
    }
   }
  },
  {
   "cell_type": "code",
   "execution_count": 45,
   "outputs": [
    {
     "name": "stdout",
     "output_type": "stream",
     "text": [
      "(7613,)\n",
      "(7613, 1)\n"
     ]
    }
   ],
   "source": [
    "print(X.shape)\n",
    "print(y.shape)"
   ],
   "metadata": {
    "collapsed": false,
    "pycharm": {
     "name": "#%%\n"
    }
   }
  },
  {
   "cell_type": "code",
   "execution_count": 46,
   "outputs": [],
   "source": [
    "x_train, x_test, y_train, y_test = train_test_split(X, y, test_size=0.2, random_state=0)"
   ],
   "metadata": {
    "collapsed": false,
    "pycharm": {
     "name": "#%%\n"
    }
   }
  },
  {
   "cell_type": "code",
   "execution_count": 47,
   "outputs": [],
   "source": [
    "np.save('data/x_train.npy', x_train)\n",
    "np.save('data/y_train.npy', y_train)\n",
    "np.save('data/x_test.npy', x_test)\n",
    "np.save('data/y_test.npy', y_test)"
   ],
   "metadata": {
    "collapsed": false,
    "pycharm": {
     "name": "#%%\n"
    }
   }
  },
  {
   "cell_type": "code",
   "execution_count": 48,
   "outputs": [
    {
     "name": "stdout",
     "output_type": "stream",
     "text": [
      "Model: \"model_2\"\n",
      "_________________________________________________________________\n",
      " Layer (type)                Output Shape              Param #   \n",
      "=================================================================\n",
      " input_3 (InputLayer)        [(None, 1)]               0         \n",
      "                                                                 \n",
      " text_vectorization_2 (TextV  (None, 68)               0         \n",
      " ectorization)                                                   \n",
      "                                                                 \n",
      " embedding_2 (Embedding)     (None, 68, 100)           5000200   \n",
      "                                                                 \n",
      " bidirectional_4 (Bidirectio  (None, 68, 64)           25728     \n",
      " nal)                                                            \n",
      "                                                                 \n",
      " dropout_6 (Dropout)         (None, 68, 64)            0         \n",
      "                                                                 \n",
      " bidirectional_5 (Bidirectio  (None, 68, 32)           7872      \n",
      " nal)                                                            \n",
      "                                                                 \n",
      " dropout_7 (Dropout)         (None, 68, 32)            0         \n",
      "                                                                 \n",
      " dense_4 (Dense)             (None, 68, 10)            330       \n",
      "                                                                 \n",
      " dropout_8 (Dropout)         (None, 68, 10)            0         \n",
      "                                                                 \n",
      " dense_5 (Dense)             (None, 68, 1)             11        \n",
      "                                                                 \n",
      "=================================================================\n",
      "Total params: 5,034,141\n",
      "Trainable params: 33,941\n",
      "Non-trainable params: 5,000,200\n",
      "_________________________________________________________________\n"
     ]
    }
   ],
   "source": [
    "sequences_input = Input(shape=(1), dtype='string')\n",
    "\n",
    "vectorizer_sequence = vectorizer(sequences_input)\n",
    "\n",
    "embedding_layer = Embedding(num_tokens,\n",
    "                            embedding_dim,\n",
    "                            embeddings_initializer=Constant(embedding_matrix),\n",
    "                            trainable=False)\n",
    "embedded_sequences = embedding_layer(vectorizer_sequence)\n",
    "\n",
    "x = Bidirectional(GRU(32, return_sequences=True))(embedded_sequences)\n",
    "x = Dropout(0.2)(x)\n",
    "x = Bidirectional(GRU(16, return_sequences=True))(x)\n",
    "x = Dropout(0.2)(x)\n",
    "x = Dense(10, activation=\"relu\")(x)\n",
    "x = Dropout(0.2)(x)\n",
    "\n",
    "preds = Dense(units=1,\n",
    "              kernel_initializer='uniform',\n",
    "              activation='sigmoid')(x)\n",
    "model = Model(sequences_input, preds)\n",
    "\n",
    "model.compile(optimizer='adam',\n",
    "                      loss='binary_crossentropy',\n",
    "                      metrics=['accuracy'])\n",
    "\n",
    "model.summary()"
   ],
   "metadata": {
    "collapsed": false,
    "pycharm": {
     "name": "#%%\n"
    }
   }
  },
  {
   "cell_type": "code",
   "execution_count": 49,
   "outputs": [
    {
     "name": "stdout",
     "output_type": "stream",
     "text": [
      "Epoch 1/200\n"
     ]
    },
    {
     "name": "stderr",
     "output_type": "stream",
     "text": [
      "2022-02-02 19:35:00.957110: I tensorflow/core/grappler/optimizers/custom_graph_optimizer_registry.cc:112] Plugin optimizer for device_type GPU is enabled.\n",
      "2022-02-02 19:35:01.401349: I tensorflow/core/grappler/optimizers/custom_graph_optimizer_registry.cc:112] Plugin optimizer for device_type GPU is enabled.\n",
      "2022-02-02 19:35:01.415601: I tensorflow/core/grappler/optimizers/custom_graph_optimizer_registry.cc:112] Plugin optimizer for device_type GPU is enabled.\n",
      "2022-02-02 19:35:01.635537: I tensorflow/core/grappler/optimizers/custom_graph_optimizer_registry.cc:112] Plugin optimizer for device_type GPU is enabled.\n",
      "2022-02-02 19:35:01.663540: I tensorflow/core/grappler/optimizers/custom_graph_optimizer_registry.cc:112] Plugin optimizer for device_type GPU is enabled.\n",
      "2022-02-02 19:35:01.940317: I tensorflow/core/grappler/optimizers/custom_graph_optimizer_registry.cc:112] Plugin optimizer for device_type GPU is enabled.\n",
      "2022-02-02 19:35:01.966955: I tensorflow/core/grappler/optimizers/custom_graph_optimizer_registry.cc:112] Plugin optimizer for device_type GPU is enabled.\n",
      "2022-02-02 19:35:02.227711: I tensorflow/core/grappler/optimizers/custom_graph_optimizer_registry.cc:112] Plugin optimizer for device_type GPU is enabled.\n",
      "2022-02-02 19:35:02.242820: I tensorflow/core/grappler/optimizers/custom_graph_optimizer_registry.cc:112] Plugin optimizer for device_type GPU is enabled.\n"
     ]
    },
    {
     "name": "stdout",
     "output_type": "stream",
     "text": [
      "8/8 [==============================] - ETA: 0s - loss: 0.6925 - accuracy: 0.5548"
     ]
    },
    {
     "name": "stderr",
     "output_type": "stream",
     "text": [
      "2022-02-02 19:35:04.054886: I tensorflow/core/grappler/optimizers/custom_graph_optimizer_registry.cc:112] Plugin optimizer for device_type GPU is enabled.\n",
      "2022-02-02 19:35:04.211678: I tensorflow/core/grappler/optimizers/custom_graph_optimizer_registry.cc:112] Plugin optimizer for device_type GPU is enabled.\n",
      "2022-02-02 19:35:04.220859: I tensorflow/core/grappler/optimizers/custom_graph_optimizer_registry.cc:112] Plugin optimizer for device_type GPU is enabled.\n",
      "2022-02-02 19:35:04.404865: I tensorflow/core/grappler/optimizers/custom_graph_optimizer_registry.cc:112] Plugin optimizer for device_type GPU is enabled.\n",
      "2022-02-02 19:35:04.411895: I tensorflow/core/grappler/optimizers/custom_graph_optimizer_registry.cc:112] Plugin optimizer for device_type GPU is enabled.\n"
     ]
    },
    {
     "name": "stdout",
     "output_type": "stream",
     "text": [
      "8/8 [==============================] - 8s 315ms/step - loss: 0.6925 - accuracy: 0.5548 - val_loss: 0.6908 - val_accuracy: 0.5807\n",
      "Epoch 2/200\n",
      "8/8 [==============================] - 1s 183ms/step - loss: 0.6896 - accuracy: 0.5785 - val_loss: 0.6871 - val_accuracy: 0.5769\n",
      "Epoch 3/200\n",
      "8/8 [==============================] - 1s 187ms/step - loss: 0.6862 - accuracy: 0.5776 - val_loss: 0.6821 - val_accuracy: 0.5788\n",
      "Epoch 4/200\n",
      "8/8 [==============================] - 1s 178ms/step - loss: 0.6805 - accuracy: 0.5829 - val_loss: 0.6756 - val_accuracy: 0.5865\n",
      "Epoch 5/200\n",
      "8/8 [==============================] - 1s 181ms/step - loss: 0.6744 - accuracy: 0.5895 - val_loss: 0.6679 - val_accuracy: 0.5966\n",
      "Epoch 6/200\n",
      "8/8 [==============================] - 1s 174ms/step - loss: 0.6657 - accuracy: 0.6018 - val_loss: 0.6565 - val_accuracy: 0.6074\n",
      "Epoch 7/200\n",
      "8/8 [==============================] - 1s 172ms/step - loss: 0.6466 - accuracy: 0.6190 - val_loss: 0.6185 - val_accuracy: 0.6515\n",
      "Epoch 8/200\n",
      "8/8 [==============================] - 1s 169ms/step - loss: 0.6213 - accuracy: 0.6734 - val_loss: 0.6154 - val_accuracy: 0.6832\n",
      "Epoch 9/200\n",
      "8/8 [==============================] - 1s 171ms/step - loss: 0.6249 - accuracy: 0.6858 - val_loss: 0.5905 - val_accuracy: 0.7162\n",
      "Epoch 10/200\n",
      "8/8 [==============================] - 1s 170ms/step - loss: 0.5929 - accuracy: 0.7219 - val_loss: 0.5610 - val_accuracy: 0.7442\n",
      "Epoch 11/200\n",
      "8/8 [==============================] - 1s 171ms/step - loss: 0.5789 - accuracy: 0.7367 - val_loss: 0.5713 - val_accuracy: 0.7342\n",
      "Epoch 12/200\n",
      "8/8 [==============================] - 1s 172ms/step - loss: 0.5734 - accuracy: 0.7408 - val_loss: 0.5426 - val_accuracy: 0.7638\n",
      "Epoch 13/200\n",
      "8/8 [==============================] - 1s 171ms/step - loss: 0.5659 - accuracy: 0.7461 - val_loss: 0.5505 - val_accuracy: 0.7500\n",
      "Epoch 14/200\n",
      "8/8 [==============================] - 1s 173ms/step - loss: 0.5547 - accuracy: 0.7571 - val_loss: 0.5420 - val_accuracy: 0.7570\n",
      "Epoch 15/200\n",
      "8/8 [==============================] - 1s 176ms/step - loss: 0.5571 - accuracy: 0.7518 - val_loss: 0.5420 - val_accuracy: 0.7536\n",
      "Epoch 16/200\n",
      "8/8 [==============================] - 1s 181ms/step - loss: 0.5496 - accuracy: 0.7576 - val_loss: 0.5624 - val_accuracy: 0.7276\n",
      "Epoch 17/200\n",
      "8/8 [==============================] - 1s 181ms/step - loss: 0.5631 - accuracy: 0.7396 - val_loss: 0.5259 - val_accuracy: 0.7740\n",
      "Epoch 18/200\n",
      "8/8 [==============================] - 1s 173ms/step - loss: 0.5601 - accuracy: 0.7395 - val_loss: 0.5355 - val_accuracy: 0.7563\n",
      "Epoch 19/200\n",
      "8/8 [==============================] - 1s 181ms/step - loss: 0.5432 - accuracy: 0.7636 - val_loss: 0.5507 - val_accuracy: 0.7362\n",
      "Epoch 20/200\n",
      "8/8 [==============================] - 1s 176ms/step - loss: 0.5490 - accuracy: 0.7515 - val_loss: 0.5245 - val_accuracy: 0.7754\n",
      "Epoch 21/200\n",
      "8/8 [==============================] - 1s 175ms/step - loss: 0.5341 - accuracy: 0.7731 - val_loss: 0.5274 - val_accuracy: 0.7685\n",
      "Epoch 22/200\n",
      "8/8 [==============================] - 1s 169ms/step - loss: 0.5312 - accuracy: 0.7734 - val_loss: 0.5146 - val_accuracy: 0.7783\n",
      "Epoch 23/200\n",
      "8/8 [==============================] - 1s 174ms/step - loss: 0.5279 - accuracy: 0.7761 - val_loss: 0.5134 - val_accuracy: 0.7796\n",
      "Epoch 24/200\n",
      "8/8 [==============================] - 1s 169ms/step - loss: 0.5237 - accuracy: 0.7808 - val_loss: 0.5097 - val_accuracy: 0.7807\n",
      "Epoch 25/200\n",
      "8/8 [==============================] - 1s 171ms/step - loss: 0.5197 - accuracy: 0.7830 - val_loss: 0.5087 - val_accuracy: 0.7817\n",
      "Epoch 26/200\n",
      "8/8 [==============================] - 1s 171ms/step - loss: 0.5169 - accuracy: 0.7847 - val_loss: 0.5066 - val_accuracy: 0.7812\n",
      "Epoch 27/200\n",
      "8/8 [==============================] - 1s 170ms/step - loss: 0.5160 - accuracy: 0.7879 - val_loss: 0.5101 - val_accuracy: 0.7816\n",
      "Epoch 28/200\n",
      "8/8 [==============================] - 1s 171ms/step - loss: 0.5149 - accuracy: 0.7887 - val_loss: 0.5105 - val_accuracy: 0.7840\n",
      "Epoch 29/200\n",
      "8/8 [==============================] - 1s 170ms/step - loss: 0.5135 - accuracy: 0.7903 - val_loss: 0.5090 - val_accuracy: 0.7861\n",
      "Epoch 30/200\n",
      "8/8 [==============================] - 1s 171ms/step - loss: 0.5116 - accuracy: 0.7932 - val_loss: 0.5082 - val_accuracy: 0.7817\n",
      "Epoch 31/200\n",
      "8/8 [==============================] - 1s 170ms/step - loss: 0.5084 - accuracy: 0.7949 - val_loss: 0.5068 - val_accuracy: 0.7868\n",
      "Epoch 32/200\n",
      "8/8 [==============================] - 1s 170ms/step - loss: 0.5089 - accuracy: 0.7957 - val_loss: 0.5052 - val_accuracy: 0.7881\n",
      "Epoch 33/200\n",
      "8/8 [==============================] - 1s 172ms/step - loss: 0.5073 - accuracy: 0.7970 - val_loss: 0.5048 - val_accuracy: 0.7884\n",
      "Epoch 34/200\n",
      "8/8 [==============================] - 1s 170ms/step - loss: 0.5050 - accuracy: 0.7995 - val_loss: 0.5054 - val_accuracy: 0.7877\n",
      "Epoch 35/200\n",
      "8/8 [==============================] - 1s 172ms/step - loss: 0.5027 - accuracy: 0.8018 - val_loss: 0.5042 - val_accuracy: 0.7880\n",
      "Epoch 36/200\n",
      "8/8 [==============================] - 1s 172ms/step - loss: 0.5008 - accuracy: 0.8024 - val_loss: 0.5050 - val_accuracy: 0.7874\n",
      "Epoch 37/200\n",
      "8/8 [==============================] - 1s 172ms/step - loss: 0.5003 - accuracy: 0.8034 - val_loss: 0.5045 - val_accuracy: 0.7883\n",
      "Epoch 38/200\n",
      "8/8 [==============================] - 1s 171ms/step - loss: 0.4992 - accuracy: 0.8049 - val_loss: 0.5040 - val_accuracy: 0.7884\n",
      "Epoch 39/200\n",
      "8/8 [==============================] - 1s 172ms/step - loss: 0.4980 - accuracy: 0.8051 - val_loss: 0.5033 - val_accuracy: 0.7883\n",
      "Epoch 40/200\n",
      "8/8 [==============================] - 1s 170ms/step - loss: 0.4991 - accuracy: 0.8035 - val_loss: 0.5020 - val_accuracy: 0.7896\n",
      "Epoch 41/200\n",
      "8/8 [==============================] - 1s 173ms/step - loss: 0.4994 - accuracy: 0.8028 - val_loss: 0.5043 - val_accuracy: 0.7878\n",
      "Epoch 42/200\n",
      "8/8 [==============================] - 1s 171ms/step - loss: 0.4988 - accuracy: 0.8030 - val_loss: 0.5068 - val_accuracy: 0.7857\n",
      "Epoch 43/200\n",
      "8/8 [==============================] - 1s 171ms/step - loss: 0.5023 - accuracy: 0.7994 - val_loss: 0.5030 - val_accuracy: 0.7872\n",
      "Epoch 44/200\n",
      "8/8 [==============================] - 1s 172ms/step - loss: 0.5040 - accuracy: 0.7987 - val_loss: 0.4993 - val_accuracy: 0.7915\n",
      "Epoch 45/200\n",
      "8/8 [==============================] - 1s 172ms/step - loss: 0.4979 - accuracy: 0.8007 - val_loss: 0.5000 - val_accuracy: 0.7906\n",
      "Epoch 46/200\n",
      "8/8 [==============================] - 1s 179ms/step - loss: 0.4938 - accuracy: 0.8058 - val_loss: 0.5010 - val_accuracy: 0.7848\n",
      "Epoch 47/200\n",
      "8/8 [==============================] - 1s 176ms/step - loss: 0.4911 - accuracy: 0.8079 - val_loss: 0.5001 - val_accuracy: 0.7869\n",
      "Epoch 48/200\n",
      "8/8 [==============================] - 1s 180ms/step - loss: 0.4882 - accuracy: 0.8099 - val_loss: 0.4983 - val_accuracy: 0.7890\n",
      "Epoch 49/200\n",
      "8/8 [==============================] - 1s 182ms/step - loss: 0.4876 - accuracy: 0.8100 - val_loss: 0.4967 - val_accuracy: 0.7897\n",
      "Epoch 50/200\n",
      "8/8 [==============================] - 1s 180ms/step - loss: 0.4861 - accuracy: 0.8107 - val_loss: 0.4956 - val_accuracy: 0.7898\n",
      "Epoch 51/200\n",
      "8/8 [==============================] - 1s 182ms/step - loss: 0.4925 - accuracy: 0.8024 - val_loss: 0.4966 - val_accuracy: 0.7858\n",
      "Epoch 52/200\n",
      "8/8 [==============================] - 1s 173ms/step - loss: 0.4896 - accuracy: 0.8049 - val_loss: 0.4948 - val_accuracy: 0.7846\n",
      "Epoch 53/200\n",
      "8/8 [==============================] - 1s 171ms/step - loss: 0.4878 - accuracy: 0.8050 - val_loss: 0.4922 - val_accuracy: 0.7874\n",
      "Epoch 54/200\n",
      "8/8 [==============================] - 1s 172ms/step - loss: 0.4883 - accuracy: 0.8024 - val_loss: 0.4898 - val_accuracy: 0.7875\n",
      "Epoch 55/200\n",
      "8/8 [==============================] - 1s 176ms/step - loss: 0.4846 - accuracy: 0.8062 - val_loss: 0.4889 - val_accuracy: 0.7893\n",
      "Epoch 56/200\n",
      "8/8 [==============================] - 1s 171ms/step - loss: 0.4808 - accuracy: 0.8094 - val_loss: 0.4871 - val_accuracy: 0.7883\n",
      "Epoch 57/200\n",
      "8/8 [==============================] - 1s 171ms/step - loss: 0.4787 - accuracy: 0.8081 - val_loss: 0.4830 - val_accuracy: 0.7903\n",
      "Epoch 58/200\n",
      "8/8 [==============================] - 1s 169ms/step - loss: 0.4756 - accuracy: 0.8103 - val_loss: 0.4822 - val_accuracy: 0.7906\n",
      "Epoch 59/200\n",
      "8/8 [==============================] - 1s 183ms/step - loss: 0.4719 - accuracy: 0.8121 - val_loss: 0.4799 - val_accuracy: 0.7907\n",
      "Epoch 60/200\n",
      "8/8 [==============================] - 1s 181ms/step - loss: 0.4695 - accuracy: 0.8128 - val_loss: 0.4816 - val_accuracy: 0.7882\n",
      "Epoch 61/200\n",
      "8/8 [==============================] - 1s 183ms/step - loss: 0.4694 - accuracy: 0.8120 - val_loss: 0.4763 - val_accuracy: 0.7907\n",
      "Epoch 62/200\n",
      "8/8 [==============================] - 1s 174ms/step - loss: 0.4661 - accuracy: 0.8129 - val_loss: 0.4775 - val_accuracy: 0.7883\n",
      "Epoch 63/200\n",
      "8/8 [==============================] - 1s 175ms/step - loss: 0.4643 - accuracy: 0.8118 - val_loss: 0.4770 - val_accuracy: 0.7891\n",
      "Epoch 64/200\n",
      "8/8 [==============================] - 1s 171ms/step - loss: 0.4630 - accuracy: 0.8124 - val_loss: 0.4828 - val_accuracy: 0.7873\n",
      "Epoch 65/200\n",
      "8/8 [==============================] - 1s 173ms/step - loss: 0.4634 - accuracy: 0.8111 - val_loss: 0.4771 - val_accuracy: 0.7876\n",
      "Epoch 66/200\n",
      "8/8 [==============================] - 1s 169ms/step - loss: 0.4620 - accuracy: 0.8111 - val_loss: 0.4772 - val_accuracy: 0.7882\n",
      "Epoch 67/200\n",
      "8/8 [==============================] - 1s 169ms/step - loss: 0.4632 - accuracy: 0.8102 - val_loss: 0.4735 - val_accuracy: 0.7882\n",
      "Epoch 68/200\n",
      "8/8 [==============================] - 1s 168ms/step - loss: 0.4604 - accuracy: 0.8093 - val_loss: 0.4726 - val_accuracy: 0.7874\n",
      "Epoch 69/200\n",
      "8/8 [==============================] - 1s 171ms/step - loss: 0.4601 - accuracy: 0.8084 - val_loss: 0.4712 - val_accuracy: 0.7882\n",
      "Epoch 70/200\n",
      "8/8 [==============================] - 1s 172ms/step - loss: 0.4655 - accuracy: 0.7989 - val_loss: 0.4716 - val_accuracy: 0.7845\n",
      "Epoch 71/200\n",
      "8/8 [==============================] - 1s 169ms/step - loss: 0.4622 - accuracy: 0.8029 - val_loss: 0.4711 - val_accuracy: 0.7847\n",
      "Epoch 72/200\n",
      "8/8 [==============================] - 1s 170ms/step - loss: 0.4653 - accuracy: 0.7992 - val_loss: 0.4742 - val_accuracy: 0.7826\n",
      "Epoch 73/200\n",
      "8/8 [==============================] - 1s 170ms/step - loss: 0.4791 - accuracy: 0.7816 - val_loss: 0.4738 - val_accuracy: 0.7873\n",
      "Epoch 74/200\n",
      "8/8 [==============================] - 1s 176ms/step - loss: 0.4733 - accuracy: 0.7899 - val_loss: 0.4863 - val_accuracy: 0.7691\n",
      "Epoch 75/200\n",
      "8/8 [==============================] - 1s 170ms/step - loss: 0.4916 - accuracy: 0.7691 - val_loss: 0.4935 - val_accuracy: 0.7542\n",
      "Epoch 76/200\n",
      "8/8 [==============================] - 1s 177ms/step - loss: 0.4809 - accuracy: 0.7729 - val_loss: 0.4738 - val_accuracy: 0.7897\n",
      "Epoch 77/200\n",
      "8/8 [==============================] - 1s 179ms/step - loss: 0.4693 - accuracy: 0.7862 - val_loss: 0.4717 - val_accuracy: 0.7930\n",
      "Epoch 78/200\n",
      "8/8 [==============================] - 1s 174ms/step - loss: 0.4735 - accuracy: 0.7849 - val_loss: 0.4760 - val_accuracy: 0.7828\n",
      "Epoch 79/200\n",
      "8/8 [==============================] - 1s 174ms/step - loss: 0.4686 - accuracy: 0.7862 - val_loss: 0.4700 - val_accuracy: 0.7955\n",
      "Epoch 80/200\n",
      "8/8 [==============================] - 1s 176ms/step - loss: 0.4627 - accuracy: 0.7984 - val_loss: 0.4678 - val_accuracy: 0.7923\n",
      "Epoch 81/200\n",
      "8/8 [==============================] - 1s 172ms/step - loss: 0.4644 - accuracy: 0.7959 - val_loss: 0.4696 - val_accuracy: 0.7937\n",
      "Epoch 82/200\n",
      "8/8 [==============================] - 1s 175ms/step - loss: 0.4730 - accuracy: 0.7795 - val_loss: 0.4806 - val_accuracy: 0.7868\n",
      "Epoch 83/200\n",
      "8/8 [==============================] - 1s 170ms/step - loss: 0.4864 - accuracy: 0.7730 - val_loss: 0.4730 - val_accuracy: 0.7954\n",
      "Epoch 84/200\n",
      "8/8 [==============================] - 1s 178ms/step - loss: 0.4803 - accuracy: 0.7758 - val_loss: 0.4800 - val_accuracy: 0.7818\n",
      "Epoch 85/200\n",
      "8/8 [==============================] - 1s 174ms/step - loss: 0.4722 - accuracy: 0.7836 - val_loss: 0.4674 - val_accuracy: 0.7967\n",
      "Epoch 86/200\n",
      "8/8 [==============================] - 1s 171ms/step - loss: 0.4751 - accuracy: 0.7809 - val_loss: 0.4682 - val_accuracy: 0.7999\n",
      "Epoch 87/200\n",
      "8/8 [==============================] - 1s 174ms/step - loss: 0.4735 - accuracy: 0.7871 - val_loss: 0.4712 - val_accuracy: 0.7969\n",
      "Epoch 88/200\n",
      "8/8 [==============================] - 1s 176ms/step - loss: 0.4737 - accuracy: 0.7863 - val_loss: 0.4703 - val_accuracy: 0.7965\n",
      "Epoch 89/200\n",
      "8/8 [==============================] - 1s 177ms/step - loss: 0.4749 - accuracy: 0.7866 - val_loss: 0.4691 - val_accuracy: 0.7940\n",
      "Epoch 90/200\n",
      "8/8 [==============================] - 1s 174ms/step - loss: 0.4744 - accuracy: 0.7895 - val_loss: 0.4775 - val_accuracy: 0.7904\n",
      "Epoch 91/200\n",
      "8/8 [==============================] - 1s 175ms/step - loss: 0.4734 - accuracy: 0.7909 - val_loss: 0.4725 - val_accuracy: 0.7890\n",
      "Epoch 92/200\n",
      "8/8 [==============================] - 1s 178ms/step - loss: 0.4723 - accuracy: 0.7880 - val_loss: 0.4776 - val_accuracy: 0.7858\n",
      "Epoch 93/200\n",
      "8/8 [==============================] - 1s 178ms/step - loss: 0.4710 - accuracy: 0.7901 - val_loss: 0.4701 - val_accuracy: 0.7898\n",
      "Epoch 94/200\n",
      "8/8 [==============================] - 1s 173ms/step - loss: 0.4734 - accuracy: 0.7848 - val_loss: 0.4741 - val_accuracy: 0.7879\n",
      "Epoch 95/200\n",
      "8/8 [==============================] - 1s 179ms/step - loss: 0.4824 - accuracy: 0.7732 - val_loss: 0.4750 - val_accuracy: 0.7919\n",
      "Epoch 96/200\n",
      "8/8 [==============================] - 1s 171ms/step - loss: 0.4762 - accuracy: 0.7828 - val_loss: 0.4697 - val_accuracy: 0.7893\n",
      "Epoch 97/200\n",
      "8/8 [==============================] - 1s 176ms/step - loss: 0.4695 - accuracy: 0.7879 - val_loss: 0.4671 - val_accuracy: 0.7895\n",
      "Epoch 98/200\n",
      "8/8 [==============================] - 1s 180ms/step - loss: 0.4729 - accuracy: 0.7820 - val_loss: 0.4921 - val_accuracy: 0.7584\n",
      "Epoch 99/200\n",
      "8/8 [==============================] - 1s 174ms/step - loss: 0.4745 - accuracy: 0.7862 - val_loss: 0.4676 - val_accuracy: 0.7874\n",
      "Epoch 100/200\n",
      "8/8 [==============================] - 1s 173ms/step - loss: 0.4663 - accuracy: 0.7912 - val_loss: 0.4713 - val_accuracy: 0.7855\n",
      "Epoch 101/200\n",
      "8/8 [==============================] - 1s 169ms/step - loss: 0.4661 - accuracy: 0.7904 - val_loss: 0.4670 - val_accuracy: 0.7886\n",
      "Epoch 102/200\n",
      "8/8 [==============================] - 1s 169ms/step - loss: 0.4631 - accuracy: 0.7915 - val_loss: 0.4681 - val_accuracy: 0.7878\n",
      "Epoch 103/200\n",
      "8/8 [==============================] - 1s 170ms/step - loss: 0.4598 - accuracy: 0.7943 - val_loss: 0.4650 - val_accuracy: 0.7891\n",
      "Epoch 104/200\n",
      "8/8 [==============================] - 1s 170ms/step - loss: 0.4595 - accuracy: 0.7931 - val_loss: 0.4683 - val_accuracy: 0.7868\n",
      "Epoch 105/200\n",
      "8/8 [==============================] - 1s 168ms/step - loss: 0.4617 - accuracy: 0.7903 - val_loss: 0.4681 - val_accuracy: 0.7883\n",
      "Epoch 106/200\n",
      "8/8 [==============================] - 1s 169ms/step - loss: 0.4614 - accuracy: 0.7918 - val_loss: 0.4739 - val_accuracy: 0.7817\n",
      "Epoch 107/200\n",
      "8/8 [==============================] - 1s 170ms/step - loss: 0.4598 - accuracy: 0.7913 - val_loss: 0.4672 - val_accuracy: 0.7861\n",
      "Epoch 108/200\n",
      "8/8 [==============================] - 1s 173ms/step - loss: 0.4585 - accuracy: 0.7941 - val_loss: 0.4661 - val_accuracy: 0.7877\n",
      "Epoch 109/200\n",
      "8/8 [==============================] - 1s 180ms/step - loss: 0.4567 - accuracy: 0.7940 - val_loss: 0.4721 - val_accuracy: 0.7830\n",
      "Epoch 110/200\n",
      "8/8 [==============================] - 1s 171ms/step - loss: 0.4538 - accuracy: 0.7979 - val_loss: 0.4690 - val_accuracy: 0.7850\n",
      "Epoch 111/200\n",
      "8/8 [==============================] - 1s 169ms/step - loss: 0.4539 - accuracy: 0.7944 - val_loss: 0.4714 - val_accuracy: 0.7832\n",
      "Epoch 112/200\n",
      "8/8 [==============================] - 1s 170ms/step - loss: 0.4544 - accuracy: 0.7959 - val_loss: 0.4676 - val_accuracy: 0.7841\n",
      "Epoch 113/200\n",
      "8/8 [==============================] - 1s 174ms/step - loss: 0.4481 - accuracy: 0.7974 - val_loss: 0.4648 - val_accuracy: 0.7859\n",
      "Epoch 114/200\n",
      "8/8 [==============================] - 1s 169ms/step - loss: 0.4477 - accuracy: 0.7979 - val_loss: 0.4668 - val_accuracy: 0.7860\n",
      "Epoch 115/200\n",
      "8/8 [==============================] - 1s 174ms/step - loss: 0.4528 - accuracy: 0.7974 - val_loss: 0.4683 - val_accuracy: 0.7838\n",
      "Epoch 116/200\n",
      "8/8 [==============================] - 1s 172ms/step - loss: 0.4543 - accuracy: 0.7955 - val_loss: 0.4671 - val_accuracy: 0.7841\n",
      "Epoch 117/200\n",
      "8/8 [==============================] - 1s 176ms/step - loss: 0.4496 - accuracy: 0.7951 - val_loss: 0.4685 - val_accuracy: 0.7831\n",
      "Epoch 118/200\n",
      "8/8 [==============================] - 1s 175ms/step - loss: 0.4489 - accuracy: 0.7958 - val_loss: 0.4675 - val_accuracy: 0.7833\n",
      "Epoch 119/200\n",
      "8/8 [==============================] - 1s 172ms/step - loss: 0.4489 - accuracy: 0.7960 - val_loss: 0.4685 - val_accuracy: 0.7855\n",
      "Epoch 120/200\n",
      "8/8 [==============================] - 1s 172ms/step - loss: 0.4573 - accuracy: 0.7937 - val_loss: 0.4742 - val_accuracy: 0.7782\n",
      "Epoch 121/200\n",
      "8/8 [==============================] - 1s 174ms/step - loss: 0.4600 - accuracy: 0.7901 - val_loss: 0.4633 - val_accuracy: 0.7815\n",
      "Epoch 122/200\n",
      "8/8 [==============================] - 1s 169ms/step - loss: 0.4498 - accuracy: 0.7964 - val_loss: 0.4650 - val_accuracy: 0.7822\n",
      "Epoch 123/200\n",
      "8/8 [==============================] - 1s 169ms/step - loss: 0.4453 - accuracy: 0.7978 - val_loss: 0.4681 - val_accuracy: 0.7851\n",
      "Epoch 124/200\n",
      "8/8 [==============================] - 1s 175ms/step - loss: 0.4439 - accuracy: 0.8000 - val_loss: 0.4685 - val_accuracy: 0.7827\n",
      "Epoch 125/200\n",
      "8/8 [==============================] - 1s 171ms/step - loss: 0.4421 - accuracy: 0.8006 - val_loss: 0.4679 - val_accuracy: 0.7865\n",
      "Epoch 126/200\n",
      "8/8 [==============================] - 1s 169ms/step - loss: 0.4399 - accuracy: 0.8010 - val_loss: 0.4695 - val_accuracy: 0.7820\n",
      "Epoch 127/200\n",
      "8/8 [==============================] - 1s 174ms/step - loss: 0.4419 - accuracy: 0.8002 - val_loss: 0.4729 - val_accuracy: 0.7872\n",
      "Epoch 128/200\n",
      "8/8 [==============================] - 1s 172ms/step - loss: 0.4433 - accuracy: 0.7997 - val_loss: 0.4701 - val_accuracy: 0.7844\n",
      "Epoch 129/200\n",
      "8/8 [==============================] - 1s 171ms/step - loss: 0.4412 - accuracy: 0.8011 - val_loss: 0.4741 - val_accuracy: 0.7840\n",
      "Epoch 130/200\n",
      "8/8 [==============================] - 1s 171ms/step - loss: 0.4385 - accuracy: 0.8021 - val_loss: 0.4690 - val_accuracy: 0.7876\n",
      "Epoch 131/200\n",
      "8/8 [==============================] - 1s 172ms/step - loss: 0.4366 - accuracy: 0.8009 - val_loss: 0.4677 - val_accuracy: 0.7869\n",
      "Epoch 132/200\n",
      "8/8 [==============================] - 1s 167ms/step - loss: 0.4401 - accuracy: 0.7982 - val_loss: 0.4835 - val_accuracy: 0.7665\n",
      "Epoch 133/200\n",
      "8/8 [==============================] - 1s 167ms/step - loss: 0.4505 - accuracy: 0.7899 - val_loss: 0.4759 - val_accuracy: 0.7886\n",
      "Epoch 134/200\n",
      "8/8 [==============================] - 1s 179ms/step - loss: 0.4521 - accuracy: 0.7950 - val_loss: 0.4773 - val_accuracy: 0.7762\n",
      "Epoch 135/200\n",
      "8/8 [==============================] - 1s 183ms/step - loss: 0.4536 - accuracy: 0.7917 - val_loss: 0.4791 - val_accuracy: 0.7749\n",
      "Epoch 136/200\n",
      "8/8 [==============================] - 1s 178ms/step - loss: 0.4556 - accuracy: 0.7870 - val_loss: 0.4757 - val_accuracy: 0.7709\n",
      "Epoch 137/200\n",
      "8/8 [==============================] - 1s 178ms/step - loss: 0.4572 - accuracy: 0.7823 - val_loss: 0.4744 - val_accuracy: 0.7718\n",
      "Epoch 138/200\n",
      "8/8 [==============================] - 1s 180ms/step - loss: 0.4529 - accuracy: 0.7824 - val_loss: 0.4758 - val_accuracy: 0.7704\n",
      "Epoch 139/200\n",
      "8/8 [==============================] - 1s 180ms/step - loss: 0.4524 - accuracy: 0.7829 - val_loss: 0.4762 - val_accuracy: 0.7711\n",
      "Epoch 140/200\n",
      "8/8 [==============================] - 1s 183ms/step - loss: 0.4489 - accuracy: 0.7821 - val_loss: 0.4769 - val_accuracy: 0.7701\n",
      "Epoch 141/200\n",
      "8/8 [==============================] - 1s 185ms/step - loss: 0.4474 - accuracy: 0.7829 - val_loss: 0.4769 - val_accuracy: 0.7683\n",
      "Epoch 142/200\n",
      "8/8 [==============================] - 1s 173ms/step - loss: 0.4477 - accuracy: 0.7873 - val_loss: 0.4760 - val_accuracy: 0.7667\n",
      "Epoch 143/200\n",
      "8/8 [==============================] - 1s 172ms/step - loss: 0.4447 - accuracy: 0.7873 - val_loss: 0.4753 - val_accuracy: 0.7687\n",
      "Epoch 144/200\n",
      "8/8 [==============================] - 1s 172ms/step - loss: 0.4440 - accuracy: 0.7900 - val_loss: 0.4769 - val_accuracy: 0.7705\n",
      "Epoch 145/200\n",
      "8/8 [==============================] - 1s 174ms/step - loss: 0.4436 - accuracy: 0.7872 - val_loss: 0.4808 - val_accuracy: 0.7660\n",
      "Epoch 146/200\n",
      "8/8 [==============================] - 1s 174ms/step - loss: 0.4479 - accuracy: 0.7866 - val_loss: 0.4790 - val_accuracy: 0.7660\n",
      "Epoch 147/200\n",
      "8/8 [==============================] - 1s 175ms/step - loss: 0.4430 - accuracy: 0.7873 - val_loss: 0.4803 - val_accuracy: 0.7695\n",
      "Epoch 148/200\n",
      "8/8 [==============================] - 1s 175ms/step - loss: 0.4428 - accuracy: 0.7878 - val_loss: 0.4817 - val_accuracy: 0.7678\n",
      "Epoch 149/200\n",
      "8/8 [==============================] - 1s 179ms/step - loss: 0.4423 - accuracy: 0.7868 - val_loss: 0.4824 - val_accuracy: 0.7669\n",
      "Epoch 150/200\n",
      "8/8 [==============================] - 1s 175ms/step - loss: 0.4416 - accuracy: 0.7877 - val_loss: 0.4837 - val_accuracy: 0.7641\n",
      "Epoch 151/200\n",
      "8/8 [==============================] - 1s 175ms/step - loss: 0.4415 - accuracy: 0.7902 - val_loss: 0.4822 - val_accuracy: 0.7669\n",
      "Epoch 152/200\n",
      "8/8 [==============================] - 1s 175ms/step - loss: 0.4388 - accuracy: 0.7903 - val_loss: 0.4832 - val_accuracy: 0.7661\n",
      "Epoch 153/200\n",
      "8/8 [==============================] - 1s 178ms/step - loss: 0.4363 - accuracy: 0.7907 - val_loss: 0.4822 - val_accuracy: 0.7687\n",
      "Epoch 154/200\n",
      "8/8 [==============================] - 1s 174ms/step - loss: 0.4397 - accuracy: 0.7888 - val_loss: 0.4838 - val_accuracy: 0.7665\n",
      "Epoch 155/200\n",
      "8/8 [==============================] - 1s 169ms/step - loss: 0.4359 - accuracy: 0.7912 - val_loss: 0.4822 - val_accuracy: 0.7663\n",
      "Epoch 156/200\n",
      "8/8 [==============================] - 1s 172ms/step - loss: 0.4340 - accuracy: 0.7916 - val_loss: 0.4841 - val_accuracy: 0.7712\n",
      "Epoch 157/200\n",
      "8/8 [==============================] - 1s 173ms/step - loss: 0.4335 - accuracy: 0.7913 - val_loss: 0.4837 - val_accuracy: 0.7654\n",
      "Epoch 158/200\n",
      "8/8 [==============================] - 1s 172ms/step - loss: 0.4352 - accuracy: 0.7900 - val_loss: 0.4838 - val_accuracy: 0.7704\n",
      "Epoch 159/200\n",
      "8/8 [==============================] - 1s 175ms/step - loss: 0.4341 - accuracy: 0.7924 - val_loss: 0.4834 - val_accuracy: 0.7710\n",
      "Epoch 160/200\n",
      "8/8 [==============================] - 1s 173ms/step - loss: 0.4320 - accuracy: 0.7921 - val_loss: 0.4832 - val_accuracy: 0.7695\n",
      "Epoch 161/200\n",
      "8/8 [==============================] - 1s 171ms/step - loss: 0.4341 - accuracy: 0.7918 - val_loss: 0.4840 - val_accuracy: 0.7714\n",
      "Epoch 162/200\n",
      "8/8 [==============================] - 1s 172ms/step - loss: 0.4339 - accuracy: 0.7940 - val_loss: 0.4841 - val_accuracy: 0.7714\n",
      "Epoch 163/200\n",
      "8/8 [==============================] - 1s 175ms/step - loss: 0.4316 - accuracy: 0.7926 - val_loss: 0.4843 - val_accuracy: 0.7731\n",
      "Epoch 164/200\n",
      "8/8 [==============================] - 1s 173ms/step - loss: 0.4314 - accuracy: 0.7943 - val_loss: 0.4839 - val_accuracy: 0.7706\n",
      "Epoch 165/200\n",
      "8/8 [==============================] - 1s 172ms/step - loss: 0.4299 - accuracy: 0.7936 - val_loss: 0.4842 - val_accuracy: 0.7711\n",
      "Epoch 166/200\n",
      "8/8 [==============================] - 1s 172ms/step - loss: 0.4246 - accuracy: 0.7967 - val_loss: 0.4846 - val_accuracy: 0.7693\n",
      "Epoch 167/200\n",
      "8/8 [==============================] - 1s 182ms/step - loss: 0.4281 - accuracy: 0.7946 - val_loss: 0.4863 - val_accuracy: 0.7757\n",
      "Epoch 168/200\n",
      "8/8 [==============================] - 1s 178ms/step - loss: 0.4265 - accuracy: 0.7965 - val_loss: 0.4830 - val_accuracy: 0.7718\n",
      "Epoch 169/200\n",
      "8/8 [==============================] - 1s 174ms/step - loss: 0.4275 - accuracy: 0.7963 - val_loss: 0.4850 - val_accuracy: 0.7737\n",
      "Epoch 170/200\n",
      "8/8 [==============================] - 1s 185ms/step - loss: 0.4281 - accuracy: 0.7950 - val_loss: 0.4849 - val_accuracy: 0.7728\n",
      "Epoch 171/200\n",
      "8/8 [==============================] - 1s 185ms/step - loss: 0.4257 - accuracy: 0.7952 - val_loss: 0.4888 - val_accuracy: 0.7709\n",
      "Epoch 172/200\n",
      "8/8 [==============================] - 1s 175ms/step - loss: 0.4226 - accuracy: 0.7985 - val_loss: 0.4893 - val_accuracy: 0.7685\n",
      "Epoch 173/200\n",
      "8/8 [==============================] - 1s 176ms/step - loss: 0.4282 - accuracy: 0.7953 - val_loss: 0.4877 - val_accuracy: 0.7710\n",
      "Epoch 174/200\n",
      "8/8 [==============================] - 1s 173ms/step - loss: 0.4275 - accuracy: 0.7954 - val_loss: 0.4839 - val_accuracy: 0.7734\n",
      "Epoch 175/200\n",
      "8/8 [==============================] - 1s 173ms/step - loss: 0.4229 - accuracy: 0.7972 - val_loss: 0.4836 - val_accuracy: 0.7763\n",
      "Epoch 176/200\n",
      "8/8 [==============================] - 1s 180ms/step - loss: 0.4216 - accuracy: 0.7984 - val_loss: 0.4869 - val_accuracy: 0.7779\n",
      "Epoch 177/200\n",
      "8/8 [==============================] - 1s 183ms/step - loss: 0.4201 - accuracy: 0.7994 - val_loss: 0.4868 - val_accuracy: 0.7700\n",
      "Epoch 178/200\n",
      "8/8 [==============================] - 1s 187ms/step - loss: 0.4238 - accuracy: 0.7956 - val_loss: 0.4857 - val_accuracy: 0.7814\n",
      "Epoch 179/200\n",
      "8/8 [==============================] - 1s 180ms/step - loss: 0.4246 - accuracy: 0.7977 - val_loss: 0.4860 - val_accuracy: 0.7740\n",
      "Epoch 180/200\n",
      "8/8 [==============================] - 1s 180ms/step - loss: 0.4212 - accuracy: 0.7989 - val_loss: 0.4854 - val_accuracy: 0.7792\n",
      "Epoch 181/200\n",
      "8/8 [==============================] - 1s 175ms/step - loss: 0.4214 - accuracy: 0.7991 - val_loss: 0.4868 - val_accuracy: 0.7752\n",
      "Epoch 182/200\n",
      "8/8 [==============================] - 1s 177ms/step - loss: 0.4202 - accuracy: 0.7990 - val_loss: 0.4842 - val_accuracy: 0.7748\n",
      "Epoch 183/200\n",
      "8/8 [==============================] - 1s 173ms/step - loss: 0.4216 - accuracy: 0.8007 - val_loss: 0.4869 - val_accuracy: 0.7784\n",
      "Epoch 184/200\n",
      "8/8 [==============================] - 1s 174ms/step - loss: 0.4199 - accuracy: 0.8006 - val_loss: 0.4840 - val_accuracy: 0.7680\n",
      "Epoch 185/200\n",
      "8/8 [==============================] - 1s 175ms/step - loss: 0.4199 - accuracy: 0.7998 - val_loss: 0.4858 - val_accuracy: 0.7764\n",
      "Epoch 186/200\n",
      "8/8 [==============================] - 1s 173ms/step - loss: 0.4163 - accuracy: 0.8016 - val_loss: 0.4846 - val_accuracy: 0.7741\n",
      "Epoch 187/200\n",
      "8/8 [==============================] - 1s 176ms/step - loss: 0.4159 - accuracy: 0.8022 - val_loss: 0.4868 - val_accuracy: 0.7755\n",
      "Epoch 188/200\n",
      "8/8 [==============================] - 1s 173ms/step - loss: 0.4167 - accuracy: 0.8041 - val_loss: 0.4886 - val_accuracy: 0.7787\n",
      "Epoch 189/200\n",
      "8/8 [==============================] - 1s 174ms/step - loss: 0.4166 - accuracy: 0.8023 - val_loss: 0.4876 - val_accuracy: 0.7751\n",
      "Epoch 190/200\n",
      "8/8 [==============================] - 1s 173ms/step - loss: 0.4165 - accuracy: 0.8027 - val_loss: 0.4880 - val_accuracy: 0.7757\n",
      "Epoch 191/200\n",
      "8/8 [==============================] - 1s 178ms/step - loss: 0.4171 - accuracy: 0.7991 - val_loss: 0.4874 - val_accuracy: 0.7788\n",
      "Epoch 192/200\n",
      "8/8 [==============================] - 1s 178ms/step - loss: 0.4158 - accuracy: 0.8000 - val_loss: 0.4853 - val_accuracy: 0.7762\n",
      "Epoch 193/200\n",
      "8/8 [==============================] - 1s 187ms/step - loss: 0.4161 - accuracy: 0.8018 - val_loss: 0.4852 - val_accuracy: 0.7796\n",
      "Epoch 194/200\n",
      "8/8 [==============================] - 1s 173ms/step - loss: 0.4139 - accuracy: 0.8024 - val_loss: 0.4818 - val_accuracy: 0.7780\n",
      "Epoch 195/200\n",
      "8/8 [==============================] - 1s 172ms/step - loss: 0.4170 - accuracy: 0.8004 - val_loss: 0.4807 - val_accuracy: 0.7799\n",
      "Epoch 196/200\n",
      "8/8 [==============================] - 1s 173ms/step - loss: 0.4186 - accuracy: 0.8021 - val_loss: 0.4806 - val_accuracy: 0.7831\n",
      "Epoch 197/200\n",
      "8/8 [==============================] - 1s 170ms/step - loss: 0.4273 - accuracy: 0.7987 - val_loss: 0.4786 - val_accuracy: 0.7741\n",
      "Epoch 198/200\n",
      "8/8 [==============================] - 1s 173ms/step - loss: 0.4248 - accuracy: 0.8002 - val_loss: 0.4788 - val_accuracy: 0.7776\n",
      "Epoch 199/200\n",
      "8/8 [==============================] - 1s 177ms/step - loss: 0.4277 - accuracy: 0.7973 - val_loss: 0.4777 - val_accuracy: 0.7787\n",
      "Epoch 200/200\n",
      "8/8 [==============================] - 1s 175ms/step - loss: 0.4272 - accuracy: 0.7979 - val_loss: 0.4759 - val_accuracy: 0.7722\n"
     ]
    },
    {
     "name": "stderr",
     "output_type": "stream",
     "text": [
      "2022-02-02 19:39:50.160200: I tensorflow/core/grappler/optimizers/custom_graph_optimizer_registry.cc:112] Plugin optimizer for device_type GPU is enabled.\n",
      "WARNING:absl:Found untraced functions such as gru_cell_13_layer_call_fn, gru_cell_13_layer_call_and_return_conditional_losses, gru_cell_14_layer_call_fn, gru_cell_14_layer_call_and_return_conditional_losses, gru_cell_16_layer_call_fn while saving (showing 5 of 20). These functions will not be directly callable after loading.\n"
     ]
    },
    {
     "name": "stdout",
     "output_type": "stream",
     "text": [
      "INFO:tensorflow:Assets written to: models/model6.tf/assets\n"
     ]
    },
    {
     "name": "stderr",
     "output_type": "stream",
     "text": [
      "INFO:tensorflow:Assets written to: models/model6.tf/assets\n",
      "WARNING:absl:<keras.layers.recurrent.GRUCell object at 0x3196d55b0> has the same name 'GRUCell' as a built-in Keras object. Consider renaming <class 'keras.layers.recurrent.GRUCell'> to avoid naming conflicts when loading with `tf.keras.models.load_model`. If renaming is not possible, pass the object in the `custom_objects` parameter of the load function.\n",
      "WARNING:absl:<keras.layers.recurrent.GRUCell object at 0x3196ceb20> has the same name 'GRUCell' as a built-in Keras object. Consider renaming <class 'keras.layers.recurrent.GRUCell'> to avoid naming conflicts when loading with `tf.keras.models.load_model`. If renaming is not possible, pass the object in the `custom_objects` parameter of the load function.\n",
      "WARNING:absl:<keras.layers.recurrent.GRUCell object at 0x31925d700> has the same name 'GRUCell' as a built-in Keras object. Consider renaming <class 'keras.layers.recurrent.GRUCell'> to avoid naming conflicts when loading with `tf.keras.models.load_model`. If renaming is not possible, pass the object in the `custom_objects` parameter of the load function.\n",
      "WARNING:absl:<keras.layers.recurrent.GRUCell object at 0x319255e50> has the same name 'GRUCell' as a built-in Keras object. Consider renaming <class 'keras.layers.recurrent.GRUCell'> to avoid naming conflicts when loading with `tf.keras.models.load_model`. If renaming is not possible, pass the object in the `custom_objects` parameter of the load function.\n"
     ]
    }
   ],
   "source": [
    "n_samples = x_train.shape[0]\n",
    "model_n = 6\n",
    "\n",
    "history = model.fit(x_train,\n",
    "                    y_train,\n",
    "                    validation_split=0.2,\n",
    "                    batch_size=int(n_samples*0.1),\n",
    "                    epochs=200)\n",
    "\n",
    "model.save(f'models/model{model_n}.tf')\n",
    "\n",
    "with open(f'models/history{model_n}.json', 'w') as f:\n",
    "    json.dump(history.history, f)"
   ],
   "metadata": {
    "collapsed": false,
    "pycharm": {
     "name": "#%%\n"
    }
   }
  },
  {
   "cell_type": "code",
   "execution_count": 50,
   "outputs": [],
   "source": [
    "from sklearn.metrics import accuracy_score, confusion_matrix\n",
    "import matplotlib.pyplot as plt\n",
    "import numpy as np"
   ],
   "metadata": {
    "collapsed": false,
    "pycharm": {
     "name": "#%%\n"
    }
   }
  },
  {
   "cell_type": "code",
   "execution_count": 51,
   "outputs": [
    {
     "name": "stderr",
     "output_type": "stream",
     "text": [
      "2022-02-02 19:40:04.105386: I tensorflow/core/grappler/optimizers/custom_graph_optimizer_registry.cc:112] Plugin optimizer for device_type GPU is enabled.\n",
      "2022-02-02 19:40:04.264523: I tensorflow/core/grappler/optimizers/custom_graph_optimizer_registry.cc:112] Plugin optimizer for device_type GPU is enabled.\n",
      "2022-02-02 19:40:04.273502: I tensorflow/core/grappler/optimizers/custom_graph_optimizer_registry.cc:112] Plugin optimizer for device_type GPU is enabled.\n",
      "2022-02-02 19:40:04.470161: I tensorflow/core/grappler/optimizers/custom_graph_optimizer_registry.cc:112] Plugin optimizer for device_type GPU is enabled.\n",
      "2022-02-02 19:40:04.477476: I tensorflow/core/grappler/optimizers/custom_graph_optimizer_registry.cc:112] Plugin optimizer for device_type GPU is enabled.\n"
     ]
    }
   ],
   "source": [
    "y_pred = model.predict(x_test)"
   ],
   "metadata": {
    "collapsed": false,
    "pycharm": {
     "name": "#%%\n"
    }
   }
  },
  {
   "cell_type": "code",
   "execution_count": 52,
   "outputs": [],
   "source": [
    "y_pred = np.array([np.max(probs[:, 0]) for probs in y_pred])"
   ],
   "metadata": {
    "collapsed": false,
    "pycharm": {
     "name": "#%%\n"
    }
   }
  },
  {
   "cell_type": "code",
   "execution_count": 53,
   "outputs": [],
   "source": [
    "def evaluate(y_true, y_pred, thresh):\n",
    "    y_pred_ = (y_pred > thresh).astype(int)\n",
    "    return accuracy_score(y_true, y_pred_), y_pred_"
   ],
   "metadata": {
    "collapsed": false,
    "pycharm": {
     "name": "#%%\n"
    }
   }
  },
  {
   "cell_type": "code",
   "execution_count": 54,
   "outputs": [
    {
     "name": "stdout",
     "output_type": "stream",
     "text": [
      "Calculating thresh: 0.0\n",
      "Accuracy: 0.41825344714379514\n",
      "Calculating thresh: 0.01\n",
      "Accuracy: 0.41825344714379514\n",
      "Calculating thresh: 0.02\n",
      "Accuracy: 0.41825344714379514\n",
      "Calculating thresh: 0.03\n",
      "Accuracy: 0.41825344714379514\n",
      "Calculating thresh: 0.04\n",
      "Accuracy: 0.41825344714379514\n",
      "Calculating thresh: 0.05\n",
      "Accuracy: 0.41825344714379514\n",
      "Calculating thresh: 0.06\n",
      "Accuracy: 0.41825344714379514\n",
      "Calculating thresh: 0.07\n",
      "Accuracy: 0.41825344714379514\n",
      "Calculating thresh: 0.08\n",
      "Accuracy: 0.4189100459619173\n",
      "Calculating thresh: 0.09\n",
      "Accuracy: 0.4195666447800394\n",
      "Calculating thresh: 0.1\n",
      "Accuracy: 0.4208798424162837\n",
      "Calculating thresh: 0.11\n",
      "Accuracy: 0.4241628365068943\n",
      "Calculating thresh: 0.12\n",
      "Accuracy: 0.4313854235062377\n",
      "Calculating thresh: 0.13\n",
      "Accuracy: 0.44714379514116875\n",
      "Calculating thresh: 0.14\n",
      "Accuracy: 0.4727511490479317\n",
      "Calculating thresh: 0.15\n",
      "Accuracy: 0.505581089954038\n",
      "Calculating thresh: 0.16\n",
      "Accuracy: 0.5397242284963887\n",
      "Calculating thresh: 0.17\n",
      "Accuracy: 0.5659881812212738\n",
      "Calculating thresh: 0.18\n",
      "Accuracy: 0.5889691398555482\n",
      "Calculating thresh: 0.19\n",
      "Accuracy: 0.6086671043992121\n",
      "Calculating thresh: 0.2\n",
      "Accuracy: 0.6191726854891662\n",
      "Calculating thresh: 0.21\n",
      "Accuracy: 0.6369008535784636\n",
      "Calculating thresh: 0.22\n",
      "Accuracy: 0.6460932370321734\n",
      "Calculating thresh: 0.23\n",
      "Accuracy: 0.6618516086671044\n",
      "Calculating thresh: 0.24\n",
      "Accuracy: 0.6717005909389363\n",
      "Calculating thresh: 0.25\n",
      "Accuracy: 0.6756401838476691\n",
      "Calculating thresh: 0.26\n",
      "Accuracy: 0.6776099803020355\n",
      "Calculating thresh: 0.27\n",
      "Accuracy: 0.6822061720288903\n",
      "Calculating thresh: 0.28\n",
      "Accuracy: 0.6894287590282338\n",
      "Calculating thresh: 0.29\n",
      "Accuracy: 0.6933683519369666\n",
      "Calculating thresh: 0.3\n",
      "Accuracy: 0.6966513460275772\n",
      "Calculating thresh: 0.31\n",
      "Accuracy: 0.701247537754432\n",
      "Calculating thresh: 0.32\n",
      "Accuracy: 0.7025607353906763\n",
      "Calculating thresh: 0.33\n",
      "Accuracy: 0.7071569271175312\n",
      "Calculating thresh: 0.34\n",
      "Accuracy: 0.7104399212081418\n",
      "Calculating thresh: 0.35000000000000003\n",
      "Accuracy: 0.7150361129349967\n",
      "Calculating thresh: 0.36\n",
      "Accuracy: 0.7229152987524623\n",
      "Calculating thresh: 0.37\n",
      "Accuracy: 0.7288246881155613\n",
      "Calculating thresh: 0.38\n",
      "Accuracy: 0.7321076822061721\n",
      "Calculating thresh: 0.39\n",
      "Accuracy: 0.7334208798424163\n",
      "Calculating thresh: 0.4\n",
      "Accuracy: 0.737360472751149\n",
      "Calculating thresh: 0.41000000000000003\n",
      "Accuracy: 0.7380170715692712\n",
      "Calculating thresh: 0.42\n",
      "Accuracy: 0.7386736703873933\n",
      "Calculating thresh: 0.43\n",
      "Accuracy: 0.7413000656598818\n",
      "Calculating thresh: 0.44\n",
      "Accuracy: 0.7445830597504924\n",
      "Calculating thresh: 0.45\n",
      "Accuracy: 0.7452396585686146\n",
      "Calculating thresh: 0.46\n",
      "Accuracy: 0.747866053841103\n",
      "Calculating thresh: 0.47000000000000003\n",
      "Accuracy: 0.7518056467498359\n",
      "Calculating thresh: 0.48\n",
      "Accuracy: 0.7544320420223244\n",
      "Calculating thresh: 0.49\n",
      "Accuracy: 0.757715036112935\n",
      "Calculating thresh: 0.5\n",
      "Accuracy: 0.7570584372948129\n",
      "Calculating thresh: 0.51\n",
      "Accuracy: 0.7590282337491793\n",
      "Calculating thresh: 0.52\n",
      "Accuracy: 0.7609980302035456\n",
      "Calculating thresh: 0.53\n",
      "Accuracy: 0.762967826657912\n",
      "Calculating thresh: 0.54\n",
      "Accuracy: 0.7662508207485227\n",
      "Calculating thresh: 0.55\n",
      "Accuracy: 0.7741300065659882\n",
      "Calculating thresh: 0.56\n",
      "Accuracy: 0.7787261982928431\n",
      "Calculating thresh: 0.5700000000000001\n",
      "Accuracy: 0.783322390019698\n",
      "Calculating thresh: 0.58\n",
      "Accuracy: 0.7839789888378201\n",
      "Calculating thresh: 0.59\n",
      "Accuracy: 0.7846355876559422\n",
      "Calculating thresh: 0.6\n",
      "Accuracy: 0.7852921864740644\n",
      "Calculating thresh: 0.61\n",
      "Accuracy: 0.7866053841103086\n",
      "Calculating thresh: 0.62\n",
      "Accuracy: 0.7872619829284307\n",
      "Calculating thresh: 0.63\n",
      "Accuracy: 0.7866053841103086\n",
      "Calculating thresh: 0.64\n",
      "Accuracy: 0.7892317793827971\n",
      "Calculating thresh: 0.65\n",
      "Accuracy: 0.7892317793827971\n",
      "Calculating thresh: 0.66\n",
      "Accuracy: 0.7912015758371634\n",
      "Calculating thresh: 0.67\n",
      "Accuracy: 0.7925147734734077\n",
      "Calculating thresh: 0.68\n",
      "Accuracy: 0.7905449770190414\n",
      "Calculating thresh: 0.6900000000000001\n",
      "Accuracy: 0.7912015758371634\n",
      "Calculating thresh: 0.7000000000000001\n",
      "Accuracy: 0.7905449770190414\n",
      "Calculating thresh: 0.71\n",
      "Accuracy: 0.7872619829284307\n",
      "Calculating thresh: 0.72\n",
      "Accuracy: 0.7839789888378201\n",
      "Calculating thresh: 0.73\n",
      "Accuracy: 0.7813525935653316\n",
      "Calculating thresh: 0.74\n",
      "Accuracy: 0.7806959947472094\n",
      "Calculating thresh: 0.75\n",
      "Accuracy: 0.7787261982928431\n",
      "Calculating thresh: 0.76\n",
      "Accuracy: 0.7787261982928431\n",
      "Calculating thresh: 0.77\n",
      "Accuracy: 0.7793827971109653\n",
      "Calculating thresh: 0.78\n",
      "Accuracy: 0.7767564018384767\n",
      "Calculating thresh: 0.79\n",
      "Accuracy: 0.7728168089297439\n",
      "Calculating thresh: 0.8\n",
      "Accuracy: 0.7708470124753776\n",
      "Calculating thresh: 0.81\n",
      "Accuracy: 0.7715036112934996\n",
      "Calculating thresh: 0.8200000000000001\n",
      "Accuracy: 0.7715036112934996\n",
      "Calculating thresh: 0.8300000000000001\n",
      "Accuracy: 0.7708470124753776\n",
      "Calculating thresh: 0.84\n",
      "Accuracy: 0.768220617202889\n",
      "Calculating thresh: 0.85\n",
      "Accuracy: 0.7655942219304005\n",
      "Calculating thresh: 0.86\n",
      "Accuracy: 0.7609980302035456\n",
      "Calculating thresh: 0.87\n",
      "Accuracy: 0.7583716349310571\n",
      "Calculating thresh: 0.88\n",
      "Accuracy: 0.7557452396585687\n",
      "Calculating thresh: 0.89\n",
      "Accuracy: 0.7504924491135916\n",
      "Calculating thresh: 0.9\n",
      "Accuracy: 0.747866053841103\n",
      "Calculating thresh: 0.91\n",
      "Accuracy: 0.7426132632961261\n",
      "Calculating thresh: 0.92\n",
      "Accuracy: 0.7413000656598818\n",
      "Calculating thresh: 0.93\n",
      "Accuracy: 0.7386736703873933\n",
      "Calculating thresh: 0.9400000000000001\n",
      "Accuracy: 0.7386736703873933\n",
      "Calculating thresh: 0.9500000000000001\n",
      "Accuracy: 0.7321076822061721\n",
      "Calculating thresh: 0.96\n",
      "Accuracy: 0.7288246881155613\n",
      "Calculating thresh: 0.97\n",
      "Accuracy: 0.7242284963887065\n",
      "Calculating thresh: 0.98\n",
      "Accuracy: 0.7104399212081418\n",
      "Calculating thresh: 0.99\n",
      "Accuracy: 0.6868023637557452\n"
     ]
    }
   ],
   "source": [
    "best_thresh = 0\n",
    "best_accuracy = 0\n",
    "\n",
    "for i in np.arange(0, 1, 0.01):\n",
    "    print(f'Calculating thresh: {i}')\n",
    "    score, _ = evaluate(y_test, y_pred, i)\n",
    "    print(f'Accuracy: {score}')\n",
    "    if score > best_accuracy:\n",
    "        best_accuracy = score\n",
    "        best_thresh = i"
   ],
   "metadata": {
    "collapsed": false,
    "pycharm": {
     "name": "#%%\n"
    }
   }
  },
  {
   "cell_type": "code",
   "execution_count": 55,
   "outputs": [
    {
     "name": "stdout",
     "output_type": "stream",
     "text": [
      "0.7925147734734077\n"
     ]
    }
   ],
   "source": [
    "score, y_pred = evaluate(y_test, y_pred, best_thresh)\n",
    "print(score)"
   ],
   "metadata": {
    "collapsed": false,
    "pycharm": {
     "name": "#%%\n"
    }
   }
  },
  {
   "cell_type": "markdown",
   "source": [],
   "metadata": {
    "collapsed": false
   }
  },
  {
   "cell_type": "code",
   "execution_count": 56,
   "outputs": [
    {
     "data": {
      "text/plain": "(0.8054187192118226, array([0, 0, 0, ..., 0, 1, 0]))"
     },
     "execution_count": 56,
     "metadata": {},
     "output_type": "execute_result"
    }
   ],
   "source": [
    "y_pred_train = model.predict(x_train)\n",
    "y_pred_train = np.array([np.max(probs[:, 0]) for probs in y_pred_train])\n",
    "evaluate(y_train, y_pred_train, best_thresh)"
   ],
   "metadata": {
    "collapsed": false,
    "pycharm": {
     "name": "#%%\n"
    }
   }
  },
  {
   "cell_type": "code",
   "execution_count": 57,
   "outputs": [
    {
     "data": {
      "text/plain": "array([[786, 100],\n       [216, 421]])"
     },
     "execution_count": 57,
     "metadata": {},
     "output_type": "execute_result"
    }
   ],
   "source": [
    "confusion_matrix(y_test, y_pred)"
   ],
   "metadata": {
    "collapsed": false,
    "pycharm": {
     "name": "#%%\n"
    }
   }
  },
  {
   "cell_type": "code",
   "execution_count": 58,
   "outputs": [
    {
     "name": "stdout",
     "output_type": "stream",
     "text": [
      "dict_keys(['loss', 'accuracy', 'val_loss', 'val_accuracy'])\n"
     ]
    }
   ],
   "source": [
    "print(history.history.keys())"
   ],
   "metadata": {
    "collapsed": false,
    "pycharm": {
     "name": "#%%\n"
    }
   }
  },
  {
   "cell_type": "code",
   "execution_count": 59,
   "outputs": [],
   "source": [
    "history = history.history"
   ],
   "metadata": {
    "collapsed": false,
    "pycharm": {
     "name": "#%%\n"
    }
   }
  },
  {
   "cell_type": "code",
   "execution_count": 60,
   "outputs": [
    {
     "data": {
      "text/plain": "<Figure size 432x288 with 1 Axes>",
      "image/png": "[encoded data removed]"
     },
     "metadata": {
      "needs_background": "light"
     },
     "output_type": "display_data"
    },
    {
     "data": {
      "text/plain": "<Figure size 432x288 with 1 Axes>",
      "image/png": "[encoded data removed]"
     },
     "metadata": {
      "needs_background": "light"
     },
     "output_type": "display_data"
    }
   ],
   "source": [
    "plt.subplots()\n",
    "plt.plot(history['accuracy'])\n",
    "plt.plot(history['val_accuracy'])\n",
    "plt.title('model accuracy')\n",
    "plt.ylabel('accuracy')\n",
    "plt.xlabel('epoch')\n",
    "plt.legend(['train', 'validation'])\n",
    "plt.show()\n",
    "\n",
    "plt.subplots()\n",
    "plt.plot(history['loss'])\n",
    "plt.plot(history['val_loss'])\n",
    "plt.title('model loss')\n",
    "plt.ylabel('loss')\n",
    "plt.xlabel('epoch')\n",
    "plt.legend(['train', 'validation'])\n",
    "plt.show()"
   ],
   "metadata": {
    "collapsed": false,
    "pycharm": {
     "name": "#%%\n"
    }
   }
  }
 ],
 "metadata": {
  "kernelspec": {
   "display_name": "Python 3",
   "language": "python",
   "name": "python3"
  },
  "language_info": {
   "codemirror_mode": {
    "name": "ipython",
    "version": 2
   },
   "file_extension": ".py",
   "mimetype": "text/x-python",
   "name": "python",
   "nbconvert_exporter": "python",
   "pygments_lexer": "ipython2",
   "version": "2.7.6"
  }
 },
 "nbformat": 4,
 "nbformat_minor": 0
}